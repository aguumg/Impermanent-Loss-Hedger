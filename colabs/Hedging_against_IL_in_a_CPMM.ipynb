{
  "nbformat": 4,
  "nbformat_minor": 0,
  "metadata": {
    "colab": {
      "provenance": []
    },
    "kernelspec": {
      "name": "python3",
      "display_name": "Python 3"
    },
    "language_info": {
      "name": "python"
    }
  },
  "cells": [
    {
      "cell_type": "markdown",
      "metadata": {
        "id": "N4NSxVKOjWtc"
      },
      "source": [
        "# Static Hedging of Impermanent Loss in CPMM"
      ]
    },
    {
      "cell_type": "markdown",
      "metadata": {
        "id": "Bv1YgjXJ4_UB"
      },
      "source": [
        "## Theoretical Formulation"
      ]
    },
    {
      "cell_type": "markdown",
      "metadata": {
        "id": "rwBEoYmKCFES"
      },
      "source": [
        "### Scopes"
      ]
    },
    {
      "cell_type": "markdown",
      "metadata": {
        "id": "2c7cQqID8Ds7"
      },
      "source": [
        "<a name=\"alcances\">Note:</a>\n",
        "\n",
        "In this paper, we will limit ourselves to a static study of the issue, which is why we will only have one initial and one final time, without any intermediate steps.\n",
        "\n",
        "We assume, except where clarified, that the quantities in the pool between the initial and final times remain unchanged by the product constant 𝑘 .\n",
        "\n",
        "We also assume that the pool is initially formed with quantities that do not allow arbitrage.\n",
        "\n",
        "We do not consider fees in the calculation of Impermanent Loss, although we include a brief discussion of the issue in Appendix II. The details of the calculation and the integration of the functions with the rest of the code are beyond the scope of this paper for reasons of both time and clarity."
      ]
    },
    {
      "cell_type": "markdown",
      "metadata": {
        "id": "b_2ZbQlv4rW9"
      },
      "source": [
        "### Composition and valuation of the pool"
      ]
    },
    {
      "cell_type": "markdown",
      "metadata": {
        "id": "8F1lnroLRRBx"
      },
      "source": [
        "A pool $Q$ of two currencies X, Y can be represented as a vector containing, at time $T$, quantities $x$ and $y$ respectively:\n",
        "\n",
        "$$ \\vec Q_T = (x, y) $$\n",
        "\n",
        "The pool is originally formed with initial quantities $\\vec Q_0=(x_0, y_0)$ balanced with respect to the prices at that time."
      ]
    },
    {
      "cell_type": "markdown",
      "metadata": {
        "id": "vi73oUFUsPlP"
      },
      "source": [
        "To value the pool, we must add the valuation of its reserves. That is, given a valuation vector $\\vec P_t$ at time $t$, the value of the pool $Q_t$ is the following dot product:\n",
        "\n",
        "$$V_{Q_t}(P_t) = \\vec Q_t \\cdot \\vec P_t$$\n",
        "\n",
        "To value the reserves $(x,y)$ with the vector $\\vec P_t$, we can value both reserves in terms of one of them (e.g., $Y$), or both in terms of a third currency $Z$. If we note the price of $X$ measured in units of $Y$ as $P_{Y|X}$, we have:\n",
        "\n",
        "* Valuation vector in terms of $Y$: $\\vec P = (P_{Y|X}, P_{X|X}) = (P_{Y|X}, 1) $\n",
        "* Valuation vector in terms of $Z$: $\\vec P = (P_{Z|X}, P_{Z|Y}) = P_{Z|Y} \\cdot (P_{Y|X}, 1) $\n",
        "\n",
        "Therefore, valuing in a third currency simply requires applying a factor. Therefore, we will simplify the calculations using the valuation in terms of $Y$. From now on, we will use the price $P_{Y|X}$, which we will simply call $P$, since there is no confusion with the valuation vector $\\vec P$. As this price varies with time $t$, we will notice $\\vec P_t$.\n"
      ]
    },
    {
      "cell_type": "code",
      "execution_count": 2,
      "metadata": {
        "id": "AgsZGK4jgivY"
      },
      "outputs": [],
      "source": [
        "import numpy as np\n",
        "#np.warnings.filterwarnings('ignore', category=np.VisibleDeprecationWarning)\n",
        "# np.warnings.filterwarnings('error', category=np.VisibleDeprecationWarning)\n",
        "\n",
        "# Initial implicit price (because we assume no arbitrage)\n",
        "def get_pool_initial_price(balances: tuple) -> float:\n",
        "    return balances[1]/balances[0]\n",
        "\n",
        "def get_pool_price_units(symbols: tuple) -> str:\n",
        "    return symbols[1]\n",
        "\n",
        "def get_initial_prices_vector(balances: tuple) -> tuple:\n",
        "    return (get_pool_initial_price(pool_balances), 1) # pool prices measured in units of pool_symbols[1]\n",
        "\n",
        "def get_prices_vector(price: float) -> tuple:\n",
        "    return (price, 1)\n",
        "\n",
        "# Function that, given a pool and a vector of prices, returns the value of the given pool.\n",
        "def get_pool_value(balances: tuple, prices: tuple) -> float:\n",
        "    return float(np.dot(balances, prices))\n",
        "\n"
      ]
    },
    {
      "cell_type": "markdown",
      "metadata": {
        "id": "4tTLtTOS4_UC"
      },
      "source": [
        "### Impermanent Loss"
      ]
    },
    {
      "cell_type": "markdown",
      "metadata": {
        "id": "ZkMFDIoZ-48t"
      },
      "source": [
        "In its simplest form, Impermanent Loss arises from subtracting two values:\n",
        "* The time value $t$ of the quantities $\\vec Q_t$ existing in the pool, using their prices $\\vec P_t$.\n",
        "$$V_{Pool_t} = V_{Q_t}(P_t) = \\vec Q_t \\cdot \\vec P_t$$\n",
        "* The time value $t$ of the initial quantities in the pool, $\\vec Q_0$, as if we still held them outside the pool, valued at their time prices $t$.\n",
        "$$V_{Hold_t} = V_{Q_0}(P_t) = \\vec Q_0 \\cdot \\vec P_t$$\n",
        "\n",
        "The impermanent loss expressed in terms of the prices $\\vec P_t$ at time $t$ is then:\n",
        "\n",
        "$$IL(\\vec P_t) = V_{Pool_t} - V_{Hold_t} = (\\vec Q_t-\\vec Q_0) \\cdot \\vec P_t $$\n",
        "\n",
        "$$ = (x-x_0, y-y_0) \\cdot (P, 1)$$\n",
        "\n",
        "$$ = (x-x_0)P + (y-y_0) $$\n",
        "\n",
        "But since the idea is to hedge against the change in IL with respect to changes in price, we must express it as a function of $P$ by removing the existing amounts in the pool from the middle. To do this, we formulate $V_{Pool}$ and $V_{Hold}$ differently using the following identities (see reference bibliography \\[[1](#reference1)\\]):\n",
        "\n",
        "\\begin{align*}\n",
        "  Ec.\\ 1\\ :\\ \\ \\ \\ y_t &= \\sqrt{k\\ P_t} \\\\\n",
        "  Ec.\\ 2\\ :\\ \\ \\ \\ V_{Pool_0} &= V_{Hold_0} = 2 \\sqrt{k P_0} \\\\\n",
        "  Ec.\\ 3\\ :\\ \\ \\ \\ P_0 &= y_0 / x_0 \\\\\n",
        "  Ec.\\ 4\\ :\\ \\ \\ \\ V_{Pool_T} &= 2 \\sqrt{k P_T} \\\\\n",
        "\\end{align*}\n",
        "\n",
        "By Eq. 4 we have:\n",
        "\n",
        "$$ V_{Pool} = 2\\sqrt{kP} $$\n",
        "$$ = \\frac{2\\sqrt{kP_0 P}}{\\sqrt{P_0}} $$\n",
        "$$ = 2\\sqrt{kP_0} \\sqrt{\\frac{P}{P_0}} $$\n",
        "$$ [Eq.\\ 2]\\ \\ \\ = V_{Pool_0}\\sqrt{\\frac{P}{P_0}} $$\n",
        "\n",
        "And by the definition we gave, we have:\n",
        "$$ V_{Hold} = \\vec Q_0 \\cdot \\vec P_t = (x_0, y_0) \\cdot (P, 1) = x_0 P + y_0 $$\n",
        "\n",
        "$$ [Eq.\\ 1]\\ \\ \\ \\ \\ \\ = x_0 P + \\sqrt{k P_0} $$\n",
        "\n",
        "$$ [Eq.\\ 3]\\ \\ \\ = \\frac{y_0}{P_0} P + \\sqrt{k P_0} $$\n",
        "\n",
        "$$ [Eq.\\ 1]\\ \\ \\ \\ \\ \\ = \\frac{\\sqrt{k P_0}}{P_0} P + \\sqrt{k P_0} $$\n",
        "\n",
        "$$ = \\sqrt{k P_0} (\\frac{P}{P_0} + 1 )$$\n",
        "\n",
        "$$ = 2\\sqrt{kP_0}\\frac{1}{2}(\\frac{P}{P_0}+1) $$\n",
        "$$ [Eq.\\ 2]\\ \\ \\ \\ \\ \\ =\\frac{V_{Hold_0}}{2}(\\frac{P}{P_0}+1) $$\n",
        "\n",
        "We are then left with the following Impermanent Loss formula expressed in terms of prices whose unit is the currency $Y$:\n",
        "\n",
        "$$IL_Y(P) = V_{Pool} - V_{Hold} $$\n",
        "$$ = V_{Pool_0}\\sqrt{\\frac{P}{P_0}} - \\frac{V_{Hold_0}}{2}(\\frac{P}{P_0}+1)$$\n",
        "\n",
        "$$ [Eq.\\ 2]\\ \\ \\ \\ \\ \\  = V_{Hold_0}\\left(\\sqrt{\\frac{P}{P_0}}-\\frac{1}{2} (\\frac{P}{P_0}+1)\\right) $$\n",
        "\n",
        "$$ = V_{Hold_0}\\left(\\sqrt{\\frac{P}{P_0}}-\\frac{1}{2}-\\frac{P}{2P_0}\\right)$$\n",
        "\n"
      ]
    },
    {
      "cell_type": "code",
      "execution_count": 3,
      "metadata": {
        "id": "lFVmYLu-6Dn0"
      },
      "outputs": [],
      "source": [
        "# Impermanent Loss expressed in currency Y as a function of P without fees\n",
        "def IL_Y_P(P: any, balances: tuple) -> any:\n",
        "    if type(P) == float or type(P) == np.float64 or type(P) == int:\n",
        "        # If P is a number, return a float\n",
        "        P_entry = get_pool_initial_price(balances)\n",
        "        V_hold_0 = get_pool_value(balances, get_prices_vector(P_entry))\n",
        "        return V_hold_0 * ((P/P_entry)**(1/2) - 1/2 - P/(2*P_entry))\n",
        "    elif type(P) != np.ndarray:\n",
        "        print(f'Error de tipo: {type(P)}')\n",
        "        assert False # bug trap\n",
        "    # If P is an array, return an array containing the floats of the results corresponding to each element of P.\n",
        "    arr = np.array([])\n",
        "    for p in P:\n",
        "        arr = np.append(arr, [ IL_Y_P(p, balances) ])\n",
        "    return arr\n"
      ]
    },
    {
      "cell_type": "markdown",
      "metadata": {
        "id": "7iOBa7f24_UE"
      },
      "source": [
        "We can then calculate the derivative of $IL_Y(P)$ with respect to P:\n",
        "\n",
        "\n",
        "$$\\frac{\\partial}{\\partial P}IL_Y(P) = V_{Hold_0}\\left(\\frac{\\partial}{\\partial P}\\left(\\sqrt{\\frac{P}{P_0}}\\right)+0-\\frac{1}{2P_0}\\right) $$\n",
        "\n",
        "$$ = \\frac{V_{Hold_0}}{\\sqrt{P_0}}\\left(\\frac{\\partial}{\\partial P}(\\sqrt{P}) - \\frac{1}{2\\sqrt{P_0}}\\right) $$\n",
        "\n",
        "$$ = \\frac{V_{Hold_0}}{\\sqrt{P_0}}\\left(\\frac{1}{2\\sqrt{P}} - \\frac{1}{2\\sqrt{P_0}}\\right) $$\n",
        "\n",
        "$$ = \\frac{V_{Hold_0}}{\\sqrt{P_0}}\\left(\\frac{\\sqrt{P_0}}{2\\sqrt{P}\\sqrt{P_0}} - \\frac{1}{2\\sqrt{P_0}}\\right) $$\n",
        "\n",
        "$$  = \\frac{V_{Hold_0}}{2P_0}\\left(\\sqrt{\\frac{P_0}{P}}-1\\right)$$\n"
      ]
    },
    {
      "cell_type": "code",
      "execution_count": 4,
      "metadata": {
        "id": "ZhMTna594_UF"
      },
      "outputs": [],
      "source": [
        "# Derivative of IL expressed in currency Y as a function of P without fees\n",
        "def IL_derivative_Y_P(P: float, balances: tuple) -> float:\n",
        "    V_hold_0 = get_pool_value(balances)\n",
        "    P_entry = get_pool_initial_price(balances)\n",
        "    #assert V_hold_0 == 2*numpy.sqrt(balances[0]*balances[1]*P_entry)\n",
        "    return V_hold_0/(2*P_entry) * ((P_entry/P)**(1/2) - 1)\n",
        "\n"
      ]
    },
    {
      "cell_type": "markdown",
      "metadata": {
        "id": "JvKn6evPIkgk"
      },
      "source": [
        "### Options Strategy: Long Strangle"
      ]
    },
    {
      "cell_type": "markdown",
      "metadata": {
        "id": "EqN8B1Nt4_UO"
      },
      "source": [
        "A liquidity provider enters the pool $Q$ by depositing $x_0$ of the currency $X$ and $y_0$ of the currency $Y$ such that they respect the pool constant: $k = x_0 y_0$\n",
        "\n",
        "At time $T$, we have Impermanent Loss for depositing the tokens in the pool, as already described.\n",
        "\n",
        "Motivated by the result that ensures that any payoff can be written in terms of bonds and options, we propose using a Long Strangle as a practical application for hedging against the LI. It consists of:\n",
        "\n",
        "* buying a quantity $q_c$ of calls with a strike $K_c$ of the underlying $X$\n",
        "* buying a quantity $q_p$ of puts with a strike $K_p$ of the underlying $X$\n",
        "\n",
        "The strikes $K_c$ and $K_p$ cannot coincide and are out-of-the-money at the initial time.\n",
        "\n",
        "The strategy is typically defined for equal amounts $q_c$ and $q_p$, but it is common to also cover cases where they differ (for which the strategy is classified as _Unbalanced_).\n",
        "\n",
        "We will call the respective premiums $d_c$ and $d_p$.\n",
        "\n",
        "Given the PnL of calls and puts, the PnL of the Long Strangle at time T will be\n",
        "\n",
        "$$LS_T=q_c max(0, P_T - K_c) + q_pmax(0, K_p - P_T) - (q_c d_c + q_pd_2)$$"
      ]
    },
    {
      "cell_type": "markdown",
      "metadata": {
        "id": "OR_4hbBq4_UN"
      },
      "source": [
        "The following function has as inputs vectors of strikes $\\vec K_\\text{call}$, $\\vec K_\\text{put}$ and premiums $\\vec d_\\text{call}$, $\\vec d_\\text{put}$ associated with a set of calls and puts. Its output is the PnL of considering the combination of these options when the underlying price is $P$."
      ]
    },
    {
      "cell_type": "code",
      "execution_count": 5,
      "metadata": {
        "id": "lZICX7SfeEff"
      },
      "outputs": [],
      "source": [
        "# Payoff of strategies combining calls and puts\n",
        "# If price P is an array, returns an array\n",
        "def payoff_CP_combination(P: any,K_call, K_put,d_call,d_put,qcall,qput) -> any:\n",
        "    if type(P) == float or type(P) == np.float64 or type(P) == int:\n",
        "        # If P is a number, return a float\n",
        "        call=0.0\n",
        "        put=0.0\n",
        "        call = call + qcall*max(P-K_call,0)\n",
        "        put = put + qput*max(K_put-P,0)\n",
        "        costs = (qcall*d_call)+(qput*d_put)\n",
        "        return call+put-costs\n",
        "    elif type(P) != np.ndarray:\n",
        "        print(f'Error de tipo: {type(P)}')\n",
        "        assert False # bug trap\n",
        "    # If P is an array, return an array containing the floats of the\n",
        "    # results corresponding to each element of P.\n",
        "    arr = np.array([])\n",
        "    for p in P:\n",
        "        float(K_call)\n",
        "        float(K_put)\n",
        "        arr = np.append(arr, [ payoff_CP_combination(p,\n",
        "                                                     K_call, K_put,\n",
        "                                                     d_call,d_put,\n",
        "                                                     qcall,qput) ])\n",
        "    return arr\n",
        "\n"
      ]
    },
    {
      "cell_type": "markdown",
      "metadata": {
        "id": "ZmfKn2KVqvl-"
      },
      "source": [
        "### Hedging IL with Long Strangle"
      ]
    },
    {
      "cell_type": "markdown",
      "metadata": {
        "id": "aLrdQJ-0qq6n"
      },
      "source": [
        "Let $r_Q$ be the monthly pool return rate for liquidity providers.\n",
        "\n",
        "Hedging impermanent loss using a long strangle has the following PnL:\n",
        "\n",
        "$$ H_T= r_Q (V_{Pool_0}) + LS_T + IL_Y(P_T) $$\n",
        "\n",
        "$$ = r_Q (x_0+y_0 P_0)+ LS_T + IL_Y(P_T) $$\n",
        "\n",
        "For the hedge to be effective (i.e., not in a loss), we want $H_T$ to be greater than or equal to zero."
      ]
    },
    {
      "cell_type": "code",
      "execution_count": 6,
      "metadata": {
        "id": "C4e90wFZqSPe"
      },
      "outputs": [],
      "source": [
        "def payoff_IL_hedged_with_LS(price_T, balances_0, initial_price,\n",
        "                              Kcall, Kput,\n",
        "                              dcall, dput,\n",
        "                              qcall, qput,\n",
        "                              r_pool):\n",
        "    V_hold_0 = get_pool_value(balances_0, get_prices_vector(initial_price))\n",
        "    returns_usd_pool = r_pool * V_hold_0\n",
        "    value = returns_usd_pool + \\\n",
        "          payoff_CP_combination(price_T,\n",
        "                                Kcall, Kput,\n",
        "                                dcall, dput,\n",
        "                                qcall,qput) + \\\n",
        "          IL_Y_P(price_T, balances_0)\n",
        "\n",
        "    return value"
      ]
    },
    {
      "cell_type": "code",
      "execution_count": 8,
      "metadata": {
        "id": "uhjDs0D56vLl",
        "outputId": "ba496224-afbe-4781-a9ef-65242701afc6",
        "colab": {
          "base_uri": "https://localhost:8080/",
          "height": 162
        }
      },
      "outputs": [
        {
          "output_type": "error",
          "ename": "NameError",
          "evalue": "name 'P_entry' is not defined",
          "traceback": [
            "\u001b[0;31m---------------------------------------------------------------------------\u001b[0m",
            "\u001b[0;31mNameError\u001b[0m                                 Traceback (most recent call last)",
            "\u001b[0;32m<ipython-input-8-94eb72fb4db4>\u001b[0m in \u001b[0;36m<cell line: 0>\u001b[0;34m()\u001b[0m\n\u001b[0;32m----> 1\u001b[0;31m \u001b[0mpayoff_IL_hedged_with_LS\u001b[0m\u001b[0;34m(\u001b[0m\u001b[0mP_entry\u001b[0m\u001b[0;34m,\u001b[0m \u001b[0mpool_balances\u001b[0m\u001b[0;34m,\u001b[0m \u001b[0minitial_price\u001b[0m\u001b[0;34m,\u001b[0m \u001b[0mstrike_call\u001b[0m\u001b[0;34m,\u001b[0m \u001b[0mstrike_put\u001b[0m\u001b[0;34m,\u001b[0m \u001b[0mprice_call\u001b[0m\u001b[0;34m,\u001b[0m \u001b[0mprice_put\u001b[0m\u001b[0;34m,\u001b[0m \u001b[0mcall_qty\u001b[0m\u001b[0;34m,\u001b[0m \u001b[0mput_qty\u001b[0m\u001b[0;34m,\u001b[0m \u001b[0mpool_return_at_final_time\u001b[0m\u001b[0;34m)\u001b[0m\u001b[0;34m[\u001b[0m\u001b[0;36m1\u001b[0m\u001b[0;34m]\u001b[0m\u001b[0;34m\u001b[0m\u001b[0;34m\u001b[0m\u001b[0m\n\u001b[0m",
            "\u001b[0;31mNameError\u001b[0m: name 'P_entry' is not defined"
          ]
        }
      ],
      "source": [
        "# payoff_IL_hedged_with_LS(grid*P_entry, pool_balances, initial_price, strike_call, strike_put, call_price, put_price, call_qty, put_qty, pool_return_at_final_time)[1]"
      ]
    },
    {
      "cell_type": "markdown",
      "metadata": {
        "id": "NAhpTH-t4_UI"
      },
      "source": [
        "## Theoretical Example"
      ]
    },
    {
      "cell_type": "markdown",
      "metadata": {
        "id": "PQEx9W6uj1mO"
      },
      "source": [
        "### Parameters"
      ]
    },
    {
      "cell_type": "code",
      "execution_count": 15,
      "metadata": {
        "colab": {
          "base_uri": "https://localhost:8080/",
          "height": 0
        },
        "id": "9k3nvWQ74_UJ",
        "outputId": "fbf2b754-3ab9-4b69-e9bf-d61426905e5a"
      },
      "outputs": [
        {
          "output_type": "stream",
          "name": "stdout",
          "text": [
            "call 1000\n",
            "put 1000\n",
            "Initial pool composition: 100 ETH + 40000 USDC\n",
            "initial price $P_0$ of ETH = 400.0 USDC\n",
            "Initial total pool value: 80000.0 USDC\n"
          ]
        }
      ],
      "source": [
        "# Initial pool data\n",
        "# The price P of the first coin will be expressed in units of the second coin.\n",
        "pool_symbols = ('ETH', 'USDC')\n",
        "pool_balances = (100, 400*100) # amounts corresponding to pool_symbols[i]\n",
        "\n",
        "\n",
        "initial_price = get_pool_initial_price(pool_balances)\n",
        "\n",
        "# call_price = 0.05\n",
        "# put-price = 0.05\n",
        "# strike_call = np.append(np.array([]), [initial_price*1.5])\n",
        "# strike_put = np.append(np.array([]), [initial_price*0.5])\n",
        "\n",
        "\n",
        "strike_call = 520\n",
        "strike_put = 280\n",
        "call_price = 12\n",
        "put_price = 6\n",
        "\n",
        "P_s = strike_call*1.05\n",
        "P_i = strike_put*0.95\n",
        "\n",
        "V_pool_0 = get_pool_value(pool_balances, get_initial_prices_vector(pool_balances))\n",
        "\n",
        "\n",
        "call_qty = -V_pool_0 / 2.0 * (1/(P_s*initial_price)**(1/2)-1/initial_price)\n",
        "put_qty = call_qty # balanced strangle\n",
        "\n",
        "call_qty = 1000\n",
        "put_qty = 1000\n",
        "\n",
        "print(f'call {call_qty}')\n",
        "print(f'put {put_qty}')\n",
        "\n",
        "#final_price = 1650\n",
        "#H_T = payoff_IL_hedged_with_LS(final_price, pool_balances, initial_price, strike_call, strike_put, call_price, put-price, call_qty, put_qty, pool_return_at_final_time)\n",
        "#print(H_T)\n",
        "\n",
        "print(f'Initial pool composition: {pool_balances[0]} {pool_symbols[0]} + {pool_balances[1]} {pool_symbols[1]}')\n",
        "print(f'initial price $P_0$ of {pool_symbols[0]} = {get_pool_initial_price(pool_balances)} {get_pool_price_units(pool_symbols)}')\n",
        "print(f'Initial total pool value: {get_pool_value(pool_balances, get_initial_prices_vector(pool_balances))} {get_pool_price_units(pool_symbols)}')\n"
      ]
    },
    {
      "cell_type": "markdown",
      "metadata": {
        "id": "q0pXqc3gXqSr"
      },
      "source": [
        "### Chart"
      ]
    },
    {
      "cell_type": "code",
      "execution_count": 11,
      "metadata": {
        "id": "gg3wCTP94_UJ"
      },
      "outputs": [],
      "source": [
        "# Grid to plot\n",
        "leftmost = 0.02\n",
        "rightmost = 1.8\n",
        "step = 0.01\n",
        "\n"
      ]
    },
    {
      "cell_type": "code",
      "execution_count": 12,
      "metadata": {
        "id": "bzxGekhwjudD"
      },
      "outputs": [],
      "source": [
        "# Libraries to use\n",
        "import numpy as np\n",
        "import pandas as pd\n",
        "import matplotlib.pyplot as plt"
      ]
    },
    {
      "cell_type": "code",
      "execution_count": 16,
      "metadata": {
        "colab": {
          "base_uri": "https://localhost:8080/",
          "height": 470
        },
        "id": "j-lpQb9W4c69",
        "outputId": "614d3595-3702-4222-ccbc-00428eb5c455"
      },
      "outputs": [
        {
          "output_type": "display_data",
          "data": {
            "text/plain": [
              "<Figure size 2000x700 with 1 Axes>"
            ],
            "image/png": "[encoded data removed]"
          },
          "metadata": {}
        },
        {
          "output_type": "stream",
          "name": "stdout",
          "text": [
            "<class 'list'>\n",
            "<class 'numpy.ndarray'>\n"
          ]
        },
        {
          "output_type": "execute_result",
          "data": {
            "text/plain": [
              "[<matplotlib.lines.Line2D at 0x78eb2116efd0>]"
            ]
          },
          "metadata": {},
          "execution_count": 16
        }
      ],
      "source": [
        "# Chart generation\n",
        "grid = np.arange(leftmost,rightmost,step)\n",
        "\n",
        "font = {'family': 'serif',\n",
        "        'color':  'darkred',\n",
        "        'weight': 'normal',\n",
        "        'size': 16,\n",
        "        }\n",
        "\n",
        "fig = plt.figure(figsize = (20,7))\n",
        "axs = fig.subplots(1)\n",
        "\n",
        "r_pool = 0.25 # 0.002\n",
        "P_entry = get_pool_initial_price(pool_balances)\n",
        "V_hold_0 = get_pool_value(pool_balances, get_prices_vector(P_entry))\n",
        "returns_usd_pool = r_pool * V_hold_0\n",
        "costs = (call_qty*call_price)+(put_qty*put_price)\n",
        "if costs > returns_usd_pool:\n",
        "    print(f'WARNING: Pool fees: {returns_usd_pool} < Option costs {costs}')\n",
        "axs.plot(grid*P_entry, IL_Y_P(grid*P_entry, pool_balances), c='red', label='Impermanent Loss')\n",
        "axs.plot(grid*P_entry, payoff_CP_combination(grid*P_entry, strike_call, strike_put, call_price, put_price, call_qty, put_qty), c='green', label='LongStrangle')\n",
        "axs.plot(grid*P_entry, payoff_IL_hedged_with_LS(grid*P_entry, pool_balances, initial_price, strike_call, strike_put, call_price, put_price, call_qty, put_qty, r_pool), c='blue', label='Hedge')\n",
        "\n",
        "#axs.set_title('Profit and Loss', fontdict=font)\n",
        "#plt.text(0,0, f'Fee = 0', fontdict=font)\n",
        "\n",
        "axs.set_xlabel(f'final price of {pool_symbols[0]} expressed in {pool_symbols[1]}', fontdict=font)\n",
        "axs.set_ylabel(f'PnL (valued in {pool_symbols[1]})', fontdict=font)\n",
        "axs.plot(P_entry, 0, 'bo', label=f'inicial price of {pool_symbols[0]}')\n",
        "#axs.set_ylim(-1000,1000)\n",
        "axs.legend()\n",
        "plt.show()\n",
        "\n",
        "#grid2 = np.arange(-1, 2, 0.2)\n",
        "#pd.DataFrame([[str(round(i*100,3))+'%',\n",
        "#               str(round((i+1)*100,3))+'%',\n",
        "#               str(round(abs(IL_Y_P(i+1, pool_balances)),1)*100)+'%'] for i in grid2],\n",
        "#             columns = ['Price change', 'R', 'IL ratio']).T\n",
        "\n",
        "#v1 = payoff_IL_hedged_with_LS_parcial(pool_balances, get_pool_initial_price(pool_balances), pool_return_at_final_time) * np.ones(len(grid))\n",
        "#print(type(v1))\n",
        "v2bis = [payoff_CP_combination(g*P_entry, strike_call, strike_put, call_price, put_price,call_qty,put_qty) for g in grid]\n",
        "print(type(v2bis))\n",
        "v3 = IL_Y_P(grid*P_entry, pool_balances)\n",
        "print(type(v3))\n",
        "v4 = v2bis+v3\n",
        "\n",
        "\n",
        "\n",
        "\n",
        "#axs.plot(grid*P_entry, IL_Y_P(grid*P_entry, pool_balances), c='red', label='Impermanent Loss')\n",
        "#axs.plot(grid*P_entry, payoff_CP_combination(grid*P_entry, strike_call, strike_put, call_price, put_price, call_qty, put_qty), c='green', label='LongStrangle')\n",
        "#axs.plot(grid*P_entry, v1, c='red', label='Hedge1 - pool')\n",
        "axs.plot(grid*P_entry, v2bis, c='green', label='Hedge2 - strangle')\n",
        "axs.plot(grid*P_entry, v3, c='blue', label='Hedge3 - IL')\n",
        "axs.plot(grid*P_entry, v4, c='orange', label='Hedge4 - Total')\n"
      ]
    },
    {
      "cell_type": "markdown",
      "metadata": {
        "id": "_lQpPTvP4_UX"
      },
      "source": [
        "## Practical example"
      ]
    },
    {
      "cell_type": "markdown",
      "metadata": {
        "id": "HY5mDuL9c6UO"
      },
      "source": [
        "### Obtaining Market Data"
      ]
    },
    {
      "cell_type": "markdown",
      "metadata": {
        "id": "GSZ59zmZuN_n"
      },
      "source": [
        "#### Get Quotes (dataset)"
      ]
    },
    {
      "cell_type": "markdown",
      "metadata": {
        "id": "8sWQOsVQuW_e"
      },
      "source": [
        "In this section we load the historical data."
      ]
    },
    {
      "cell_type": "markdown",
      "metadata": {
        "id": "1Ke0q8c9xO_a"
      },
      "source": [
        "##### Code"
      ]
    },
    {
      "cell_type": "code",
      "execution_count": 26,
      "metadata": {
        "colab": {
          "base_uri": "https://localhost:8080/",
          "height": 0
        },
        "id": "IxHfTmWnu46k",
        "outputId": "6a90a1af-3957-4412-8b8a-22268b7dbc14",
        "collapsed": true
      },
      "outputs": [
        {
          "output_type": "stream",
          "name": "stderr",
          "text": [
            "<ipython-input-26-595d364cf791>:12: SettingWithCopyWarning: \n",
            "A value is trying to be set on a copy of a slice from a DataFrame\n",
            "\n",
            "See the caveats in the documentation: https://pandas.pydata.org/pandas-docs/stable/user_guide/indexing.html#returning-a-view-versus-a-copy\n",
            "  P_ETH[i] = float(P_ETH[i])\n",
            "<ipython-input-26-595d364cf791>:12: SettingWithCopyWarning: \n",
            "A value is trying to be set on a copy of a slice from a DataFrame\n",
            "\n",
            "See the caveats in the documentation: https://pandas.pydata.org/pandas-docs/stable/user_guide/indexing.html#returning-a-view-versus-a-copy\n",
            "  P_ETH[i] = float(P_ETH[i])\n",
            "<ipython-input-26-595d364cf791>:12: SettingWithCopyWarning: \n",
            "A value is trying to be set on a copy of a slice from a DataFrame\n",
            "\n",
            "See the caveats in the documentation: https://pandas.pydata.org/pandas-docs/stable/user_guide/indexing.html#returning-a-view-versus-a-copy\n",
            "  P_ETH[i] = float(P_ETH[i])\n",
            "<ipython-input-26-595d364cf791>:12: SettingWithCopyWarning: \n",
            "A value is trying to be set on a copy of a slice from a DataFrame\n",
            "\n",
            "See the caveats in the documentation: https://pandas.pydata.org/pandas-docs/stable/user_guide/indexing.html#returning-a-view-versus-a-copy\n",
            "  P_ETH[i] = float(P_ETH[i])\n",
            "<ipython-input-26-595d364cf791>:12: SettingWithCopyWarning: \n",
            "A value is trying to be set on a copy of a slice from a DataFrame\n",
            "\n",
            "See the caveats in the documentation: https://pandas.pydata.org/pandas-docs/stable/user_guide/indexing.html#returning-a-view-versus-a-copy\n",
            "  P_ETH[i] = float(P_ETH[i])\n",
            "<ipython-input-26-595d364cf791>:12: SettingWithCopyWarning: \n",
            "A value is trying to be set on a copy of a slice from a DataFrame\n",
            "\n",
            "See the caveats in the documentation: https://pandas.pydata.org/pandas-docs/stable/user_guide/indexing.html#returning-a-view-versus-a-copy\n",
            "  P_ETH[i] = float(P_ETH[i])\n",
            "<ipython-input-26-595d364cf791>:12: SettingWithCopyWarning: \n",
            "A value is trying to be set on a copy of a slice from a DataFrame\n",
            "\n",
            "See the caveats in the documentation: https://pandas.pydata.org/pandas-docs/stable/user_guide/indexing.html#returning-a-view-versus-a-copy\n",
            "  P_ETH[i] = float(P_ETH[i])\n",
            "<ipython-input-26-595d364cf791>:12: SettingWithCopyWarning: \n",
            "A value is trying to be set on a copy of a slice from a DataFrame\n",
            "\n",
            "See the caveats in the documentation: https://pandas.pydata.org/pandas-docs/stable/user_guide/indexing.html#returning-a-view-versus-a-copy\n",
            "  P_ETH[i] = float(P_ETH[i])\n",
            "<ipython-input-26-595d364cf791>:12: SettingWithCopyWarning: \n",
            "A value is trying to be set on a copy of a slice from a DataFrame\n",
            "\n",
            "See the caveats in the documentation: https://pandas.pydata.org/pandas-docs/stable/user_guide/indexing.html#returning-a-view-versus-a-copy\n",
            "  P_ETH[i] = float(P_ETH[i])\n",
            "<ipython-input-26-595d364cf791>:12: SettingWithCopyWarning: \n",
            "A value is trying to be set on a copy of a slice from a DataFrame\n",
            "\n",
            "See the caveats in the documentation: https://pandas.pydata.org/pandas-docs/stable/user_guide/indexing.html#returning-a-view-versus-a-copy\n",
            "  P_ETH[i] = float(P_ETH[i])\n",
            "<ipython-input-26-595d364cf791>:12: SettingWithCopyWarning: \n",
            "A value is trying to be set on a copy of a slice from a DataFrame\n",
            "\n",
            "See the caveats in the documentation: https://pandas.pydata.org/pandas-docs/stable/user_guide/indexing.html#returning-a-view-versus-a-copy\n",
            "  P_ETH[i] = float(P_ETH[i])\n",
            "<ipython-input-26-595d364cf791>:12: SettingWithCopyWarning: \n",
            "A value is trying to be set on a copy of a slice from a DataFrame\n",
            "\n",
            "See the caveats in the documentation: https://pandas.pydata.org/pandas-docs/stable/user_guide/indexing.html#returning-a-view-versus-a-copy\n",
            "  P_ETH[i] = float(P_ETH[i])\n",
            "<ipython-input-26-595d364cf791>:12: SettingWithCopyWarning: \n",
            "A value is trying to be set on a copy of a slice from a DataFrame\n",
            "\n",
            "See the caveats in the documentation: https://pandas.pydata.org/pandas-docs/stable/user_guide/indexing.html#returning-a-view-versus-a-copy\n",
            "  P_ETH[i] = float(P_ETH[i])\n",
            "<ipython-input-26-595d364cf791>:12: SettingWithCopyWarning: \n",
            "A value is trying to be set on a copy of a slice from a DataFrame\n",
            "\n",
            "See the caveats in the documentation: https://pandas.pydata.org/pandas-docs/stable/user_guide/indexing.html#returning-a-view-versus-a-copy\n",
            "  P_ETH[i] = float(P_ETH[i])\n",
            "<ipython-input-26-595d364cf791>:12: SettingWithCopyWarning: \n",
            "A value is trying to be set on a copy of a slice from a DataFrame\n",
            "\n",
            "See the caveats in the documentation: https://pandas.pydata.org/pandas-docs/stable/user_guide/indexing.html#returning-a-view-versus-a-copy\n",
            "  P_ETH[i] = float(P_ETH[i])\n",
            "<ipython-input-26-595d364cf791>:12: SettingWithCopyWarning: \n",
            "A value is trying to be set on a copy of a slice from a DataFrame\n",
            "\n",
            "See the caveats in the documentation: https://pandas.pydata.org/pandas-docs/stable/user_guide/indexing.html#returning-a-view-versus-a-copy\n",
            "  P_ETH[i] = float(P_ETH[i])\n",
            "<ipython-input-26-595d364cf791>:12: SettingWithCopyWarning: \n",
            "A value is trying to be set on a copy of a slice from a DataFrame\n",
            "\n",
            "See the caveats in the documentation: https://pandas.pydata.org/pandas-docs/stable/user_guide/indexing.html#returning-a-view-versus-a-copy\n",
            "  P_ETH[i] = float(P_ETH[i])\n",
            "<ipython-input-26-595d364cf791>:12: SettingWithCopyWarning: \n",
            "A value is trying to be set on a copy of a slice from a DataFrame\n",
            "\n",
            "See the caveats in the documentation: https://pandas.pydata.org/pandas-docs/stable/user_guide/indexing.html#returning-a-view-versus-a-copy\n",
            "  P_ETH[i] = float(P_ETH[i])\n",
            "<ipython-input-26-595d364cf791>:12: SettingWithCopyWarning: \n",
            "A value is trying to be set on a copy of a slice from a DataFrame\n",
            "\n",
            "See the caveats in the documentation: https://pandas.pydata.org/pandas-docs/stable/user_guide/indexing.html#returning-a-view-versus-a-copy\n",
            "  P_ETH[i] = float(P_ETH[i])\n",
            "<ipython-input-26-595d364cf791>:12: SettingWithCopyWarning: \n",
            "A value is trying to be set on a copy of a slice from a DataFrame\n",
            "\n",
            "See the caveats in the documentation: https://pandas.pydata.org/pandas-docs/stable/user_guide/indexing.html#returning-a-view-versus-a-copy\n",
            "  P_ETH[i] = float(P_ETH[i])\n",
            "<ipython-input-26-595d364cf791>:12: SettingWithCopyWarning: \n",
            "A value is trying to be set on a copy of a slice from a DataFrame\n",
            "\n",
            "See the caveats in the documentation: https://pandas.pydata.org/pandas-docs/stable/user_guide/indexing.html#returning-a-view-versus-a-copy\n",
            "  P_ETH[i] = float(P_ETH[i])\n",
            "<ipython-input-26-595d364cf791>:12: SettingWithCopyWarning: \n",
            "A value is trying to be set on a copy of a slice from a DataFrame\n",
            "\n",
            "See the caveats in the documentation: https://pandas.pydata.org/pandas-docs/stable/user_guide/indexing.html#returning-a-view-versus-a-copy\n",
            "  P_ETH[i] = float(P_ETH[i])\n",
            "<ipython-input-26-595d364cf791>:12: SettingWithCopyWarning: \n",
            "A value is trying to be set on a copy of a slice from a DataFrame\n",
            "\n",
            "See the caveats in the documentation: https://pandas.pydata.org/pandas-docs/stable/user_guide/indexing.html#returning-a-view-versus-a-copy\n",
            "  P_ETH[i] = float(P_ETH[i])\n",
            "<ipython-input-26-595d364cf791>:12: SettingWithCopyWarning: \n",
            "A value is trying to be set on a copy of a slice from a DataFrame\n",
            "\n",
            "See the caveats in the documentation: https://pandas.pydata.org/pandas-docs/stable/user_guide/indexing.html#returning-a-view-versus-a-copy\n",
            "  P_ETH[i] = float(P_ETH[i])\n",
            "<ipython-input-26-595d364cf791>:12: SettingWithCopyWarning: \n",
            "A value is trying to be set on a copy of a slice from a DataFrame\n",
            "\n",
            "See the caveats in the documentation: https://pandas.pydata.org/pandas-docs/stable/user_guide/indexing.html#returning-a-view-versus-a-copy\n",
            "  P_ETH[i] = float(P_ETH[i])\n",
            "<ipython-input-26-595d364cf791>:12: SettingWithCopyWarning: \n",
            "A value is trying to be set on a copy of a slice from a DataFrame\n",
            "\n",
            "See the caveats in the documentation: https://pandas.pydata.org/pandas-docs/stable/user_guide/indexing.html#returning-a-view-versus-a-copy\n",
            "  P_ETH[i] = float(P_ETH[i])\n",
            "<ipython-input-26-595d364cf791>:12: SettingWithCopyWarning: \n",
            "A value is trying to be set on a copy of a slice from a DataFrame\n",
            "\n",
            "See the caveats in the documentation: https://pandas.pydata.org/pandas-docs/stable/user_guide/indexing.html#returning-a-view-versus-a-copy\n",
            "  P_ETH[i] = float(P_ETH[i])\n",
            "<ipython-input-26-595d364cf791>:12: SettingWithCopyWarning: \n",
            "A value is trying to be set on a copy of a slice from a DataFrame\n",
            "\n",
            "See the caveats in the documentation: https://pandas.pydata.org/pandas-docs/stable/user_guide/indexing.html#returning-a-view-versus-a-copy\n",
            "  P_ETH[i] = float(P_ETH[i])\n",
            "<ipython-input-26-595d364cf791>:12: SettingWithCopyWarning: \n",
            "A value is trying to be set on a copy of a slice from a DataFrame\n",
            "\n",
            "See the caveats in the documentation: https://pandas.pydata.org/pandas-docs/stable/user_guide/indexing.html#returning-a-view-versus-a-copy\n",
            "  P_ETH[i] = float(P_ETH[i])\n",
            "<ipython-input-26-595d364cf791>:12: SettingWithCopyWarning: \n",
            "A value is trying to be set on a copy of a slice from a DataFrame\n",
            "\n",
            "See the caveats in the documentation: https://pandas.pydata.org/pandas-docs/stable/user_guide/indexing.html#returning-a-view-versus-a-copy\n",
            "  P_ETH[i] = float(P_ETH[i])\n",
            "<ipython-input-26-595d364cf791>:12: SettingWithCopyWarning: \n",
            "A value is trying to be set on a copy of a slice from a DataFrame\n",
            "\n",
            "See the caveats in the documentation: https://pandas.pydata.org/pandas-docs/stable/user_guide/indexing.html#returning-a-view-versus-a-copy\n",
            "  P_ETH[i] = float(P_ETH[i])\n",
            "<ipython-input-26-595d364cf791>:12: SettingWithCopyWarning: \n",
            "A value is trying to be set on a copy of a slice from a DataFrame\n",
            "\n",
            "See the caveats in the documentation: https://pandas.pydata.org/pandas-docs/stable/user_guide/indexing.html#returning-a-view-versus-a-copy\n",
            "  P_ETH[i] = float(P_ETH[i])\n",
            "<ipython-input-26-595d364cf791>:12: SettingWithCopyWarning: \n",
            "A value is trying to be set on a copy of a slice from a DataFrame\n",
            "\n",
            "See the caveats in the documentation: https://pandas.pydata.org/pandas-docs/stable/user_guide/indexing.html#returning-a-view-versus-a-copy\n",
            "  P_ETH[i] = float(P_ETH[i])\n",
            "<ipython-input-26-595d364cf791>:12: SettingWithCopyWarning: \n",
            "A value is trying to be set on a copy of a slice from a DataFrame\n",
            "\n",
            "See the caveats in the documentation: https://pandas.pydata.org/pandas-docs/stable/user_guide/indexing.html#returning-a-view-versus-a-copy\n",
            "  P_ETH[i] = float(P_ETH[i])\n",
            "<ipython-input-26-595d364cf791>:12: SettingWithCopyWarning: \n",
            "A value is trying to be set on a copy of a slice from a DataFrame\n",
            "\n",
            "See the caveats in the documentation: https://pandas.pydata.org/pandas-docs/stable/user_guide/indexing.html#returning-a-view-versus-a-copy\n",
            "  P_ETH[i] = float(P_ETH[i])\n",
            "<ipython-input-26-595d364cf791>:12: SettingWithCopyWarning: \n",
            "A value is trying to be set on a copy of a slice from a DataFrame\n",
            "\n",
            "See the caveats in the documentation: https://pandas.pydata.org/pandas-docs/stable/user_guide/indexing.html#returning-a-view-versus-a-copy\n",
            "  P_ETH[i] = float(P_ETH[i])\n",
            "<ipython-input-26-595d364cf791>:12: SettingWithCopyWarning: \n",
            "A value is trying to be set on a copy of a slice from a DataFrame\n",
            "\n",
            "See the caveats in the documentation: https://pandas.pydata.org/pandas-docs/stable/user_guide/indexing.html#returning-a-view-versus-a-copy\n",
            "  P_ETH[i] = float(P_ETH[i])\n",
            "<ipython-input-26-595d364cf791>:12: SettingWithCopyWarning: \n",
            "A value is trying to be set on a copy of a slice from a DataFrame\n",
            "\n",
            "See the caveats in the documentation: https://pandas.pydata.org/pandas-docs/stable/user_guide/indexing.html#returning-a-view-versus-a-copy\n",
            "  P_ETH[i] = float(P_ETH[i])\n",
            "<ipython-input-26-595d364cf791>:12: SettingWithCopyWarning: \n",
            "A value is trying to be set on a copy of a slice from a DataFrame\n",
            "\n",
            "See the caveats in the documentation: https://pandas.pydata.org/pandas-docs/stable/user_guide/indexing.html#returning-a-view-versus-a-copy\n",
            "  P_ETH[i] = float(P_ETH[i])\n",
            "<ipython-input-26-595d364cf791>:12: SettingWithCopyWarning: \n",
            "A value is trying to be set on a copy of a slice from a DataFrame\n",
            "\n",
            "See the caveats in the documentation: https://pandas.pydata.org/pandas-docs/stable/user_guide/indexing.html#returning-a-view-versus-a-copy\n",
            "  P_ETH[i] = float(P_ETH[i])\n",
            "<ipython-input-26-595d364cf791>:12: SettingWithCopyWarning: \n",
            "A value is trying to be set on a copy of a slice from a DataFrame\n",
            "\n",
            "See the caveats in the documentation: https://pandas.pydata.org/pandas-docs/stable/user_guide/indexing.html#returning-a-view-versus-a-copy\n",
            "  P_ETH[i] = float(P_ETH[i])\n",
            "<ipython-input-26-595d364cf791>:12: SettingWithCopyWarning: \n",
            "A value is trying to be set on a copy of a slice from a DataFrame\n",
            "\n",
            "See the caveats in the documentation: https://pandas.pydata.org/pandas-docs/stable/user_guide/indexing.html#returning-a-view-versus-a-copy\n",
            "  P_ETH[i] = float(P_ETH[i])\n",
            "<ipython-input-26-595d364cf791>:12: SettingWithCopyWarning: \n",
            "A value is trying to be set on a copy of a slice from a DataFrame\n",
            "\n",
            "See the caveats in the documentation: https://pandas.pydata.org/pandas-docs/stable/user_guide/indexing.html#returning-a-view-versus-a-copy\n",
            "  P_ETH[i] = float(P_ETH[i])\n",
            "<ipython-input-26-595d364cf791>:12: SettingWithCopyWarning: \n",
            "A value is trying to be set on a copy of a slice from a DataFrame\n",
            "\n",
            "See the caveats in the documentation: https://pandas.pydata.org/pandas-docs/stable/user_guide/indexing.html#returning-a-view-versus-a-copy\n",
            "  P_ETH[i] = float(P_ETH[i])\n",
            "<ipython-input-26-595d364cf791>:12: SettingWithCopyWarning: \n",
            "A value is trying to be set on a copy of a slice from a DataFrame\n",
            "\n",
            "See the caveats in the documentation: https://pandas.pydata.org/pandas-docs/stable/user_guide/indexing.html#returning-a-view-versus-a-copy\n",
            "  P_ETH[i] = float(P_ETH[i])\n",
            "<ipython-input-26-595d364cf791>:12: SettingWithCopyWarning: \n",
            "A value is trying to be set on a copy of a slice from a DataFrame\n",
            "\n",
            "See the caveats in the documentation: https://pandas.pydata.org/pandas-docs/stable/user_guide/indexing.html#returning-a-view-versus-a-copy\n",
            "  P_ETH[i] = float(P_ETH[i])\n",
            "<ipython-input-26-595d364cf791>:12: SettingWithCopyWarning: \n",
            "A value is trying to be set on a copy of a slice from a DataFrame\n",
            "\n",
            "See the caveats in the documentation: https://pandas.pydata.org/pandas-docs/stable/user_guide/indexing.html#returning-a-view-versus-a-copy\n",
            "  P_ETH[i] = float(P_ETH[i])\n",
            "<ipython-input-26-595d364cf791>:12: SettingWithCopyWarning: \n",
            "A value is trying to be set on a copy of a slice from a DataFrame\n",
            "\n",
            "See the caveats in the documentation: https://pandas.pydata.org/pandas-docs/stable/user_guide/indexing.html#returning-a-view-versus-a-copy\n",
            "  P_ETH[i] = float(P_ETH[i])\n",
            "<ipython-input-26-595d364cf791>:12: SettingWithCopyWarning: \n",
            "A value is trying to be set on a copy of a slice from a DataFrame\n",
            "\n",
            "See the caveats in the documentation: https://pandas.pydata.org/pandas-docs/stable/user_guide/indexing.html#returning-a-view-versus-a-copy\n",
            "  P_ETH[i] = float(P_ETH[i])\n",
            "<ipython-input-26-595d364cf791>:12: SettingWithCopyWarning: \n",
            "A value is trying to be set on a copy of a slice from a DataFrame\n",
            "\n",
            "See the caveats in the documentation: https://pandas.pydata.org/pandas-docs/stable/user_guide/indexing.html#returning-a-view-versus-a-copy\n",
            "  P_ETH[i] = float(P_ETH[i])\n",
            "<ipython-input-26-595d364cf791>:12: SettingWithCopyWarning: \n",
            "A value is trying to be set on a copy of a slice from a DataFrame\n",
            "\n",
            "See the caveats in the documentation: https://pandas.pydata.org/pandas-docs/stable/user_guide/indexing.html#returning-a-view-versus-a-copy\n",
            "  P_ETH[i] = float(P_ETH[i])\n",
            "<ipython-input-26-595d364cf791>:12: SettingWithCopyWarning: \n",
            "A value is trying to be set on a copy of a slice from a DataFrame\n",
            "\n",
            "See the caveats in the documentation: https://pandas.pydata.org/pandas-docs/stable/user_guide/indexing.html#returning-a-view-versus-a-copy\n",
            "  P_ETH[i] = float(P_ETH[i])\n",
            "<ipython-input-26-595d364cf791>:12: SettingWithCopyWarning: \n",
            "A value is trying to be set on a copy of a slice from a DataFrame\n",
            "\n",
            "See the caveats in the documentation: https://pandas.pydata.org/pandas-docs/stable/user_guide/indexing.html#returning-a-view-versus-a-copy\n",
            "  P_ETH[i] = float(P_ETH[i])\n",
            "<ipython-input-26-595d364cf791>:12: SettingWithCopyWarning: \n",
            "A value is trying to be set on a copy of a slice from a DataFrame\n",
            "\n",
            "See the caveats in the documentation: https://pandas.pydata.org/pandas-docs/stable/user_guide/indexing.html#returning-a-view-versus-a-copy\n",
            "  P_ETH[i] = float(P_ETH[i])\n",
            "<ipython-input-26-595d364cf791>:12: SettingWithCopyWarning: \n",
            "A value is trying to be set on a copy of a slice from a DataFrame\n",
            "\n",
            "See the caveats in the documentation: https://pandas.pydata.org/pandas-docs/stable/user_guide/indexing.html#returning-a-view-versus-a-copy\n",
            "  P_ETH[i] = float(P_ETH[i])\n",
            "<ipython-input-26-595d364cf791>:12: SettingWithCopyWarning: \n",
            "A value is trying to be set on a copy of a slice from a DataFrame\n",
            "\n",
            "See the caveats in the documentation: https://pandas.pydata.org/pandas-docs/stable/user_guide/indexing.html#returning-a-view-versus-a-copy\n",
            "  P_ETH[i] = float(P_ETH[i])\n",
            "<ipython-input-26-595d364cf791>:12: SettingWithCopyWarning: \n",
            "A value is trying to be set on a copy of a slice from a DataFrame\n",
            "\n",
            "See the caveats in the documentation: https://pandas.pydata.org/pandas-docs/stable/user_guide/indexing.html#returning-a-view-versus-a-copy\n",
            "  P_ETH[i] = float(P_ETH[i])\n",
            "<ipython-input-26-595d364cf791>:12: SettingWithCopyWarning: \n",
            "A value is trying to be set on a copy of a slice from a DataFrame\n",
            "\n",
            "See the caveats in the documentation: https://pandas.pydata.org/pandas-docs/stable/user_guide/indexing.html#returning-a-view-versus-a-copy\n",
            "  P_ETH[i] = float(P_ETH[i])\n",
            "<ipython-input-26-595d364cf791>:12: SettingWithCopyWarning: \n",
            "A value is trying to be set on a copy of a slice from a DataFrame\n",
            "\n",
            "See the caveats in the documentation: https://pandas.pydata.org/pandas-docs/stable/user_guide/indexing.html#returning-a-view-versus-a-copy\n",
            "  P_ETH[i] = float(P_ETH[i])\n",
            "<ipython-input-26-595d364cf791>:12: SettingWithCopyWarning: \n",
            "A value is trying to be set on a copy of a slice from a DataFrame\n",
            "\n",
            "See the caveats in the documentation: https://pandas.pydata.org/pandas-docs/stable/user_guide/indexing.html#returning-a-view-versus-a-copy\n",
            "  P_ETH[i] = float(P_ETH[i])\n",
            "<ipython-input-26-595d364cf791>:12: SettingWithCopyWarning: \n",
            "A value is trying to be set on a copy of a slice from a DataFrame\n",
            "\n",
            "See the caveats in the documentation: https://pandas.pydata.org/pandas-docs/stable/user_guide/indexing.html#returning-a-view-versus-a-copy\n",
            "  P_ETH[i] = float(P_ETH[i])\n",
            "<ipython-input-26-595d364cf791>:12: SettingWithCopyWarning: \n",
            "A value is trying to be set on a copy of a slice from a DataFrame\n",
            "\n",
            "See the caveats in the documentation: https://pandas.pydata.org/pandas-docs/stable/user_guide/indexing.html#returning-a-view-versus-a-copy\n",
            "  P_ETH[i] = float(P_ETH[i])\n",
            "<ipython-input-26-595d364cf791>:12: SettingWithCopyWarning: \n",
            "A value is trying to be set on a copy of a slice from a DataFrame\n",
            "\n",
            "See the caveats in the documentation: https://pandas.pydata.org/pandas-docs/stable/user_guide/indexing.html#returning-a-view-versus-a-copy\n",
            "  P_ETH[i] = float(P_ETH[i])\n",
            "<ipython-input-26-595d364cf791>:12: SettingWithCopyWarning: \n",
            "A value is trying to be set on a copy of a slice from a DataFrame\n",
            "\n",
            "See the caveats in the documentation: https://pandas.pydata.org/pandas-docs/stable/user_guide/indexing.html#returning-a-view-versus-a-copy\n",
            "  P_ETH[i] = float(P_ETH[i])\n",
            "<ipython-input-26-595d364cf791>:12: SettingWithCopyWarning: \n",
            "A value is trying to be set on a copy of a slice from a DataFrame\n",
            "\n",
            "See the caveats in the documentation: https://pandas.pydata.org/pandas-docs/stable/user_guide/indexing.html#returning-a-view-versus-a-copy\n",
            "  P_ETH[i] = float(P_ETH[i])\n",
            "<ipython-input-26-595d364cf791>:12: SettingWithCopyWarning: \n",
            "A value is trying to be set on a copy of a slice from a DataFrame\n",
            "\n",
            "See the caveats in the documentation: https://pandas.pydata.org/pandas-docs/stable/user_guide/indexing.html#returning-a-view-versus-a-copy\n",
            "  P_ETH[i] = float(P_ETH[i])\n",
            "<ipython-input-26-595d364cf791>:12: SettingWithCopyWarning: \n",
            "A value is trying to be set on a copy of a slice from a DataFrame\n",
            "\n",
            "See the caveats in the documentation: https://pandas.pydata.org/pandas-docs/stable/user_guide/indexing.html#returning-a-view-versus-a-copy\n",
            "  P_ETH[i] = float(P_ETH[i])\n",
            "<ipython-input-26-595d364cf791>:12: SettingWithCopyWarning: \n",
            "A value is trying to be set on a copy of a slice from a DataFrame\n",
            "\n",
            "See the caveats in the documentation: https://pandas.pydata.org/pandas-docs/stable/user_guide/indexing.html#returning-a-view-versus-a-copy\n",
            "  P_ETH[i] = float(P_ETH[i])\n",
            "<ipython-input-26-595d364cf791>:12: SettingWithCopyWarning: \n",
            "A value is trying to be set on a copy of a slice from a DataFrame\n",
            "\n",
            "See the caveats in the documentation: https://pandas.pydata.org/pandas-docs/stable/user_guide/indexing.html#returning-a-view-versus-a-copy\n",
            "  P_ETH[i] = float(P_ETH[i])\n",
            "<ipython-input-26-595d364cf791>:12: SettingWithCopyWarning: \n",
            "A value is trying to be set on a copy of a slice from a DataFrame\n",
            "\n",
            "See the caveats in the documentation: https://pandas.pydata.org/pandas-docs/stable/user_guide/indexing.html#returning-a-view-versus-a-copy\n",
            "  P_ETH[i] = float(P_ETH[i])\n",
            "<ipython-input-26-595d364cf791>:12: SettingWithCopyWarning: \n",
            "A value is trying to be set on a copy of a slice from a DataFrame\n",
            "\n",
            "See the caveats in the documentation: https://pandas.pydata.org/pandas-docs/stable/user_guide/indexing.html#returning-a-view-versus-a-copy\n",
            "  P_ETH[i] = float(P_ETH[i])\n",
            "<ipython-input-26-595d364cf791>:12: SettingWithCopyWarning: \n",
            "A value is trying to be set on a copy of a slice from a DataFrame\n",
            "\n",
            "See the caveats in the documentation: https://pandas.pydata.org/pandas-docs/stable/user_guide/indexing.html#returning-a-view-versus-a-copy\n",
            "  P_ETH[i] = float(P_ETH[i])\n",
            "<ipython-input-26-595d364cf791>:12: SettingWithCopyWarning: \n",
            "A value is trying to be set on a copy of a slice from a DataFrame\n",
            "\n",
            "See the caveats in the documentation: https://pandas.pydata.org/pandas-docs/stable/user_guide/indexing.html#returning-a-view-versus-a-copy\n",
            "  P_ETH[i] = float(P_ETH[i])\n",
            "<ipython-input-26-595d364cf791>:12: SettingWithCopyWarning: \n",
            "A value is trying to be set on a copy of a slice from a DataFrame\n",
            "\n",
            "See the caveats in the documentation: https://pandas.pydata.org/pandas-docs/stable/user_guide/indexing.html#returning-a-view-versus-a-copy\n",
            "  P_ETH[i] = float(P_ETH[i])\n",
            "<ipython-input-26-595d364cf791>:12: SettingWithCopyWarning: \n",
            "A value is trying to be set on a copy of a slice from a DataFrame\n",
            "\n",
            "See the caveats in the documentation: https://pandas.pydata.org/pandas-docs/stable/user_guide/indexing.html#returning-a-view-versus-a-copy\n",
            "  P_ETH[i] = float(P_ETH[i])\n",
            "<ipython-input-26-595d364cf791>:12: SettingWithCopyWarning: \n",
            "A value is trying to be set on a copy of a slice from a DataFrame\n",
            "\n",
            "See the caveats in the documentation: https://pandas.pydata.org/pandas-docs/stable/user_guide/indexing.html#returning-a-view-versus-a-copy\n",
            "  P_ETH[i] = float(P_ETH[i])\n",
            "<ipython-input-26-595d364cf791>:12: SettingWithCopyWarning: \n",
            "A value is trying to be set on a copy of a slice from a DataFrame\n",
            "\n",
            "See the caveats in the documentation: https://pandas.pydata.org/pandas-docs/stable/user_guide/indexing.html#returning-a-view-versus-a-copy\n",
            "  P_ETH[i] = float(P_ETH[i])\n",
            "<ipython-input-26-595d364cf791>:12: SettingWithCopyWarning: \n",
            "A value is trying to be set on a copy of a slice from a DataFrame\n",
            "\n",
            "See the caveats in the documentation: https://pandas.pydata.org/pandas-docs/stable/user_guide/indexing.html#returning-a-view-versus-a-copy\n",
            "  P_ETH[i] = float(P_ETH[i])\n",
            "<ipython-input-26-595d364cf791>:12: SettingWithCopyWarning: \n",
            "A value is trying to be set on a copy of a slice from a DataFrame\n",
            "\n",
            "See the caveats in the documentation: https://pandas.pydata.org/pandas-docs/stable/user_guide/indexing.html#returning-a-view-versus-a-copy\n",
            "  P_ETH[i] = float(P_ETH[i])\n",
            "<ipython-input-26-595d364cf791>:12: SettingWithCopyWarning: \n",
            "A value is trying to be set on a copy of a slice from a DataFrame\n",
            "\n",
            "See the caveats in the documentation: https://pandas.pydata.org/pandas-docs/stable/user_guide/indexing.html#returning-a-view-versus-a-copy\n",
            "  P_ETH[i] = float(P_ETH[i])\n",
            "<ipython-input-26-595d364cf791>:12: SettingWithCopyWarning: \n",
            "A value is trying to be set on a copy of a slice from a DataFrame\n",
            "\n",
            "See the caveats in the documentation: https://pandas.pydata.org/pandas-docs/stable/user_guide/indexing.html#returning-a-view-versus-a-copy\n",
            "  P_ETH[i] = float(P_ETH[i])\n",
            "<ipython-input-26-595d364cf791>:12: SettingWithCopyWarning: \n",
            "A value is trying to be set on a copy of a slice from a DataFrame\n",
            "\n",
            "See the caveats in the documentation: https://pandas.pydata.org/pandas-docs/stable/user_guide/indexing.html#returning-a-view-versus-a-copy\n",
            "  P_ETH[i] = float(P_ETH[i])\n",
            "<ipython-input-26-595d364cf791>:12: SettingWithCopyWarning: \n",
            "A value is trying to be set on a copy of a slice from a DataFrame\n",
            "\n",
            "See the caveats in the documentation: https://pandas.pydata.org/pandas-docs/stable/user_guide/indexing.html#returning-a-view-versus-a-copy\n",
            "  P_ETH[i] = float(P_ETH[i])\n",
            "<ipython-input-26-595d364cf791>:12: SettingWithCopyWarning: \n",
            "A value is trying to be set on a copy of a slice from a DataFrame\n",
            "\n",
            "See the caveats in the documentation: https://pandas.pydata.org/pandas-docs/stable/user_guide/indexing.html#returning-a-view-versus-a-copy\n",
            "  P_ETH[i] = float(P_ETH[i])\n",
            "<ipython-input-26-595d364cf791>:12: SettingWithCopyWarning: \n",
            "A value is trying to be set on a copy of a slice from a DataFrame\n",
            "\n",
            "See the caveats in the documentation: https://pandas.pydata.org/pandas-docs/stable/user_guide/indexing.html#returning-a-view-versus-a-copy\n",
            "  P_ETH[i] = float(P_ETH[i])\n",
            "<ipython-input-26-595d364cf791>:12: SettingWithCopyWarning: \n",
            "A value is trying to be set on a copy of a slice from a DataFrame\n",
            "\n",
            "See the caveats in the documentation: https://pandas.pydata.org/pandas-docs/stable/user_guide/indexing.html#returning-a-view-versus-a-copy\n",
            "  P_ETH[i] = float(P_ETH[i])\n",
            "<ipython-input-26-595d364cf791>:12: SettingWithCopyWarning: \n",
            "A value is trying to be set on a copy of a slice from a DataFrame\n",
            "\n",
            "See the caveats in the documentation: https://pandas.pydata.org/pandas-docs/stable/user_guide/indexing.html#returning-a-view-versus-a-copy\n",
            "  P_ETH[i] = float(P_ETH[i])\n",
            "<ipython-input-26-595d364cf791>:12: SettingWithCopyWarning: \n",
            "A value is trying to be set on a copy of a slice from a DataFrame\n",
            "\n",
            "See the caveats in the documentation: https://pandas.pydata.org/pandas-docs/stable/user_guide/indexing.html#returning-a-view-versus-a-copy\n",
            "  P_ETH[i] = float(P_ETH[i])\n",
            "<ipython-input-26-595d364cf791>:12: SettingWithCopyWarning: \n",
            "A value is trying to be set on a copy of a slice from a DataFrame\n",
            "\n",
            "See the caveats in the documentation: https://pandas.pydata.org/pandas-docs/stable/user_guide/indexing.html#returning-a-view-versus-a-copy\n",
            "  P_ETH[i] = float(P_ETH[i])\n",
            "<ipython-input-26-595d364cf791>:12: SettingWithCopyWarning: \n",
            "A value is trying to be set on a copy of a slice from a DataFrame\n",
            "\n",
            "See the caveats in the documentation: https://pandas.pydata.org/pandas-docs/stable/user_guide/indexing.html#returning-a-view-versus-a-copy\n",
            "  P_ETH[i] = float(P_ETH[i])\n",
            "<ipython-input-26-595d364cf791>:12: SettingWithCopyWarning: \n",
            "A value is trying to be set on a copy of a slice from a DataFrame\n",
            "\n",
            "See the caveats in the documentation: https://pandas.pydata.org/pandas-docs/stable/user_guide/indexing.html#returning-a-view-versus-a-copy\n",
            "  P_ETH[i] = float(P_ETH[i])\n",
            "<ipython-input-26-595d364cf791>:12: SettingWithCopyWarning: \n",
            "A value is trying to be set on a copy of a slice from a DataFrame\n",
            "\n",
            "See the caveats in the documentation: https://pandas.pydata.org/pandas-docs/stable/user_guide/indexing.html#returning-a-view-versus-a-copy\n",
            "  P_ETH[i] = float(P_ETH[i])\n",
            "<ipython-input-26-595d364cf791>:12: SettingWithCopyWarning: \n",
            "A value is trying to be set on a copy of a slice from a DataFrame\n",
            "\n",
            "See the caveats in the documentation: https://pandas.pydata.org/pandas-docs/stable/user_guide/indexing.html#returning-a-view-versus-a-copy\n",
            "  P_ETH[i] = float(P_ETH[i])\n",
            "<ipython-input-26-595d364cf791>:12: SettingWithCopyWarning: \n",
            "A value is trying to be set on a copy of a slice from a DataFrame\n",
            "\n",
            "See the caveats in the documentation: https://pandas.pydata.org/pandas-docs/stable/user_guide/indexing.html#returning-a-view-versus-a-copy\n",
            "  P_ETH[i] = float(P_ETH[i])\n",
            "<ipython-input-26-595d364cf791>:12: SettingWithCopyWarning: \n",
            "A value is trying to be set on a copy of a slice from a DataFrame\n",
            "\n",
            "See the caveats in the documentation: https://pandas.pydata.org/pandas-docs/stable/user_guide/indexing.html#returning-a-view-versus-a-copy\n",
            "  P_ETH[i] = float(P_ETH[i])\n",
            "<ipython-input-26-595d364cf791>:12: SettingWithCopyWarning: \n",
            "A value is trying to be set on a copy of a slice from a DataFrame\n",
            "\n",
            "See the caveats in the documentation: https://pandas.pydata.org/pandas-docs/stable/user_guide/indexing.html#returning-a-view-versus-a-copy\n",
            "  P_ETH[i] = float(P_ETH[i])\n",
            "<ipython-input-26-595d364cf791>:12: SettingWithCopyWarning: \n",
            "A value is trying to be set on a copy of a slice from a DataFrame\n",
            "\n",
            "See the caveats in the documentation: https://pandas.pydata.org/pandas-docs/stable/user_guide/indexing.html#returning-a-view-versus-a-copy\n",
            "  P_ETH[i] = float(P_ETH[i])\n",
            "<ipython-input-26-595d364cf791>:12: SettingWithCopyWarning: \n",
            "A value is trying to be set on a copy of a slice from a DataFrame\n",
            "\n",
            "See the caveats in the documentation: https://pandas.pydata.org/pandas-docs/stable/user_guide/indexing.html#returning-a-view-versus-a-copy\n",
            "  P_ETH[i] = float(P_ETH[i])\n",
            "<ipython-input-26-595d364cf791>:12: SettingWithCopyWarning: \n",
            "A value is trying to be set on a copy of a slice from a DataFrame\n",
            "\n",
            "See the caveats in the documentation: https://pandas.pydata.org/pandas-docs/stable/user_guide/indexing.html#returning-a-view-versus-a-copy\n",
            "  P_ETH[i] = float(P_ETH[i])\n",
            "<ipython-input-26-595d364cf791>:12: SettingWithCopyWarning: \n",
            "A value is trying to be set on a copy of a slice from a DataFrame\n",
            "\n",
            "See the caveats in the documentation: https://pandas.pydata.org/pandas-docs/stable/user_guide/indexing.html#returning-a-view-versus-a-copy\n",
            "  P_ETH[i] = float(P_ETH[i])\n",
            "<ipython-input-26-595d364cf791>:12: SettingWithCopyWarning: \n",
            "A value is trying to be set on a copy of a slice from a DataFrame\n",
            "\n",
            "See the caveats in the documentation: https://pandas.pydata.org/pandas-docs/stable/user_guide/indexing.html#returning-a-view-versus-a-copy\n",
            "  P_ETH[i] = float(P_ETH[i])\n",
            "<ipython-input-26-595d364cf791>:12: SettingWithCopyWarning: \n",
            "A value is trying to be set on a copy of a slice from a DataFrame\n",
            "\n",
            "See the caveats in the documentation: https://pandas.pydata.org/pandas-docs/stable/user_guide/indexing.html#returning-a-view-versus-a-copy\n",
            "  P_ETH[i] = float(P_ETH[i])\n",
            "<ipython-input-26-595d364cf791>:12: SettingWithCopyWarning: \n",
            "A value is trying to be set on a copy of a slice from a DataFrame\n",
            "\n",
            "See the caveats in the documentation: https://pandas.pydata.org/pandas-docs/stable/user_guide/indexing.html#returning-a-view-versus-a-copy\n",
            "  P_ETH[i] = float(P_ETH[i])\n",
            "<ipython-input-26-595d364cf791>:12: SettingWithCopyWarning: \n",
            "A value is trying to be set on a copy of a slice from a DataFrame\n",
            "\n",
            "See the caveats in the documentation: https://pandas.pydata.org/pandas-docs/stable/user_guide/indexing.html#returning-a-view-versus-a-copy\n",
            "  P_ETH[i] = float(P_ETH[i])\n",
            "<ipython-input-26-595d364cf791>:12: SettingWithCopyWarning: \n",
            "A value is trying to be set on a copy of a slice from a DataFrame\n",
            "\n",
            "See the caveats in the documentation: https://pandas.pydata.org/pandas-docs/stable/user_guide/indexing.html#returning-a-view-versus-a-copy\n",
            "  P_ETH[i] = float(P_ETH[i])\n",
            "<ipython-input-26-595d364cf791>:12: SettingWithCopyWarning: \n",
            "A value is trying to be set on a copy of a slice from a DataFrame\n",
            "\n",
            "See the caveats in the documentation: https://pandas.pydata.org/pandas-docs/stable/user_guide/indexing.html#returning-a-view-versus-a-copy\n",
            "  P_ETH[i] = float(P_ETH[i])\n",
            "<ipython-input-26-595d364cf791>:12: SettingWithCopyWarning: \n",
            "A value is trying to be set on a copy of a slice from a DataFrame\n",
            "\n",
            "See the caveats in the documentation: https://pandas.pydata.org/pandas-docs/stable/user_guide/indexing.html#returning-a-view-versus-a-copy\n",
            "  P_ETH[i] = float(P_ETH[i])\n",
            "<ipython-input-26-595d364cf791>:12: SettingWithCopyWarning: \n",
            "A value is trying to be set on a copy of a slice from a DataFrame\n",
            "\n",
            "See the caveats in the documentation: https://pandas.pydata.org/pandas-docs/stable/user_guide/indexing.html#returning-a-view-versus-a-copy\n",
            "  P_ETH[i] = float(P_ETH[i])\n",
            "<ipython-input-26-595d364cf791>:12: SettingWithCopyWarning: \n",
            "A value is trying to be set on a copy of a slice from a DataFrame\n",
            "\n",
            "See the caveats in the documentation: https://pandas.pydata.org/pandas-docs/stable/user_guide/indexing.html#returning-a-view-versus-a-copy\n",
            "  P_ETH[i] = float(P_ETH[i])\n",
            "<ipython-input-26-595d364cf791>:12: SettingWithCopyWarning: \n",
            "A value is trying to be set on a copy of a slice from a DataFrame\n",
            "\n",
            "See the caveats in the documentation: https://pandas.pydata.org/pandas-docs/stable/user_guide/indexing.html#returning-a-view-versus-a-copy\n",
            "  P_ETH[i] = float(P_ETH[i])\n",
            "<ipython-input-26-595d364cf791>:12: SettingWithCopyWarning: \n",
            "A value is trying to be set on a copy of a slice from a DataFrame\n",
            "\n",
            "See the caveats in the documentation: https://pandas.pydata.org/pandas-docs/stable/user_guide/indexing.html#returning-a-view-versus-a-copy\n",
            "  P_ETH[i] = float(P_ETH[i])\n",
            "<ipython-input-26-595d364cf791>:12: SettingWithCopyWarning: \n",
            "A value is trying to be set on a copy of a slice from a DataFrame\n",
            "\n",
            "See the caveats in the documentation: https://pandas.pydata.org/pandas-docs/stable/user_guide/indexing.html#returning-a-view-versus-a-copy\n",
            "  P_ETH[i] = float(P_ETH[i])\n",
            "<ipython-input-26-595d364cf791>:12: SettingWithCopyWarning: \n",
            "A value is trying to be set on a copy of a slice from a DataFrame\n",
            "\n",
            "See the caveats in the documentation: https://pandas.pydata.org/pandas-docs/stable/user_guide/indexing.html#returning-a-view-versus-a-copy\n",
            "  P_ETH[i] = float(P_ETH[i])\n",
            "<ipython-input-26-595d364cf791>:12: SettingWithCopyWarning: \n",
            "A value is trying to be set on a copy of a slice from a DataFrame\n",
            "\n",
            "See the caveats in the documentation: https://pandas.pydata.org/pandas-docs/stable/user_guide/indexing.html#returning-a-view-versus-a-copy\n",
            "  P_ETH[i] = float(P_ETH[i])\n",
            "<ipython-input-26-595d364cf791>:12: SettingWithCopyWarning: \n",
            "A value is trying to be set on a copy of a slice from a DataFrame\n",
            "\n",
            "See the caveats in the documentation: https://pandas.pydata.org/pandas-docs/stable/user_guide/indexing.html#returning-a-view-versus-a-copy\n",
            "  P_ETH[i] = float(P_ETH[i])\n",
            "<ipython-input-26-595d364cf791>:12: SettingWithCopyWarning: \n",
            "A value is trying to be set on a copy of a slice from a DataFrame\n",
            "\n",
            "See the caveats in the documentation: https://pandas.pydata.org/pandas-docs/stable/user_guide/indexing.html#returning-a-view-versus-a-copy\n",
            "  P_ETH[i] = float(P_ETH[i])\n",
            "<ipython-input-26-595d364cf791>:12: SettingWithCopyWarning: \n",
            "A value is trying to be set on a copy of a slice from a DataFrame\n",
            "\n",
            "See the caveats in the documentation: https://pandas.pydata.org/pandas-docs/stable/user_guide/indexing.html#returning-a-view-versus-a-copy\n",
            "  P_ETH[i] = float(P_ETH[i])\n",
            "<ipython-input-26-595d364cf791>:12: SettingWithCopyWarning: \n",
            "A value is trying to be set on a copy of a slice from a DataFrame\n",
            "\n",
            "See the caveats in the documentation: https://pandas.pydata.org/pandas-docs/stable/user_guide/indexing.html#returning-a-view-versus-a-copy\n",
            "  P_ETH[i] = float(P_ETH[i])\n",
            "<ipython-input-26-595d364cf791>:12: SettingWithCopyWarning: \n",
            "A value is trying to be set on a copy of a slice from a DataFrame\n",
            "\n",
            "See the caveats in the documentation: https://pandas.pydata.org/pandas-docs/stable/user_guide/indexing.html#returning-a-view-versus-a-copy\n",
            "  P_ETH[i] = float(P_ETH[i])\n",
            "<ipython-input-26-595d364cf791>:12: SettingWithCopyWarning: \n",
            "A value is trying to be set on a copy of a slice from a DataFrame\n",
            "\n",
            "See the caveats in the documentation: https://pandas.pydata.org/pandas-docs/stable/user_guide/indexing.html#returning-a-view-versus-a-copy\n",
            "  P_ETH[i] = float(P_ETH[i])\n",
            "<ipython-input-26-595d364cf791>:12: SettingWithCopyWarning: \n",
            "A value is trying to be set on a copy of a slice from a DataFrame\n",
            "\n",
            "See the caveats in the documentation: https://pandas.pydata.org/pandas-docs/stable/user_guide/indexing.html#returning-a-view-versus-a-copy\n",
            "  P_ETH[i] = float(P_ETH[i])\n",
            "<ipython-input-26-595d364cf791>:12: SettingWithCopyWarning: \n",
            "A value is trying to be set on a copy of a slice from a DataFrame\n",
            "\n",
            "See the caveats in the documentation: https://pandas.pydata.org/pandas-docs/stable/user_guide/indexing.html#returning-a-view-versus-a-copy\n",
            "  P_ETH[i] = float(P_ETH[i])\n",
            "<ipython-input-26-595d364cf791>:12: SettingWithCopyWarning: \n",
            "A value is trying to be set on a copy of a slice from a DataFrame\n",
            "\n",
            "See the caveats in the documentation: https://pandas.pydata.org/pandas-docs/stable/user_guide/indexing.html#returning-a-view-versus-a-copy\n",
            "  P_ETH[i] = float(P_ETH[i])\n",
            "<ipython-input-26-595d364cf791>:12: SettingWithCopyWarning: \n",
            "A value is trying to be set on a copy of a slice from a DataFrame\n",
            "\n",
            "See the caveats in the documentation: https://pandas.pydata.org/pandas-docs/stable/user_guide/indexing.html#returning-a-view-versus-a-copy\n",
            "  P_ETH[i] = float(P_ETH[i])\n",
            "<ipython-input-26-595d364cf791>:12: SettingWithCopyWarning: \n",
            "A value is trying to be set on a copy of a slice from a DataFrame\n",
            "\n",
            "See the caveats in the documentation: https://pandas.pydata.org/pandas-docs/stable/user_guide/indexing.html#returning-a-view-versus-a-copy\n",
            "  P_ETH[i] = float(P_ETH[i])\n",
            "<ipython-input-26-595d364cf791>:12: SettingWithCopyWarning: \n",
            "A value is trying to be set on a copy of a slice from a DataFrame\n",
            "\n",
            "See the caveats in the documentation: https://pandas.pydata.org/pandas-docs/stable/user_guide/indexing.html#returning-a-view-versus-a-copy\n",
            "  P_ETH[i] = float(P_ETH[i])\n",
            "<ipython-input-26-595d364cf791>:12: SettingWithCopyWarning: \n",
            "A value is trying to be set on a copy of a slice from a DataFrame\n",
            "\n",
            "See the caveats in the documentation: https://pandas.pydata.org/pandas-docs/stable/user_guide/indexing.html#returning-a-view-versus-a-copy\n",
            "  P_ETH[i] = float(P_ETH[i])\n",
            "<ipython-input-26-595d364cf791>:12: SettingWithCopyWarning: \n",
            "A value is trying to be set on a copy of a slice from a DataFrame\n",
            "\n",
            "See the caveats in the documentation: https://pandas.pydata.org/pandas-docs/stable/user_guide/indexing.html#returning-a-view-versus-a-copy\n",
            "  P_ETH[i] = float(P_ETH[i])\n",
            "<ipython-input-26-595d364cf791>:12: SettingWithCopyWarning: \n",
            "A value is trying to be set on a copy of a slice from a DataFrame\n",
            "\n",
            "See the caveats in the documentation: https://pandas.pydata.org/pandas-docs/stable/user_guide/indexing.html#returning-a-view-versus-a-copy\n",
            "  P_ETH[i] = float(P_ETH[i])\n",
            "<ipython-input-26-595d364cf791>:12: SettingWithCopyWarning: \n",
            "A value is trying to be set on a copy of a slice from a DataFrame\n",
            "\n",
            "See the caveats in the documentation: https://pandas.pydata.org/pandas-docs/stable/user_guide/indexing.html#returning-a-view-versus-a-copy\n",
            "  P_ETH[i] = float(P_ETH[i])\n",
            "<ipython-input-26-595d364cf791>:12: SettingWithCopyWarning: \n",
            "A value is trying to be set on a copy of a slice from a DataFrame\n",
            "\n",
            "See the caveats in the documentation: https://pandas.pydata.org/pandas-docs/stable/user_guide/indexing.html#returning-a-view-versus-a-copy\n",
            "  P_ETH[i] = float(P_ETH[i])\n",
            "<ipython-input-26-595d364cf791>:12: SettingWithCopyWarning: \n",
            "A value is trying to be set on a copy of a slice from a DataFrame\n",
            "\n",
            "See the caveats in the documentation: https://pandas.pydata.org/pandas-docs/stable/user_guide/indexing.html#returning-a-view-versus-a-copy\n",
            "  P_ETH[i] = float(P_ETH[i])\n",
            "<ipython-input-26-595d364cf791>:12: SettingWithCopyWarning: \n",
            "A value is trying to be set on a copy of a slice from a DataFrame\n",
            "\n",
            "See the caveats in the documentation: https://pandas.pydata.org/pandas-docs/stable/user_guide/indexing.html#returning-a-view-versus-a-copy\n",
            "  P_ETH[i] = float(P_ETH[i])\n",
            "<ipython-input-26-595d364cf791>:12: SettingWithCopyWarning: \n",
            "A value is trying to be set on a copy of a slice from a DataFrame\n",
            "\n",
            "See the caveats in the documentation: https://pandas.pydata.org/pandas-docs/stable/user_guide/indexing.html#returning-a-view-versus-a-copy\n",
            "  P_ETH[i] = float(P_ETH[i])\n",
            "<ipython-input-26-595d364cf791>:12: SettingWithCopyWarning: \n",
            "A value is trying to be set on a copy of a slice from a DataFrame\n",
            "\n",
            "See the caveats in the documentation: https://pandas.pydata.org/pandas-docs/stable/user_guide/indexing.html#returning-a-view-versus-a-copy\n",
            "  P_ETH[i] = float(P_ETH[i])\n",
            "<ipython-input-26-595d364cf791>:12: SettingWithCopyWarning: \n",
            "A value is trying to be set on a copy of a slice from a DataFrame\n",
            "\n",
            "See the caveats in the documentation: https://pandas.pydata.org/pandas-docs/stable/user_guide/indexing.html#returning-a-view-versus-a-copy\n",
            "  P_ETH[i] = float(P_ETH[i])\n",
            "<ipython-input-26-595d364cf791>:12: SettingWithCopyWarning: \n",
            "A value is trying to be set on a copy of a slice from a DataFrame\n",
            "\n",
            "See the caveats in the documentation: https://pandas.pydata.org/pandas-docs/stable/user_guide/indexing.html#returning-a-view-versus-a-copy\n",
            "  P_ETH[i] = float(P_ETH[i])\n",
            "<ipython-input-26-595d364cf791>:12: SettingWithCopyWarning: \n",
            "A value is trying to be set on a copy of a slice from a DataFrame\n",
            "\n",
            "See the caveats in the documentation: https://pandas.pydata.org/pandas-docs/stable/user_guide/indexing.html#returning-a-view-versus-a-copy\n",
            "  P_ETH[i] = float(P_ETH[i])\n",
            "<ipython-input-26-595d364cf791>:12: SettingWithCopyWarning: \n",
            "A value is trying to be set on a copy of a slice from a DataFrame\n",
            "\n",
            "See the caveats in the documentation: https://pandas.pydata.org/pandas-docs/stable/user_guide/indexing.html#returning-a-view-versus-a-copy\n",
            "  P_ETH[i] = float(P_ETH[i])\n",
            "<ipython-input-26-595d364cf791>:12: SettingWithCopyWarning: \n",
            "A value is trying to be set on a copy of a slice from a DataFrame\n",
            "\n",
            "See the caveats in the documentation: https://pandas.pydata.org/pandas-docs/stable/user_guide/indexing.html#returning-a-view-versus-a-copy\n",
            "  P_ETH[i] = float(P_ETH[i])\n",
            "<ipython-input-26-595d364cf791>:12: SettingWithCopyWarning: \n",
            "A value is trying to be set on a copy of a slice from a DataFrame\n",
            "\n",
            "See the caveats in the documentation: https://pandas.pydata.org/pandas-docs/stable/user_guide/indexing.html#returning-a-view-versus-a-copy\n",
            "  P_ETH[i] = float(P_ETH[i])\n",
            "<ipython-input-26-595d364cf791>:12: SettingWithCopyWarning: \n",
            "A value is trying to be set on a copy of a slice from a DataFrame\n",
            "\n",
            "See the caveats in the documentation: https://pandas.pydata.org/pandas-docs/stable/user_guide/indexing.html#returning-a-view-versus-a-copy\n",
            "  P_ETH[i] = float(P_ETH[i])\n",
            "<ipython-input-26-595d364cf791>:12: SettingWithCopyWarning: \n",
            "A value is trying to be set on a copy of a slice from a DataFrame\n",
            "\n",
            "See the caveats in the documentation: https://pandas.pydata.org/pandas-docs/stable/user_guide/indexing.html#returning-a-view-versus-a-copy\n",
            "  P_ETH[i] = float(P_ETH[i])\n",
            "<ipython-input-26-595d364cf791>:12: SettingWithCopyWarning: \n",
            "A value is trying to be set on a copy of a slice from a DataFrame\n",
            "\n",
            "See the caveats in the documentation: https://pandas.pydata.org/pandas-docs/stable/user_guide/indexing.html#returning-a-view-versus-a-copy\n",
            "  P_ETH[i] = float(P_ETH[i])\n",
            "<ipython-input-26-595d364cf791>:12: SettingWithCopyWarning: \n",
            "A value is trying to be set on a copy of a slice from a DataFrame\n",
            "\n",
            "See the caveats in the documentation: https://pandas.pydata.org/pandas-docs/stable/user_guide/indexing.html#returning-a-view-versus-a-copy\n",
            "  P_ETH[i] = float(P_ETH[i])\n",
            "<ipython-input-26-595d364cf791>:12: SettingWithCopyWarning: \n",
            "A value is trying to be set on a copy of a slice from a DataFrame\n",
            "\n",
            "See the caveats in the documentation: https://pandas.pydata.org/pandas-docs/stable/user_guide/indexing.html#returning-a-view-versus-a-copy\n",
            "  P_ETH[i] = float(P_ETH[i])\n",
            "<ipython-input-26-595d364cf791>:12: SettingWithCopyWarning: \n",
            "A value is trying to be set on a copy of a slice from a DataFrame\n",
            "\n",
            "See the caveats in the documentation: https://pandas.pydata.org/pandas-docs/stable/user_guide/indexing.html#returning-a-view-versus-a-copy\n",
            "  P_ETH[i] = float(P_ETH[i])\n",
            "<ipython-input-26-595d364cf791>:12: SettingWithCopyWarning: \n",
            "A value is trying to be set on a copy of a slice from a DataFrame\n",
            "\n",
            "See the caveats in the documentation: https://pandas.pydata.org/pandas-docs/stable/user_guide/indexing.html#returning-a-view-versus-a-copy\n",
            "  P_ETH[i] = float(P_ETH[i])\n",
            "<ipython-input-26-595d364cf791>:12: SettingWithCopyWarning: \n",
            "A value is trying to be set on a copy of a slice from a DataFrame\n",
            "\n",
            "See the caveats in the documentation: https://pandas.pydata.org/pandas-docs/stable/user_guide/indexing.html#returning-a-view-versus-a-copy\n",
            "  P_ETH[i] = float(P_ETH[i])\n",
            "<ipython-input-26-595d364cf791>:12: SettingWithCopyWarning: \n",
            "A value is trying to be set on a copy of a slice from a DataFrame\n",
            "\n",
            "See the caveats in the documentation: https://pandas.pydata.org/pandas-docs/stable/user_guide/indexing.html#returning-a-view-versus-a-copy\n",
            "  P_ETH[i] = float(P_ETH[i])\n",
            "<ipython-input-26-595d364cf791>:12: SettingWithCopyWarning: \n",
            "A value is trying to be set on a copy of a slice from a DataFrame\n",
            "\n",
            "See the caveats in the documentation: https://pandas.pydata.org/pandas-docs/stable/user_guide/indexing.html#returning-a-view-versus-a-copy\n",
            "  P_ETH[i] = float(P_ETH[i])\n",
            "<ipython-input-26-595d364cf791>:12: SettingWithCopyWarning: \n",
            "A value is trying to be set on a copy of a slice from a DataFrame\n",
            "\n",
            "See the caveats in the documentation: https://pandas.pydata.org/pandas-docs/stable/user_guide/indexing.html#returning-a-view-versus-a-copy\n",
            "  P_ETH[i] = float(P_ETH[i])\n",
            "<ipython-input-26-595d364cf791>:12: SettingWithCopyWarning: \n",
            "A value is trying to be set on a copy of a slice from a DataFrame\n",
            "\n",
            "See the caveats in the documentation: https://pandas.pydata.org/pandas-docs/stable/user_guide/indexing.html#returning-a-view-versus-a-copy\n",
            "  P_ETH[i] = float(P_ETH[i])\n",
            "<ipython-input-26-595d364cf791>:12: SettingWithCopyWarning: \n",
            "A value is trying to be set on a copy of a slice from a DataFrame\n",
            "\n",
            "See the caveats in the documentation: https://pandas.pydata.org/pandas-docs/stable/user_guide/indexing.html#returning-a-view-versus-a-copy\n",
            "  P_ETH[i] = float(P_ETH[i])\n",
            "<ipython-input-26-595d364cf791>:12: SettingWithCopyWarning: \n",
            "A value is trying to be set on a copy of a slice from a DataFrame\n",
            "\n",
            "See the caveats in the documentation: https://pandas.pydata.org/pandas-docs/stable/user_guide/indexing.html#returning-a-view-versus-a-copy\n",
            "  P_ETH[i] = float(P_ETH[i])\n",
            "<ipython-input-26-595d364cf791>:12: SettingWithCopyWarning: \n",
            "A value is trying to be set on a copy of a slice from a DataFrame\n",
            "\n",
            "See the caveats in the documentation: https://pandas.pydata.org/pandas-docs/stable/user_guide/indexing.html#returning-a-view-versus-a-copy\n",
            "  P_ETH[i] = float(P_ETH[i])\n",
            "<ipython-input-26-595d364cf791>:12: SettingWithCopyWarning: \n",
            "A value is trying to be set on a copy of a slice from a DataFrame\n",
            "\n",
            "See the caveats in the documentation: https://pandas.pydata.org/pandas-docs/stable/user_guide/indexing.html#returning-a-view-versus-a-copy\n",
            "  P_ETH[i] = float(P_ETH[i])\n",
            "<ipython-input-26-595d364cf791>:12: SettingWithCopyWarning: \n",
            "A value is trying to be set on a copy of a slice from a DataFrame\n",
            "\n",
            "See the caveats in the documentation: https://pandas.pydata.org/pandas-docs/stable/user_guide/indexing.html#returning-a-view-versus-a-copy\n",
            "  P_ETH[i] = float(P_ETH[i])\n",
            "<ipython-input-26-595d364cf791>:12: SettingWithCopyWarning: \n",
            "A value is trying to be set on a copy of a slice from a DataFrame\n",
            "\n",
            "See the caveats in the documentation: https://pandas.pydata.org/pandas-docs/stable/user_guide/indexing.html#returning-a-view-versus-a-copy\n",
            "  P_ETH[i] = float(P_ETH[i])\n",
            "<ipython-input-26-595d364cf791>:12: SettingWithCopyWarning: \n",
            "A value is trying to be set on a copy of a slice from a DataFrame\n",
            "\n",
            "See the caveats in the documentation: https://pandas.pydata.org/pandas-docs/stable/user_guide/indexing.html#returning-a-view-versus-a-copy\n",
            "  P_ETH[i] = float(P_ETH[i])\n",
            "<ipython-input-26-595d364cf791>:12: SettingWithCopyWarning: \n",
            "A value is trying to be set on a copy of a slice from a DataFrame\n",
            "\n",
            "See the caveats in the documentation: https://pandas.pydata.org/pandas-docs/stable/user_guide/indexing.html#returning-a-view-versus-a-copy\n",
            "  P_ETH[i] = float(P_ETH[i])\n",
            "<ipython-input-26-595d364cf791>:12: SettingWithCopyWarning: \n",
            "A value is trying to be set on a copy of a slice from a DataFrame\n",
            "\n",
            "See the caveats in the documentation: https://pandas.pydata.org/pandas-docs/stable/user_guide/indexing.html#returning-a-view-versus-a-copy\n",
            "  P_ETH[i] = float(P_ETH[i])\n",
            "<ipython-input-26-595d364cf791>:12: SettingWithCopyWarning: \n",
            "A value is trying to be set on a copy of a slice from a DataFrame\n",
            "\n",
            "See the caveats in the documentation: https://pandas.pydata.org/pandas-docs/stable/user_guide/indexing.html#returning-a-view-versus-a-copy\n",
            "  P_ETH[i] = float(P_ETH[i])\n",
            "<ipython-input-26-595d364cf791>:12: SettingWithCopyWarning: \n",
            "A value is trying to be set on a copy of a slice from a DataFrame\n",
            "\n",
            "See the caveats in the documentation: https://pandas.pydata.org/pandas-docs/stable/user_guide/indexing.html#returning-a-view-versus-a-copy\n",
            "  P_ETH[i] = float(P_ETH[i])\n",
            "<ipython-input-26-595d364cf791>:12: SettingWithCopyWarning: \n",
            "A value is trying to be set on a copy of a slice from a DataFrame\n",
            "\n",
            "See the caveats in the documentation: https://pandas.pydata.org/pandas-docs/stable/user_guide/indexing.html#returning-a-view-versus-a-copy\n",
            "  P_ETH[i] = float(P_ETH[i])\n",
            "<ipython-input-26-595d364cf791>:12: SettingWithCopyWarning: \n",
            "A value is trying to be set on a copy of a slice from a DataFrame\n",
            "\n",
            "See the caveats in the documentation: https://pandas.pydata.org/pandas-docs/stable/user_guide/indexing.html#returning-a-view-versus-a-copy\n",
            "  P_ETH[i] = float(P_ETH[i])\n",
            "<ipython-input-26-595d364cf791>:12: SettingWithCopyWarning: \n",
            "A value is trying to be set on a copy of a slice from a DataFrame\n",
            "\n",
            "See the caveats in the documentation: https://pandas.pydata.org/pandas-docs/stable/user_guide/indexing.html#returning-a-view-versus-a-copy\n",
            "  P_ETH[i] = float(P_ETH[i])\n",
            "<ipython-input-26-595d364cf791>:12: SettingWithCopyWarning: \n",
            "A value is trying to be set on a copy of a slice from a DataFrame\n",
            "\n",
            "See the caveats in the documentation: https://pandas.pydata.org/pandas-docs/stable/user_guide/indexing.html#returning-a-view-versus-a-copy\n",
            "  P_ETH[i] = float(P_ETH[i])\n",
            "<ipython-input-26-595d364cf791>:12: SettingWithCopyWarning: \n",
            "A value is trying to be set on a copy of a slice from a DataFrame\n",
            "\n",
            "See the caveats in the documentation: https://pandas.pydata.org/pandas-docs/stable/user_guide/indexing.html#returning-a-view-versus-a-copy\n",
            "  P_ETH[i] = float(P_ETH[i])\n",
            "<ipython-input-26-595d364cf791>:12: SettingWithCopyWarning: \n",
            "A value is trying to be set on a copy of a slice from a DataFrame\n",
            "\n",
            "See the caveats in the documentation: https://pandas.pydata.org/pandas-docs/stable/user_guide/indexing.html#returning-a-view-versus-a-copy\n",
            "  P_ETH[i] = float(P_ETH[i])\n",
            "<ipython-input-26-595d364cf791>:12: SettingWithCopyWarning: \n",
            "A value is trying to be set on a copy of a slice from a DataFrame\n",
            "\n",
            "See the caveats in the documentation: https://pandas.pydata.org/pandas-docs/stable/user_guide/indexing.html#returning-a-view-versus-a-copy\n",
            "  P_ETH[i] = float(P_ETH[i])\n",
            "<ipython-input-26-595d364cf791>:12: SettingWithCopyWarning: \n",
            "A value is trying to be set on a copy of a slice from a DataFrame\n",
            "\n",
            "See the caveats in the documentation: https://pandas.pydata.org/pandas-docs/stable/user_guide/indexing.html#returning-a-view-versus-a-copy\n",
            "  P_ETH[i] = float(P_ETH[i])\n",
            "<ipython-input-26-595d364cf791>:12: SettingWithCopyWarning: \n",
            "A value is trying to be set on a copy of a slice from a DataFrame\n",
            "\n",
            "See the caveats in the documentation: https://pandas.pydata.org/pandas-docs/stable/user_guide/indexing.html#returning-a-view-versus-a-copy\n",
            "  P_ETH[i] = float(P_ETH[i])\n",
            "<ipython-input-26-595d364cf791>:12: SettingWithCopyWarning: \n",
            "A value is trying to be set on a copy of a slice from a DataFrame\n",
            "\n",
            "See the caveats in the documentation: https://pandas.pydata.org/pandas-docs/stable/user_guide/indexing.html#returning-a-view-versus-a-copy\n",
            "  P_ETH[i] = float(P_ETH[i])\n",
            "<ipython-input-26-595d364cf791>:12: SettingWithCopyWarning: \n",
            "A value is trying to be set on a copy of a slice from a DataFrame\n",
            "\n",
            "See the caveats in the documentation: https://pandas.pydata.org/pandas-docs/stable/user_guide/indexing.html#returning-a-view-versus-a-copy\n",
            "  P_ETH[i] = float(P_ETH[i])\n",
            "<ipython-input-26-595d364cf791>:12: SettingWithCopyWarning: \n",
            "A value is trying to be set on a copy of a slice from a DataFrame\n",
            "\n",
            "See the caveats in the documentation: https://pandas.pydata.org/pandas-docs/stable/user_guide/indexing.html#returning-a-view-versus-a-copy\n",
            "  P_ETH[i] = float(P_ETH[i])\n",
            "<ipython-input-26-595d364cf791>:12: SettingWithCopyWarning: \n",
            "A value is trying to be set on a copy of a slice from a DataFrame\n",
            "\n",
            "See the caveats in the documentation: https://pandas.pydata.org/pandas-docs/stable/user_guide/indexing.html#returning-a-view-versus-a-copy\n",
            "  P_ETH[i] = float(P_ETH[i])\n",
            "<ipython-input-26-595d364cf791>:12: SettingWithCopyWarning: \n",
            "A value is trying to be set on a copy of a slice from a DataFrame\n",
            "\n",
            "See the caveats in the documentation: https://pandas.pydata.org/pandas-docs/stable/user_guide/indexing.html#returning-a-view-versus-a-copy\n",
            "  P_ETH[i] = float(P_ETH[i])\n",
            "<ipython-input-26-595d364cf791>:12: SettingWithCopyWarning: \n",
            "A value is trying to be set on a copy of a slice from a DataFrame\n",
            "\n",
            "See the caveats in the documentation: https://pandas.pydata.org/pandas-docs/stable/user_guide/indexing.html#returning-a-view-versus-a-copy\n",
            "  P_ETH[i] = float(P_ETH[i])\n",
            "<ipython-input-26-595d364cf791>:12: SettingWithCopyWarning: \n",
            "A value is trying to be set on a copy of a slice from a DataFrame\n",
            "\n",
            "See the caveats in the documentation: https://pandas.pydata.org/pandas-docs/stable/user_guide/indexing.html#returning-a-view-versus-a-copy\n",
            "  P_ETH[i] = float(P_ETH[i])\n",
            "<ipython-input-26-595d364cf791>:12: SettingWithCopyWarning: \n",
            "A value is trying to be set on a copy of a slice from a DataFrame\n",
            "\n",
            "See the caveats in the documentation: https://pandas.pydata.org/pandas-docs/stable/user_guide/indexing.html#returning-a-view-versus-a-copy\n",
            "  P_ETH[i] = float(P_ETH[i])\n",
            "<ipython-input-26-595d364cf791>:12: SettingWithCopyWarning: \n",
            "A value is trying to be set on a copy of a slice from a DataFrame\n",
            "\n",
            "See the caveats in the documentation: https://pandas.pydata.org/pandas-docs/stable/user_guide/indexing.html#returning-a-view-versus-a-copy\n",
            "  P_ETH[i] = float(P_ETH[i])\n",
            "<ipython-input-26-595d364cf791>:12: SettingWithCopyWarning: \n",
            "A value is trying to be set on a copy of a slice from a DataFrame\n",
            "\n",
            "See the caveats in the documentation: https://pandas.pydata.org/pandas-docs/stable/user_guide/indexing.html#returning-a-view-versus-a-copy\n",
            "  P_ETH[i] = float(P_ETH[i])\n",
            "<ipython-input-26-595d364cf791>:12: SettingWithCopyWarning: \n",
            "A value is trying to be set on a copy of a slice from a DataFrame\n",
            "\n",
            "See the caveats in the documentation: https://pandas.pydata.org/pandas-docs/stable/user_guide/indexing.html#returning-a-view-versus-a-copy\n",
            "  P_ETH[i] = float(P_ETH[i])\n",
            "<ipython-input-26-595d364cf791>:12: SettingWithCopyWarning: \n",
            "A value is trying to be set on a copy of a slice from a DataFrame\n",
            "\n",
            "See the caveats in the documentation: https://pandas.pydata.org/pandas-docs/stable/user_guide/indexing.html#returning-a-view-versus-a-copy\n",
            "  P_ETH[i] = float(P_ETH[i])\n",
            "<ipython-input-26-595d364cf791>:12: SettingWithCopyWarning: \n",
            "A value is trying to be set on a copy of a slice from a DataFrame\n",
            "\n",
            "See the caveats in the documentation: https://pandas.pydata.org/pandas-docs/stable/user_guide/indexing.html#returning-a-view-versus-a-copy\n",
            "  P_ETH[i] = float(P_ETH[i])\n",
            "<ipython-input-26-595d364cf791>:12: SettingWithCopyWarning: \n",
            "A value is trying to be set on a copy of a slice from a DataFrame\n",
            "\n",
            "See the caveats in the documentation: https://pandas.pydata.org/pandas-docs/stable/user_guide/indexing.html#returning-a-view-versus-a-copy\n",
            "  P_ETH[i] = float(P_ETH[i])\n",
            "<ipython-input-26-595d364cf791>:12: SettingWithCopyWarning: \n",
            "A value is trying to be set on a copy of a slice from a DataFrame\n",
            "\n",
            "See the caveats in the documentation: https://pandas.pydata.org/pandas-docs/stable/user_guide/indexing.html#returning-a-view-versus-a-copy\n",
            "  P_ETH[i] = float(P_ETH[i])\n",
            "<ipython-input-26-595d364cf791>:12: SettingWithCopyWarning: \n",
            "A value is trying to be set on a copy of a slice from a DataFrame\n",
            "\n",
            "See the caveats in the documentation: https://pandas.pydata.org/pandas-docs/stable/user_guide/indexing.html#returning-a-view-versus-a-copy\n",
            "  P_ETH[i] = float(P_ETH[i])\n",
            "<ipython-input-26-595d364cf791>:12: SettingWithCopyWarning: \n",
            "A value is trying to be set on a copy of a slice from a DataFrame\n",
            "\n",
            "See the caveats in the documentation: https://pandas.pydata.org/pandas-docs/stable/user_guide/indexing.html#returning-a-view-versus-a-copy\n",
            "  P_ETH[i] = float(P_ETH[i])\n",
            "<ipython-input-26-595d364cf791>:12: SettingWithCopyWarning: \n",
            "A value is trying to be set on a copy of a slice from a DataFrame\n",
            "\n",
            "See the caveats in the documentation: https://pandas.pydata.org/pandas-docs/stable/user_guide/indexing.html#returning-a-view-versus-a-copy\n",
            "  P_ETH[i] = float(P_ETH[i])\n",
            "<ipython-input-26-595d364cf791>:12: SettingWithCopyWarning: \n",
            "A value is trying to be set on a copy of a slice from a DataFrame\n",
            "\n",
            "See the caveats in the documentation: https://pandas.pydata.org/pandas-docs/stable/user_guide/indexing.html#returning-a-view-versus-a-copy\n",
            "  P_ETH[i] = float(P_ETH[i])\n",
            "<ipython-input-26-595d364cf791>:12: SettingWithCopyWarning: \n",
            "A value is trying to be set on a copy of a slice from a DataFrame\n",
            "\n",
            "See the caveats in the documentation: https://pandas.pydata.org/pandas-docs/stable/user_guide/indexing.html#returning-a-view-versus-a-copy\n",
            "  P_ETH[i] = float(P_ETH[i])\n",
            "<ipython-input-26-595d364cf791>:12: SettingWithCopyWarning: \n",
            "A value is trying to be set on a copy of a slice from a DataFrame\n",
            "\n",
            "See the caveats in the documentation: https://pandas.pydata.org/pandas-docs/stable/user_guide/indexing.html#returning-a-view-versus-a-copy\n",
            "  P_ETH[i] = float(P_ETH[i])\n",
            "<ipython-input-26-595d364cf791>:12: SettingWithCopyWarning: \n",
            "A value is trying to be set on a copy of a slice from a DataFrame\n",
            "\n",
            "See the caveats in the documentation: https://pandas.pydata.org/pandas-docs/stable/user_guide/indexing.html#returning-a-view-versus-a-copy\n",
            "  P_ETH[i] = float(P_ETH[i])\n",
            "<ipython-input-26-595d364cf791>:12: SettingWithCopyWarning: \n",
            "A value is trying to be set on a copy of a slice from a DataFrame\n",
            "\n",
            "See the caveats in the documentation: https://pandas.pydata.org/pandas-docs/stable/user_guide/indexing.html#returning-a-view-versus-a-copy\n",
            "  P_ETH[i] = float(P_ETH[i])\n",
            "<ipython-input-26-595d364cf791>:12: SettingWithCopyWarning: \n",
            "A value is trying to be set on a copy of a slice from a DataFrame\n",
            "\n",
            "See the caveats in the documentation: https://pandas.pydata.org/pandas-docs/stable/user_guide/indexing.html#returning-a-view-versus-a-copy\n",
            "  P_ETH[i] = float(P_ETH[i])\n",
            "<ipython-input-26-595d364cf791>:12: SettingWithCopyWarning: \n",
            "A value is trying to be set on a copy of a slice from a DataFrame\n",
            "\n",
            "See the caveats in the documentation: https://pandas.pydata.org/pandas-docs/stable/user_guide/indexing.html#returning-a-view-versus-a-copy\n",
            "  P_ETH[i] = float(P_ETH[i])\n",
            "<ipython-input-26-595d364cf791>:12: SettingWithCopyWarning: \n",
            "A value is trying to be set on a copy of a slice from a DataFrame\n",
            "\n",
            "See the caveats in the documentation: https://pandas.pydata.org/pandas-docs/stable/user_guide/indexing.html#returning-a-view-versus-a-copy\n",
            "  P_ETH[i] = float(P_ETH[i])\n",
            "<ipython-input-26-595d364cf791>:12: SettingWithCopyWarning: \n",
            "A value is trying to be set on a copy of a slice from a DataFrame\n",
            "\n",
            "See the caveats in the documentation: https://pandas.pydata.org/pandas-docs/stable/user_guide/indexing.html#returning-a-view-versus-a-copy\n",
            "  P_ETH[i] = float(P_ETH[i])\n",
            "<ipython-input-26-595d364cf791>:12: SettingWithCopyWarning: \n",
            "A value is trying to be set on a copy of a slice from a DataFrame\n",
            "\n",
            "See the caveats in the documentation: https://pandas.pydata.org/pandas-docs/stable/user_guide/indexing.html#returning-a-view-versus-a-copy\n",
            "  P_ETH[i] = float(P_ETH[i])\n",
            "<ipython-input-26-595d364cf791>:12: SettingWithCopyWarning: \n",
            "A value is trying to be set on a copy of a slice from a DataFrame\n",
            "\n",
            "See the caveats in the documentation: https://pandas.pydata.org/pandas-docs/stable/user_guide/indexing.html#returning-a-view-versus-a-copy\n",
            "  P_ETH[i] = float(P_ETH[i])\n",
            "<ipython-input-26-595d364cf791>:12: SettingWithCopyWarning: \n",
            "A value is trying to be set on a copy of a slice from a DataFrame\n",
            "\n",
            "See the caveats in the documentation: https://pandas.pydata.org/pandas-docs/stable/user_guide/indexing.html#returning-a-view-versus-a-copy\n",
            "  P_ETH[i] = float(P_ETH[i])\n",
            "<ipython-input-26-595d364cf791>:12: SettingWithCopyWarning: \n",
            "A value is trying to be set on a copy of a slice from a DataFrame\n",
            "\n",
            "See the caveats in the documentation: https://pandas.pydata.org/pandas-docs/stable/user_guide/indexing.html#returning-a-view-versus-a-copy\n",
            "  P_ETH[i] = float(P_ETH[i])\n",
            "<ipython-input-26-595d364cf791>:12: SettingWithCopyWarning: \n",
            "A value is trying to be set on a copy of a slice from a DataFrame\n",
            "\n",
            "See the caveats in the documentation: https://pandas.pydata.org/pandas-docs/stable/user_guide/indexing.html#returning-a-view-versus-a-copy\n",
            "  P_ETH[i] = float(P_ETH[i])\n",
            "<ipython-input-26-595d364cf791>:12: SettingWithCopyWarning: \n",
            "A value is trying to be set on a copy of a slice from a DataFrame\n",
            "\n",
            "See the caveats in the documentation: https://pandas.pydata.org/pandas-docs/stable/user_guide/indexing.html#returning-a-view-versus-a-copy\n",
            "  P_ETH[i] = float(P_ETH[i])\n",
            "<ipython-input-26-595d364cf791>:12: SettingWithCopyWarning: \n",
            "A value is trying to be set on a copy of a slice from a DataFrame\n",
            "\n",
            "See the caveats in the documentation: https://pandas.pydata.org/pandas-docs/stable/user_guide/indexing.html#returning-a-view-versus-a-copy\n",
            "  P_ETH[i] = float(P_ETH[i])\n",
            "<ipython-input-26-595d364cf791>:12: SettingWithCopyWarning: \n",
            "A value is trying to be set on a copy of a slice from a DataFrame\n",
            "\n",
            "See the caveats in the documentation: https://pandas.pydata.org/pandas-docs/stable/user_guide/indexing.html#returning-a-view-versus-a-copy\n",
            "  P_ETH[i] = float(P_ETH[i])\n",
            "<ipython-input-26-595d364cf791>:12: SettingWithCopyWarning: \n",
            "A value is trying to be set on a copy of a slice from a DataFrame\n",
            "\n",
            "See the caveats in the documentation: https://pandas.pydata.org/pandas-docs/stable/user_guide/indexing.html#returning-a-view-versus-a-copy\n",
            "  P_ETH[i] = float(P_ETH[i])\n",
            "<ipython-input-26-595d364cf791>:12: SettingWithCopyWarning: \n",
            "A value is trying to be set on a copy of a slice from a DataFrame\n",
            "\n",
            "See the caveats in the documentation: https://pandas.pydata.org/pandas-docs/stable/user_guide/indexing.html#returning-a-view-versus-a-copy\n",
            "  P_ETH[i] = float(P_ETH[i])\n",
            "<ipython-input-26-595d364cf791>:12: SettingWithCopyWarning: \n",
            "A value is trying to be set on a copy of a slice from a DataFrame\n",
            "\n",
            "See the caveats in the documentation: https://pandas.pydata.org/pandas-docs/stable/user_guide/indexing.html#returning-a-view-versus-a-copy\n",
            "  P_ETH[i] = float(P_ETH[i])\n",
            "<ipython-input-26-595d364cf791>:12: SettingWithCopyWarning: \n",
            "A value is trying to be set on a copy of a slice from a DataFrame\n",
            "\n",
            "See the caveats in the documentation: https://pandas.pydata.org/pandas-docs/stable/user_guide/indexing.html#returning-a-view-versus-a-copy\n",
            "  P_ETH[i] = float(P_ETH[i])\n",
            "<ipython-input-26-595d364cf791>:12: SettingWithCopyWarning: \n",
            "A value is trying to be set on a copy of a slice from a DataFrame\n",
            "\n",
            "See the caveats in the documentation: https://pandas.pydata.org/pandas-docs/stable/user_guide/indexing.html#returning-a-view-versus-a-copy\n",
            "  P_ETH[i] = float(P_ETH[i])\n",
            "<ipython-input-26-595d364cf791>:12: SettingWithCopyWarning: \n",
            "A value is trying to be set on a copy of a slice from a DataFrame\n",
            "\n",
            "See the caveats in the documentation: https://pandas.pydata.org/pandas-docs/stable/user_guide/indexing.html#returning-a-view-versus-a-copy\n",
            "  P_ETH[i] = float(P_ETH[i])\n",
            "<ipython-input-26-595d364cf791>:12: SettingWithCopyWarning: \n",
            "A value is trying to be set on a copy of a slice from a DataFrame\n",
            "\n",
            "See the caveats in the documentation: https://pandas.pydata.org/pandas-docs/stable/user_guide/indexing.html#returning-a-view-versus-a-copy\n",
            "  P_ETH[i] = float(P_ETH[i])\n",
            "<ipython-input-26-595d364cf791>:12: SettingWithCopyWarning: \n",
            "A value is trying to be set on a copy of a slice from a DataFrame\n",
            "\n",
            "See the caveats in the documentation: https://pandas.pydata.org/pandas-docs/stable/user_guide/indexing.html#returning-a-view-versus-a-copy\n",
            "  P_ETH[i] = float(P_ETH[i])\n",
            "<ipython-input-26-595d364cf791>:12: SettingWithCopyWarning: \n",
            "A value is trying to be set on a copy of a slice from a DataFrame\n",
            "\n",
            "See the caveats in the documentation: https://pandas.pydata.org/pandas-docs/stable/user_guide/indexing.html#returning-a-view-versus-a-copy\n",
            "  P_ETH[i] = float(P_ETH[i])\n",
            "<ipython-input-26-595d364cf791>:12: SettingWithCopyWarning: \n",
            "A value is trying to be set on a copy of a slice from a DataFrame\n",
            "\n",
            "See the caveats in the documentation: https://pandas.pydata.org/pandas-docs/stable/user_guide/indexing.html#returning-a-view-versus-a-copy\n",
            "  P_ETH[i] = float(P_ETH[i])\n",
            "<ipython-input-26-595d364cf791>:12: SettingWithCopyWarning: \n",
            "A value is trying to be set on a copy of a slice from a DataFrame\n",
            "\n",
            "See the caveats in the documentation: https://pandas.pydata.org/pandas-docs/stable/user_guide/indexing.html#returning-a-view-versus-a-copy\n",
            "  P_ETH[i] = float(P_ETH[i])\n",
            "<ipython-input-26-595d364cf791>:12: SettingWithCopyWarning: \n",
            "A value is trying to be set on a copy of a slice from a DataFrame\n",
            "\n",
            "See the caveats in the documentation: https://pandas.pydata.org/pandas-docs/stable/user_guide/indexing.html#returning-a-view-versus-a-copy\n",
            "  P_ETH[i] = float(P_ETH[i])\n",
            "<ipython-input-26-595d364cf791>:12: SettingWithCopyWarning: \n",
            "A value is trying to be set on a copy of a slice from a DataFrame\n",
            "\n",
            "See the caveats in the documentation: https://pandas.pydata.org/pandas-docs/stable/user_guide/indexing.html#returning-a-view-versus-a-copy\n",
            "  P_ETH[i] = float(P_ETH[i])\n",
            "<ipython-input-26-595d364cf791>:12: SettingWithCopyWarning: \n",
            "A value is trying to be set on a copy of a slice from a DataFrame\n",
            "\n",
            "See the caveats in the documentation: https://pandas.pydata.org/pandas-docs/stable/user_guide/indexing.html#returning-a-view-versus-a-copy\n",
            "  P_ETH[i] = float(P_ETH[i])\n",
            "<ipython-input-26-595d364cf791>:12: SettingWithCopyWarning: \n",
            "A value is trying to be set on a copy of a slice from a DataFrame\n",
            "\n",
            "See the caveats in the documentation: https://pandas.pydata.org/pandas-docs/stable/user_guide/indexing.html#returning-a-view-versus-a-copy\n",
            "  P_ETH[i] = float(P_ETH[i])\n",
            "<ipython-input-26-595d364cf791>:12: SettingWithCopyWarning: \n",
            "A value is trying to be set on a copy of a slice from a DataFrame\n",
            "\n",
            "See the caveats in the documentation: https://pandas.pydata.org/pandas-docs/stable/user_guide/indexing.html#returning-a-view-versus-a-copy\n",
            "  P_ETH[i] = float(P_ETH[i])\n",
            "<ipython-input-26-595d364cf791>:12: SettingWithCopyWarning: \n",
            "A value is trying to be set on a copy of a slice from a DataFrame\n",
            "\n",
            "See the caveats in the documentation: https://pandas.pydata.org/pandas-docs/stable/user_guide/indexing.html#returning-a-view-versus-a-copy\n",
            "  P_ETH[i] = float(P_ETH[i])\n",
            "<ipython-input-26-595d364cf791>:12: SettingWithCopyWarning: \n",
            "A value is trying to be set on a copy of a slice from a DataFrame\n",
            "\n",
            "See the caveats in the documentation: https://pandas.pydata.org/pandas-docs/stable/user_guide/indexing.html#returning-a-view-versus-a-copy\n",
            "  P_ETH[i] = float(P_ETH[i])\n",
            "<ipython-input-26-595d364cf791>:12: SettingWithCopyWarning: \n",
            "A value is trying to be set on a copy of a slice from a DataFrame\n",
            "\n",
            "See the caveats in the documentation: https://pandas.pydata.org/pandas-docs/stable/user_guide/indexing.html#returning-a-view-versus-a-copy\n",
            "  P_ETH[i] = float(P_ETH[i])\n",
            "<ipython-input-26-595d364cf791>:12: SettingWithCopyWarning: \n",
            "A value is trying to be set on a copy of a slice from a DataFrame\n",
            "\n",
            "See the caveats in the documentation: https://pandas.pydata.org/pandas-docs/stable/user_guide/indexing.html#returning-a-view-versus-a-copy\n",
            "  P_ETH[i] = float(P_ETH[i])\n",
            "<ipython-input-26-595d364cf791>:12: SettingWithCopyWarning: \n",
            "A value is trying to be set on a copy of a slice from a DataFrame\n",
            "\n",
            "See the caveats in the documentation: https://pandas.pydata.org/pandas-docs/stable/user_guide/indexing.html#returning-a-view-versus-a-copy\n",
            "  P_ETH[i] = float(P_ETH[i])\n",
            "<ipython-input-26-595d364cf791>:12: SettingWithCopyWarning: \n",
            "A value is trying to be set on a copy of a slice from a DataFrame\n",
            "\n",
            "See the caveats in the documentation: https://pandas.pydata.org/pandas-docs/stable/user_guide/indexing.html#returning-a-view-versus-a-copy\n",
            "  P_ETH[i] = float(P_ETH[i])\n",
            "<ipython-input-26-595d364cf791>:12: SettingWithCopyWarning: \n",
            "A value is trying to be set on a copy of a slice from a DataFrame\n",
            "\n",
            "See the caveats in the documentation: https://pandas.pydata.org/pandas-docs/stable/user_guide/indexing.html#returning-a-view-versus-a-copy\n",
            "  P_ETH[i] = float(P_ETH[i])\n",
            "<ipython-input-26-595d364cf791>:12: SettingWithCopyWarning: \n",
            "A value is trying to be set on a copy of a slice from a DataFrame\n",
            "\n",
            "See the caveats in the documentation: https://pandas.pydata.org/pandas-docs/stable/user_guide/indexing.html#returning-a-view-versus-a-copy\n",
            "  P_ETH[i] = float(P_ETH[i])\n",
            "<ipython-input-26-595d364cf791>:12: SettingWithCopyWarning: \n",
            "A value is trying to be set on a copy of a slice from a DataFrame\n",
            "\n",
            "See the caveats in the documentation: https://pandas.pydata.org/pandas-docs/stable/user_guide/indexing.html#returning-a-view-versus-a-copy\n",
            "  P_ETH[i] = float(P_ETH[i])\n",
            "<ipython-input-26-595d364cf791>:12: SettingWithCopyWarning: \n",
            "A value is trying to be set on a copy of a slice from a DataFrame\n",
            "\n",
            "See the caveats in the documentation: https://pandas.pydata.org/pandas-docs/stable/user_guide/indexing.html#returning-a-view-versus-a-copy\n",
            "  P_ETH[i] = float(P_ETH[i])\n",
            "<ipython-input-26-595d364cf791>:12: SettingWithCopyWarning: \n",
            "A value is trying to be set on a copy of a slice from a DataFrame\n",
            "\n",
            "See the caveats in the documentation: https://pandas.pydata.org/pandas-docs/stable/user_guide/indexing.html#returning-a-view-versus-a-copy\n",
            "  P_ETH[i] = float(P_ETH[i])\n",
            "<ipython-input-26-595d364cf791>:12: SettingWithCopyWarning: \n",
            "A value is trying to be set on a copy of a slice from a DataFrame\n",
            "\n",
            "See the caveats in the documentation: https://pandas.pydata.org/pandas-docs/stable/user_guide/indexing.html#returning-a-view-versus-a-copy\n",
            "  P_ETH[i] = float(P_ETH[i])\n",
            "<ipython-input-26-595d364cf791>:12: SettingWithCopyWarning: \n",
            "A value is trying to be set on a copy of a slice from a DataFrame\n",
            "\n",
            "See the caveats in the documentation: https://pandas.pydata.org/pandas-docs/stable/user_guide/indexing.html#returning-a-view-versus-a-copy\n",
            "  P_ETH[i] = float(P_ETH[i])\n",
            "<ipython-input-26-595d364cf791>:12: SettingWithCopyWarning: \n",
            "A value is trying to be set on a copy of a slice from a DataFrame\n",
            "\n",
            "See the caveats in the documentation: https://pandas.pydata.org/pandas-docs/stable/user_guide/indexing.html#returning-a-view-versus-a-copy\n",
            "  P_ETH[i] = float(P_ETH[i])\n",
            "<ipython-input-26-595d364cf791>:12: SettingWithCopyWarning: \n",
            "A value is trying to be set on a copy of a slice from a DataFrame\n",
            "\n",
            "See the caveats in the documentation: https://pandas.pydata.org/pandas-docs/stable/user_guide/indexing.html#returning-a-view-versus-a-copy\n",
            "  P_ETH[i] = float(P_ETH[i])\n",
            "<ipython-input-26-595d364cf791>:12: SettingWithCopyWarning: \n",
            "A value is trying to be set on a copy of a slice from a DataFrame\n",
            "\n",
            "See the caveats in the documentation: https://pandas.pydata.org/pandas-docs/stable/user_guide/indexing.html#returning-a-view-versus-a-copy\n",
            "  P_ETH[i] = float(P_ETH[i])\n",
            "<ipython-input-26-595d364cf791>:12: SettingWithCopyWarning: \n",
            "A value is trying to be set on a copy of a slice from a DataFrame\n",
            "\n",
            "See the caveats in the documentation: https://pandas.pydata.org/pandas-docs/stable/user_guide/indexing.html#returning-a-view-versus-a-copy\n",
            "  P_ETH[i] = float(P_ETH[i])\n",
            "<ipython-input-26-595d364cf791>:12: SettingWithCopyWarning: \n",
            "A value is trying to be set on a copy of a slice from a DataFrame\n",
            "\n",
            "See the caveats in the documentation: https://pandas.pydata.org/pandas-docs/stable/user_guide/indexing.html#returning-a-view-versus-a-copy\n",
            "  P_ETH[i] = float(P_ETH[i])\n",
            "<ipython-input-26-595d364cf791>:12: SettingWithCopyWarning: \n",
            "A value is trying to be set on a copy of a slice from a DataFrame\n",
            "\n",
            "See the caveats in the documentation: https://pandas.pydata.org/pandas-docs/stable/user_guide/indexing.html#returning-a-view-versus-a-copy\n",
            "  P_ETH[i] = float(P_ETH[i])\n",
            "<ipython-input-26-595d364cf791>:12: SettingWithCopyWarning: \n",
            "A value is trying to be set on a copy of a slice from a DataFrame\n",
            "\n",
            "See the caveats in the documentation: https://pandas.pydata.org/pandas-docs/stable/user_guide/indexing.html#returning-a-view-versus-a-copy\n",
            "  P_ETH[i] = float(P_ETH[i])\n",
            "<ipython-input-26-595d364cf791>:12: SettingWithCopyWarning: \n",
            "A value is trying to be set on a copy of a slice from a DataFrame\n",
            "\n",
            "See the caveats in the documentation: https://pandas.pydata.org/pandas-docs/stable/user_guide/indexing.html#returning-a-view-versus-a-copy\n",
            "  P_ETH[i] = float(P_ETH[i])\n",
            "<ipython-input-26-595d364cf791>:12: SettingWithCopyWarning: \n",
            "A value is trying to be set on a copy of a slice from a DataFrame\n",
            "\n",
            "See the caveats in the documentation: https://pandas.pydata.org/pandas-docs/stable/user_guide/indexing.html#returning-a-view-versus-a-copy\n",
            "  P_ETH[i] = float(P_ETH[i])\n",
            "<ipython-input-26-595d364cf791>:12: SettingWithCopyWarning: \n",
            "A value is trying to be set on a copy of a slice from a DataFrame\n",
            "\n",
            "See the caveats in the documentation: https://pandas.pydata.org/pandas-docs/stable/user_guide/indexing.html#returning-a-view-versus-a-copy\n",
            "  P_ETH[i] = float(P_ETH[i])\n",
            "<ipython-input-26-595d364cf791>:12: SettingWithCopyWarning: \n",
            "A value is trying to be set on a copy of a slice from a DataFrame\n",
            "\n",
            "See the caveats in the documentation: https://pandas.pydata.org/pandas-docs/stable/user_guide/indexing.html#returning-a-view-versus-a-copy\n",
            "  P_ETH[i] = float(P_ETH[i])\n",
            "<ipython-input-26-595d364cf791>:12: SettingWithCopyWarning: \n",
            "A value is trying to be set on a copy of a slice from a DataFrame\n",
            "\n",
            "See the caveats in the documentation: https://pandas.pydata.org/pandas-docs/stable/user_guide/indexing.html#returning-a-view-versus-a-copy\n",
            "  P_ETH[i] = float(P_ETH[i])\n",
            "<ipython-input-26-595d364cf791>:12: SettingWithCopyWarning: \n",
            "A value is trying to be set on a copy of a slice from a DataFrame\n",
            "\n",
            "See the caveats in the documentation: https://pandas.pydata.org/pandas-docs/stable/user_guide/indexing.html#returning-a-view-versus-a-copy\n",
            "  P_ETH[i] = float(P_ETH[i])\n",
            "<ipython-input-26-595d364cf791>:12: SettingWithCopyWarning: \n",
            "A value is trying to be set on a copy of a slice from a DataFrame\n",
            "\n",
            "See the caveats in the documentation: https://pandas.pydata.org/pandas-docs/stable/user_guide/indexing.html#returning-a-view-versus-a-copy\n",
            "  P_ETH[i] = float(P_ETH[i])\n",
            "<ipython-input-26-595d364cf791>:12: SettingWithCopyWarning: \n",
            "A value is trying to be set on a copy of a slice from a DataFrame\n",
            "\n",
            "See the caveats in the documentation: https://pandas.pydata.org/pandas-docs/stable/user_guide/indexing.html#returning-a-view-versus-a-copy\n",
            "  P_ETH[i] = float(P_ETH[i])\n",
            "<ipython-input-26-595d364cf791>:12: SettingWithCopyWarning: \n",
            "A value is trying to be set on a copy of a slice from a DataFrame\n",
            "\n",
            "See the caveats in the documentation: https://pandas.pydata.org/pandas-docs/stable/user_guide/indexing.html#returning-a-view-versus-a-copy\n",
            "  P_ETH[i] = float(P_ETH[i])\n",
            "<ipython-input-26-595d364cf791>:12: SettingWithCopyWarning: \n",
            "A value is trying to be set on a copy of a slice from a DataFrame\n",
            "\n",
            "See the caveats in the documentation: https://pandas.pydata.org/pandas-docs/stable/user_guide/indexing.html#returning-a-view-versus-a-copy\n",
            "  P_ETH[i] = float(P_ETH[i])\n",
            "<ipython-input-26-595d364cf791>:12: SettingWithCopyWarning: \n",
            "A value is trying to be set on a copy of a slice from a DataFrame\n",
            "\n",
            "See the caveats in the documentation: https://pandas.pydata.org/pandas-docs/stable/user_guide/indexing.html#returning-a-view-versus-a-copy\n",
            "  P_ETH[i] = float(P_ETH[i])\n",
            "<ipython-input-26-595d364cf791>:12: SettingWithCopyWarning: \n",
            "A value is trying to be set on a copy of a slice from a DataFrame\n",
            "\n",
            "See the caveats in the documentation: https://pandas.pydata.org/pandas-docs/stable/user_guide/indexing.html#returning-a-view-versus-a-copy\n",
            "  P_ETH[i] = float(P_ETH[i])\n",
            "<ipython-input-26-595d364cf791>:12: SettingWithCopyWarning: \n",
            "A value is trying to be set on a copy of a slice from a DataFrame\n",
            "\n",
            "See the caveats in the documentation: https://pandas.pydata.org/pandas-docs/stable/user_guide/indexing.html#returning-a-view-versus-a-copy\n",
            "  P_ETH[i] = float(P_ETH[i])\n",
            "<ipython-input-26-595d364cf791>:12: SettingWithCopyWarning: \n",
            "A value is trying to be set on a copy of a slice from a DataFrame\n",
            "\n",
            "See the caveats in the documentation: https://pandas.pydata.org/pandas-docs/stable/user_guide/indexing.html#returning-a-view-versus-a-copy\n",
            "  P_ETH[i] = float(P_ETH[i])\n",
            "<ipython-input-26-595d364cf791>:12: SettingWithCopyWarning: \n",
            "A value is trying to be set on a copy of a slice from a DataFrame\n",
            "\n",
            "See the caveats in the documentation: https://pandas.pydata.org/pandas-docs/stable/user_guide/indexing.html#returning-a-view-versus-a-copy\n",
            "  P_ETH[i] = float(P_ETH[i])\n",
            "<ipython-input-26-595d364cf791>:12: SettingWithCopyWarning: \n",
            "A value is trying to be set on a copy of a slice from a DataFrame\n",
            "\n",
            "See the caveats in the documentation: https://pandas.pydata.org/pandas-docs/stable/user_guide/indexing.html#returning-a-view-versus-a-copy\n",
            "  P_ETH[i] = float(P_ETH[i])\n",
            "<ipython-input-26-595d364cf791>:12: SettingWithCopyWarning: \n",
            "A value is trying to be set on a copy of a slice from a DataFrame\n",
            "\n",
            "See the caveats in the documentation: https://pandas.pydata.org/pandas-docs/stable/user_guide/indexing.html#returning-a-view-versus-a-copy\n",
            "  P_ETH[i] = float(P_ETH[i])\n",
            "<ipython-input-26-595d364cf791>:12: SettingWithCopyWarning: \n",
            "A value is trying to be set on a copy of a slice from a DataFrame\n",
            "\n",
            "See the caveats in the documentation: https://pandas.pydata.org/pandas-docs/stable/user_guide/indexing.html#returning-a-view-versus-a-copy\n",
            "  P_ETH[i] = float(P_ETH[i])\n",
            "<ipython-input-26-595d364cf791>:12: SettingWithCopyWarning: \n",
            "A value is trying to be set on a copy of a slice from a DataFrame\n",
            "\n",
            "See the caveats in the documentation: https://pandas.pydata.org/pandas-docs/stable/user_guide/indexing.html#returning-a-view-versus-a-copy\n",
            "  P_ETH[i] = float(P_ETH[i])\n",
            "<ipython-input-26-595d364cf791>:12: SettingWithCopyWarning: \n",
            "A value is trying to be set on a copy of a slice from a DataFrame\n",
            "\n",
            "See the caveats in the documentation: https://pandas.pydata.org/pandas-docs/stable/user_guide/indexing.html#returning-a-view-versus-a-copy\n",
            "  P_ETH[i] = float(P_ETH[i])\n",
            "<ipython-input-26-595d364cf791>:12: SettingWithCopyWarning: \n",
            "A value is trying to be set on a copy of a slice from a DataFrame\n",
            "\n",
            "See the caveats in the documentation: https://pandas.pydata.org/pandas-docs/stable/user_guide/indexing.html#returning-a-view-versus-a-copy\n",
            "  P_ETH[i] = float(P_ETH[i])\n",
            "<ipython-input-26-595d364cf791>:12: SettingWithCopyWarning: \n",
            "A value is trying to be set on a copy of a slice from a DataFrame\n",
            "\n",
            "See the caveats in the documentation: https://pandas.pydata.org/pandas-docs/stable/user_guide/indexing.html#returning-a-view-versus-a-copy\n",
            "  P_ETH[i] = float(P_ETH[i])\n",
            "<ipython-input-26-595d364cf791>:12: SettingWithCopyWarning: \n",
            "A value is trying to be set on a copy of a slice from a DataFrame\n",
            "\n",
            "See the caveats in the documentation: https://pandas.pydata.org/pandas-docs/stable/user_guide/indexing.html#returning-a-view-versus-a-copy\n",
            "  P_ETH[i] = float(P_ETH[i])\n",
            "<ipython-input-26-595d364cf791>:12: SettingWithCopyWarning: \n",
            "A value is trying to be set on a copy of a slice from a DataFrame\n",
            "\n",
            "See the caveats in the documentation: https://pandas.pydata.org/pandas-docs/stable/user_guide/indexing.html#returning-a-view-versus-a-copy\n",
            "  P_ETH[i] = float(P_ETH[i])\n",
            "<ipython-input-26-595d364cf791>:12: SettingWithCopyWarning: \n",
            "A value is trying to be set on a copy of a slice from a DataFrame\n",
            "\n",
            "See the caveats in the documentation: https://pandas.pydata.org/pandas-docs/stable/user_guide/indexing.html#returning-a-view-versus-a-copy\n",
            "  P_ETH[i] = float(P_ETH[i])\n",
            "<ipython-input-26-595d364cf791>:12: SettingWithCopyWarning: \n",
            "A value is trying to be set on a copy of a slice from a DataFrame\n",
            "\n",
            "See the caveats in the documentation: https://pandas.pydata.org/pandas-docs/stable/user_guide/indexing.html#returning-a-view-versus-a-copy\n",
            "  P_ETH[i] = float(P_ETH[i])\n",
            "<ipython-input-26-595d364cf791>:12: SettingWithCopyWarning: \n",
            "A value is trying to be set on a copy of a slice from a DataFrame\n",
            "\n",
            "See the caveats in the documentation: https://pandas.pydata.org/pandas-docs/stable/user_guide/indexing.html#returning-a-view-versus-a-copy\n",
            "  P_ETH[i] = float(P_ETH[i])\n",
            "<ipython-input-26-595d364cf791>:12: SettingWithCopyWarning: \n",
            "A value is trying to be set on a copy of a slice from a DataFrame\n",
            "\n",
            "See the caveats in the documentation: https://pandas.pydata.org/pandas-docs/stable/user_guide/indexing.html#returning-a-view-versus-a-copy\n",
            "  P_ETH[i] = float(P_ETH[i])\n",
            "<ipython-input-26-595d364cf791>:12: SettingWithCopyWarning: \n",
            "A value is trying to be set on a copy of a slice from a DataFrame\n",
            "\n",
            "See the caveats in the documentation: https://pandas.pydata.org/pandas-docs/stable/user_guide/indexing.html#returning-a-view-versus-a-copy\n",
            "  P_ETH[i] = float(P_ETH[i])\n",
            "<ipython-input-26-595d364cf791>:12: SettingWithCopyWarning: \n",
            "A value is trying to be set on a copy of a slice from a DataFrame\n",
            "\n",
            "See the caveats in the documentation: https://pandas.pydata.org/pandas-docs/stable/user_guide/indexing.html#returning-a-view-versus-a-copy\n",
            "  P_ETH[i] = float(P_ETH[i])\n",
            "<ipython-input-26-595d364cf791>:12: SettingWithCopyWarning: \n",
            "A value is trying to be set on a copy of a slice from a DataFrame\n",
            "\n",
            "See the caveats in the documentation: https://pandas.pydata.org/pandas-docs/stable/user_guide/indexing.html#returning-a-view-versus-a-copy\n",
            "  P_ETH[i] = float(P_ETH[i])\n",
            "<ipython-input-26-595d364cf791>:12: SettingWithCopyWarning: \n",
            "A value is trying to be set on a copy of a slice from a DataFrame\n",
            "\n",
            "See the caveats in the documentation: https://pandas.pydata.org/pandas-docs/stable/user_guide/indexing.html#returning-a-view-versus-a-copy\n",
            "  P_ETH[i] = float(P_ETH[i])\n",
            "<ipython-input-26-595d364cf791>:12: SettingWithCopyWarning: \n",
            "A value is trying to be set on a copy of a slice from a DataFrame\n",
            "\n",
            "See the caveats in the documentation: https://pandas.pydata.org/pandas-docs/stable/user_guide/indexing.html#returning-a-view-versus-a-copy\n",
            "  P_ETH[i] = float(P_ETH[i])\n",
            "<ipython-input-26-595d364cf791>:12: SettingWithCopyWarning: \n",
            "A value is trying to be set on a copy of a slice from a DataFrame\n",
            "\n",
            "See the caveats in the documentation: https://pandas.pydata.org/pandas-docs/stable/user_guide/indexing.html#returning-a-view-versus-a-copy\n",
            "  P_ETH[i] = float(P_ETH[i])\n",
            "<ipython-input-26-595d364cf791>:12: SettingWithCopyWarning: \n",
            "A value is trying to be set on a copy of a slice from a DataFrame\n",
            "\n",
            "See the caveats in the documentation: https://pandas.pydata.org/pandas-docs/stable/user_guide/indexing.html#returning-a-view-versus-a-copy\n",
            "  P_ETH[i] = float(P_ETH[i])\n",
            "<ipython-input-26-595d364cf791>:12: SettingWithCopyWarning: \n",
            "A value is trying to be set on a copy of a slice from a DataFrame\n",
            "\n",
            "See the caveats in the documentation: https://pandas.pydata.org/pandas-docs/stable/user_guide/indexing.html#returning-a-view-versus-a-copy\n",
            "  P_ETH[i] = float(P_ETH[i])\n",
            "<ipython-input-26-595d364cf791>:12: SettingWithCopyWarning: \n",
            "A value is trying to be set on a copy of a slice from a DataFrame\n",
            "\n",
            "See the caveats in the documentation: https://pandas.pydata.org/pandas-docs/stable/user_guide/indexing.html#returning-a-view-versus-a-copy\n",
            "  P_ETH[i] = float(P_ETH[i])\n",
            "<ipython-input-26-595d364cf791>:12: SettingWithCopyWarning: \n",
            "A value is trying to be set on a copy of a slice from a DataFrame\n",
            "\n",
            "See the caveats in the documentation: https://pandas.pydata.org/pandas-docs/stable/user_guide/indexing.html#returning-a-view-versus-a-copy\n",
            "  P_ETH[i] = float(P_ETH[i])\n",
            "<ipython-input-26-595d364cf791>:12: SettingWithCopyWarning: \n",
            "A value is trying to be set on a copy of a slice from a DataFrame\n",
            "\n",
            "See the caveats in the documentation: https://pandas.pydata.org/pandas-docs/stable/user_guide/indexing.html#returning-a-view-versus-a-copy\n",
            "  P_ETH[i] = float(P_ETH[i])\n",
            "<ipython-input-26-595d364cf791>:12: SettingWithCopyWarning: \n",
            "A value is trying to be set on a copy of a slice from a DataFrame\n",
            "\n",
            "See the caveats in the documentation: https://pandas.pydata.org/pandas-docs/stable/user_guide/indexing.html#returning-a-view-versus-a-copy\n",
            "  P_ETH[i] = float(P_ETH[i])\n",
            "<ipython-input-26-595d364cf791>:12: SettingWithCopyWarning: \n",
            "A value is trying to be set on a copy of a slice from a DataFrame\n",
            "\n",
            "See the caveats in the documentation: https://pandas.pydata.org/pandas-docs/stable/user_guide/indexing.html#returning-a-view-versus-a-copy\n",
            "  P_ETH[i] = float(P_ETH[i])\n",
            "<ipython-input-26-595d364cf791>:12: SettingWithCopyWarning: \n",
            "A value is trying to be set on a copy of a slice from a DataFrame\n",
            "\n",
            "See the caveats in the documentation: https://pandas.pydata.org/pandas-docs/stable/user_guide/indexing.html#returning-a-view-versus-a-copy\n",
            "  P_ETH[i] = float(P_ETH[i])\n",
            "<ipython-input-26-595d364cf791>:12: SettingWithCopyWarning: \n",
            "A value is trying to be set on a copy of a slice from a DataFrame\n",
            "\n",
            "See the caveats in the documentation: https://pandas.pydata.org/pandas-docs/stable/user_guide/indexing.html#returning-a-view-versus-a-copy\n",
            "  P_ETH[i] = float(P_ETH[i])\n",
            "<ipython-input-26-595d364cf791>:12: SettingWithCopyWarning: \n",
            "A value is trying to be set on a copy of a slice from a DataFrame\n",
            "\n",
            "See the caveats in the documentation: https://pandas.pydata.org/pandas-docs/stable/user_guide/indexing.html#returning-a-view-versus-a-copy\n",
            "  P_ETH[i] = float(P_ETH[i])\n",
            "<ipython-input-26-595d364cf791>:12: SettingWithCopyWarning: \n",
            "A value is trying to be set on a copy of a slice from a DataFrame\n",
            "\n",
            "See the caveats in the documentation: https://pandas.pydata.org/pandas-docs/stable/user_guide/indexing.html#returning-a-view-versus-a-copy\n",
            "  P_ETH[i] = float(P_ETH[i])\n",
            "<ipython-input-26-595d364cf791>:12: SettingWithCopyWarning: \n",
            "A value is trying to be set on a copy of a slice from a DataFrame\n",
            "\n",
            "See the caveats in the documentation: https://pandas.pydata.org/pandas-docs/stable/user_guide/indexing.html#returning-a-view-versus-a-copy\n",
            "  P_ETH[i] = float(P_ETH[i])\n",
            "<ipython-input-26-595d364cf791>:12: SettingWithCopyWarning: \n",
            "A value is trying to be set on a copy of a slice from a DataFrame\n",
            "\n",
            "See the caveats in the documentation: https://pandas.pydata.org/pandas-docs/stable/user_guide/indexing.html#returning-a-view-versus-a-copy\n",
            "  P_ETH[i] = float(P_ETH[i])\n",
            "<ipython-input-26-595d364cf791>:12: SettingWithCopyWarning: \n",
            "A value is trying to be set on a copy of a slice from a DataFrame\n",
            "\n",
            "See the caveats in the documentation: https://pandas.pydata.org/pandas-docs/stable/user_guide/indexing.html#returning-a-view-versus-a-copy\n",
            "  P_ETH[i] = float(P_ETH[i])\n",
            "<ipython-input-26-595d364cf791>:12: SettingWithCopyWarning: \n",
            "A value is trying to be set on a copy of a slice from a DataFrame\n",
            "\n",
            "See the caveats in the documentation: https://pandas.pydata.org/pandas-docs/stable/user_guide/indexing.html#returning-a-view-versus-a-copy\n",
            "  P_ETH[i] = float(P_ETH[i])\n",
            "<ipython-input-26-595d364cf791>:12: SettingWithCopyWarning: \n",
            "A value is trying to be set on a copy of a slice from a DataFrame\n",
            "\n",
            "See the caveats in the documentation: https://pandas.pydata.org/pandas-docs/stable/user_guide/indexing.html#returning-a-view-versus-a-copy\n",
            "  P_ETH[i] = float(P_ETH[i])\n",
            "<ipython-input-26-595d364cf791>:12: SettingWithCopyWarning: \n",
            "A value is trying to be set on a copy of a slice from a DataFrame\n",
            "\n",
            "See the caveats in the documentation: https://pandas.pydata.org/pandas-docs/stable/user_guide/indexing.html#returning-a-view-versus-a-copy\n",
            "  P_ETH[i] = float(P_ETH[i])\n",
            "<ipython-input-26-595d364cf791>:12: SettingWithCopyWarning: \n",
            "A value is trying to be set on a copy of a slice from a DataFrame\n",
            "\n",
            "See the caveats in the documentation: https://pandas.pydata.org/pandas-docs/stable/user_guide/indexing.html#returning-a-view-versus-a-copy\n",
            "  P_ETH[i] = float(P_ETH[i])\n",
            "<ipython-input-26-595d364cf791>:12: SettingWithCopyWarning: \n",
            "A value is trying to be set on a copy of a slice from a DataFrame\n",
            "\n",
            "See the caveats in the documentation: https://pandas.pydata.org/pandas-docs/stable/user_guide/indexing.html#returning-a-view-versus-a-copy\n",
            "  P_ETH[i] = float(P_ETH[i])\n",
            "<ipython-input-26-595d364cf791>:12: SettingWithCopyWarning: \n",
            "A value is trying to be set on a copy of a slice from a DataFrame\n",
            "\n",
            "See the caveats in the documentation: https://pandas.pydata.org/pandas-docs/stable/user_guide/indexing.html#returning-a-view-versus-a-copy\n",
            "  P_ETH[i] = float(P_ETH[i])\n",
            "<ipython-input-26-595d364cf791>:12: SettingWithCopyWarning: \n",
            "A value is trying to be set on a copy of a slice from a DataFrame\n",
            "\n",
            "See the caveats in the documentation: https://pandas.pydata.org/pandas-docs/stable/user_guide/indexing.html#returning-a-view-versus-a-copy\n",
            "  P_ETH[i] = float(P_ETH[i])\n",
            "<ipython-input-26-595d364cf791>:12: SettingWithCopyWarning: \n",
            "A value is trying to be set on a copy of a slice from a DataFrame\n",
            "\n",
            "See the caveats in the documentation: https://pandas.pydata.org/pandas-docs/stable/user_guide/indexing.html#returning-a-view-versus-a-copy\n",
            "  P_ETH[i] = float(P_ETH[i])\n",
            "<ipython-input-26-595d364cf791>:12: SettingWithCopyWarning: \n",
            "A value is trying to be set on a copy of a slice from a DataFrame\n",
            "\n",
            "See the caveats in the documentation: https://pandas.pydata.org/pandas-docs/stable/user_guide/indexing.html#returning-a-view-versus-a-copy\n",
            "  P_ETH[i] = float(P_ETH[i])\n",
            "<ipython-input-26-595d364cf791>:12: SettingWithCopyWarning: \n",
            "A value is trying to be set on a copy of a slice from a DataFrame\n",
            "\n",
            "See the caveats in the documentation: https://pandas.pydata.org/pandas-docs/stable/user_guide/indexing.html#returning-a-view-versus-a-copy\n",
            "  P_ETH[i] = float(P_ETH[i])\n",
            "<ipython-input-26-595d364cf791>:12: SettingWithCopyWarning: \n",
            "A value is trying to be set on a copy of a slice from a DataFrame\n",
            "\n",
            "See the caveats in the documentation: https://pandas.pydata.org/pandas-docs/stable/user_guide/indexing.html#returning-a-view-versus-a-copy\n",
            "  P_ETH[i] = float(P_ETH[i])\n",
            "<ipython-input-26-595d364cf791>:12: SettingWithCopyWarning: \n",
            "A value is trying to be set on a copy of a slice from a DataFrame\n",
            "\n",
            "See the caveats in the documentation: https://pandas.pydata.org/pandas-docs/stable/user_guide/indexing.html#returning-a-view-versus-a-copy\n",
            "  P_ETH[i] = float(P_ETH[i])\n",
            "<ipython-input-26-595d364cf791>:12: SettingWithCopyWarning: \n",
            "A value is trying to be set on a copy of a slice from a DataFrame\n",
            "\n",
            "See the caveats in the documentation: https://pandas.pydata.org/pandas-docs/stable/user_guide/indexing.html#returning-a-view-versus-a-copy\n",
            "  P_ETH[i] = float(P_ETH[i])\n",
            "<ipython-input-26-595d364cf791>:12: SettingWithCopyWarning: \n",
            "A value is trying to be set on a copy of a slice from a DataFrame\n",
            "\n",
            "See the caveats in the documentation: https://pandas.pydata.org/pandas-docs/stable/user_guide/indexing.html#returning-a-view-versus-a-copy\n",
            "  P_ETH[i] = float(P_ETH[i])\n",
            "<ipython-input-26-595d364cf791>:12: SettingWithCopyWarning: \n",
            "A value is trying to be set on a copy of a slice from a DataFrame\n",
            "\n",
            "See the caveats in the documentation: https://pandas.pydata.org/pandas-docs/stable/user_guide/indexing.html#returning-a-view-versus-a-copy\n",
            "  P_ETH[i] = float(P_ETH[i])\n",
            "<ipython-input-26-595d364cf791>:12: SettingWithCopyWarning: \n",
            "A value is trying to be set on a copy of a slice from a DataFrame\n",
            "\n",
            "See the caveats in the documentation: https://pandas.pydata.org/pandas-docs/stable/user_guide/indexing.html#returning-a-view-versus-a-copy\n",
            "  P_ETH[i] = float(P_ETH[i])\n",
            "<ipython-input-26-595d364cf791>:12: SettingWithCopyWarning: \n",
            "A value is trying to be set on a copy of a slice from a DataFrame\n",
            "\n",
            "See the caveats in the documentation: https://pandas.pydata.org/pandas-docs/stable/user_guide/indexing.html#returning-a-view-versus-a-copy\n",
            "  P_ETH[i] = float(P_ETH[i])\n",
            "<ipython-input-26-595d364cf791>:12: SettingWithCopyWarning: \n",
            "A value is trying to be set on a copy of a slice from a DataFrame\n",
            "\n",
            "See the caveats in the documentation: https://pandas.pydata.org/pandas-docs/stable/user_guide/indexing.html#returning-a-view-versus-a-copy\n",
            "  P_ETH[i] = float(P_ETH[i])\n",
            "<ipython-input-26-595d364cf791>:12: SettingWithCopyWarning: \n",
            "A value is trying to be set on a copy of a slice from a DataFrame\n",
            "\n",
            "See the caveats in the documentation: https://pandas.pydata.org/pandas-docs/stable/user_guide/indexing.html#returning-a-view-versus-a-copy\n",
            "  P_ETH[i] = float(P_ETH[i])\n",
            "<ipython-input-26-595d364cf791>:12: SettingWithCopyWarning: \n",
            "A value is trying to be set on a copy of a slice from a DataFrame\n",
            "\n",
            "See the caveats in the documentation: https://pandas.pydata.org/pandas-docs/stable/user_guide/indexing.html#returning-a-view-versus-a-copy\n",
            "  P_ETH[i] = float(P_ETH[i])\n",
            "<ipython-input-26-595d364cf791>:12: SettingWithCopyWarning: \n",
            "A value is trying to be set on a copy of a slice from a DataFrame\n",
            "\n",
            "See the caveats in the documentation: https://pandas.pydata.org/pandas-docs/stable/user_guide/indexing.html#returning-a-view-versus-a-copy\n",
            "  P_ETH[i] = float(P_ETH[i])\n",
            "<ipython-input-26-595d364cf791>:12: SettingWithCopyWarning: \n",
            "A value is trying to be set on a copy of a slice from a DataFrame\n",
            "\n",
            "See the caveats in the documentation: https://pandas.pydata.org/pandas-docs/stable/user_guide/indexing.html#returning-a-view-versus-a-copy\n",
            "  P_ETH[i] = float(P_ETH[i])\n",
            "<ipython-input-26-595d364cf791>:12: SettingWithCopyWarning: \n",
            "A value is trying to be set on a copy of a slice from a DataFrame\n",
            "\n",
            "See the caveats in the documentation: https://pandas.pydata.org/pandas-docs/stable/user_guide/indexing.html#returning-a-view-versus-a-copy\n",
            "  P_ETH[i] = float(P_ETH[i])\n",
            "<ipython-input-26-595d364cf791>:12: SettingWithCopyWarning: \n",
            "A value is trying to be set on a copy of a slice from a DataFrame\n",
            "\n",
            "See the caveats in the documentation: https://pandas.pydata.org/pandas-docs/stable/user_guide/indexing.html#returning-a-view-versus-a-copy\n",
            "  P_ETH[i] = float(P_ETH[i])\n",
            "<ipython-input-26-595d364cf791>:12: SettingWithCopyWarning: \n",
            "A value is trying to be set on a copy of a slice from a DataFrame\n",
            "\n",
            "See the caveats in the documentation: https://pandas.pydata.org/pandas-docs/stable/user_guide/indexing.html#returning-a-view-versus-a-copy\n",
            "  P_ETH[i] = float(P_ETH[i])\n",
            "<ipython-input-26-595d364cf791>:12: SettingWithCopyWarning: \n",
            "A value is trying to be set on a copy of a slice from a DataFrame\n",
            "\n",
            "See the caveats in the documentation: https://pandas.pydata.org/pandas-docs/stable/user_guide/indexing.html#returning-a-view-versus-a-copy\n",
            "  P_ETH[i] = float(P_ETH[i])\n"
          ]
        },
        {
          "output_type": "stream",
          "name": "stdout",
          "text": [
            "318\n"
          ]
        }
      ],
      "source": [
        "# This data is old. Must be update. Still the code works as a motivational example based on actual data.\n",
        "ETH_historical=pd.read_csv('/content/ETHUSDC-1d-data.csv')\n",
        "## Debugging:\n",
        "#ETH_historical\n",
        "\n",
        "# I keep the last maxnum records\n",
        "P_ETH = ETH_historical['close']\n",
        "for i in range(len(P_ETH)):\n",
        "  P_ETH[i] = float(P_ETH[i])\n",
        "\n",
        "print(len(P_ETH))\n"
      ]
    },
    {
      "cell_type": "markdown",
      "metadata": {
        "id": "yLKiat7bxZT5"
      },
      "source": [
        "##### Chart"
      ]
    },
    {
      "cell_type": "code",
      "execution_count": 27,
      "metadata": {
        "colab": {
          "base_uri": "https://localhost:8080/",
          "height": 427
        },
        "id": "tDTF5_4YxxKU",
        "outputId": "8f6d2e42-aa05-4262-d5a8-bc774886612c"
      },
      "outputs": [
        {
          "output_type": "execute_result",
          "data": {
            "text/plain": [
              "<matplotlib.legend.Legend at 0x78eb1dd36910>"
            ]
          },
          "metadata": {},
          "execution_count": 27
        },
        {
          "output_type": "display_data",
          "data": {
            "text/plain": [
              "<Figure size 2000x700 with 1 Axes>"
            ],
            "image/png": "[encoded data removed]"
          },
          "metadata": {}
        }
      ],
      "source": [
        "import matplotlib.pyplot as plt\n",
        "# plt.plot(list(P_ETH))\n",
        "# plt.figsize(20,7)\n",
        "fig, axs = plt.subplots(1,1,figsize = (20,7))\n",
        "axs.plot(list(P_ETH), c='blue', label = 'price ETH')\n",
        "axs.legend()"
      ]
    },
    {
      "cell_type": "markdown",
      "metadata": {
        "id": "bznBny7h4_UV"
      },
      "source": [
        "#### Get quotes (Deribit)"
      ]
    },
    {
      "cell_type": "markdown",
      "metadata": {
        "id": "x6Yh2xjFzeH6"
      },
      "source": [
        "In this section we have code to bring in options data and quotes from Deribit.\n"
      ]
    },
    {
      "cell_type": "markdown",
      "metadata": {
        "id": "xGuXHEsXy90Q"
      },
      "source": [
        "##### Parameters"
      ]
    },
    {
      "cell_type": "code",
      "execution_count": 22,
      "metadata": {
        "id": "lq01FrFCx4Qs"
      },
      "outputs": [],
      "source": [
        "## Parameters for retrieving options data from Deribit\n",
        "\n",
        "instrument_name = \"ETH\" # BTC, ETH, or SOL\n",
        "\n",
        "# Each ETH and BTC options contract on Deribit corresponds to a single\n",
        "# underlying unit.\n",
        "\n",
        "multiplier = 1"
      ]
    },
    {
      "cell_type": "markdown",
      "metadata": {
        "id": "c3ufGngSy6cv"
      },
      "source": [
        "##### Code"
      ]
    },
    {
      "cell_type": "code",
      "execution_count": 28,
      "metadata": {
        "id": "IC6XcwdB4_UV"
      },
      "outputs": [],
      "source": [
        "\n",
        "import pandas as pd\n",
        "import numpy as np\n",
        "from scipy import interpolate\n",
        "import matplotlib.pyplot as plt\n",
        "from matplotlib.ticker import FuncFormatter\n"
      ]
    },
    {
      "cell_type": "code",
      "execution_count": 41,
      "metadata": {
        "id": "hvyyYaPL4_UW"
      },
      "outputs": [],
      "source": [
        "\n",
        "def get_all_instruments():\n",
        "  import urllib.request, json\n",
        "  url = f\"https://test.deribit.com/api/v2/public/get_instruments\"\n",
        "  with urllib.request.urlopen(url) as url:\n",
        "        data = json.loads(url.read().decode())\n",
        "  return data\n",
        "\n",
        "# Get a list of all active BTC options from the Deribit API.\n",
        "def get_all_active_options(instrument_name=\"BTC\"):\n",
        "    import urllib.request, json\n",
        "    url =  f\"https://test.deribit.com/api/v2/public/get_instruments?currency={instrument_name}&kind=option&expired=false\"\n",
        "    with urllib.request.urlopen(url) as url:\n",
        "        data = json.loads(url.read().decode())\n",
        "    data = pd.DataFrame(data['result']).set_index('instrument_name')\n",
        "    data['creation_date'] = pd.to_datetime(data['creation_timestamp'], unit='ms')\n",
        "    data['expiration_date'] = pd.to_datetime(data['expiration_timestamp'], unit='ms')\n",
        "    print(f'{data.shape[0]} active options.')\n",
        "    return data\n",
        "\n",
        "# Filter options based on data available from 'get_instruments'\n",
        "def filter_options(price, active_options):\n",
        "    # price is the current price of BTC\n",
        "\n",
        "    #Get Put/Call information\n",
        "    pc = active_options.index.str.strip().str[-1]\n",
        "\n",
        "    # Set \"moneyness\"\n",
        "    active_options['m'] = np.log(active_options['strike']/price)\n",
        "    active_options.loc[pc=='P','m'] = -active_options['m']\n",
        "    # Set days until expiration\n",
        "    active_options['t'] = (active_options['expiration_date']-pd.Timestamp.today()).dt.days\n",
        "\n",
        "    # Only include options that are less than 30% from the current price and have less than 91 days until expiration\n",
        "    active_options = active_options.query('m>0 & m<.3 & t<91')\n",
        "\n",
        "    print(f'{active_options.shape[0]} active options after filter.')\n",
        "    return active_options\n",
        "\n",
        "# Get Tick data for a given instrument from the Deribit API\n",
        "def get_tick_data(instrument_name=\"BTC\"):\n",
        "    import urllib.request, json\n",
        "    url =  f\"https://test.deribit.com/api/v2/public/ticker?instrument_name={instrument_name}\"\n",
        "    with urllib.request.urlopen(url) as url:\n",
        "        data = json.loads(url.read().decode())\n",
        "    data = pd.json_normalize(data['result'])\n",
        "    data.index = [instrument_name]\n",
        "    return data\n",
        "\n",
        "# Loop through all filtered options to get the current 'ticker' datas\n",
        "def get_all_option_data(instrument_name=\"BTC\"):\n",
        "    option_data = get_tick_data(f'{instrument_name}-PERPETUAL')\n",
        "    options = filter_options(option_data['last_price'][0], get_all_active_options(instrument_name))\n",
        "    for o in options.index:\n",
        "        option_data = pd.concat([option_data, get_tick_data(o)])\n",
        "    return option_data\n",
        "\n"
      ]
    },
    {
      "cell_type": "code",
      "source": [
        "option_data = get_tick_data(f'{instrument_name}-PERPETUAL')\n",
        "options = filter_options(option_data['last_price'][0], get_all_active_options(instrument_name))\n",
        "for o in options.index:\n",
        "  option_data = pd.concat([option_data, get_tick_data(o)])"
      ],
      "metadata": {
        "colab": {
          "base_uri": "https://localhost:8080/",
          "height": 742
        },
        "id": "gwCoiVKwHSy8",
        "outputId": "c814544a-0a43-4a9f-e973-e18df5c0eb1c"
      },
      "execution_count": 40,
      "outputs": [
        {
          "output_type": "stream",
          "name": "stderr",
          "text": [
            "<ipython-input-40-0ae2669c435f>:2: FutureWarning: Series.__getitem__ treating keys as positions is deprecated. In a future version, integer keys will always be treated as labels (consistent with DataFrame behavior). To access a value by position, use `ser.iloc[pos]`\n",
            "  options = filter_options(option_data['last_price'][0], get_all_active_options(instrument_name))\n"
          ]
        },
        {
          "output_type": "stream",
          "name": "stdout",
          "text": [
            "870 active options.\n",
            "99 active options after filter.\n"
          ]
        },
        {
          "output_type": "stream",
          "name": "stderr",
          "text": [
            "<ipython-input-40-0ae2669c435f>:4: FutureWarning: The behavior of DataFrame concatenation with empty or all-NA entries is deprecated. In a future version, this will no longer exclude empty or all-NA columns when determining the result dtypes. To retain the old behavior, exclude the relevant entries before the concat operation.\n",
            "  option_data = pd.concat([option_data, get_tick_data(o)])\n",
            "<ipython-input-40-0ae2669c435f>:4: FutureWarning: The behavior of DataFrame concatenation with empty or all-NA entries is deprecated. In a future version, this will no longer exclude empty or all-NA columns when determining the result dtypes. To retain the old behavior, exclude the relevant entries before the concat operation.\n",
            "  option_data = pd.concat([option_data, get_tick_data(o)])\n",
            "<ipython-input-40-0ae2669c435f>:4: FutureWarning: The behavior of DataFrame concatenation with empty or all-NA entries is deprecated. In a future version, this will no longer exclude empty or all-NA columns when determining the result dtypes. To retain the old behavior, exclude the relevant entries before the concat operation.\n",
            "  option_data = pd.concat([option_data, get_tick_data(o)])\n",
            "<ipython-input-40-0ae2669c435f>:4: FutureWarning: The behavior of DataFrame concatenation with empty or all-NA entries is deprecated. In a future version, this will no longer exclude empty or all-NA columns when determining the result dtypes. To retain the old behavior, exclude the relevant entries before the concat operation.\n",
            "  option_data = pd.concat([option_data, get_tick_data(o)])\n",
            "<ipython-input-40-0ae2669c435f>:4: FutureWarning: The behavior of DataFrame concatenation with empty or all-NA entries is deprecated. In a future version, this will no longer exclude empty or all-NA columns when determining the result dtypes. To retain the old behavior, exclude the relevant entries before the concat operation.\n",
            "  option_data = pd.concat([option_data, get_tick_data(o)])\n",
            "<ipython-input-40-0ae2669c435f>:4: FutureWarning: The behavior of DataFrame concatenation with empty or all-NA entries is deprecated. In a future version, this will no longer exclude empty or all-NA columns when determining the result dtypes. To retain the old behavior, exclude the relevant entries before the concat operation.\n",
            "  option_data = pd.concat([option_data, get_tick_data(o)])\n",
            "<ipython-input-40-0ae2669c435f>:4: FutureWarning: The behavior of DataFrame concatenation with empty or all-NA entries is deprecated. In a future version, this will no longer exclude empty or all-NA columns when determining the result dtypes. To retain the old behavior, exclude the relevant entries before the concat operation.\n",
            "  option_data = pd.concat([option_data, get_tick_data(o)])\n",
            "<ipython-input-40-0ae2669c435f>:4: FutureWarning: The behavior of DataFrame concatenation with empty or all-NA entries is deprecated. In a future version, this will no longer exclude empty or all-NA columns when determining the result dtypes. To retain the old behavior, exclude the relevant entries before the concat operation.\n",
            "  option_data = pd.concat([option_data, get_tick_data(o)])\n",
            "<ipython-input-40-0ae2669c435f>:4: FutureWarning: The behavior of DataFrame concatenation with empty or all-NA entries is deprecated. In a future version, this will no longer exclude empty or all-NA columns when determining the result dtypes. To retain the old behavior, exclude the relevant entries before the concat operation.\n",
            "  option_data = pd.concat([option_data, get_tick_data(o)])\n"
          ]
        },
        {
          "output_type": "error",
          "ename": "KeyboardInterrupt",
          "evalue": "",
          "traceback": [
            "\u001b[0;31m---------------------------------------------------------------------------\u001b[0m",
            "\u001b[0;31mKeyboardInterrupt\u001b[0m                         Traceback (most recent call last)",
            "\u001b[0;32m<ipython-input-40-0ae2669c435f>\u001b[0m in \u001b[0;36m<cell line: 0>\u001b[0;34m()\u001b[0m\n\u001b[1;32m      2\u001b[0m \u001b[0moptions\u001b[0m \u001b[0;34m=\u001b[0m \u001b[0mfilter_options\u001b[0m\u001b[0;34m(\u001b[0m\u001b[0moption_data\u001b[0m\u001b[0;34m[\u001b[0m\u001b[0;34m'last_price'\u001b[0m\u001b[0;34m]\u001b[0m\u001b[0;34m[\u001b[0m\u001b[0;36m0\u001b[0m\u001b[0;34m]\u001b[0m\u001b[0;34m,\u001b[0m \u001b[0mget_all_active_options\u001b[0m\u001b[0;34m(\u001b[0m\u001b[0minstrument_name\u001b[0m\u001b[0;34m)\u001b[0m\u001b[0;34m)\u001b[0m\u001b[0;34m\u001b[0m\u001b[0;34m\u001b[0m\u001b[0m\n\u001b[1;32m      3\u001b[0m \u001b[0;32mfor\u001b[0m \u001b[0mo\u001b[0m \u001b[0;32min\u001b[0m \u001b[0moptions\u001b[0m\u001b[0;34m.\u001b[0m\u001b[0mindex\u001b[0m\u001b[0;34m:\u001b[0m\u001b[0;34m\u001b[0m\u001b[0;34m\u001b[0m\u001b[0m\n\u001b[0;32m----> 4\u001b[0;31m   \u001b[0moption_data\u001b[0m \u001b[0;34m=\u001b[0m \u001b[0mpd\u001b[0m\u001b[0;34m.\u001b[0m\u001b[0mconcat\u001b[0m\u001b[0;34m(\u001b[0m\u001b[0;34m[\u001b[0m\u001b[0moption_data\u001b[0m\u001b[0;34m,\u001b[0m \u001b[0mget_tick_data\u001b[0m\u001b[0;34m(\u001b[0m\u001b[0mo\u001b[0m\u001b[0;34m)\u001b[0m\u001b[0;34m]\u001b[0m\u001b[0;34m)\u001b[0m\u001b[0;34m\u001b[0m\u001b[0;34m\u001b[0m\u001b[0m\n\u001b[0m",
            "\u001b[0;32m<ipython-input-31-3c08f9ffb6cc>\u001b[0m in \u001b[0;36mget_tick_data\u001b[0;34m(instrument_name)\u001b[0m\n\u001b[1;32m     41\u001b[0m     \u001b[0;32mimport\u001b[0m \u001b[0murllib\u001b[0m\u001b[0;34m.\u001b[0m\u001b[0mrequest\u001b[0m\u001b[0;34m,\u001b[0m \u001b[0mjson\u001b[0m\u001b[0;34m\u001b[0m\u001b[0;34m\u001b[0m\u001b[0m\n\u001b[1;32m     42\u001b[0m     \u001b[0murl\u001b[0m \u001b[0;34m=\u001b[0m  \u001b[0;34mf\"https://test.deribit.com/api/v2/public/ticker?instrument_name={instrument_name}\"\u001b[0m\u001b[0;34m\u001b[0m\u001b[0;34m\u001b[0m\u001b[0m\n\u001b[0;32m---> 43\u001b[0;31m     \u001b[0;32mwith\u001b[0m \u001b[0murllib\u001b[0m\u001b[0;34m.\u001b[0m\u001b[0mrequest\u001b[0m\u001b[0;34m.\u001b[0m\u001b[0murlopen\u001b[0m\u001b[0;34m(\u001b[0m\u001b[0murl\u001b[0m\u001b[0;34m)\u001b[0m \u001b[0;32mas\u001b[0m \u001b[0murl\u001b[0m\u001b[0;34m:\u001b[0m\u001b[0;34m\u001b[0m\u001b[0;34m\u001b[0m\u001b[0m\n\u001b[0m\u001b[1;32m     44\u001b[0m         \u001b[0mdata\u001b[0m \u001b[0;34m=\u001b[0m \u001b[0mjson\u001b[0m\u001b[0;34m.\u001b[0m\u001b[0mloads\u001b[0m\u001b[0;34m(\u001b[0m\u001b[0murl\u001b[0m\u001b[0;34m.\u001b[0m\u001b[0mread\u001b[0m\u001b[0;34m(\u001b[0m\u001b[0;34m)\u001b[0m\u001b[0;34m.\u001b[0m\u001b[0mdecode\u001b[0m\u001b[0;34m(\u001b[0m\u001b[0;34m)\u001b[0m\u001b[0;34m)\u001b[0m\u001b[0;34m\u001b[0m\u001b[0;34m\u001b[0m\u001b[0m\n\u001b[1;32m     45\u001b[0m     \u001b[0mdata\u001b[0m \u001b[0;34m=\u001b[0m \u001b[0mpd\u001b[0m\u001b[0;34m.\u001b[0m\u001b[0mjson_normalize\u001b[0m\u001b[0;34m(\u001b[0m\u001b[0mdata\u001b[0m\u001b[0;34m[\u001b[0m\u001b[0;34m'result'\u001b[0m\u001b[0;34m]\u001b[0m\u001b[0;34m)\u001b[0m\u001b[0;34m\u001b[0m\u001b[0;34m\u001b[0m\u001b[0m\n",
            "\u001b[0;32m/usr/lib/python3.11/urllib/request.py\u001b[0m in \u001b[0;36murlopen\u001b[0;34m(url, data, timeout, cafile, capath, cadefault, context)\u001b[0m\n\u001b[1;32m    214\u001b[0m     \u001b[0;32melse\u001b[0m\u001b[0;34m:\u001b[0m\u001b[0;34m\u001b[0m\u001b[0;34m\u001b[0m\u001b[0m\n\u001b[1;32m    215\u001b[0m         \u001b[0mopener\u001b[0m \u001b[0;34m=\u001b[0m \u001b[0m_opener\u001b[0m\u001b[0;34m\u001b[0m\u001b[0;34m\u001b[0m\u001b[0m\n\u001b[0;32m--> 216\u001b[0;31m     \u001b[0;32mreturn\u001b[0m \u001b[0mopener\u001b[0m\u001b[0;34m.\u001b[0m\u001b[0mopen\u001b[0m\u001b[0;34m(\u001b[0m\u001b[0murl\u001b[0m\u001b[0;34m,\u001b[0m \u001b[0mdata\u001b[0m\u001b[0;34m,\u001b[0m \u001b[0mtimeout\u001b[0m\u001b[0;34m)\u001b[0m\u001b[0;34m\u001b[0m\u001b[0;34m\u001b[0m\u001b[0m\n\u001b[0m\u001b[1;32m    217\u001b[0m \u001b[0;34m\u001b[0m\u001b[0m\n\u001b[1;32m    218\u001b[0m \u001b[0;32mdef\u001b[0m \u001b[0minstall_opener\u001b[0m\u001b[0;34m(\u001b[0m\u001b[0mopener\u001b[0m\u001b[0;34m)\u001b[0m\u001b[0;34m:\u001b[0m\u001b[0;34m\u001b[0m\u001b[0;34m\u001b[0m\u001b[0m\n",
            "\u001b[0;32m/usr/lib/python3.11/urllib/request.py\u001b[0m in \u001b[0;36mopen\u001b[0;34m(self, fullurl, data, timeout)\u001b[0m\n\u001b[1;32m    517\u001b[0m \u001b[0;34m\u001b[0m\u001b[0m\n\u001b[1;32m    518\u001b[0m         \u001b[0msys\u001b[0m\u001b[0;34m.\u001b[0m\u001b[0maudit\u001b[0m\u001b[0;34m(\u001b[0m\u001b[0;34m'urllib.Request'\u001b[0m\u001b[0;34m,\u001b[0m \u001b[0mreq\u001b[0m\u001b[0;34m.\u001b[0m\u001b[0mfull_url\u001b[0m\u001b[0;34m,\u001b[0m \u001b[0mreq\u001b[0m\u001b[0;34m.\u001b[0m\u001b[0mdata\u001b[0m\u001b[0;34m,\u001b[0m \u001b[0mreq\u001b[0m\u001b[0;34m.\u001b[0m\u001b[0mheaders\u001b[0m\u001b[0;34m,\u001b[0m \u001b[0mreq\u001b[0m\u001b[0;34m.\u001b[0m\u001b[0mget_method\u001b[0m\u001b[0;34m(\u001b[0m\u001b[0;34m)\u001b[0m\u001b[0;34m)\u001b[0m\u001b[0;34m\u001b[0m\u001b[0;34m\u001b[0m\u001b[0m\n\u001b[0;32m--> 519\u001b[0;31m         \u001b[0mresponse\u001b[0m \u001b[0;34m=\u001b[0m \u001b[0mself\u001b[0m\u001b[0;34m.\u001b[0m\u001b[0m_open\u001b[0m\u001b[0;34m(\u001b[0m\u001b[0mreq\u001b[0m\u001b[0;34m,\u001b[0m \u001b[0mdata\u001b[0m\u001b[0;34m)\u001b[0m\u001b[0;34m\u001b[0m\u001b[0;34m\u001b[0m\u001b[0m\n\u001b[0m\u001b[1;32m    520\u001b[0m \u001b[0;34m\u001b[0m\u001b[0m\n\u001b[1;32m    521\u001b[0m         \u001b[0;31m# post-process response\u001b[0m\u001b[0;34m\u001b[0m\u001b[0;34m\u001b[0m\u001b[0m\n",
            "\u001b[0;32m/usr/lib/python3.11/urllib/request.py\u001b[0m in \u001b[0;36m_open\u001b[0;34m(self, req, data)\u001b[0m\n\u001b[1;32m    534\u001b[0m \u001b[0;34m\u001b[0m\u001b[0m\n\u001b[1;32m    535\u001b[0m         \u001b[0mprotocol\u001b[0m \u001b[0;34m=\u001b[0m \u001b[0mreq\u001b[0m\u001b[0;34m.\u001b[0m\u001b[0mtype\u001b[0m\u001b[0;34m\u001b[0m\u001b[0;34m\u001b[0m\u001b[0m\n\u001b[0;32m--> 536\u001b[0;31m         result = self._call_chain(self.handle_open, protocol, protocol +\n\u001b[0m\u001b[1;32m    537\u001b[0m                                   '_open', req)\n\u001b[1;32m    538\u001b[0m         \u001b[0;32mif\u001b[0m \u001b[0mresult\u001b[0m\u001b[0;34m:\u001b[0m\u001b[0;34m\u001b[0m\u001b[0;34m\u001b[0m\u001b[0m\n",
            "\u001b[0;32m/usr/lib/python3.11/urllib/request.py\u001b[0m in \u001b[0;36m_call_chain\u001b[0;34m(self, chain, kind, meth_name, *args)\u001b[0m\n\u001b[1;32m    494\u001b[0m         \u001b[0;32mfor\u001b[0m \u001b[0mhandler\u001b[0m \u001b[0;32min\u001b[0m \u001b[0mhandlers\u001b[0m\u001b[0;34m:\u001b[0m\u001b[0;34m\u001b[0m\u001b[0;34m\u001b[0m\u001b[0m\n\u001b[1;32m    495\u001b[0m             \u001b[0mfunc\u001b[0m \u001b[0;34m=\u001b[0m \u001b[0mgetattr\u001b[0m\u001b[0;34m(\u001b[0m\u001b[0mhandler\u001b[0m\u001b[0;34m,\u001b[0m \u001b[0mmeth_name\u001b[0m\u001b[0;34m)\u001b[0m\u001b[0;34m\u001b[0m\u001b[0;34m\u001b[0m\u001b[0m\n\u001b[0;32m--> 496\u001b[0;31m             \u001b[0mresult\u001b[0m \u001b[0;34m=\u001b[0m \u001b[0mfunc\u001b[0m\u001b[0;34m(\u001b[0m\u001b[0;34m*\u001b[0m\u001b[0margs\u001b[0m\u001b[0;34m)\u001b[0m\u001b[0;34m\u001b[0m\u001b[0;34m\u001b[0m\u001b[0m\n\u001b[0m\u001b[1;32m    497\u001b[0m             \u001b[0;32mif\u001b[0m \u001b[0mresult\u001b[0m \u001b[0;32mis\u001b[0m \u001b[0;32mnot\u001b[0m \u001b[0;32mNone\u001b[0m\u001b[0;34m:\u001b[0m\u001b[0;34m\u001b[0m\u001b[0;34m\u001b[0m\u001b[0m\n\u001b[1;32m    498\u001b[0m                 \u001b[0;32mreturn\u001b[0m \u001b[0mresult\u001b[0m\u001b[0;34m\u001b[0m\u001b[0;34m\u001b[0m\u001b[0m\n",
            "\u001b[0;32m/usr/lib/python3.11/urllib/request.py\u001b[0m in \u001b[0;36mhttps_open\u001b[0;34m(self, req)\u001b[0m\n\u001b[1;32m   1389\u001b[0m \u001b[0;34m\u001b[0m\u001b[0m\n\u001b[1;32m   1390\u001b[0m         \u001b[0;32mdef\u001b[0m \u001b[0mhttps_open\u001b[0m\u001b[0;34m(\u001b[0m\u001b[0mself\u001b[0m\u001b[0;34m,\u001b[0m \u001b[0mreq\u001b[0m\u001b[0;34m)\u001b[0m\u001b[0;34m:\u001b[0m\u001b[0;34m\u001b[0m\u001b[0;34m\u001b[0m\u001b[0m\n\u001b[0;32m-> 1391\u001b[0;31m             return self.do_open(http.client.HTTPSConnection, req,\n\u001b[0m\u001b[1;32m   1392\u001b[0m                 context=self._context, check_hostname=self._check_hostname)\n\u001b[1;32m   1393\u001b[0m \u001b[0;34m\u001b[0m\u001b[0m\n",
            "\u001b[0;32m/usr/lib/python3.11/urllib/request.py\u001b[0m in \u001b[0;36mdo_open\u001b[0;34m(self, http_class, req, **http_conn_args)\u001b[0m\n\u001b[1;32m   1346\u001b[0m         \u001b[0;32mtry\u001b[0m\u001b[0;34m:\u001b[0m\u001b[0;34m\u001b[0m\u001b[0;34m\u001b[0m\u001b[0m\n\u001b[1;32m   1347\u001b[0m             \u001b[0;32mtry\u001b[0m\u001b[0;34m:\u001b[0m\u001b[0;34m\u001b[0m\u001b[0;34m\u001b[0m\u001b[0m\n\u001b[0;32m-> 1348\u001b[0;31m                 h.request(req.get_method(), req.selector, req.data, headers,\n\u001b[0m\u001b[1;32m   1349\u001b[0m                           encode_chunked=req.has_header('Transfer-encoding'))\n\u001b[1;32m   1350\u001b[0m             \u001b[0;32mexcept\u001b[0m \u001b[0mOSError\u001b[0m \u001b[0;32mas\u001b[0m \u001b[0merr\u001b[0m\u001b[0;34m:\u001b[0m \u001b[0;31m# timeout error\u001b[0m\u001b[0;34m\u001b[0m\u001b[0;34m\u001b[0m\u001b[0m\n",
            "\u001b[0;32m/usr/lib/python3.11/http/client.py\u001b[0m in \u001b[0;36mrequest\u001b[0;34m(self, method, url, body, headers, encode_chunked)\u001b[0m\n\u001b[1;32m   1301\u001b[0m                 encode_chunked=False):\n\u001b[1;32m   1302\u001b[0m         \u001b[0;34m\"\"\"Send a complete request to the server.\"\"\"\u001b[0m\u001b[0;34m\u001b[0m\u001b[0;34m\u001b[0m\u001b[0m\n\u001b[0;32m-> 1303\u001b[0;31m         \u001b[0mself\u001b[0m\u001b[0;34m.\u001b[0m\u001b[0m_send_request\u001b[0m\u001b[0;34m(\u001b[0m\u001b[0mmethod\u001b[0m\u001b[0;34m,\u001b[0m \u001b[0murl\u001b[0m\u001b[0;34m,\u001b[0m \u001b[0mbody\u001b[0m\u001b[0;34m,\u001b[0m \u001b[0mheaders\u001b[0m\u001b[0;34m,\u001b[0m \u001b[0mencode_chunked\u001b[0m\u001b[0;34m)\u001b[0m\u001b[0;34m\u001b[0m\u001b[0;34m\u001b[0m\u001b[0m\n\u001b[0m\u001b[1;32m   1304\u001b[0m \u001b[0;34m\u001b[0m\u001b[0m\n\u001b[1;32m   1305\u001b[0m     \u001b[0;32mdef\u001b[0m \u001b[0m_send_request\u001b[0m\u001b[0;34m(\u001b[0m\u001b[0mself\u001b[0m\u001b[0;34m,\u001b[0m \u001b[0mmethod\u001b[0m\u001b[0;34m,\u001b[0m \u001b[0murl\u001b[0m\u001b[0;34m,\u001b[0m \u001b[0mbody\u001b[0m\u001b[0;34m,\u001b[0m \u001b[0mheaders\u001b[0m\u001b[0;34m,\u001b[0m \u001b[0mencode_chunked\u001b[0m\u001b[0;34m)\u001b[0m\u001b[0;34m:\u001b[0m\u001b[0;34m\u001b[0m\u001b[0;34m\u001b[0m\u001b[0m\n",
            "\u001b[0;32m/usr/lib/python3.11/http/client.py\u001b[0m in \u001b[0;36m_send_request\u001b[0;34m(self, method, url, body, headers, encode_chunked)\u001b[0m\n\u001b[1;32m   1347\u001b[0m             \u001b[0;31m# default charset of iso-8859-1.\u001b[0m\u001b[0;34m\u001b[0m\u001b[0;34m\u001b[0m\u001b[0m\n\u001b[1;32m   1348\u001b[0m             \u001b[0mbody\u001b[0m \u001b[0;34m=\u001b[0m \u001b[0m_encode\u001b[0m\u001b[0;34m(\u001b[0m\u001b[0mbody\u001b[0m\u001b[0;34m,\u001b[0m \u001b[0;34m'body'\u001b[0m\u001b[0;34m)\u001b[0m\u001b[0;34m\u001b[0m\u001b[0;34m\u001b[0m\u001b[0m\n\u001b[0;32m-> 1349\u001b[0;31m         \u001b[0mself\u001b[0m\u001b[0;34m.\u001b[0m\u001b[0mendheaders\u001b[0m\u001b[0;34m(\u001b[0m\u001b[0mbody\u001b[0m\u001b[0;34m,\u001b[0m \u001b[0mencode_chunked\u001b[0m\u001b[0;34m=\u001b[0m\u001b[0mencode_chunked\u001b[0m\u001b[0;34m)\u001b[0m\u001b[0;34m\u001b[0m\u001b[0;34m\u001b[0m\u001b[0m\n\u001b[0m\u001b[1;32m   1350\u001b[0m \u001b[0;34m\u001b[0m\u001b[0m\n\u001b[1;32m   1351\u001b[0m     \u001b[0;32mdef\u001b[0m \u001b[0mgetresponse\u001b[0m\u001b[0;34m(\u001b[0m\u001b[0mself\u001b[0m\u001b[0;34m)\u001b[0m\u001b[0;34m:\u001b[0m\u001b[0;34m\u001b[0m\u001b[0;34m\u001b[0m\u001b[0m\n",
            "\u001b[0;32m/usr/lib/python3.11/http/client.py\u001b[0m in \u001b[0;36mendheaders\u001b[0;34m(self, message_body, encode_chunked)\u001b[0m\n\u001b[1;32m   1296\u001b[0m         \u001b[0;32melse\u001b[0m\u001b[0;34m:\u001b[0m\u001b[0;34m\u001b[0m\u001b[0;34m\u001b[0m\u001b[0m\n\u001b[1;32m   1297\u001b[0m             \u001b[0;32mraise\u001b[0m \u001b[0mCannotSendHeader\u001b[0m\u001b[0;34m(\u001b[0m\u001b[0;34m)\u001b[0m\u001b[0;34m\u001b[0m\u001b[0;34m\u001b[0m\u001b[0m\n\u001b[0;32m-> 1298\u001b[0;31m         \u001b[0mself\u001b[0m\u001b[0;34m.\u001b[0m\u001b[0m_send_output\u001b[0m\u001b[0;34m(\u001b[0m\u001b[0mmessage_body\u001b[0m\u001b[0;34m,\u001b[0m \u001b[0mencode_chunked\u001b[0m\u001b[0;34m=\u001b[0m\u001b[0mencode_chunked\u001b[0m\u001b[0;34m)\u001b[0m\u001b[0;34m\u001b[0m\u001b[0;34m\u001b[0m\u001b[0m\n\u001b[0m\u001b[1;32m   1299\u001b[0m \u001b[0;34m\u001b[0m\u001b[0m\n\u001b[1;32m   1300\u001b[0m     def request(self, method, url, body=None, headers={}, *,\n",
            "\u001b[0;32m/usr/lib/python3.11/http/client.py\u001b[0m in \u001b[0;36m_send_output\u001b[0;34m(self, message_body, encode_chunked)\u001b[0m\n\u001b[1;32m   1056\u001b[0m         \u001b[0mmsg\u001b[0m \u001b[0;34m=\u001b[0m \u001b[0;34mb\"\\r\\n\"\u001b[0m\u001b[0;34m.\u001b[0m\u001b[0mjoin\u001b[0m\u001b[0;34m(\u001b[0m\u001b[0mself\u001b[0m\u001b[0;34m.\u001b[0m\u001b[0m_buffer\u001b[0m\u001b[0;34m)\u001b[0m\u001b[0;34m\u001b[0m\u001b[0;34m\u001b[0m\u001b[0m\n\u001b[1;32m   1057\u001b[0m         \u001b[0;32mdel\u001b[0m \u001b[0mself\u001b[0m\u001b[0;34m.\u001b[0m\u001b[0m_buffer\u001b[0m\u001b[0;34m[\u001b[0m\u001b[0;34m:\u001b[0m\u001b[0;34m]\u001b[0m\u001b[0;34m\u001b[0m\u001b[0;34m\u001b[0m\u001b[0m\n\u001b[0;32m-> 1058\u001b[0;31m         \u001b[0mself\u001b[0m\u001b[0;34m.\u001b[0m\u001b[0msend\u001b[0m\u001b[0;34m(\u001b[0m\u001b[0mmsg\u001b[0m\u001b[0;34m)\u001b[0m\u001b[0;34m\u001b[0m\u001b[0;34m\u001b[0m\u001b[0m\n\u001b[0m\u001b[1;32m   1059\u001b[0m \u001b[0;34m\u001b[0m\u001b[0m\n\u001b[1;32m   1060\u001b[0m         \u001b[0;32mif\u001b[0m \u001b[0mmessage_body\u001b[0m \u001b[0;32mis\u001b[0m \u001b[0;32mnot\u001b[0m \u001b[0;32mNone\u001b[0m\u001b[0;34m:\u001b[0m\u001b[0;34m\u001b[0m\u001b[0;34m\u001b[0m\u001b[0m\n",
            "\u001b[0;32m/usr/lib/python3.11/http/client.py\u001b[0m in \u001b[0;36msend\u001b[0;34m(self, data)\u001b[0m\n\u001b[1;32m    994\u001b[0m         \u001b[0;32mif\u001b[0m \u001b[0mself\u001b[0m\u001b[0;34m.\u001b[0m\u001b[0msock\u001b[0m \u001b[0;32mis\u001b[0m \u001b[0;32mNone\u001b[0m\u001b[0;34m:\u001b[0m\u001b[0;34m\u001b[0m\u001b[0;34m\u001b[0m\u001b[0m\n\u001b[1;32m    995\u001b[0m             \u001b[0;32mif\u001b[0m \u001b[0mself\u001b[0m\u001b[0;34m.\u001b[0m\u001b[0mauto_open\u001b[0m\u001b[0;34m:\u001b[0m\u001b[0;34m\u001b[0m\u001b[0;34m\u001b[0m\u001b[0m\n\u001b[0;32m--> 996\u001b[0;31m                 \u001b[0mself\u001b[0m\u001b[0;34m.\u001b[0m\u001b[0mconnect\u001b[0m\u001b[0;34m(\u001b[0m\u001b[0;34m)\u001b[0m\u001b[0;34m\u001b[0m\u001b[0;34m\u001b[0m\u001b[0m\n\u001b[0m\u001b[1;32m    997\u001b[0m             \u001b[0;32melse\u001b[0m\u001b[0;34m:\u001b[0m\u001b[0;34m\u001b[0m\u001b[0;34m\u001b[0m\u001b[0m\n\u001b[1;32m    998\u001b[0m                 \u001b[0;32mraise\u001b[0m \u001b[0mNotConnected\u001b[0m\u001b[0;34m(\u001b[0m\u001b[0;34m)\u001b[0m\u001b[0;34m\u001b[0m\u001b[0;34m\u001b[0m\u001b[0m\n",
            "\u001b[0;32m/usr/lib/python3.11/http/client.py\u001b[0m in \u001b[0;36mconnect\u001b[0;34m(self)\u001b[0m\n\u001b[1;32m   1466\u001b[0m             \u001b[0;34m\"Connect to a host on a given (SSL) port.\"\u001b[0m\u001b[0;34m\u001b[0m\u001b[0;34m\u001b[0m\u001b[0m\n\u001b[1;32m   1467\u001b[0m \u001b[0;34m\u001b[0m\u001b[0m\n\u001b[0;32m-> 1468\u001b[0;31m             \u001b[0msuper\u001b[0m\u001b[0;34m(\u001b[0m\u001b[0;34m)\u001b[0m\u001b[0;34m.\u001b[0m\u001b[0mconnect\u001b[0m\u001b[0;34m(\u001b[0m\u001b[0;34m)\u001b[0m\u001b[0;34m\u001b[0m\u001b[0;34m\u001b[0m\u001b[0m\n\u001b[0m\u001b[1;32m   1469\u001b[0m \u001b[0;34m\u001b[0m\u001b[0m\n\u001b[1;32m   1470\u001b[0m             \u001b[0;32mif\u001b[0m \u001b[0mself\u001b[0m\u001b[0;34m.\u001b[0m\u001b[0m_tunnel_host\u001b[0m\u001b[0;34m:\u001b[0m\u001b[0;34m\u001b[0m\u001b[0;34m\u001b[0m\u001b[0m\n",
            "\u001b[0;32m/usr/lib/python3.11/http/client.py\u001b[0m in \u001b[0;36mconnect\u001b[0;34m(self)\u001b[0m\n\u001b[1;32m    960\u001b[0m         \u001b[0;34m\"\"\"Connect to the host and port specified in __init__.\"\"\"\u001b[0m\u001b[0;34m\u001b[0m\u001b[0;34m\u001b[0m\u001b[0m\n\u001b[1;32m    961\u001b[0m         \u001b[0msys\u001b[0m\u001b[0;34m.\u001b[0m\u001b[0maudit\u001b[0m\u001b[0;34m(\u001b[0m\u001b[0;34m\"http.client.connect\"\u001b[0m\u001b[0;34m,\u001b[0m \u001b[0mself\u001b[0m\u001b[0;34m,\u001b[0m \u001b[0mself\u001b[0m\u001b[0;34m.\u001b[0m\u001b[0mhost\u001b[0m\u001b[0;34m,\u001b[0m \u001b[0mself\u001b[0m\u001b[0;34m.\u001b[0m\u001b[0mport\u001b[0m\u001b[0;34m)\u001b[0m\u001b[0;34m\u001b[0m\u001b[0;34m\u001b[0m\u001b[0m\n\u001b[0;32m--> 962\u001b[0;31m         self.sock = self._create_connection(\n\u001b[0m\u001b[1;32m    963\u001b[0m             (self.host,self.port), self.timeout, self.source_address)\n\u001b[1;32m    964\u001b[0m         \u001b[0;31m# Might fail in OSs that don't implement TCP_NODELAY\u001b[0m\u001b[0;34m\u001b[0m\u001b[0;34m\u001b[0m\u001b[0m\n",
            "\u001b[0;32m/usr/lib/python3.11/socket.py\u001b[0m in \u001b[0;36mcreate_connection\u001b[0;34m(address, timeout, source_address, all_errors)\u001b[0m\n\u001b[1;32m    846\u001b[0m             \u001b[0;32mif\u001b[0m \u001b[0msource_address\u001b[0m\u001b[0;34m:\u001b[0m\u001b[0;34m\u001b[0m\u001b[0;34m\u001b[0m\u001b[0m\n\u001b[1;32m    847\u001b[0m                 \u001b[0msock\u001b[0m\u001b[0;34m.\u001b[0m\u001b[0mbind\u001b[0m\u001b[0;34m(\u001b[0m\u001b[0msource_address\u001b[0m\u001b[0;34m)\u001b[0m\u001b[0;34m\u001b[0m\u001b[0;34m\u001b[0m\u001b[0m\n\u001b[0;32m--> 848\u001b[0;31m             \u001b[0msock\u001b[0m\u001b[0;34m.\u001b[0m\u001b[0mconnect\u001b[0m\u001b[0;34m(\u001b[0m\u001b[0msa\u001b[0m\u001b[0;34m)\u001b[0m\u001b[0;34m\u001b[0m\u001b[0;34m\u001b[0m\u001b[0m\n\u001b[0m\u001b[1;32m    849\u001b[0m             \u001b[0;31m# Break explicitly a reference cycle\u001b[0m\u001b[0;34m\u001b[0m\u001b[0;34m\u001b[0m\u001b[0m\n\u001b[1;32m    850\u001b[0m             \u001b[0mexceptions\u001b[0m\u001b[0;34m.\u001b[0m\u001b[0mclear\u001b[0m\u001b[0;34m(\u001b[0m\u001b[0;34m)\u001b[0m\u001b[0;34m\u001b[0m\u001b[0;34m\u001b[0m\u001b[0m\n",
            "\u001b[0;31mKeyboardInterrupt\u001b[0m: "
          ]
        }
      ]
    },
    {
      "cell_type": "code",
      "execution_count": 82,
      "metadata": {
        "colab": {
          "base_uri": "https://localhost:8080/",
          "height": 0
        },
        "id": "uclqA8C44_UW",
        "outputId": "dde50d4e-99dd-42a0-8ed3-87ffb3a49d5a",
        "scrolled": true,
        "collapsed": true
      },
      "outputs": [
        {
          "output_type": "stream",
          "name": "stderr",
          "text": [
            "<ipython-input-41-d7945582b8cb>:52: FutureWarning: Series.__getitem__ treating keys as positions is deprecated. In a future version, integer keys will always be treated as labels (consistent with DataFrame behavior). To access a value by position, use `ser.iloc[pos]`\n",
            "  options = filter_options(option_data['last_price'][0], get_all_active_options(instrument_name))\n"
          ]
        },
        {
          "output_type": "stream",
          "name": "stdout",
          "text": [
            "870 active options.\n",
            "99 active options after filter.\n"
          ]
        },
        {
          "output_type": "stream",
          "name": "stderr",
          "text": [
            "<ipython-input-41-d7945582b8cb>:54: FutureWarning: The behavior of DataFrame concatenation with empty or all-NA entries is deprecated. In a future version, this will no longer exclude empty or all-NA columns when determining the result dtypes. To retain the old behavior, exclude the relevant entries before the concat operation.\n",
            "  option_data = pd.concat([option_data, get_tick_data(o)])\n",
            "<ipython-input-41-d7945582b8cb>:54: FutureWarning: The behavior of DataFrame concatenation with empty or all-NA entries is deprecated. In a future version, this will no longer exclude empty or all-NA columns when determining the result dtypes. To retain the old behavior, exclude the relevant entries before the concat operation.\n",
            "  option_data = pd.concat([option_data, get_tick_data(o)])\n",
            "<ipython-input-41-d7945582b8cb>:54: FutureWarning: The behavior of DataFrame concatenation with empty or all-NA entries is deprecated. In a future version, this will no longer exclude empty or all-NA columns when determining the result dtypes. To retain the old behavior, exclude the relevant entries before the concat operation.\n",
            "  option_data = pd.concat([option_data, get_tick_data(o)])\n",
            "<ipython-input-41-d7945582b8cb>:54: FutureWarning: The behavior of DataFrame concatenation with empty or all-NA entries is deprecated. In a future version, this will no longer exclude empty or all-NA columns when determining the result dtypes. To retain the old behavior, exclude the relevant entries before the concat operation.\n",
            "  option_data = pd.concat([option_data, get_tick_data(o)])\n",
            "<ipython-input-41-d7945582b8cb>:54: FutureWarning: The behavior of DataFrame concatenation with empty or all-NA entries is deprecated. In a future version, this will no longer exclude empty or all-NA columns when determining the result dtypes. To retain the old behavior, exclude the relevant entries before the concat operation.\n",
            "  option_data = pd.concat([option_data, get_tick_data(o)])\n",
            "<ipython-input-41-d7945582b8cb>:54: FutureWarning: The behavior of DataFrame concatenation with empty or all-NA entries is deprecated. In a future version, this will no longer exclude empty or all-NA columns when determining the result dtypes. To retain the old behavior, exclude the relevant entries before the concat operation.\n",
            "  option_data = pd.concat([option_data, get_tick_data(o)])\n",
            "<ipython-input-41-d7945582b8cb>:54: FutureWarning: The behavior of DataFrame concatenation with empty or all-NA entries is deprecated. In a future version, this will no longer exclude empty or all-NA columns when determining the result dtypes. To retain the old behavior, exclude the relevant entries before the concat operation.\n",
            "  option_data = pd.concat([option_data, get_tick_data(o)])\n",
            "<ipython-input-41-d7945582b8cb>:54: FutureWarning: The behavior of DataFrame concatenation with empty or all-NA entries is deprecated. In a future version, this will no longer exclude empty or all-NA columns when determining the result dtypes. To retain the old behavior, exclude the relevant entries before the concat operation.\n",
            "  option_data = pd.concat([option_data, get_tick_data(o)])\n",
            "<ipython-input-41-d7945582b8cb>:54: FutureWarning: The behavior of DataFrame concatenation with empty or all-NA entries is deprecated. In a future version, this will no longer exclude empty or all-NA columns when determining the result dtypes. To retain the old behavior, exclude the relevant entries before the concat operation.\n",
            "  option_data = pd.concat([option_data, get_tick_data(o)])\n",
            "<ipython-input-41-d7945582b8cb>:54: FutureWarning: The behavior of DataFrame concatenation with empty or all-NA entries is deprecated. In a future version, this will no longer exclude empty or all-NA columns when determining the result dtypes. To retain the old behavior, exclude the relevant entries before the concat operation.\n",
            "  option_data = pd.concat([option_data, get_tick_data(o)])\n",
            "<ipython-input-41-d7945582b8cb>:54: FutureWarning: The behavior of DataFrame concatenation with empty or all-NA entries is deprecated. In a future version, this will no longer exclude empty or all-NA columns when determining the result dtypes. To retain the old behavior, exclude the relevant entries before the concat operation.\n",
            "  option_data = pd.concat([option_data, get_tick_data(o)])\n",
            "<ipython-input-41-d7945582b8cb>:54: FutureWarning: The behavior of DataFrame concatenation with empty or all-NA entries is deprecated. In a future version, this will no longer exclude empty or all-NA columns when determining the result dtypes. To retain the old behavior, exclude the relevant entries before the concat operation.\n",
            "  option_data = pd.concat([option_data, get_tick_data(o)])\n",
            "<ipython-input-41-d7945582b8cb>:54: FutureWarning: The behavior of DataFrame concatenation with empty or all-NA entries is deprecated. In a future version, this will no longer exclude empty or all-NA columns when determining the result dtypes. To retain the old behavior, exclude the relevant entries before the concat operation.\n",
            "  option_data = pd.concat([option_data, get_tick_data(o)])\n",
            "<ipython-input-41-d7945582b8cb>:54: FutureWarning: The behavior of DataFrame concatenation with empty or all-NA entries is deprecated. In a future version, this will no longer exclude empty or all-NA columns when determining the result dtypes. To retain the old behavior, exclude the relevant entries before the concat operation.\n",
            "  option_data = pd.concat([option_data, get_tick_data(o)])\n",
            "<ipython-input-41-d7945582b8cb>:54: FutureWarning: The behavior of DataFrame concatenation with empty or all-NA entries is deprecated. In a future version, this will no longer exclude empty or all-NA columns when determining the result dtypes. To retain the old behavior, exclude the relevant entries before the concat operation.\n",
            "  option_data = pd.concat([option_data, get_tick_data(o)])\n",
            "<ipython-input-41-d7945582b8cb>:54: FutureWarning: The behavior of DataFrame concatenation with empty or all-NA entries is deprecated. In a future version, this will no longer exclude empty or all-NA columns when determining the result dtypes. To retain the old behavior, exclude the relevant entries before the concat operation.\n",
            "  option_data = pd.concat([option_data, get_tick_data(o)])\n",
            "<ipython-input-41-d7945582b8cb>:54: FutureWarning: The behavior of DataFrame concatenation with empty or all-NA entries is deprecated. In a future version, this will no longer exclude empty or all-NA columns when determining the result dtypes. To retain the old behavior, exclude the relevant entries before the concat operation.\n",
            "  option_data = pd.concat([option_data, get_tick_data(o)])\n",
            "<ipython-input-41-d7945582b8cb>:54: FutureWarning: The behavior of DataFrame concatenation with empty or all-NA entries is deprecated. In a future version, this will no longer exclude empty or all-NA columns when determining the result dtypes. To retain the old behavior, exclude the relevant entries before the concat operation.\n",
            "  option_data = pd.concat([option_data, get_tick_data(o)])\n",
            "<ipython-input-41-d7945582b8cb>:54: FutureWarning: The behavior of DataFrame concatenation with empty or all-NA entries is deprecated. In a future version, this will no longer exclude empty or all-NA columns when determining the result dtypes. To retain the old behavior, exclude the relevant entries before the concat operation.\n",
            "  option_data = pd.concat([option_data, get_tick_data(o)])\n",
            "<ipython-input-41-d7945582b8cb>:54: FutureWarning: The behavior of DataFrame concatenation with empty or all-NA entries is deprecated. In a future version, this will no longer exclude empty or all-NA columns when determining the result dtypes. To retain the old behavior, exclude the relevant entries before the concat operation.\n",
            "  option_data = pd.concat([option_data, get_tick_data(o)])\n",
            "<ipython-input-41-d7945582b8cb>:54: FutureWarning: The behavior of DataFrame concatenation with empty or all-NA entries is deprecated. In a future version, this will no longer exclude empty or all-NA columns when determining the result dtypes. To retain the old behavior, exclude the relevant entries before the concat operation.\n",
            "  option_data = pd.concat([option_data, get_tick_data(o)])\n",
            "<ipython-input-41-d7945582b8cb>:54: FutureWarning: The behavior of DataFrame concatenation with empty or all-NA entries is deprecated. In a future version, this will no longer exclude empty or all-NA columns when determining the result dtypes. To retain the old behavior, exclude the relevant entries before the concat operation.\n",
            "  option_data = pd.concat([option_data, get_tick_data(o)])\n",
            "<ipython-input-41-d7945582b8cb>:54: FutureWarning: The behavior of DataFrame concatenation with empty or all-NA entries is deprecated. In a future version, this will no longer exclude empty or all-NA columns when determining the result dtypes. To retain the old behavior, exclude the relevant entries before the concat operation.\n",
            "  option_data = pd.concat([option_data, get_tick_data(o)])\n",
            "<ipython-input-41-d7945582b8cb>:54: FutureWarning: The behavior of DataFrame concatenation with empty or all-NA entries is deprecated. In a future version, this will no longer exclude empty or all-NA columns when determining the result dtypes. To retain the old behavior, exclude the relevant entries before the concat operation.\n",
            "  option_data = pd.concat([option_data, get_tick_data(o)])\n",
            "<ipython-input-41-d7945582b8cb>:54: FutureWarning: The behavior of DataFrame concatenation with empty or all-NA entries is deprecated. In a future version, this will no longer exclude empty or all-NA columns when determining the result dtypes. To retain the old behavior, exclude the relevant entries before the concat operation.\n",
            "  option_data = pd.concat([option_data, get_tick_data(o)])\n",
            "<ipython-input-41-d7945582b8cb>:54: FutureWarning: The behavior of DataFrame concatenation with empty or all-NA entries is deprecated. In a future version, this will no longer exclude empty or all-NA columns when determining the result dtypes. To retain the old behavior, exclude the relevant entries before the concat operation.\n",
            "  option_data = pd.concat([option_data, get_tick_data(o)])\n",
            "<ipython-input-41-d7945582b8cb>:54: FutureWarning: The behavior of DataFrame concatenation with empty or all-NA entries is deprecated. In a future version, this will no longer exclude empty or all-NA columns when determining the result dtypes. To retain the old behavior, exclude the relevant entries before the concat operation.\n",
            "  option_data = pd.concat([option_data, get_tick_data(o)])\n",
            "<ipython-input-41-d7945582b8cb>:54: FutureWarning: The behavior of DataFrame concatenation with empty or all-NA entries is deprecated. In a future version, this will no longer exclude empty or all-NA columns when determining the result dtypes. To retain the old behavior, exclude the relevant entries before the concat operation.\n",
            "  option_data = pd.concat([option_data, get_tick_data(o)])\n",
            "<ipython-input-41-d7945582b8cb>:54: FutureWarning: The behavior of DataFrame concatenation with empty or all-NA entries is deprecated. In a future version, this will no longer exclude empty or all-NA columns when determining the result dtypes. To retain the old behavior, exclude the relevant entries before the concat operation.\n",
            "  option_data = pd.concat([option_data, get_tick_data(o)])\n",
            "<ipython-input-41-d7945582b8cb>:54: FutureWarning: The behavior of DataFrame concatenation with empty or all-NA entries is deprecated. In a future version, this will no longer exclude empty or all-NA columns when determining the result dtypes. To retain the old behavior, exclude the relevant entries before the concat operation.\n",
            "  option_data = pd.concat([option_data, get_tick_data(o)])\n",
            "<ipython-input-41-d7945582b8cb>:54: FutureWarning: The behavior of DataFrame concatenation with empty or all-NA entries is deprecated. In a future version, this will no longer exclude empty or all-NA columns when determining the result dtypes. To retain the old behavior, exclude the relevant entries before the concat operation.\n",
            "  option_data = pd.concat([option_data, get_tick_data(o)])\n",
            "<ipython-input-41-d7945582b8cb>:54: FutureWarning: The behavior of DataFrame concatenation with empty or all-NA entries is deprecated. In a future version, this will no longer exclude empty or all-NA columns when determining the result dtypes. To retain the old behavior, exclude the relevant entries before the concat operation.\n",
            "  option_data = pd.concat([option_data, get_tick_data(o)])\n",
            "<ipython-input-41-d7945582b8cb>:54: FutureWarning: The behavior of DataFrame concatenation with empty or all-NA entries is deprecated. In a future version, this will no longer exclude empty or all-NA columns when determining the result dtypes. To retain the old behavior, exclude the relevant entries before the concat operation.\n",
            "  option_data = pd.concat([option_data, get_tick_data(o)])\n",
            "<ipython-input-41-d7945582b8cb>:54: FutureWarning: The behavior of DataFrame concatenation with empty or all-NA entries is deprecated. In a future version, this will no longer exclude empty or all-NA columns when determining the result dtypes. To retain the old behavior, exclude the relevant entries before the concat operation.\n",
            "  option_data = pd.concat([option_data, get_tick_data(o)])\n",
            "<ipython-input-41-d7945582b8cb>:54: FutureWarning: The behavior of DataFrame concatenation with empty or all-NA entries is deprecated. In a future version, this will no longer exclude empty or all-NA columns when determining the result dtypes. To retain the old behavior, exclude the relevant entries before the concat operation.\n",
            "  option_data = pd.concat([option_data, get_tick_data(o)])\n",
            "<ipython-input-41-d7945582b8cb>:54: FutureWarning: The behavior of DataFrame concatenation with empty or all-NA entries is deprecated. In a future version, this will no longer exclude empty or all-NA columns when determining the result dtypes. To retain the old behavior, exclude the relevant entries before the concat operation.\n",
            "  option_data = pd.concat([option_data, get_tick_data(o)])\n",
            "<ipython-input-41-d7945582b8cb>:54: FutureWarning: The behavior of DataFrame concatenation with empty or all-NA entries is deprecated. In a future version, this will no longer exclude empty or all-NA columns when determining the result dtypes. To retain the old behavior, exclude the relevant entries before the concat operation.\n",
            "  option_data = pd.concat([option_data, get_tick_data(o)])\n",
            "<ipython-input-41-d7945582b8cb>:54: FutureWarning: The behavior of DataFrame concatenation with empty or all-NA entries is deprecated. In a future version, this will no longer exclude empty or all-NA columns when determining the result dtypes. To retain the old behavior, exclude the relevant entries before the concat operation.\n",
            "  option_data = pd.concat([option_data, get_tick_data(o)])\n",
            "<ipython-input-41-d7945582b8cb>:54: FutureWarning: The behavior of DataFrame concatenation with empty or all-NA entries is deprecated. In a future version, this will no longer exclude empty or all-NA columns when determining the result dtypes. To retain the old behavior, exclude the relevant entries before the concat operation.\n",
            "  option_data = pd.concat([option_data, get_tick_data(o)])\n",
            "<ipython-input-41-d7945582b8cb>:54: FutureWarning: The behavior of DataFrame concatenation with empty or all-NA entries is deprecated. In a future version, this will no longer exclude empty or all-NA columns when determining the result dtypes. To retain the old behavior, exclude the relevant entries before the concat operation.\n",
            "  option_data = pd.concat([option_data, get_tick_data(o)])\n"
          ]
        }
      ],
      "source": [
        "option_data = get_all_option_data(instrument_name)"
      ]
    },
    {
      "cell_type": "code",
      "source": [
        "option_data['daystoexpiration']"
      ],
      "metadata": {
        "colab": {
          "base_uri": "https://localhost:8080/",
          "height": 458
        },
        "id": "lonYkZp1JXP6",
        "outputId": "803343f7-8d7f-4c6b-cd08-e728b20874f3"
      },
      "execution_count": 89,
      "outputs": [
        {
          "output_type": "execute_result",
          "data": {
            "text/plain": [
              "ETH-PERPETUAL        NaN\n",
              "ETH-28MAR25-1600-P   NaN\n",
              "ETH-28MAR25-1800-P   NaN\n",
              "ETH-28MAR25-1900-P   NaN\n",
              "ETH-28MAR25-2000-P   NaN\n",
              "                      ..\n",
              "ETH-30MAY25-2300-C   NaN\n",
              "ETH-30MAY25-2400-C   NaN\n",
              "ETH-30MAY25-2500-C   NaN\n",
              "ETH-30MAY25-2600-C   NaN\n",
              "ETH-30MAY25-2700-C   NaN\n",
              "Name: daystoexpiration, Length: 100, dtype: float64"
            ],
            "text/html": [
              "<div>\n",
              "<style scoped>\n",
              "    .dataframe tbody tr th:only-of-type {\n",
              "        vertical-align: middle;\n",
              "    }\n",
              "\n",
              "    .dataframe tbody tr th {\n",
              "        vertical-align: top;\n",
              "    }\n",
              "\n",
              "    .dataframe thead th {\n",
              "        text-align: right;\n",
              "    }\n",
              "</style>\n",
              "<table border=\"1\" class=\"dataframe\">\n",
              "  <thead>\n",
              "    <tr style=\"text-align: right;\">\n",
              "      <th></th>\n",
              "      <th>daystoexpiration</th>\n",
              "    </tr>\n",
              "  </thead>\n",
              "  <tbody>\n",
              "    <tr>\n",
              "      <th>ETH-PERPETUAL</th>\n",
              "      <td>NaN</td>\n",
              "    </tr>\n",
              "    <tr>\n",
              "      <th>ETH-28MAR25-1600-P</th>\n",
              "      <td>NaN</td>\n",
              "    </tr>\n",
              "    <tr>\n",
              "      <th>ETH-28MAR25-1800-P</th>\n",
              "      <td>NaN</td>\n",
              "    </tr>\n",
              "    <tr>\n",
              "      <th>ETH-28MAR25-1900-P</th>\n",
              "      <td>NaN</td>\n",
              "    </tr>\n",
              "    <tr>\n",
              "      <th>ETH-28MAR25-2000-P</th>\n",
              "      <td>NaN</td>\n",
              "    </tr>\n",
              "    <tr>\n",
              "      <th>...</th>\n",
              "      <td>...</td>\n",
              "    </tr>\n",
              "    <tr>\n",
              "      <th>ETH-30MAY25-2300-C</th>\n",
              "      <td>NaN</td>\n",
              "    </tr>\n",
              "    <tr>\n",
              "      <th>ETH-30MAY25-2400-C</th>\n",
              "      <td>NaN</td>\n",
              "    </tr>\n",
              "    <tr>\n",
              "      <th>ETH-30MAY25-2500-C</th>\n",
              "      <td>NaN</td>\n",
              "    </tr>\n",
              "    <tr>\n",
              "      <th>ETH-30MAY25-2600-C</th>\n",
              "      <td>NaN</td>\n",
              "    </tr>\n",
              "    <tr>\n",
              "      <th>ETH-30MAY25-2700-C</th>\n",
              "      <td>NaN</td>\n",
              "    </tr>\n",
              "  </tbody>\n",
              "</table>\n",
              "<p>100 rows × 1 columns</p>\n",
              "</div><br><label><b>dtype:</b> float64</label>"
            ]
          },
          "metadata": {},
          "execution_count": 89
        }
      ]
    },
    {
      "cell_type": "code",
      "execution_count": 90,
      "metadata": {
        "colab": {
          "base_uri": "https://localhost:8080/",
          "height": 0
        },
        "id": "b64uHqvr4_UW",
        "outputId": "eb5fbdbe-ecd2-441d-e0ec-cce81fb7f10f"
      },
      "outputs": [
        {
          "output_type": "stream",
          "name": "stderr",
          "text": [
            "<ipython-input-90-cc8ca4747fd8>:5: UserWarning: Could not infer format, so each element will be parsed individually, falling back to `dateutil`. To ensure parsing is consistent and as-expected, please specify a format.\n",
            "  option_data['daystoexpiration'][1:] = (pd.to_datetime(option_data[1:].index.map(lambda x: x.split('-')[1]))-pd.Timestamp.today()).days\n",
            "<ipython-input-90-cc8ca4747fd8>:5: FutureWarning: ChainedAssignmentError: behaviour will change in pandas 3.0!\n",
            "You are setting values through chained assignment. Currently this works in certain cases, but when using Copy-on-Write (which will become the default behaviour in pandas 3.0) this will never work to update the original DataFrame or Series, because the intermediate object on which we are setting values will behave as a copy.\n",
            "A typical example is when you are setting values in a column of a DataFrame, like:\n",
            "\n",
            "df[\"col\"][row_indexer] = value\n",
            "\n",
            "Use `df.loc[row_indexer, \"col\"] = values` instead, to perform the assignment in a single step and ensure this keeps updating the original `df`.\n",
            "\n",
            "See the caveats in the documentation: https://pandas.pydata.org/pandas-docs/stable/user_guide/indexing.html#returning-a-view-versus-a-copy\n",
            "\n",
            "  option_data['daystoexpiration'][1:] = (pd.to_datetime(option_data[1:].index.map(lambda x: x.split('-')[1]))-pd.Timestamp.today()).days\n",
            "<ipython-input-90-cc8ca4747fd8>:5: SettingWithCopyWarning: \n",
            "A value is trying to be set on a copy of a slice from a DataFrame\n",
            "\n",
            "See the caveats in the documentation: https://pandas.pydata.org/pandas-docs/stable/user_guide/indexing.html#returning-a-view-versus-a-copy\n",
            "  option_data['daystoexpiration'][1:] = (pd.to_datetime(option_data[1:].index.map(lambda x: x.split('-')[1]))-pd.Timestamp.today()).days\n",
            "<ipython-input-90-cc8ca4747fd8>:6: FutureWarning: ChainedAssignmentError: behaviour will change in pandas 3.0!\n",
            "You are setting values through chained assignment. Currently this works in certain cases, but when using Copy-on-Write (which will become the default behaviour in pandas 3.0) this will never work to update the original DataFrame or Series, because the intermediate object on which we are setting values will behave as a copy.\n",
            "A typical example is when you are setting values in a column of a DataFrame, like:\n",
            "\n",
            "df[\"col\"][row_indexer] = value\n",
            "\n",
            "Use `df.loc[row_indexer, \"col\"] = values` instead, to perform the assignment in a single step and ensure this keeps updating the original `df`.\n",
            "\n",
            "See the caveats in the documentation: https://pandas.pydata.org/pandas-docs/stable/user_guide/indexing.html#returning-a-view-versus-a-copy\n",
            "\n",
            "  option_data['t'][1:] = option_data[1:].index.map(lambda x: x.split('-')[1]).astype(str)\n",
            "<ipython-input-90-cc8ca4747fd8>:6: SettingWithCopyWarning: \n",
            "A value is trying to be set on a copy of a slice from a DataFrame\n",
            "\n",
            "See the caveats in the documentation: https://pandas.pydata.org/pandas-docs/stable/user_guide/indexing.html#returning-a-view-versus-a-copy\n",
            "  option_data['t'][1:] = option_data[1:].index.map(lambda x: x.split('-')[1]).astype(str)\n",
            "<ipython-input-90-cc8ca4747fd8>:6: FutureWarning: Setting an item of incompatible dtype is deprecated and will raise an error in a future version of pandas. Value '['28MAR25' '28MAR25' '28MAR25' '28MAR25' '28MAR25' '28MAR25' '28MAR25'\n",
            " '28MAR25' '28MAR25' '28MAR25' '28MAR25' '29MAR25' '29MAR25' '29MAR25'\n",
            " '29MAR25' '29MAR25' '29MAR25' '29MAR25' '29MAR25' '29MAR25' '29MAR25'\n",
            " '29MAR25' '29MAR25' '29MAR25' '29MAR25' '30MAR25' '30MAR25' '30MAR25'\n",
            " '30MAR25' '30MAR25' '30MAR25' '30MAR25' '30MAR25' '30MAR25' '30MAR25'\n",
            " '30MAR25' '4APR25' '4APR25' '4APR25' '4APR25' '4APR25' '4APR25' '4APR25'\n",
            " '4APR25' '4APR25' '4APR25' '4APR25' '4APR25' '4APR25' '11APR25' '11APR25'\n",
            " '11APR25' '11APR25' '11APR25' '11APR25' '11APR25' '11APR25' '11APR25'\n",
            " '11APR25' '11APR25' '11APR25' '11APR25' '18APR25' '18APR25' '18APR25'\n",
            " '18APR25' '18APR25' '18APR25' '18APR25' '18APR25' '18APR25' '18APR25'\n",
            " '18APR25' '18APR25' '18APR25' '25APR25' '25APR25' '25APR25' '25APR25'\n",
            " '25APR25' '25APR25' '25APR25' '25APR25' '25APR25' '25APR25' '25APR25'\n",
            " '25APR25' '30MAY25' '30MAY25' '30MAY25' '30MAY25' '30MAY25' '30MAY25'\n",
            " '30MAY25' '30MAY25' '30MAY25' '30MAY25' '30MAY25' '30MAY25']' has dtype incompatible with float64, please explicitly cast to a compatible dtype first.\n",
            "  option_data['t'][1:] = option_data[1:].index.map(lambda x: x.split('-')[1]).astype(str)\n",
            "<ipython-input-90-cc8ca4747fd8>:8: FutureWarning: ChainedAssignmentError: behaviour will change in pandas 3.0!\n",
            "You are setting values through chained assignment. Currently this works in certain cases, but when using Copy-on-Write (which will become the default behaviour in pandas 3.0) this will never work to update the original DataFrame or Series, because the intermediate object on which we are setting values will behave as a copy.\n",
            "A typical example is when you are setting values in a column of a DataFrame, like:\n",
            "\n",
            "df[\"col\"][row_indexer] = value\n",
            "\n",
            "Use `df.loc[row_indexer, \"col\"] = values` instead, to perform the assignment in a single step and ensure this keeps updating the original `df`.\n",
            "\n",
            "See the caveats in the documentation: https://pandas.pydata.org/pandas-docs/stable/user_guide/indexing.html#returning-a-view-versus-a-copy\n",
            "\n",
            "  option_data['strike'][1:] = option_data[1:].index.map(lambda x: x.split('-')[2]).astype(int)\n",
            "<ipython-input-90-cc8ca4747fd8>:8: SettingWithCopyWarning: \n",
            "A value is trying to be set on a copy of a slice from a DataFrame\n",
            "\n",
            "See the caveats in the documentation: https://pandas.pydata.org/pandas-docs/stable/user_guide/indexing.html#returning-a-view-versus-a-copy\n",
            "  option_data['strike'][1:] = option_data[1:].index.map(lambda x: x.split('-')[2]).astype(int)\n",
            "<ipython-input-90-cc8ca4747fd8>:10: FutureWarning: ChainedAssignmentError: behaviour will change in pandas 3.0!\n",
            "You are setting values through chained assignment. Currently this works in certain cases, but when using Copy-on-Write (which will become the default behaviour in pandas 3.0) this will never work to update the original DataFrame or Series, because the intermediate object on which we are setting values will behave as a copy.\n",
            "A typical example is when you are setting values in a column of a DataFrame, like:\n",
            "\n",
            "df[\"col\"][row_indexer] = value\n",
            "\n",
            "Use `df.loc[row_indexer, \"col\"] = values` instead, to perform the assignment in a single step and ensure this keeps updating the original `df`.\n",
            "\n",
            "See the caveats in the documentation: https://pandas.pydata.org/pandas-docs/stable/user_guide/indexing.html#returning-a-view-versus-a-copy\n",
            "\n",
            "  option_data['callput'][1:] = option_data[1:].index.map(lambda x: x.split('-')[3]).astype(str)\n",
            "<ipython-input-90-cc8ca4747fd8>:10: SettingWithCopyWarning: \n",
            "A value is trying to be set on a copy of a slice from a DataFrame\n",
            "\n",
            "See the caveats in the documentation: https://pandas.pydata.org/pandas-docs/stable/user_guide/indexing.html#returning-a-view-versus-a-copy\n",
            "  option_data['callput'][1:] = option_data[1:].index.map(lambda x: x.split('-')[3]).astype(str)\n",
            "<ipython-input-90-cc8ca4747fd8>:10: FutureWarning: Setting an item of incompatible dtype is deprecated and will raise an error in a future version of pandas. Value '['P' 'P' 'P' 'P' 'C' 'C' 'C' 'C' 'C' 'C' 'C' 'P' 'P' 'P' 'P' 'P' 'P' 'C'\n",
            " 'C' 'C' 'C' 'C' 'C' 'C' 'C' 'P' 'P' 'P' 'P' 'P' 'C' 'C' 'C' 'C' 'C' 'C'\n",
            " 'P' 'P' 'P' 'P' 'P' 'P' 'C' 'C' 'C' 'C' 'C' 'C' 'C' 'P' 'P' 'P' 'P' 'P'\n",
            " 'P' 'C' 'C' 'C' 'C' 'C' 'C' 'C' 'P' 'P' 'P' 'P' 'P' 'P' 'C' 'C' 'C' 'C'\n",
            " 'C' 'C' 'C' 'P' 'P' 'P' 'P' 'P' 'C' 'C' 'C' 'C' 'C' 'C' 'C' 'P' 'P' 'P'\n",
            " 'P' 'P' 'C' 'C' 'C' 'C' 'C' 'C' 'C']' has dtype incompatible with float64, please explicitly cast to a compatible dtype first.\n",
            "  option_data['callput'][1:] = option_data[1:].index.map(lambda x: x.split('-')[3]).astype(str)\n",
            "<ipython-input-90-cc8ca4747fd8>:12: FutureWarning: Series.__getitem__ treating keys as positions is deprecated. In a future version, integer keys will always be treated as labels (consistent with DataFrame behavior). To access a value by position, use `ser.iloc[pos]`\n",
            "  option_data['m'] = np.log(option_data['last_price'][0]/option_data['strike'])\n"
          ]
        }
      ],
      "source": [
        "### Add additional metrics to data\n",
        "option_data['daystoexpiration'] = np.nan; option_data['t'] = np.nan; option_data['strike'] = np.nan; option_data['callput'] = np.nan\n",
        "# Calculated days until expiration\n",
        "#option_data.loc[1:,'t'] = (pd.to_datetime(option_data[1:].index.map(lambda x: x.split('-')[1]))-pd.Timestamp.today()).days\n",
        "option_data['daystoexpiration'][1:] = (pd.to_datetime(option_data[1:].index.map(lambda x: x.split('-')[1]))-pd.Timestamp.today()).days\n",
        "option_data['t'][1:] = option_data[1:].index.map(lambda x: x.split('-')[1]).astype(str)\n",
        "# Pull strike from instrument name\n",
        "option_data['strike'][1:] = option_data[1:].index.map(lambda x: x.split('-')[2]).astype(int)\n",
        "# pull callput\n",
        "option_data['callput'][1:] = option_data[1:].index.map(lambda x: x.split('-')[3]).astype(str)\n",
        "# Calculate \"moneyness\"\n",
        "option_data['m'] = np.log(option_data['last_price'][0]/option_data['strike'])"
      ]
    },
    {
      "cell_type": "code",
      "execution_count": 91,
      "metadata": {
        "id": "78AHPgfL4_UX",
        "colab": {
          "base_uri": "https://localhost:8080/",
          "height": 0
        },
        "outputId": "a9ee0ce9-9ab1-4eee-a229-41e7cae3900e"
      },
      "outputs": [
        {
          "output_type": "stream",
          "name": "stdout",
          "text": [
            "ETH-PERPETUAL          NaN\n",
            "ETH-28MAR25-1600-P     0.0\n",
            "ETH-28MAR25-1800-P     0.0\n",
            "ETH-28MAR25-1900-P     0.0\n",
            "ETH-28MAR25-2000-P     0.0\n",
            "                      ... \n",
            "ETH-30MAY25-2300-C    63.0\n",
            "ETH-30MAY25-2400-C    63.0\n",
            "ETH-30MAY25-2500-C    63.0\n",
            "ETH-30MAY25-2600-C    63.0\n",
            "ETH-30MAY25-2700-C    63.0\n",
            "Name: daystoexpiration, Length: 100, dtype: float64\n"
          ]
        }
      ],
      "source": [
        "## Debugging:\n",
        "# print(option_data)\n",
        "# print(option_data.columns)\n",
        "print(option_data['daystoexpiration'])"
      ]
    },
    {
      "cell_type": "markdown",
      "metadata": {
        "id": "4jX3Rd-Xyxhw"
      },
      "source": [
        "##### Data obtained"
      ]
    },
    {
      "cell_type": "code",
      "execution_count": 92,
      "metadata": {
        "colab": {
          "base_uri": "https://localhost:8080/",
          "height": 0
        },
        "id": "D91ACugTyRUE",
        "outputId": "6a108cda-aa7d-45f5-8428-2505ac0f295d",
        "scrolled": true
      },
      "outputs": [
        {
          "output_type": "stream",
          "name": "stdout",
          "text": [
            "ETH-28MAR25-2100-C    0.0009\n",
            "ETH-28MAR25-2200-C    0.0001\n",
            "ETH-28MAR25-2300-C    0.0001\n",
            "ETH-28MAR25-2400-C    0.0001\n",
            "ETH-28MAR25-2500-C    0.0001\n",
            "ETH-28MAR25-2600-C    0.0001\n",
            "ETH-28MAR25-2700-C    0.0298\n",
            "ETH-29MAR25-2025-C    0.0180\n",
            "ETH-29MAR25-2050-C    0.0115\n",
            "ETH-29MAR25-2075-C    0.0080\n",
            "ETH-29MAR25-2100-C    0.0040\n",
            "ETH-29MAR25-2125-C    0.0017\n",
            "ETH-29MAR25-2150-C    0.0023\n",
            "ETH-29MAR25-2200-C    0.0011\n",
            "ETH-29MAR25-2250-C    0.0002\n",
            "ETH-30MAR25-2025-C    0.0155\n",
            "ETH-30MAR25-2050-C       NaN\n",
            "ETH-30MAR25-2075-C    0.0106\n",
            "ETH-30MAR25-2100-C       NaN\n",
            "ETH-30MAR25-2150-C       NaN\n",
            "ETH-30MAR25-2200-C       NaN\n",
            "ETH-4APR25-2100-C     0.0175\n",
            "ETH-4APR25-2200-C     0.0085\n",
            "ETH-4APR25-2300-C     0.0089\n",
            "ETH-4APR25-2400-C     0.0020\n",
            "ETH-4APR25-2500-C        NaN\n",
            "ETH-4APR25-2600-C     0.0009\n",
            "ETH-4APR25-2700-C        NaN\n",
            "ETH-11APR25-2100-C    0.0305\n",
            "ETH-11APR25-2200-C    0.0160\n",
            "ETH-11APR25-2300-C    0.0090\n",
            "ETH-11APR25-2400-C    0.0049\n",
            "ETH-11APR25-2500-C    0.0308\n",
            "ETH-11APR25-2600-C    0.0024\n",
            "ETH-11APR25-2700-C       NaN\n",
            "ETH-18APR25-2100-C    0.0425\n",
            "ETH-18APR25-2200-C       NaN\n",
            "ETH-18APR25-2300-C    0.0169\n",
            "ETH-18APR25-2400-C    0.0095\n",
            "ETH-18APR25-2500-C    0.0060\n",
            "ETH-18APR25-2600-C    0.0135\n",
            "ETH-18APR25-2700-C       NaN\n",
            "ETH-25APR25-2100-C    0.0490\n",
            "ETH-25APR25-2200-C    0.0330\n",
            "ETH-25APR25-2300-C    0.0230\n",
            "ETH-25APR25-2400-C    0.0185\n",
            "ETH-25APR25-2500-C    0.0165\n",
            "ETH-25APR25-2600-C    0.0090\n",
            "ETH-25APR25-2700-C    0.0060\n",
            "ETH-30MAY25-2100-C    0.0860\n",
            "ETH-30MAY25-2200-C    0.0675\n",
            "ETH-30MAY25-2300-C    0.0605\n",
            "ETH-30MAY25-2400-C    0.0425\n",
            "ETH-30MAY25-2500-C    0.0330\n",
            "ETH-30MAY25-2600-C    0.0300\n",
            "ETH-30MAY25-2700-C    0.0265\n",
            "Name: last_price, dtype: float64\n",
            "ETH-28MAR25-1600-P    0.0001\n",
            "ETH-28MAR25-1800-P    0.0013\n",
            "ETH-28MAR25-1900-P    0.0016\n",
            "ETH-28MAR25-2000-P    0.0060\n",
            "ETH-29MAR25-1850-P    0.0011\n",
            "ETH-29MAR25-1900-P    0.0020\n",
            "ETH-29MAR25-1925-P    0.0027\n",
            "ETH-29MAR25-1950-P    0.0060\n",
            "ETH-29MAR25-1975-P    0.0105\n",
            "ETH-29MAR25-2000-P    0.0140\n",
            "ETH-30MAR25-1850-P    0.0018\n",
            "ETH-30MAR25-1900-P       NaN\n",
            "ETH-30MAR25-1950-P       NaN\n",
            "ETH-30MAR25-1975-P       NaN\n",
            "ETH-30MAR25-2000-P    0.0155\n",
            "ETH-4APR25-1500-P     0.0031\n",
            "ETH-4APR25-1600-P     0.0021\n",
            "ETH-4APR25-1700-P     0.0028\n",
            "ETH-4APR25-1800-P     0.0055\n",
            "ETH-4APR25-1900-P     0.0125\n",
            "ETH-4APR25-2000-P     0.0275\n",
            "ETH-11APR25-1500-P       NaN\n",
            "ETH-11APR25-1600-P    0.0040\n",
            "ETH-11APR25-1700-P    0.0058\n",
            "ETH-11APR25-1800-P    0.0130\n",
            "ETH-11APR25-1900-P    0.0220\n",
            "ETH-11APR25-2000-P    0.0425\n",
            "ETH-18APR25-1500-P    0.0027\n",
            "ETH-18APR25-1600-P    0.0060\n",
            "ETH-18APR25-1700-P    0.0080\n",
            "ETH-18APR25-1800-P    0.0175\n",
            "ETH-18APR25-1900-P    0.0290\n",
            "ETH-18APR25-2000-P    0.0495\n",
            "ETH-25APR25-1500-P    0.0090\n",
            "ETH-25APR25-1600-P    0.0140\n",
            "ETH-25APR25-1800-P    0.0230\n",
            "ETH-25APR25-1900-P    0.0510\n",
            "ETH-25APR25-2000-P    0.0570\n",
            "ETH-30MAY25-1600-P    0.0215\n",
            "ETH-30MAY25-1700-P    0.0305\n",
            "ETH-30MAY25-1800-P    0.0475\n",
            "ETH-30MAY25-1900-P    0.0590\n",
            "ETH-30MAY25-2000-P    0.0890\n",
            "Name: last_price, dtype: float64\n"
          ]
        }
      ],
      "source": [
        "print(option_data[(option_data.callput == 'C')]['last_price'])\n",
        "print(option_data[(option_data.callput == 'P')]['last_price'])"
      ]
    },
    {
      "cell_type": "markdown",
      "metadata": {
        "id": "2300_AZiFpNz"
      },
      "source": [
        "### Choosing strikes for hedging\n"
      ]
    },
    {
      "cell_type": "markdown",
      "metadata": {
        "id": "lFGHSotZy9yu"
      },
      "source": [
        "### Historical volatility calculation\n"
      ]
    },
    {
      "cell_type": "markdown",
      "metadata": {
        "id": "qbDTynWIzm78"
      },
      "source": [
        "We calculate the underlying asset's historical volatility based on data obtained from Binance to estimate the volatility value, which we will use to determine the hedge range. It can also be useful to use it in Black-Scholes, using BSM to select the best available option prices. The corresponding code is outlined in Appendix IV.\n"
      ]
    },
    {
      "cell_type": "markdown",
      "metadata": {
        "id": "l7BE48eIcDK5"
      },
      "source": [
        "#### Code"
      ]
    },
    {
      "cell_type": "code",
      "execution_count": 93,
      "metadata": {
        "id": "uVUu6668zhd1"
      },
      "outputs": [],
      "source": [
        "def get_ema_std_vol_of_returns(hist_data, alpha, min_periods):\n",
        "  # Rolling Volatility (annualized assuming 365 trading days)\n",
        "  # 2 week\n",
        "  # historical_data = hist_data[-2*30*24:].copy()\n",
        "  historical_data = hist_data.copy()\n",
        "  historical_data_return = np.around(historical_data.pct_change().dropna(), 3)\n",
        "  ema_of_com_in_periods = historical_data_return.ewm(alpha=alpha, min_periods=min_periods)\n",
        "  vol = ema_of_com_in_periods.std()\n",
        "  historical_data_vol = vol\n",
        "  vol_annualized = vol * np.sqrt(365)\n",
        "  historical_data_vol_ann = vol_annualized\n",
        "  return {'vol_ema_of_returns_respect_to_periods': vol,\n",
        "          'vol_ema_of_returns_annualized': vol_annualized}\n",
        "\n",
        "def get_ema_std_vol_of_prices(historical_data, alpha, min_periods):\n",
        "  # Rolling Volatility (annualized assuming 365 trading days)\n",
        "  # 2 week\n",
        "  # historical_data['returns'] = np.around(historical_data['close'].pct_change().dropna(), 3)\n",
        "  ema_of_com_in_periods = historical_data.ewm(alpha=alpha, min_periods=min_periods)\n",
        "  vol = ema_of_com_in_periods.std()\n",
        "  historical_data_vol = vol\n",
        "  vol_annualized = vol * np.sqrt(365)\n",
        "  historical_data_vol_ann = vol_annualized\n",
        "  return {'vol_ema_of_prices_respect_to_periods': vol,\n",
        "          'vol_ema_of_prices_annualized': vol_annualized}"
      ]
    },
    {
      "cell_type": "markdown",
      "metadata": {
        "id": "BtoRO4zlXQNe"
      },
      "source": [
        "#### Result"
      ]
    },
    {
      "cell_type": "markdown",
      "metadata": {
        "id": "EMGkc4-Lcngz"
      },
      "source": [
        "Using the data received from Binance to calculate historical volatility, we choose $P_i$ and $P_s$ as bounds for the [P_i,P_0] region of the PnL, which we intend to hedge.\n"
      ]
    },
    {
      "cell_type": "code",
      "execution_count": 94,
      "metadata": {
        "colab": {
          "base_uri": "https://localhost:8080/",
          "height": 0
        },
        "id": "pm-Bd6xR-wKC",
        "outputId": "c17f08ad-02fa-4a82-d6c2-3939c290b3af"
      },
      "outputs": [
        {
          "output_type": "stream",
          "name": "stdout",
          "text": [
            "sigma = 0.037017699885714066\n",
            "Margin for hedging: 0.18508849942857034\n",
            "P_s = 2401.048554267255\n",
            "P_0 = 2026.05\n",
            "P_i = 1651.0514457327452\n"
          ]
        },
        {
          "output_type": "stream",
          "name": "stderr",
          "text": [
            "<ipython-input-94-d00087e9b21f>:9: FutureWarning: Series.__getitem__ treating keys as positions is deprecated. In a future version, integer keys will always be treated as labels (consistent with DataFrame behavior). To access a value by position, use `ser.iloc[pos]`\n",
            "  asset_price = option_data[\"underlying_price\"][1] # last recorded price = Spot price (S)\n"
          ]
        }
      ],
      "source": [
        "sigma = np.mean(get_ema_std_vol_of_returns(P_ETH, 0.95, 15)['vol_ema_of_returns_respect_to_periods'])\n",
        "#sigma = 5\n",
        "security_factor = 5\n",
        "\n",
        "print(f'sigma = {sigma}')\n",
        "margin_to_hedge = sigma * security_factor\n",
        "print(f'Margin for hedging: {margin_to_hedge}')\n",
        "\n",
        "asset_price = option_data[\"underlying_price\"][1] # last recorded price = Spot price (S)\n",
        "P_s = asset_price*(1+margin_to_hedge)\n",
        "P_i = asset_price*(1-margin_to_hedge)\n",
        "print(f'P_s = {asset_price*(1+margin_to_hedge)}')\n",
        "print(f'P_0 = {asset_price}')\n",
        "print(f'P_i = {asset_price*(1-margin_to_hedge)}')\n"
      ]
    },
    {
      "cell_type": "markdown",
      "metadata": {
        "id": "e5LoKCKdfd6J"
      },
      "source": [
        "#### We select the options\n"
      ]
    },
    {
      "cell_type": "markdown",
      "metadata": {
        "id": "9iOH0NXJQfSd"
      },
      "source": [
        "In the report, we show a result that ensures coverage in the interval $[P_i,P_s]$ provided that\n",
        "\\begin{align*}\n",
        "\\frac{c}{2}(\\frac{1}{\\sqrt{K_pP_0}} - \\frac{1}{P_0})&\\leq q_p\\\\\n",
        "D-\\min\\{IL(K_c),IL(K_P)\\}&\\leq r_p c\\\\\n",
        "-\\frac{c}{2}(\\frac{1}{\\sqrt{K_c P_0}}-\\frac{1}{P_0})&\\leq q_c\n",
        "\\end{align*}\n",
        "where $c$ is the initial capital; $q_p,q_c$ is the quantity of puts and calls to be purchased, respectively; and $D$ is the cost of the options.\n",
        "\n",
        "Let's then filter the available options for a certain range of days and with strikes such that $K_p\\in [P_i,P_0]$ and $K_c\\in [P_0,P_s]$."
      ]
    },
    {
      "cell_type": "code",
      "execution_count": 95,
      "metadata": {
        "colab": {
          "base_uri": "https://localhost:8080/",
          "height": 0
        },
        "id": "nD9PNdHv5VTI",
        "outputId": "1e3f18c2-df6e-4d1e-ce32-79a7be07a2f9"
      },
      "outputs": [
        {
          "output_type": "stream",
          "name": "stdout",
          "text": [
            "Option name\tDays to expiration\n",
            "                        timestamp state  index_price     instrument_name  \\\n",
            "ETH-18APR25-2100-C  1743088540477  open      2024.36  ETH-18APR25-2100-C   \n",
            "ETH-18APR25-2200-C  1743088540477  open      2024.36  ETH-18APR25-2200-C   \n",
            "ETH-18APR25-2300-C  1743088540477  open      2024.36  ETH-18APR25-2300-C   \n",
            "ETH-18APR25-2400-C  1743088540477  open      2024.36  ETH-18APR25-2400-C   \n",
            "ETH-25APR25-2100-C  1743088543498  open      2024.10  ETH-25APR25-2100-C   \n",
            "ETH-25APR25-2200-C  1743088543498  open      2024.10  ETH-25APR25-2200-C   \n",
            "ETH-25APR25-2300-C  1743088543498  open      2024.10  ETH-25APR25-2300-C   \n",
            "ETH-25APR25-2400-C  1743088543498  open      2024.10  ETH-25APR25-2400-C   \n",
            "\n",
            "                    last_price  settlement_price  min_price  max_price  \\\n",
            "ETH-18APR25-2100-C      0.0425          0.033325     0.0009     0.1465   \n",
            "ETH-18APR25-2200-C         NaN          0.018966     0.0003     0.1205   \n",
            "ETH-18APR25-2300-C      0.0169          0.011749     0.0001     0.0990   \n",
            "ETH-18APR25-2400-C      0.0095          0.008208     0.0001     0.0810   \n",
            "ETH-25APR25-2100-C      0.0490          0.050742     0.0024     0.1555   \n",
            "ETH-25APR25-2200-C      0.0330          0.034104     0.0010     0.1310   \n",
            "ETH-25APR25-2300-C      0.0230          0.022998     0.0004     0.1095   \n",
            "ETH-25APR25-2400-C      0.0185          0.015604     0.0002     0.0920   \n",
            "\n",
            "                    open_interest  mark_price  ...  greeks.delta  \\\n",
            "ETH-18APR25-2100-C            1.0      0.0412  ...       0.42962   \n",
            "ETH-18APR25-2200-C            0.0      0.0257  ...       0.30627   \n",
            "ETH-18APR25-2300-C          250.0      0.0160  ...       0.21025   \n",
            "ETH-18APR25-2400-C          390.0      0.0097  ...       0.13935   \n",
            "ETH-25APR25-2100-C          254.0      0.0499  ...       0.44786   \n",
            "ETH-25APR25-2200-C          311.0      0.0342  ...       0.34068   \n",
            "ETH-25APR25-2300-C          503.0      0.0227  ...       0.24955   \n",
            "ETH-25APR25-2400-C          563.0      0.0152  ...       0.17948   \n",
            "\n",
            "                    greeks.gamma  greeks.vega  greeks.theta  greeks.rho  \\\n",
            "ETH-18APR25-2100-C       0.00137      1.94158      -2.59079     0.46819   \n",
            "ETH-18APR25-2200-C       0.00123      1.73497      -2.31654     0.33818   \n",
            "ETH-18APR25-2300-C       0.00099      1.42584      -1.93500     0.23417   \n",
            "ETH-18APR25-2400-C       0.00075      1.09693      -1.51135     0.15627   \n",
            "ETH-25APR25-2100-C       0.00120      2.24978      -2.27687     0.63467   \n",
            "ETH-25APR25-2200-C       0.00110      2.08586      -2.13214     0.48883   \n",
            "ETH-25APR25-2300-C       0.00095      1.80591      -1.85681     0.36180   \n",
            "ETH-25APR25-2400-C       0.00077      1.48981      -1.55451     0.26209   \n",
            "\n",
            "                    daystoexpiration        t  strike  callput         m  \n",
            "ETH-18APR25-2100-C              21.0  18APR25  2100.0        C -0.037084  \n",
            "ETH-18APR25-2200-C              21.0  18APR25  2200.0        C -0.083604  \n",
            "ETH-18APR25-2300-C              21.0  18APR25  2300.0        C -0.128056  \n",
            "ETH-18APR25-2400-C              21.0  18APR25  2400.0        C -0.170615  \n",
            "ETH-25APR25-2100-C              28.0  25APR25  2100.0        C -0.037084  \n",
            "ETH-25APR25-2200-C              28.0  25APR25  2200.0        C -0.083604  \n",
            "ETH-25APR25-2300-C              28.0  25APR25  2300.0        C -0.128056  \n",
            "ETH-25APR25-2400-C              28.0  25APR25  2400.0        C -0.170615  \n",
            "\n",
            "[8 rows x 40 columns]\n",
            "ETH-18APR25-1700-P    21.0\n",
            "ETH-18APR25-1800-P    21.0\n",
            "ETH-18APR25-1900-P    21.0\n",
            "ETH-18APR25-2000-P    21.0\n",
            "ETH-25APR25-1800-P    28.0\n",
            "ETH-25APR25-1900-P    28.0\n",
            "ETH-25APR25-2000-P    28.0\n",
            "Name: daystoexpiration, dtype: float64\n"
          ]
        }
      ],
      "source": [
        "\n",
        "call_min_days_to_expiration = 20\n",
        "call_max_days_to_expiration = 60\n",
        "put_min_days_to_expiration = 20\n",
        "put_max_days_to_expiration = 60\n",
        "\n",
        "print(f'Option name\\tDays to expiration')\n",
        "print(option_data[(option_data.callput == 'C')&\\\n",
        "                  (option_data.daystoexpiration >= put_min_days_to_expiration)&\n",
        "                  (option_data.daystoexpiration <= put_max_days_to_expiration)&\\\n",
        "                  (asset_price <= option_data.strike)&(option_data.strike <= P_s)])#['daystoexpiration'])\n",
        "\n",
        "print(option_data[(option_data.callput == 'P')&\\\n",
        "                  (option_data.daystoexpiration >= put_min_days_to_expiration)&\n",
        "                  (option_data.daystoexpiration <= put_max_days_to_expiration)&\\\n",
        "                  (asset_price >= option_data.strike)&(option_data.strike >= P_i)]['daystoexpiration'])\n",
        "\n",
        "#option_data [option_data.strike == K_put][\"instrument_name\"]\n",
        "#option_data [option_data.strike == K_call][\"instrument_name\"]"
      ]
    },
    {
      "cell_type": "markdown",
      "metadata": {
        "id": "LPHYVPrI6vLw"
      },
      "source": [
        "\n",
        "We filter the call and put options with\n",
        "- expiration between the min and max days we defined earlier\n",
        "- strike < P_s for the call\n",
        "- strike > P_i for the put"
      ]
    },
    {
      "cell_type": "code",
      "execution_count": 96,
      "metadata": {
        "id": "P4vLrU5v6w-7"
      },
      "outputs": [],
      "source": [
        "call_options_available = option_data[(option_data.callput == 'C')&\\\n",
        "                  (option_data.daystoexpiration >= put_min_days_to_expiration)&\n",
        "                  (option_data.daystoexpiration <= put_max_days_to_expiration)&\\\n",
        "                  (asset_price <= option_data.strike)&(option_data.strike <= P_s)]\n",
        "put_options_available = option_data[(option_data.callput == 'P')&\\\n",
        "                  (option_data.daystoexpiration >= put_min_days_to_expiration)&\n",
        "                  (option_data.daystoexpiration <= put_max_days_to_expiration)&\\\n",
        "                  (asset_price >= option_data.strike)&(option_data.strike >= P_i)]"
      ]
    },
    {
      "cell_type": "code",
      "execution_count": 97,
      "metadata": {
        "id": "LU3JN8t46vLw",
        "outputId": "f68eeb63-c824-4cff-8a9d-3664a7643121",
        "colab": {
          "base_uri": "https://localhost:8080/",
          "height": 0
        }
      },
      "outputs": [
        {
          "output_type": "execute_result",
          "data": {
            "text/plain": [
              "(                    daystoexpiration  strike  mark_price\n",
              " ETH-18APR25-2100-C              21.0  2100.0      0.0412\n",
              " ETH-18APR25-2200-C              21.0  2200.0      0.0257\n",
              " ETH-18APR25-2300-C              21.0  2300.0      0.0160\n",
              " ETH-18APR25-2400-C              21.0  2400.0      0.0097\n",
              " ETH-25APR25-2100-C              28.0  2100.0      0.0499\n",
              " ETH-25APR25-2200-C              28.0  2200.0      0.0342\n",
              " ETH-25APR25-2300-C              28.0  2300.0      0.0227\n",
              " ETH-25APR25-2400-C              28.0  2400.0      0.0152,\n",
              " np.float64(2401.048554267255))"
            ]
          },
          "metadata": {},
          "execution_count": 97
        }
      ],
      "source": [
        "call_options_available[['daystoexpiration', 'strike', 'mark_price']], P_s"
      ]
    },
    {
      "cell_type": "code",
      "execution_count": 98,
      "metadata": {
        "id": "0cgdqm7i6vLw",
        "outputId": "af89c980-b859-466b-c5b9-e03278ad90a9",
        "colab": {
          "base_uri": "https://localhost:8080/",
          "height": 0
        }
      },
      "outputs": [
        {
          "output_type": "execute_result",
          "data": {
            "text/plain": [
              "(                    daystoexpiration  strike  mark_price\n",
              " ETH-18APR25-1700-P              21.0  1700.0      0.0084\n",
              " ETH-18APR25-1800-P              21.0  1800.0      0.0177\n",
              " ETH-18APR25-1900-P              21.0  1900.0      0.0303\n",
              " ETH-18APR25-2000-P              21.0  2000.0      0.0503\n",
              " ETH-25APR25-1800-P              28.0  1800.0      0.0233\n",
              " ETH-25APR25-1900-P              28.0  1900.0      0.0375\n",
              " ETH-25APR25-2000-P              28.0  2000.0      0.0575,\n",
              " np.float64(1651.0514457327452))"
            ]
          },
          "metadata": {},
          "execution_count": 98
        }
      ],
      "source": [
        "put_options_available[['daystoexpiration', 'strike', 'mark_price']], P_i"
      ]
    },
    {
      "cell_type": "code",
      "execution_count": 115,
      "metadata": {
        "id": "CgAU-qN97N9H"
      },
      "outputs": [],
      "source": [
        "# This cell has to be revised with the last options available\n",
        "call = call_options_available[(call_options_available.daystoexpiration == max(call_options_available.daystoexpiration))&\n",
        "                  (call_options_available.strike == 2100)]\n",
        "put = put_options_available[(put_options_available.daystoexpiration == max(put_options_available.daystoexpiration))&\n",
        "                  (put_options_available.strike == 1800)]"
      ]
    },
    {
      "cell_type": "code",
      "execution_count": 116,
      "metadata": {
        "colab": {
          "base_uri": "https://localhost:8080/",
          "height": 0
        },
        "id": "8ki1VOBbC1-e",
        "outputId": "aa979fcf-5fac-4238-9595-e1640b12d177"
      },
      "outputs": [
        {
          "output_type": "stream",
          "name": "stdout",
          "text": [
            "ETH-25APR25-2100-C    2100.0\n",
            "Name: strike, dtype: float64\n",
            "ETH-25APR25-1800-P    1800.0\n",
            "Name: strike, dtype: float64\n"
          ]
        }
      ],
      "source": [
        "print(call[\"strike\"])\n",
        "print(put[\"strike\"])"
      ]
    },
    {
      "cell_type": "code",
      "execution_count": 117,
      "metadata": {
        "id": "69Bl4J2E6N6f",
        "colab": {
          "base_uri": "https://localhost:8080/",
          "height": 0
        },
        "outputId": "d190ab34-e3d6-408d-e579-1bd12bae4294"
      },
      "outputs": [
        {
          "output_type": "stream",
          "name": "stderr",
          "text": [
            "<ipython-input-117-bbd8e98d0bc1>:1: FutureWarning: Calling float on a single element Series is deprecated and will raise a TypeError in the future. Use float(ser.iloc[0]) instead\n",
            "  Kcall = float(call['strike'])\n",
            "<ipython-input-117-bbd8e98d0bc1>:2: FutureWarning: Calling float on a single element Series is deprecated and will raise a TypeError in the future. Use float(ser.iloc[0]) instead\n",
            "  Kput = float(put['strike'])\n",
            "<ipython-input-117-bbd8e98d0bc1>:3: FutureWarning: Calling float on a single element Series is deprecated and will raise a TypeError in the future. Use float(ser.iloc[0]) instead\n",
            "  dcall = float(call['mark_price']*asset_price)\n",
            "<ipython-input-117-bbd8e98d0bc1>:4: FutureWarning: Calling float on a single element Series is deprecated and will raise a TypeError in the future. Use float(ser.iloc[0]) instead\n",
            "  dput = float(put['mark_price']*asset_price)\n"
          ]
        }
      ],
      "source": [
        "Kcall = float(call['strike'])\n",
        "Kput = float(put['strike'])\n",
        "dcall = float(call['mark_price']*asset_price)\n",
        "dput = float(put['mark_price']*asset_price)\n",
        "qcall = 100\n",
        "qput = 100"
      ]
    },
    {
      "cell_type": "code",
      "execution_count": 118,
      "metadata": {
        "colab": {
          "base_uri": "https://localhost:8080/",
          "height": 0
        },
        "id": "Etzg3fT9-L_d",
        "outputId": "9917c817-af2f-4976-c3ed-9ec57f4b000f"
      },
      "outputs": [
        {
          "output_type": "execute_result",
          "data": {
            "text/plain": [
              "(2100.0, 1800.0, 101.099895, 47.206965000000004, 100, 100, 14830.686)"
            ]
          },
          "metadata": {},
          "execution_count": 118
        }
      ],
      "source": [
        "Kcall, Kput, dcall, dput, qcall, qput, dcall* qcall+ dput* qput"
      ]
    },
    {
      "cell_type": "markdown",
      "metadata": {
        "id": "Q1-SFH_NRFI2"
      },
      "source": [
        "After reviewing that list, we choose the exercise date that appears on both the calls and puts (designating it by the number of days remaining until expiration).\n"
      ]
    },
    {
      "cell_type": "markdown",
      "metadata": {
        "id": "Q-XKcMXaX4PI"
      },
      "source": [
        "### Chart"
      ]
    },
    {
      "cell_type": "code",
      "execution_count": 119,
      "metadata": {
        "id": "4gZapYWE1LBc"
      },
      "outputs": [],
      "source": [
        "# Grid to plot\n",
        "leftmost = 1-2*margin_to_hedge\n",
        "rightmost = 1+2*margin_to_hedge\n",
        "step = 0.01"
      ]
    },
    {
      "cell_type": "code",
      "execution_count": 120,
      "metadata": {
        "id": "OKs1NZx61D-W"
      },
      "outputs": [],
      "source": [
        "# Libreries to use\n",
        "import numpy as np\n",
        "import pandas as pd\n",
        "import matplotlib.pyplot as plt"
      ]
    },
    {
      "cell_type": "code",
      "execution_count": 122,
      "metadata": {
        "colab": {
          "base_uri": "https://localhost:8080/",
          "height": 418
        },
        "id": "pECm4zuO9y9v",
        "outputId": "ce5b86e7-bf5e-484a-e8b7-ec5efa8917bd"
      },
      "outputs": [
        {
          "output_type": "display_data",
          "data": {
            "text/plain": [
              "<Figure size 2000x700 with 1 Axes>"
            ],
            "image/png": "[encoded data removed]"
          },
          "metadata": {}
        }
      ],
      "source": [
        "# Chart generation\n",
        "grid = np.arange(leftmost,rightmost,step)\n",
        "\n",
        "font = {'family': 'serif',\n",
        "        'color':  'darkred',\n",
        "        'weight': 'normal',\n",
        "        'size': 16,\n",
        "        }\n",
        "\n",
        "fig = plt.figure(figsize = (20,7))\n",
        "axs = fig.subplots(1)\n",
        "\n",
        "P_entry = get_pool_initial_price(pool_balances)\n",
        "axs.plot(grid*P_entry, IL_Y_P(grid*P_entry, pool_balances), c='red', label='Impermanent Loss')\n",
        "\n",
        "#axs.set_title('Profit and Loss', fontdict=font)\n",
        "#plt.text(0,0, f'Fee = 0', fontdict=font)\n",
        "\n",
        "axs.set_xlabel(f'Final price of {pool_symbols[0]} expressed in {pool_symbols[1]}', fontdict=font)\n",
        "axs.set_ylabel(f'PnL (valued in {pool_symbols[1]})', fontdict=font)\n",
        "axs.plot(P_entry, 0, 'bo', label=f'initial price of {pool_symbols[0]}')\n",
        "axs.legend()\n",
        "plt.show()\n",
        "\n",
        "#grid2 = np.arange(-1, 2, 0.2)\n",
        "#pd.DataFrame([[str(round(i*100,3))+'%',\n",
        "#               str(round((i+1)*100,3))+'%',\n",
        "#               str(round(abs(IL_Y_P(i+1, pool_balances)),1)*100)+'%'] for i in grid2],\n",
        "#             columns = ['Price change', 'R', 'IL ratio']).T\n"
      ]
    },
    {
      "cell_type": "markdown",
      "metadata": {
        "id": "2uO7-LxaBZkR"
      },
      "source": [
        "Let's see how the final PnL looks.\n"
      ]
    },
    {
      "cell_type": "code",
      "execution_count": 123,
      "metadata": {
        "id": "xCX5ej-yLchm"
      },
      "outputs": [],
      "source": [
        "def IL(p,bal_usdc, bal_eth, asset_price):\n",
        "    v_0 = bal_usdc + bal_eth*asset_price\n",
        "    return v_0/2 *((p/asset_price)**(1/2) - 1/2 - p/(2*asset_price))"
      ]
    },
    {
      "cell_type": "code",
      "execution_count": 124,
      "metadata": {
        "id": "EYs7L0wPqjbt"
      },
      "outputs": [],
      "source": [
        "price_change= np.arange(-1,3,0.01)\n",
        "\n",
        "pool_balances = (100, asset_price*100)\n",
        "balance_usdc = pool_balances[1]\n",
        "balance_eth = pool_balances[0]\n",
        "asset_price = balance_usdc/balance_eth\n",
        "r_p = 0.15/12  # monthly ratio for providing liquidity\n",
        "P = asset_price*(1+ price_change)\n",
        "V_h_0 = balance_usdc + balance_eth*asset_price"
      ]
    },
    {
      "cell_type": "code",
      "execution_count": 125,
      "metadata": {
        "id": "HaukdIO5a3Sd"
      },
      "outputs": [],
      "source": [
        "V_h_0=balance_usdc + balance_eth*asset_price\n",
        "cte_call=V_h_0/2*(1/np.sqrt(P_i*asset_price)-1/asset_price)\n",
        "cte_put=-V_h_0/2*(1/np.sqrt(P_s*asset_price)-1/asset_price)"
      ]
    },
    {
      "cell_type": "code",
      "execution_count": 126,
      "metadata": {
        "colab": {
          "base_uri": "https://localhost:8080/",
          "height": 0
        },
        "id": "1ziVk2g7bDej",
        "outputId": "e63c091a-051b-497f-8e03-872fbdf5f0c0"
      },
      "outputs": [
        {
          "output_type": "execute_result",
          "data": {
            "text/plain": [
              "(np.float64(10.775769761444417), np.float64(8.14038767959828))"
            ]
          },
          "metadata": {},
          "execution_count": 126
        }
      ],
      "source": [
        "cte_call, cte_put"
      ]
    },
    {
      "cell_type": "code",
      "execution_count": 127,
      "metadata": {
        "colab": {
          "base_uri": "https://localhost:8080/",
          "height": 402
        },
        "id": "FG2ctyyc5dAt",
        "outputId": "b0dae788-e760-47c9-8e93-d043e5ad7460"
      },
      "outputs": [
        {
          "output_type": "display_data",
          "data": {
            "text/plain": [
              "<Figure size 2000x700 with 1 Axes>"
            ],
            "image/png": "[encoded data removed]"
          },
          "metadata": {}
        }
      ],
      "source": [
        "# Parameters\n",
        "price_change= np.arange(-2*margin_to_hedge,2*margin_to_hedge,0.01)\n",
        "price_change= np.arange(-1,1,0.01)\n",
        "\n",
        "pool_balances = (100, asset_price*100)\n",
        "balance_usdc = pool_balances[1]\n",
        "balance_eth = pool_balances[0]\n",
        "asset_price = balance_usdc/balance_eth\n",
        "\n",
        "r_p = 0.1 / 12 # monthly return for providing liquidity\n",
        "P = asset_price*(1+ price_change)\n",
        "V_h_0 = balance_usdc + balance_eth*asset_price\n",
        "\n",
        "pool_return_at_final_time=r_p* V_h_0\n",
        "\n",
        "# Opt Parameters\n",
        "K_put =  Kput\n",
        "K_call =  Kcall\n",
        "d_call = dcall\n",
        "d_put = dput\n",
        "q_call =  np.max([cte_put,cte_call])#qcall*np.ones(100)[0]\n",
        "q_put = q_call  #qput*np.ones(100)[0]\n",
        "\n",
        "# Stgy calcs\n",
        "opt_stg = [payoff_CP_combination(p,K_call,K_put,d_call,d_put,q_call,q_put) for p in P]\n",
        "IL_sin_hedg_usd = [IL(p, balance_usdc, balance_eth, asset_price) for p in P]\n",
        "IL_con_hedg_usd = pool_return_at_final_time*np.ones(len(P)) + IL_sin_hedg_usd + opt_stg\n",
        "\n",
        "# WARNING\n",
        "costs = (q_call*dcall)+(q_put*dput)\n",
        "if costs > pool_return_at_final_time:\n",
        "    print(f'WARNING: Pools Fees: {pool_return_at_final_time} < Option Costs {costs}')\n",
        "\n",
        "\n",
        "# Plot\n",
        "fig, axs = plt.subplots(1,1,figsize = (20,7))\n",
        "axs.plot(P, IL_sin_hedg_usd, c = 'blue', label = 'IL')\n",
        "axs.plot(P, opt_stg, c = 'green', label = 'Long Strangle' )\n",
        "axs.plot(P, IL_con_hedg_usd, c = 'red', label = 'Hedge')\n",
        "\n",
        "axs.axhline(y = 0, color = 'black', linestyle = '--')\n",
        "axs.plot(asset_price, 0, 'bo')\n",
        "axs.plot(P_i, 0, 'ro', label='P_i')\n",
        "axs.plot(P_s, 0, 'ro', label='P_s')\n",
        "axs.plot(Kcall, 0, 'bo')\n",
        "axs.plot(Kput, 0, 'bo')\n",
        "# axs.set_xlim([1000,2000])\n",
        "axs.legend()\n",
        "plt.show()"
      ]
    },
    {
      "cell_type": "markdown",
      "metadata": {
        "id": "ysnYI_yd6vLx"
      },
      "source": [
        "\n",
        "Next, we print whether there is a hedge or not, comparing whether returns + IL < costs.\n",
        "\n",
        "(False = Hedge is profitable; True = Hedge is not profitable)"
      ]
    },
    {
      "cell_type": "code",
      "execution_count": 128,
      "metadata": {
        "colab": {
          "base_uri": "https://localhost:8080/",
          "height": 0
        },
        "id": "l-Ei9U9PH20t",
        "outputId": "44e5413b-3ea6-40b0-e87e-043be873d444"
      },
      "outputs": [
        {
          "output_type": "stream",
          "name": "stdout",
          "text": [
            "False\n"
          ]
        }
      ],
      "source": [
        "print( q_call*dcall + q_put*dput- np.min([IL(K_call, balance_usdc, balance_eth, asset_price), IL(K_put, balance_usdc, balance_eth, asset_price)])-pool_return_at_final_time>= 0)"
      ]
    },
    {
      "cell_type": "code",
      "execution_count": 129,
      "metadata": {
        "colab": {
          "base_uri": "https://localhost:8080/",
          "height": 0
        },
        "id": "XEOgUTkccSiT",
        "outputId": "3981c856-79ea-429a-cea6-6645ef6e9371"
      },
      "outputs": [
        {
          "output_type": "stream",
          "name": "stdout",
          "text": [
            "Capital inicial:  405210.0\n",
            "Costo total:  1598.1205774027708\n",
            "pcg:  0.0039439317326886575\n"
          ]
        }
      ],
      "source": [
        "D = q_call*dcall + q_put*dput\n",
        "V_h_0\n",
        "print(\"Initial capital: \", V_h_0)\n",
        "print(\"Total cost: \", D)\n",
        "print(\"pcg: \", D/V_h_0)"
      ]
    },
    {
      "cell_type": "markdown",
      "metadata": {
        "id": "I1Bj0Z-eCxQr"
      },
      "source": [
        "## Bibliography\n"
      ]
    },
    {
      "cell_type": "markdown",
      "metadata": {
        "id": "k_OonmDU_uZk"
      },
      "source": [
        "<a name=\"referencia1\">[1]</a> Angeris, Guillermo & Kao, Hsien-Tang & Chiang, Rei & Noyes, Charlie & Chitra, Tarun. (2020). An Analysis of Uniswap markets. Cryptoeconomic Systems. 10.21428/58320208.c9738e64.\n"
      ]
    },
    {
      "cell_type": "markdown",
      "metadata": {
        "id": "DjkBeSNGTwJ6"
      },
      "source": [
        "## Appendix I: Notation\n"
      ]
    },
    {
      "cell_type": "markdown",
      "metadata": {
        "id": "zyWUFLeXIvV9"
      },
      "source": [
        "The notation used in the reference bibliography \\[[1](#referencia1)\\] is linked as follows to the one we use here:\n",
        "\n",
        "$$ coins:\\ (\\alpha,\\beta) \\rightarrow (X, Y)$$\n",
        "$$ time: t_1 , t_2,...,T \\rightarrow 0, T \\ ^{(*)}$$\n",
        "$$ reserves\\ for\\ coin\\ \\alpha\\ at\\ time\\ t_1: R_\\alpha^{t_1} \\rightarrow x_0 \\ ^{(*)}$$\n",
        "$$ reserves\\ for\\ coin\\ \\beta\\ at\\ time\\ t_1\\ ^{(**)}: R_\\beta^{t_1} = \\sqrt{k\\ m_P^{t_1}}\\rightarrow y_0 = \\sqrt{k\\ P_0}\\ ^{(*)}$$\n",
        "$$ reserves\\ for\\ coin\\ \\alpha\\ at\\ time\\ T: R_\\alpha^T \\rightarrow x \\ ^{(*)}$$\n",
        "$$ reserves\\ for\\ coin\\ \\beta\\ at\\ time\\ T\\ ^{(**)}: R_\\beta^T = \\sqrt{k\\ m_P^T} \\rightarrow y = \\sqrt{k\\ P} \\ ^{(*)}$$\n",
        "$$ market\\ price\\ of\\ coin\\ \\alpha\\ at\\ time\\ t_1\\ ^{(**)}: m_p^1 = R_\\beta^{t_1} / R_\\alpha^{t_1} \\rightarrow P_0 = y_0 / x_0$$\n",
        "$$ market\\ price\\ of\\ coin\\ \\alpha\\ at\\ time\\ T\\ ^{(**)}: m_p^T = R_\\beta^T / R_\\alpha^T \\rightarrow P = y / x $$\n",
        "$$ constant\\ product\\ for\\ all\\ times\\ t : k = R_\\alpha^t \\ R_\\beta^t \\rightarrow k = x\\ y = x_0\\ y_0$$\n",
        "$$ liquidity\\ provider's\\ relative\\ return\\ between\\ time\\ t_1\\ and\\ T\\ ^{(**)}: \\delta = \\sqrt{\\frac{m_p^t}{m_p^1}} \\rightarrow \\sqrt{\\frac{P}{P_0}}= \\sqrt{R}$$\n",
        "$$ total\\ portfolio\\ value\\ ^{(**)}: P_V = 2 \\sqrt{k m_P^T} \\rightarrow V_{Pool_t} = 2 \\sqrt{k P}$$\n",
        "\n",
        "\n",
        "$^{(*)}$ See [note](#alcances) for the scope of this work.\n",
        "\n",
        "$^{(**)}$ Equations valid only for the case without fees.\n"
      ]
    },
    {
      "cell_type": "markdown",
      "metadata": {
        "id": "yVFuisor4_UG"
      },
      "source": [
        "\n",
        "## Appendix II: Formulas for Impermanent Loss with fees\n"
      ]
    },
    {
      "cell_type": "markdown",
      "metadata": {
        "id": "hmV-jtUH4_UH"
      },
      "source": [
        "Here we present formulas and functions incorporating fees for calculating Impermanent Loss.\n",
        "\n",
        "Let $fee=\\tau$, $\\phi = 1-\\tau$, $P:=p^{bid^1}$ and $P_0:=p^{bid^0}$. Knowing that $p^b = \\phi P_{Y|X} = \\phi \\frac{y}{x}$, $R=\\frac{P_{Y|X}}{P^0_{Y|X}}=\\frac{p^b}{p^b_0}$ and that $V_{Hold} = a+b*p^b$, we have\n",
        "\n",
        "\n",
        "\\begin{align*}\n",
        "  IL^{fee}_{\\%}(R) &= \\sqrt{R}\\frac{1+\\phi}{\\phi R+1} -1 \\Rightarrow \\frac{\\partial}{\\partial R}IL^{fee}_{\\%}(R) = \\frac{1+\\phi}{(1+\\phi R)^2}\\frac{1-\\phi R}{2\\sqrt{R}}\\\\\n",
        "  IL^{fee}_{\\%}(P) &= \\sqrt{PP_0}\\frac{1+\\phi}{P_0+\\phi P}-1 \\Rightarrow \\frac{\\partial}{\\partial P} IL^{fee}_{\\%}(P) = \\frac{1+\\phi}{2}\\sqrt{\\frac{P_0}{P}}\\frac{P_0-\\phi P}{(P_0+\\phi P)^2}\\\\\n",
        "  IL^{fee}_{USD}(P) &= IL^{fee}_{\\%}(P)*V_{Hold} \\text{ una forma} \\\\\n",
        "  &= \\frac{V_H^0}{2}\\left(\\sqrt{\\frac{P}{P_0}}\\frac{1+\\phi}{\\phi}-\\frac{P_0+\\phi P}{P_0\\sqrt{\\phi}}\\right) \\text{ otra forma} \\Rightarrow \\frac{\\partial}{\\partial P} IL^{fee}_{USD}(P) = \\frac{V_H^0}{2P_0}\\left(\\frac{1}{2}\\sqrt{\\frac{P_0}{P}}\\frac{1+\\phi}{\\phi}-\\sqrt{\\phi}\\right)\n",
        "\\end{align*}"
      ]
    },
    {
      "cell_type": "code",
      "execution_count": null,
      "metadata": {
        "id": "CEkorpI24_UI"
      },
      "outputs": [],
      "source": [
        "# Percentage Impermanent Loss based on R with fees\n",
        "def IL_R_fee(R,fee):\n",
        "  phi = 1-fee\n",
        "  return R**(1/2)*(1+phi)/(1+R*phi)-1\n",
        "# Percentage Impermanent Loss based on P with fees\n",
        "def IL_P_fee(P,fee):\n",
        "  phi = 1-fee\n",
        "  return IL_R_fee(P/P_entry,fee)\n",
        "  # return (P*P_entry)**(1/2)*(1+phi)/(P_entry+phi*P)-1\n",
        "# Impermanent Loss in USD based on P with fees\n",
        "def IL_P_in_usd_fee(P,fee):\n",
        "  phi = 1-fee\n",
        "  # P = R * P_entry\n",
        "  p_bid = P * phi\n",
        "  p_bid_entry = P_entry * phi\n",
        "  # p_bid_entry = P_entry * phi\n",
        "  V_hold = tenencias_inicial[0] + tenencias_inicial[1] * p_bid\n",
        "  V_hold_0 = tenencias_inicial[0] + tenencias_inicial[1] * p_bid_entry\n",
        "  return V_hold_0/2 * ( (p_bid/p_bid_entry)**(1/2) * (1+phi)/phi - (p_bid_entry + phi*p_bid) / (p_bid_entry*phi**(1/2)) )\n",
        "  # return IL_R_in_usd_fee(P/P_entry,fee)\n",
        "# Percentage IL derivative based on R with fees\n",
        "def IL_derivative_R_fee(R, fee):\n",
        "  phi = 1-fee\n",
        "  return (1+phi)/(1+phi*R)**2 * (1-phi*R)/(2*R**(1/2))\n",
        "# Percentage IL derivative based on P with fees\n",
        "def IL_derivative_P_fee(P,fee):\n",
        "  phi = 1-fee\n",
        "  p_bid_entry = P_entry * phi\n",
        "  p_bid = P *  phi\n",
        "  return IL_derivada_R_fee(P/P_entry, fee) / p_bid_entry\n",
        "  # return (1+phi)/2 * (p_bid_entry/p_bid)**(1/2) * (p_bid_entry-phi*p_bid)/(p_bid_entry+phi*p_bid)**2\n",
        "# USD IL derivative based on P with fees\n",
        "def IL_derivative_P_in_usd_fee(P,fee):\n",
        "  phi = 1-fee\n",
        "  p_bid = P * phi\n",
        "  p_bid_entry = P_entry * phi\n",
        "  V_hold = tenencias_inicial[0] + tenencias_inicial[1] * p_bid\n",
        "  V_hold_0 = tenencias_inicial[0] + tenencias_inicial[1] * p_bid_entry\n",
        "  return IL_derivada_P_fee(P,fee) * V_hold + IL_P_fee(P, fee) * tenencias_inicial[1]\n",
        "  # return V_hold_0/(2*p_bid_entry) * ( 1/2*(p_bid_entry/p_bid)**(1/2) * (1+phi)/phi - phi**(1/2) )"
      ]
    },
    {
      "cell_type": "markdown",
      "metadata": {
        "id": "_vruclR7SNm3"
      },
      "source": [
        "## Appendix III: Static Replicator for Constant Product Markets (CPM)"
      ]
    },
    {
      "cell_type": "code",
      "execution_count": null,
      "metadata": {
        "id": "bstvBjT9SeXV"
      },
      "outputs": [],
      "source": [
        "import numpy as np\n",
        "import pandas as pd\n",
        "import math\n",
        "import matplotlib.pyplot as plt\n",
        "from scipy.stats import norm"
      ]
    },
    {
      "cell_type": "code",
      "execution_count": null,
      "metadata": {
        "id": "MHbpgAxLStYa"
      },
      "outputs": [],
      "source": [
        "\"\"\"\n",
        "european_option_bs\n",
        "Def\n",
        "European option price calculator using the Black Scholes model\n",
        "Inputs\n",
        "- type: string - Contract type between [\"CALL\",\"PUT\"]\n",
        "- S: float - Spot price of the asset\n",
        "- K: float - Strike price of the contract\n",
        "- T: float - Time to expiration (in years)\n",
        "- r: float - Risk-free rate (annualized)\n",
        "- sigma: float - Implied volatility (annualized)\n",
        "- div: float - Continuous dividend rate (annualized)\n",
        "Outputs\n",
        "- price_BS: float - Contract price\n",
        "\"\"\"\n",
        "\n",
        "def european_option_bs(type, S, K, T, r, sigma, div):\n",
        "#Define the ds\n",
        "d1 = (np.log(S / K) + (r - div + 0.5 * sigma * sigma) * T) / sigma / np.sqrt(T)\n",
        "    d2 = (np.log(S / K) + (r - div - 0.5 * sigma * sigma) * T) / sigma / np.sqrt(T)\n",
        "\n",
        "    if (type == \"C\"):\n",
        "        price_BS = np.exp(-div*T) *S * norm.cdf(d1) - K * np.exp(-r * T) * norm.cdf(d2)\n",
        "    elif (type == \"P\"):\n",
        "        price_BS = K * np.exp(-r * T) * norm.cdf(-d2) - np.exp(-div*T) * S * norm.cdf(-d1)\n",
        "    return price_BS"
      ]
    },
    {
      "cell_type": "markdown",
      "metadata": {
        "id": "TDteRoM6VdAP"
      },
      "source": [
        "\n",
        "### Example: Replicating a CPM with bonds, futures and options"
      ]
    },
    {
      "cell_type": "markdown",
      "metadata": {
        "id": "o41VAqxUSz2V"
      },
      "source": [
        "Consider a constant product market with state\n",
        "$$ (t,R_a,R_b) = (1,10,200) $$\n",
        "\n",
        "The price of $\\beta$ in units of $\\alpha$ is $m_p ^1 = \\frac{R_\\beta}{R_{\\alpha}}$.\n",
        "The initial pool value (in units of $\\beta$) is\n",
        "$$P_V ^1 = (m_p ^1 R_{\\alpha}^{1}+R_{\\beta}^{1})=0.005*200 + 10 = 20 $$\n",
        "\n",
        "The replicating portfolio is:\n",
        "\n",
        "Nominal value of the bond: $f(m^{0})= 2\\sqrt{km^{0}}= 2\\sqrt{2000*0.05}=20$\n",
        "\n",
        "Notional value of futures $m^0$: $f'(m^0)=\\sqrt{\\frac{k}{m^{0}}}= \\sqrt{\\frac{2000}{0.05}}=200$\n",
        "\n",
        "Notional value of options with strike $K$:  $f''(K)=-\\frac{1}{2}\\sqrt{\\frac{k}{K^3}} dK = -\\frac{0.0125}{2}\\sqrt{\\frac{2000}{K^3}} dK$\n",
        "\n",
        "\n",
        "If, for example, we have a discrete number of strikes $K=(0.125, 0.025, . . . , 0.1)$, the payoff at expiration is left\n",
        "\n",
        "$$\n",
        "    P_V^{T}=f(m^0)+f'(m^0)(m^T-m^0)+\n",
        "     \\sum _{K\\leq m_p ^{0}}f''(K)P(K)\\Delta K +\\sum _{K>m_p ^0} f''(K)C(K)\\Delta K.\n",
        "$$"
      ]
    },
    {
      "cell_type": "code",
      "execution_count": null,
      "metadata": {
        "id": "AvUbZonsS59J"
      },
      "outputs": [],
      "source": [
        "def face_value_bond (x, k):\n",
        "    return 2*np.sqrt(k*x)\n",
        "def notional_future (x, k):\n",
        "    return np.sqrt(k/x)\n",
        "def notional_option (x, delta_x, k):\n",
        "    return -(1/2)*np.sqrt(k/(x**3))*(delta_x)\n",
        "\n",
        "\n",
        "def replicator_with_option_discr_bs(m_T, m_0, K, k):\n",
        "    # Parámetros para las opciones\n",
        "    T = 1\n",
        "    r = 0.1\n",
        "    div = 0\n",
        "    sigma = 0.2\n",
        "    bond = face_value_bond(m_0, k)\n",
        "    futures = notional_future(m_0,k)*(m_T-m_0)\n",
        "    sum_calls = 0\n",
        "    sum_puts = 0\n",
        "    for i in range(1, len(K)):\n",
        "        if K[i] > m_0:\n",
        "            sum_calls = sum_calls + notional_option(K[i],K[i]-K[i-1],k)*european_option_bs(\"C\", m_T, K[i], T, r , sigma, div)\n",
        "        else:\n",
        "            sum_puts = sum_puts + notional_option(K[i],K[i]-K[i-1],k)*european_option_bs(\"P\", m_T, K[i], T, r , sigma, div)\n",
        "    return bond + futures + sum_calls + sum_puts"
      ]
    },
    {
      "cell_type": "code",
      "execution_count": null,
      "metadata": {
        "id": "_vBcmm5eS_yr"
      },
      "outputs": [],
      "source": [
        "S = np.linspace(0, 0.1, 6) # rango a graficar\n",
        "m_0 = 0.05\n",
        "k= 2000\n",
        "# strikes\n",
        "K = np.linspace(0.0125,0.1,8)\n",
        "\n",
        "replicator_discr_bs = replicator_with_option_discr_bs(S,m_0,K,k)\n",
        "#Grafico el Strangle\n",
        "\n",
        "fig, axs = plt.subplots(1,1,figsize = (20,7))\n",
        "axs.plot(S, replicator_discr_bs, c = 'blue', label = 'replicated payoff')\n",
        "axs.plot(S, 2*np.sqrt(k*S), c = 'red', label = 'P_V ^T')\n",
        "axs.axhline(y = 0, color = 'black', linestyle = '--')\n",
        "axs.legend()\n",
        "plt.plot()"
      ]
    },
    {
      "cell_type": "markdown",
      "metadata": {
        "id": "oeAERJfRWM9u"
      },
      "source": [
        "\n",
        "## Appendix IV: Valuation of European Options Using BSM"
      ]
    },
    {
      "cell_type": "markdown",
      "metadata": {
        "id": "9eZwgvUZwf8I"
      },
      "source": [
        "Although we had intended to use the Black-Scholes-Merton model in conjunction with historical volatility to determine whether the option prices we obtained were reasonably priced or not, we ultimately decided not to do so to limit the length of the work. It can also be used to calculate the theoretical volatility that would correspond to the observed prices.\n"
      ]
    },
    {
      "cell_type": "markdown",
      "metadata": {
        "id": "pc8nzVm6UsvC"
      },
      "source": [
        "### Code"
      ]
    },
    {
      "cell_type": "code",
      "execution_count": null,
      "metadata": {
        "id": "-e4t_r57VRp0"
      },
      "outputs": [],
      "source": [
        "!pip install QuantLib"
      ]
    },
    {
      "cell_type": "code",
      "execution_count": null,
      "metadata": {
        "id": "vB9r8nHsUjny"
      },
      "outputs": [],
      "source": [
        "\n",
        "### Modeling European Options with BSM (QuantLib)\n",
        "\n",
        "import numpy as np\n",
        "import QuantLib as ql\n",
        "from QuantLib.QuantLib import nullInt\n",
        "from pandas.core.base import DataError\n",
        "from datetime import timedelta, datetime\n",
        "\n",
        "def payoff(type, price, strike):\n",
        "  if type == 'CALL':\n",
        "  option_type = ql. Option. Call\n",
        "  elif type == 'PUT':\n",
        "  option_type = ql. Option. Put\n",
        "  return ql. PlainVanillaPayoff(option_type, strike)\n",
        "\n",
        "def constant_rate(valuation_date, interest_rate):\n",
        "  return ql. YieldTermStructureHandle(ql. FlatForward(valuation_date, interest_rate,\n",
        "  ql. Actual365Fixed()))\n",
        "\n",
        "def get_rate_value(rate_object, expiration_date):\n",
        "  return rate_object. forwardRate(rate_object. valuation_date,\n",
        "  expiration_date,\n",
        "  ql. Actual365Fixed(),\n",
        "  ql. Continuous). rate()\n",
        "\n",
        "def volatility(valuation_date, calendar, volatility_value):\n",
        "  return ql. BlackVolTermStructureHandle(\n",
        "  ql. BlackConstantVol(valuation_date,\n",
        "  calendar,\n",
        "  volatility_value,\n",
        "  ql. Actual365Fixed()\n",
        "  )\n",
        "  )\n",
        "\n",
        "def get_volatility_value(volatility_object, expiration_date, base):\n",
        "  return volatility_object. BlackVol(expiration_date, base)\n",
        "\n",
        "def BSM_process(asset_price, valuation_date, volatility_value, interest_rate, dividend_rate, calendar):\n",
        "  ql. Settings. instance(). evaluationDate = valuation_date\n",
        "  spot_object = ql. QuoteHandle(ql. SimpleQuote(asset_price))\n",
        "  interest_rate_object = constant_rate(valuation_date, interest_rate)\n",
        "  dividend_rate_object = constant_rate(valuation_date, dividend_rate)\n",
        "  volatility_object = volatility(valuation_date, calendar, volatility_value)\n",
        "  return ql.BlackScholesMertonProcess(spot_object,\n",
        "  dividend_rate_object,\n",
        "  interest_rate_object,\n",
        "  volatility_object)\n",
        "\n",
        "def price_european_option_bsM(type, price, basis, expiration, BSM_process):\n",
        "  European_exercise = ql.EuropeanExercise(expiration)\n",
        "  European_option = ql.VanillaOption(payoff(type, price, basis),\n",
        "  European_exercise)\n",
        "  European_option.setPricingEngine(ql.AnalyticEuropeanEngine(BSM_process))\n",
        "  return max(European_option.NPV(),0)\n"
      ]
    },
    {
      "cell_type": "markdown",
      "metadata": {
        "id": "0bauHt3DVuAL"
      },
      "source": [
        "### Parameters"
      ]
    },
    {
      "cell_type": "code",
      "execution_count": null,
      "metadata": {
        "id": "Ydvtz7mu4_UZ"
      },
      "outputs": [],
      "source": [
        "volatility_value = 0.3394 #Annualized Implied Volatility (sigma)\n",
        "interest_rate = 0.0325 #Annualized Risk-Free Rate (r) - volume US02Y\n",
        "dividend_rate = 0.0 #Annualized Dividend Rate (q)\n",
        "\n",
        "##Valuation on July 18, 2022\n",
        "#valuation_date = ql.Date(18, 7, 2022)\n",
        "##Valuation with today's date\n",
        "valuation_date = datetime.now()\n",
        "valuation_date = ql.Date(int(valuation_date.strftime('%d')),\n",
        "int(valuation_date.strftime('%m')),\n",
        "int(valuation_date.strftime('%Y')))\n",
        "#valuation_date = ql.Date(28,7,2022)\n",
        "##Expiration on August 16, 2022\n",
        "expiration_date = ql.Date(28, 8, 2022)\n",
        "# US Market\n",
        "calendar = ql.UnitedStates()"
      ]
    },
    {
      "cell_type": "markdown",
      "metadata": {
        "id": "u-29gVLdVyAV"
      },
      "source": [
        "### Results"
      ]
    },
    {
      "cell_type": "code",
      "execution_count": null,
      "metadata": {
        "id": "dpqbITPX4_UZ"
      },
      "outputs": [],
      "source": [
        "asset_price = option_data[\"underlying_price\"][1]\n",
        "print(\"European ETH option prices evaluated as of date \" +\n",
        "str(valuation_date) +\n",
        "\" knowing that: \\n\" +\n",
        "\"\\tcurrent price \" + str(asset_price) + \"\\n\" +\n",
        "\"\\tvolatility \" + str(volatility_value) + \"\\n\" +\n",
        "\"\\trisk-free rate \" + str(interest_rate) + \"\\n\" +\n",
        "\"\\tdividend rate \" + str(dividend_rate))\n",
        "\n",
        "for (basis, rate) in (K_put, 'PUT'), (K_call, 'CALL'):\n",
        "print(\"European option price \" + str(rate) + \"strike\" +\n",
        "str(basis) +\" expiration \"+ str(expiration_date) +\" according to BSM: \"+\n",
        "            str(price_european_option_bsM(type,\n",
        "                                      asset_price,\n",
        "                                      base,\n",
        "                                      base,\n",
        "                                      expiration_date,\n",
        "                                      BSM_process(asset_price,\n",
        "                                      valuation_date,\n",
        "                                      volatility_value,\n",
        "                                      interest_rate,\n",
        "                                      dividend_rate,\n",
        "                                      calendar)\n",
        "                                      )\n",
        "               )\n",
        "            )\n",
        "\n",
        "\n"
      ]
    }
  ]
}