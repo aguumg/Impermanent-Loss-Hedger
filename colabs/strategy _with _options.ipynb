{
 "cells": [
  {
   "cell_type": "markdown",
   "metadata": {},
   "source": [
    "## Librerias"
   ]
  },
  {
   "cell_type": "code",
   "execution_count": 2,
   "metadata": {},
   "outputs": [],
   "source": [
    "import numpy as np\n",
    "import pandas as pd\n",
    "import matplotlib.pyplot as plt"
   ]
  },
  {
   "cell_type": "markdown",
   "metadata": {},
   "source": [
    "## Fórmulas para la Pérdida Impermanente"
   ]
  },
  {
   "cell_type": "markdown",
   "metadata": {},
   "source": [
    "### Fórmulas para las Pérdidas Impermanentes sin fees"
   ]
  },
  {
   "cell_type": "markdown",
   "metadata": {},
   "source": [
    "Definimos las funciones de Impermanent Loss como % y en USD, en términos de $R=\\frac{P}{P_0}$ y de $P$, dadas por\n",
    "\n",
    "\\begin{align*}\n",
    "  IL_{\\%}(R) &= \\frac{2\\sqrt{R}}{R+1} -1 \\Rightarrow IL_{USD}(R) = IL_{\\%}(R)*V_{Hold};\\\\\n",
    "  IL_{\\%}(P) &= 2\\sqrt{P_0}\\frac{\\sqrt{P}}{P+P_0}-1 \\Rightarrow IL_{USD}(P) = IL_{\\%}(P)*V_{Hold};\\\\ \n",
    "\\end{align*}\n",
    "\n",
    "Hay otra escritura posible para $IL_{USD}(P)$ que sale usando\n",
    "\n",
    "\\begin{align*}\n",
    "  V_P &= 2\\sqrt{kP} = 2\\sqrt{kP_0}\\sqrt{\\frac{P}{P_0}} = V_P^0\\sqrt{\\frac{P}{P_0}},\\\\\n",
    "  V_H &= \\sqrt{kP_0}\\left(\\frac{P}{P_0}+1\\right) = 2\\sqrt{kP_0}\\frac{1}{2}\\left(\\frac{P}{P_0}+1\\right)=\\frac{V_H^0}{2}\\left(\\frac{P}{P_0}+1\\right).\n",
    "\\end{align*}\n",
    "\n",
    "Nos queda entonces\n",
    "\n",
    "$$IL_{USD}(P) = V_P - V_H = V_H^0\\left(\\sqrt{\\frac{P}{P_0}}-\\frac{1}{2}-\\frac{P}{2P_0}\\right).$$"
   ]
  },
  {
   "cell_type": "code",
   "execution_count": 4,
   "metadata": {},
   "outputs": [],
   "source": [
    "def IL_R(R):\n",
    "  return 2 * R**(1/2)/(R+1)-1\n",
    "def IL_P(P):\n",
    "  # return IL_R(P/P_entry)\n",
    "  return 2 * (P_entry)**(1/2) * P**(1/2)/(P+P_entry)-1\n",
    "def IL_R_in_usd(R):\n",
    "  P = R * P_entry\n",
    "  V_hold = tenencias_inicial[0] + tenencias_inicial[1] * P\n",
    "  return IL_R(R) * V_hold\n",
    "def IL_P_in_usd(P):\n",
    "  V_hold = tenencias_inicial[0] + tenencias_inicial[1] * P\n",
    "  # V_hold_0 = tenencias_inicial[0] + tenencias_inicial[1] * P_entry\n",
    "  # return IL_R_in_usd(P/P_entry)\n",
    "  return IL_P(P) * V_hold\n",
    "  # return V_hold_0 * ((P/P_entry)**(1/2) - 1/2 - P/(2*P_entry))"
   ]
  },
  {
   "cell_type": "markdown",
   "metadata": {},
   "source": [
    "Podemos entonces calcular la derivada de IL\n",
    "\n",
    "\\begin{align*}\n",
    "  \\frac{\\partial}{\\partial R}IL_{\\%}(R) &= \\frac{1-R}{\\sqrt{R}(R+1)^2}; \\\n",
    "  \\frac{\\partial}{\\partial P}IL_{\\%}(P) = \\sqrt{P_0}\\frac{P_0-P}{\\sqrt{P}(P+P_0)^2} \\\\ \n",
    "  \\Rightarrow \\frac{\\partial}{\\partial P}IL_{USD}(P) &= \\frac{\\partial}{\\partial P}IL_{\\%}(P) * V_{Hold} + IL_{\\%}(P) * \\frac{\\partial}{\\partial P}V_{Hold}\\\\\n",
    "  &= \\frac{\\partial}{\\partial P}IL_{\\%}(P) * V_{Hold} + IL_{\\%}(P) * b,\n",
    "\\end{align*}\n",
    "donde en la última identidad usamod $V_{Hold} = tenencias\\_inicial[0] + tenencias\\_inicial[1] * P =: a + b*P$.\n",
    "\n",
    "Equivalentemente, si usamos $$IL_{USD}(P) = V_P - V_H = V_H^0\\left(\\sqrt{\\frac{P}{P_0}}-\\frac{1}{2}-\\frac{P}{2P_0}\\right),$$\n",
    "nos queda\n",
    "$$\\frac{\\partial}{\\partial P}IL_{USD}(P) = \\frac{V^0_H}{2P_0}\\left(\\sqrt{\\frac{P_0}{P}}-1\\right).$$"
   ]
  },
  {
   "cell_type": "code",
   "execution_count": 19,
   "metadata": {},
   "outputs": [],
   "source": [
    "#\n",
    "def IL_derivada_R(R):\n",
    "  return (1-R) / (R**(1/2)*(R+1)**2)\n",
    "def IL_derivada_P(P):\n",
    "  return IL_derivada_R(P/P_entry) / P_entry\n",
    "  # return (P_entry)**(1/2)*(P_entry-P)/(P**(1/2)*(P+P_entry)**2)\n",
    "def IL_derivada_P_in_usd(P):\n",
    "  V_hold = tenencias_inicial[0] + tenencias_inicial[1] * P\n",
    "  V_hold_0 = tenencias_inicial[0] + tenencias_inicial[1] * P_entry\n",
    "  return IL_derivada_P(P) * V_hold + IL_P(P) * tenencias_inicial[1]\n",
    "  # return V_hold_0/(2*P_entry) * ((P_entry/P)**(1/2) - 1)"
   ]
  },
  {
   "cell_type": "markdown",
   "metadata": {},
   "source": [
    "### Fórmulas con fees"
   ]
  },
  {
   "cell_type": "markdown",
   "metadata": {},
   "source": [
    "Agregamos también las fórmulas incorporando fees. Sean $fee=\\tau$, $\\phi = 1-\\tau$, $P:=p^{bid^1}$ y $P_0:=p^{bid^0}$. Sabiendo que $p^b = \\phi P_{Y|X} = \\phi \\frac{y}{x}$, $R=\\frac{P_{Y|X}}{P^0_{Y|X}}=\\frac{p^b}{p^b_0}$ y que $V_{Hold} = a+b*p^b$, tenemos\n",
    "\n",
    "\\begin{align*}\n",
    "  IL^{fee}_{\\%}(R) &= \\sqrt{R}\\frac{1+\\phi}{\\phi R+1} -1 \\Rightarrow \\frac{\\partial}{\\partial R}IL^{fee}_{\\%}(R) = \\frac{1+\\phi}{(1+\\phi R)^2}\\frac{1-\\phi R}{2\\sqrt{R}};\\\\\n",
    "  IL^{fee}_{\\%}(P) &= \\sqrt{PP_0}\\frac{1+\\phi}{P_0+\\phi P}-1 \\Rightarrow \\frac{\\partial}{\\partial P} IL^{fee}_{\\%}(P) = \\frac{1+\\phi}{2}\\sqrt{\\frac{P_0}{P}}\\frac{P_0-\\phi P}{(P_0+\\phi P)^2};\\\\ \n",
    "  IL^{fee}_{USD}(P) &= IL^{fee}_{\\%}(P)*V_{Hold} \\text{ una forma} \\\\\n",
    "  &= \\frac{V_H^0}{2}\\left(\\sqrt{\\frac{P}{P_0}}\\frac{1+\\phi}{\\phi}-\\frac{P_0+\\phi P}{P_0\\sqrt{\\phi}}\\right) \\text{ otra forma} \\Rightarrow \\frac{\\partial}{\\partial P} IL^{fee}_{USD}(P) = \\frac{V_H^0}{2P_0}\\left(\\frac{1}{2}\\sqrt{\\frac{P_0}{P}}\\frac{1+\\phi}{\\phi}-\\sqrt{\\phi}\\right).\n",
    "\\end{align*}"
   ]
  },
  {
   "cell_type": "code",
   "execution_count": 5,
   "metadata": {},
   "outputs": [],
   "source": [
    "def IL_R_fee(R,fee):\n",
    "  phi = 1-fee\n",
    "  return R**(1/2)*(1+phi)/(1+R*phi)-1\n",
    "def IL_P_fee(P,fee):\n",
    "  phi = 1-fee\n",
    "  return IL_R_fee(P/P_entry,fee)\n",
    "  # return (P*P_entry)**(1/2)*(1+phi)/(P_entry+phi*P)-1\n",
    "def IL_P_in_usd_fee(P,fee):\n",
    "  phi = 1-fee\n",
    "  # P = R * P_entry\n",
    "  p_bid = P * phi\n",
    "  p_bid_entry = P_entry * phi\n",
    "  # p_bid_entry = P_entry * phi\n",
    "  V_hold = tenencias_inicial[0] + tenencias_inicial[1] * p_bid\n",
    "  V_hold_0 = tenencias_inicial[0] + tenencias_inicial[1] * p_bid_entry\n",
    "  return V_hold_0/2 * ( (p_bid/p_bid_entry)**(1/2) * (1+phi)/phi - (p_bid_entry + phi*p_bid) / (p_bid_entry*phi**(1/2)) )\n",
    "  # return IL_R_in_usd_fee(P/P_entry,fee)\n",
    "#\n",
    "def IL_derivada_R_fee(R, fee):\n",
    "  phi = 1-fee\n",
    "  return (1+phi)/(1+phi*R)**2 * (1-phi*R)/(2*R**(1/2))\n",
    "def IL_derivada_P_fee(P,fee):\n",
    "  phi = 1-fee\n",
    "  p_bid_entry = P_entry * phi\n",
    "  p_bid = P *  phi\n",
    "  return IL_derivada_R_fee(P/P_entry, fee) / p_bid_entry\n",
    "  # return (1+phi)/2 * (p_bid_entry/p_bid)**(1/2) * (p_bid_entry-phi*p_bid)/(p_bid_entry+phi*p_bid)**2\n",
    "def IL_derivada_P_in_usd_fee(P,fee):\n",
    "  phi = 1-fee\n",
    "  p_bid = P * phi\n",
    "  p_bid_entry = P_entry * phi\n",
    "  V_hold = tenencias_inicial[0] + tenencias_inicial[1] * p_bid\n",
    "  V_hold_0 = tenencias_inicial[0] + tenencias_inicial[1] * p_bid_entry\n",
    "  return IL_derivada_P_fee(P,fee) * V_hold + IL_P_fee(P, fee) * tenencias_inicial[1] \n",
    "  # return V_hold_0/(2*p_bid_entry) * ( 1/2*(p_bid_entry/p_bid)**(1/2) * (1+phi)/phi - phi**(1/2) )"
   ]
  },
  {
   "cell_type": "markdown",
   "metadata": {},
   "source": [
    "### Probando los gráficos"
   ]
  },
  {
   "cell_type": "code",
   "execution_count": 20,
   "metadata": {},
   "outputs": [],
   "source": [
    "R_minus = np.arange(0.01, 1, 0.01)\n",
    "R_plus = np.arange(1, 10, 0.01)"
   ]
  },
  {
   "cell_type": "code",
   "execution_count": 21,
   "metadata": {},
   "outputs": [
    {
     "data": {
      "image/png": "[encoded data removed]",
      "text/plain": [
       "<Figure size 1440x504 with 1 Axes>"
      ]
     },
     "metadata": {
      "needs_background": "light"
     },
     "output_type": "display_data"
    }
   ],
   "source": [
    "fig, axs = plt.subplots(1,1,figsize = (20,7))\n",
    "# axs.plot(R_minus, IL_R(R_minus), c='red')\n",
    "# axs.plot(R_plus, IL_R(R_plus), c='blue')\n",
    "# axs.plot(R_minus*P_entry, IL_P(R_minus*P_entry), c='red')\n",
    "# axs.plot(R_plus*P_entry, IL_P(R_plus*P_entry), c='blue')\n",
    "# axs.plot(R_minus, IL_R_in_usd(R_minus), c='red')\n",
    "# axs.plot(R_plus, IL_R_in_usd(R_plus), c='blue')\n",
    "# axs.plot(R_minus*P_entry, IL_P_in_usd(R_minus*P_entry), c='red')\n",
    "# axs.plot(R_plus*P_entry, IL_P_in_usd(R_plus*P_entry), c='blue')\n",
    "# with fees\n",
    "# fee = 0.00075\n",
    "# axs.plot(R_minus, IL_R_fee(R_minus, fee), c='red')\n",
    "# axs.plot(R_plus, IL_R_fee(R_plus, fee), c='blue')\n",
    "# axs.plot(R_minus*P_entry, IL_P_fee(R_minus*P_entry, fee), c='red')\n",
    "# axs.plot(R_plus*P_entry, IL_P_fee(R_plus*P_entry, fee), c='blue')\n",
    "# axs.plot(R_minus*P_entry, IL_P_in_usd_fee(R_minus*P_entry, fee), c='red')\n",
    "# axs.plot(R_plus*P_entry, IL_P_in_usd_fee(R_plus*P_entry, fee), c='blue')"
   ]
  },
  {
   "cell_type": "code",
   "execution_count": 22,
   "metadata": {},
   "outputs": [
    {
     "data": {
      "text/plain": [
       "[<matplotlib.lines.Line2D at 0x165fa1fe550>]"
      ]
     },
     "execution_count": 22,
     "metadata": {},
     "output_type": "execute_result"
    },
    {
     "data": {
      "image/png": "[encoded data removed]",
      "text/plain": [
       "<Figure size 1440x504 with 2 Axes>"
      ]
     },
     "metadata": {
      "needs_background": "light"
     },
     "output_type": "display_data"
    }
   ],
   "source": [
    "fig, axs = plt.subplots(2,1,figsize = (20,7))\n",
    "axs[0].plot(R_minus, IL_derivada_R(R_minus), c='red')\n",
    "axs[1].plot(R_plus, IL_derivada_R(R_plus), c='blue')\n",
    "# axs[0].plot(R_minus*P_entry, IL_derivada_P(R_minus*P_entry), c='red')\n",
    "# axs[1].plot(R_plus*P_entry, IL_derivada_P(R_plus*P_entry), c='blue')\n",
    "# axs[0].plot(R_minus*P_entry, IL_derivada_P_in_usd(R_minus*P_entry), c='red')\n",
    "# axs[1].plot(R_plus*P_entry, IL_derivada_P_in_usd(R_plus*P_entry), c='blue')\n",
    "# with fees\n",
    "# fee = 0.00075\n",
    "# axs[0].plot(R_minus, IL_derivada_R_fee(R_minus, fee), c='red')\n",
    "# axs[1].plot(R_plus, IL_derivada_R_fee(R_plus, fee), c='blue')\n",
    "# axs[0].plot(R_minus*P_entry, IL_derivada_P_fee(R_minus*P_entry, fee), c='red')\n",
    "# axs[1].plot(R_plus*P_entry, IL_derivada_P_fee(R_plus*P_entry, fee), c='blue')\n",
    "# axs[0].plot(R_minus*P_entry, IL_derivada_P_in_usd_fee(R_minus*P_entry, fee), c='red')\n",
    "# axs[1].plot(R_plus*P_entry, IL_derivada_P_in_usd_fee(R_plus*P_entry, fee), c='blue')"
   ]
  },
  {
   "cell_type": "markdown",
   "metadata": {},
   "source": [
    "El siguiente gráfico muestra la fórmula de la pérdida impermanente en términos de la relación de precios entre cuando se proporcionó liquidez y el momento actual"
   ]
  },
  {
   "cell_type": "code",
   "execution_count": null,
   "metadata": {},
   "outputs": [
    {
     "data": {
      "text/html": [
       "<div>\n",
       "<style scoped>\n",
       "    .dataframe tbody tr th:only-of-type {\n",
       "        vertical-align: middle;\n",
       "    }\n",
       "\n",
       "    .dataframe tbody tr th {\n",
       "        vertical-align: top;\n",
       "    }\n",
       "\n",
       "    .dataframe thead th {\n",
       "        text-align: right;\n",
       "    }\n",
       "</style>\n",
       "<table border=\"1\" class=\"dataframe\">\n",
       "  <thead>\n",
       "    <tr style=\"text-align: right;\">\n",
       "      <th></th>\n",
       "      <th>0</th>\n",
       "      <th>1</th>\n",
       "      <th>2</th>\n",
       "      <th>3</th>\n",
       "      <th>4</th>\n",
       "      <th>5</th>\n",
       "      <th>6</th>\n",
       "      <th>7</th>\n",
       "      <th>8</th>\n",
       "      <th>9</th>\n",
       "      <th>10</th>\n",
       "      <th>11</th>\n",
       "      <th>12</th>\n",
       "      <th>13</th>\n",
       "      <th>14</th>\n",
       "    </tr>\n",
       "  </thead>\n",
       "  <tbody>\n",
       "    <tr>\n",
       "      <th>Price change</th>\n",
       "      <td>-100.0%</td>\n",
       "      <td>-80.0%</td>\n",
       "      <td>-60.0%</td>\n",
       "      <td>-40.0%</td>\n",
       "      <td>-20.0%</td>\n",
       "      <td>-0.0%</td>\n",
       "      <td>20.0%</td>\n",
       "      <td>40.0%</td>\n",
       "      <td>60.0%</td>\n",
       "      <td>80.0%</td>\n",
       "      <td>100.0%</td>\n",
       "      <td>120.0%</td>\n",
       "      <td>140.0%</td>\n",
       "      <td>160.0%</td>\n",
       "      <td>180.0%</td>\n",
       "    </tr>\n",
       "    <tr>\n",
       "      <th>R</th>\n",
       "      <td>0.0%</td>\n",
       "      <td>20.0%</td>\n",
       "      <td>40.0%</td>\n",
       "      <td>60.0%</td>\n",
       "      <td>80.0%</td>\n",
       "      <td>100.0%</td>\n",
       "      <td>120.0%</td>\n",
       "      <td>140.0%</td>\n",
       "      <td>160.0%</td>\n",
       "      <td>180.0%</td>\n",
       "      <td>200.0%</td>\n",
       "      <td>220.0%</td>\n",
       "      <td>240.0%</td>\n",
       "      <td>260.0%</td>\n",
       "      <td>280.0%</td>\n",
       "    </tr>\n",
       "    <tr>\n",
       "      <th>IL ratio</th>\n",
       "      <td>100.0%</td>\n",
       "      <td>30.0%</td>\n",
       "      <td>10.0%</td>\n",
       "      <td>0.0%</td>\n",
       "      <td>0.0%</td>\n",
       "      <td>0.0%</td>\n",
       "      <td>0.0%</td>\n",
       "      <td>0.0%</td>\n",
       "      <td>0.0%</td>\n",
       "      <td>0.0%</td>\n",
       "      <td>10.0%</td>\n",
       "      <td>10.0%</td>\n",
       "      <td>10.0%</td>\n",
       "      <td>10.0%</td>\n",
       "      <td>10.0%</td>\n",
       "    </tr>\n",
       "  </tbody>\n",
       "</table>\n",
       "</div>"
      ],
      "text/plain": [
       "                   0       1       2       3       4       5       6       7   \\\n",
       "Price change  -100.0%  -80.0%  -60.0%  -40.0%  -20.0%   -0.0%   20.0%   40.0%   \n",
       "R                0.0%   20.0%   40.0%   60.0%   80.0%  100.0%  120.0%  140.0%   \n",
       "IL ratio       100.0%   30.0%   10.0%    0.0%    0.0%    0.0%    0.0%    0.0%   \n",
       "\n",
       "                  8       9       10      11      12      13      14  \n",
       "Price change   60.0%   80.0%  100.0%  120.0%  140.0%  160.0%  180.0%  \n",
       "R             160.0%  180.0%  200.0%  220.0%  240.0%  260.0%  280.0%  \n",
       "IL ratio        0.0%    0.0%   10.0%   10.0%   10.0%   10.0%   10.0%  "
      ]
     },
     "metadata": {},
     "output_type": "display_data"
    },
    {
     "data": {
      "image/png": "[encoded data removed]",
      "text/plain": [
       "<Figure size 1440x504 with 1 Axes>"
      ]
     },
     "metadata": {},
     "output_type": "display_data"
    }
   ],
   "source": [
    "\n",
    "balance_usdc = 40000\n",
    "balance_eth = 100\n",
    "P_eth_0 = balance_usdc / balance_eth\n",
    "price_change = np.arange(-1, 2, 0.2)\n",
    "fig, axs = plt.subplots(1,1,figsize = (20,7))\n",
    "axs.plot(P_eth_0*(1+price_change), IL_R(1+price_change), c = 'blue')\n",
    "\n",
    "pd.DataFrame([[str(round(i*100,3))+'%',\n",
    "               str(round((i+1)*100,3))+'%',\n",
    "               str(round(abs(IL_R(i+1)),1)*100)+'%'] for i in price_change],\n",
    "             columns = ['Price change', 'R', 'IL ratio']).T\n"
   ]
  },
  {
   "cell_type": "markdown",
   "metadata": {},
   "source": [
    "La pérdida impermanente ocurre sin importar en qué dirección cambie el precio: los casos en que el precio cae pueden ser más peligrosos que cuando el precio aumenta."
   ]
  },
  {
   "cell_type": "markdown",
   "metadata": {},
   "source": [
    "## Estrategias de hedging  con opciones"
   ]
  },
  {
   "cell_type": "markdown",
   "metadata": {},
   "source": [
    "Los futuros son un instrumento tipico para hedgearse contra movimientos de precio, el problema es que ofrecen protección lineal pero la IL tiene un comportamiento no lineal bidireccional.\n",
    "\n",
    "Es por eso que las opciones son un mejor instrumento, como veremos a continuación.\n",
    "\n",
    "El problema con las opciones es que tienen un costo y la estrategia puede dejar de ser rentable si no se estudia cuidadosamente la cantidad de opciones y el rebalanceo necesarios."
   ]
  },
  {
   "cell_type": "markdown",
   "metadata": {},
   "source": [
    "\n",
    "Con una estrategia conocida como Long Strangle, que consiste de holdear un call y un put sobre el mismo activo pero con diferentes strike prices, podemos hedgear la IL hasta cierto punto.\n"
   ]
  },
  {
   "cell_type": "markdown",
   "metadata": {},
   "source": [
    "##### Más funciones:"
   ]
  },
  {
   "cell_type": "markdown",
   "metadata": {},
   "source": [
    "La siguiente función toma un precio $P$, un conjunto de strikes de calls $K_\\text{call}$ y de puts $K_\\text{put}$ y retorna el pnL de considerar la combinacion de estas opciones con sus respectivos strikes cuando el precio del subyacente es $P$"
   ]
  },
  {
   "cell_type": "code",
   "execution_count": 24,
   "metadata": {},
   "outputs": [],
   "source": [
    "def option_combination(P,K_call, K_put):\n",
    "   call=0\n",
    "   put=0\n",
    "   for i in range(len(K_call)):\n",
    "         call = call + max(P-K_call[i],0)\n",
    "   for i in range(len(K_put)): \n",
    "         put = put + max(K_put[i]-P,0)  \n",
    "   return call+put\n"
   ]
  },
  {
   "cell_type": "markdown",
   "metadata": {},
   "source": [
    "A continuación definimos la función de pérdida impermanente en USD considerando como  inputs el precio de actual y de entrada del pool de ETHE y los balances iniciales del provedor de liquidez,  usamos la función $IL_R$ definida antes. "
   ]
  },
  {
   "cell_type": "code",
   "execution_count": 32,
   "metadata": {},
   "outputs": [],
   "source": [
    "def IL_P_usd(p,x_0,y_0, p_entry):\n",
    "    V_hold = x_0 + y_0 * p\n",
    "    return V_hold * (IL_R(p/p_entry))\n"
   ]
  },
  {
   "cell_type": "markdown",
   "metadata": {},
   "source": [
    "### Idea 1: Hedging con un conjunto de Calls y Puts"
   ]
  },
  {
   "cell_type": "markdown",
   "metadata": {},
   "source": [
    "Un provedor de liquidez ingresa al pool depositando $x_0$  cantidad de USDC e $y_0$ cantidad de ETHE tal que $x_0 y_0=k$\n",
    "\n",
    "Sea  $r_p$ la tasa de retorno mensual del pool\n",
    "\n",
    "Consideramos una estrategia del tipo Strangle, la misma consiste en comprar $q_c$ unidades de opciones calls con strike $K_c$ ETH  y $q_p$ puts con strike $K_p$ ETH, llamemos $d_1$ y $d_2$ las primas respectivas.\n",
    "\n",
    "El PnL a tiempo T será  $$f_T=(P_T-K_c)^+ +(K_p-P_T)^+ - D$$  \n",
    "donde $D:=d_1+d_2$.\n",
    "\n",
    "A tiempo $T$ tenemos cierta \"perdida impermanente\" por depositar los tokens en el pool\n",
    "\n",
    "$$IL(P_T)= V_P - V_H = V_H^0\\left(\\sqrt{\\frac{P}{P_0}}-\\frac{1}{2}-\\frac{P}{2P_0}\\right),$$\n",
    "donde $V_H^0=x_0+P_0 y_0$, $P_0$ precio de ETH en el momento que se ingreso en el pool.\n",
    "\n",
    "Por lo tanto, si  consideremos la estrategia Strangle para cubrirnos de las perdidas impermanente, tendríamos el siguiente PnL de la estrategía:\n",
    "\n",
    "$$ f_T^{pool+s}= r_p (x_0+y_0 P_0)+ f_T+IL(P_T)  $$ \n",
    "\n",
    "Para no estar en perdida buscamos que sea mayor o igual que cero.\n",
    "\n",
    "\n",
    "\n",
    "\n",
    "\n",
    "\n",
    "\n"
   ]
  },
  {
   "cell_type": "markdown",
   "metadata": {},
   "source": [
    "#### Ejemplo"
   ]
  },
  {
   "cell_type": "markdown",
   "metadata": {},
   "source": [
    "\n",
    "Supongamos que tenemos un pool wETH-USDC con $40000$ USDC y $100$ wETH por un valor total de $80000$, es decir, $P_{ETH} = 400$ USDC. La constante $k = 40000*100=4000000$.\n"
   ]
  },
  {
   "cell_type": "markdown",
   "metadata": {},
   "source": [
    "\n",
    "Probemos entonces con un conjunto de calls y puts, con $\\pm 30\\%$ del spot como strike price, y mantenemos la misma cantidad de opciones como tenencias del token dentro del pool.\n",
    "\n",
    "Es decir, el LP compra 100 unidades de call con strike price $400*1.3 = 500$ USDC y 100 unidades de puts con strike price $400*0.7 = 280$ USDC con expiration a 30 dias.\n"
   ]
  },
  {
   "cell_type": "code",
   "execution_count": 26,
   "metadata": {},
   "outputs": [
    {
     "data": {
      "text/plain": [
       "<matplotlib.lines.Line2D at 0x165fa9462b0>"
      ]
     },
     "execution_count": 26,
     "metadata": {},
     "output_type": "execute_result"
    },
    {
     "data": {
      "image/png": "[encoded data removed]",
      "text/plain": [
       "<Figure size 1440x504 with 1 Axes>"
      ]
     },
     "metadata": {
      "needs_background": "light"
     },
     "output_type": "display_data"
    }
   ],
   "source": [
    "balance_usdc = 40000 #x_0\n",
    "balance_eth = 100 #y_0\n",
    "\n",
    "P_eth_0 = balance_usdc / balance_eth #P_0\n",
    "V_h_0= balance_usdc+balance_eth*P_eth_0 # valor en dólares de las tenencias iniciales\n",
    "\n",
    "price_change = np.arange(-1, 2, 0.1)\n",
    "\n",
    "\n",
    "r_p = 0.02  # radio mensual por proveer liquidez\n",
    "P = P_eth_0*(1+ price_change)\n",
    "\n",
    "ret_mens_pool=r_p* V_h_0 # ¿sobre las tenencias inicial?\n",
    "\n",
    "  \n",
    "K_call =  520*np.ones(100)\n",
    "K_put =  280*np.ones(100)\n",
    "opt_stg = [option_combination(p,K_call,K_put) for p in P] \n",
    "\n",
    "\n",
    "IL_sin_hedg_usd = [IL_P_usd(p, balance_usdc, balance_eth, P_eth_0) for p in P]\n",
    "IL_con_hedg_usd = r_p*np.ones(len(P)) + IL + opt_stg\n",
    "\n",
    "\n",
    "fig, axs = plt.subplots(1,1,figsize = (20,7))\n",
    "axs.plot(P, IL_sin_hedg_usd, c = 'blue', label = 'IL')\n",
    "\n",
    "axs.plot(P, IL_con_hedg_usd, c = 'red', label = 'Opt_comb')\n",
    "axs.legend()\n",
    "axs.axhline(y = 0, color = 'black', linestyle = '--')"
   ]
  },
  {
   "cell_type": "markdown",
   "metadata": {},
   "source": [
    "Veamos el gráfico en función de la razón de cambio de precios al momento de entrada y salida del pool"
   ]
  },
  {
   "cell_type": "code",
   "execution_count": 28,
   "metadata": {},
   "outputs": [
    {
     "data": {
      "text/plain": [
       "<matplotlib.lines.Line2D at 0x165fa35d1f0>"
      ]
     },
     "execution_count": 28,
     "metadata": {},
     "output_type": "execute_result"
    },
    {
     "data": {
      "image/png": "[encoded data removed]",
      "text/plain": [
       "<Figure size 1440x504 with 1 Axes>"
      ]
     },
     "metadata": {
      "needs_background": "light"
     },
     "output_type": "display_data"
    }
   ],
   "source": [
    "\n",
    "V_hold = balance_usdc + balance_eth * P\n",
    "V_pool = IL_R(1+price_change) * V_hold\n",
    "IL_sin_hedg = (V_pool - V_hold) / V_hold\n",
    "#\n",
    "IL_con_hedg = (r_p*np.ones(len(P))+V_pool + opt_stg - V_hold) / V_hold\n",
    "#\n",
    "fig, axs = plt.subplots(1,1,figsize = (20,7))\n",
    "axs.plot(price_change, IL_sin_hedg+1, c = 'blue', label = 'IL')\n",
    "# axs.plot(P, [call(p,K_call)+put(p,K_put) for p in P], c = 'blue', label = 'long strangle')\n",
    "axs.plot(price_change, IL_con_hedg+1, c = 'red', label = 'Opt stg')\n",
    "axs.legend()\n",
    "axs.axhline(y = 0, color = 'black', linestyle = '--')"
   ]
  },
  {
   "cell_type": "markdown",
   "metadata": {},
   "source": [
    "De los  gráficos anteriores se observa que:\n",
    "\n",
    "1. La IL se ha equilibrado totalmente cuando el precio aumenta por encima del 40%. Además, la opción de compra termina generando ganancias y es más que suficiente para cubrirse contra la IL.\n",
    "\n",
    "2. En el ala izquierda, la estrategia de cobertura con los puts va bien y termina con ganancias. Sin embargo, debido al caso de que la pérdida se acelere a medida que el precio se derrumba aún más, esta opción de venta no será suficiente para compensar la pérdida, y el rendimiento finalmente termina siendo negativo.\n",
    "\n",
    "3. El costo fijo de esta estrategia de cobertura es alto. Según el cálculo, el coste fijo de las primas de las opciones es del 2,25% de la inversión inicial, y es una estrategia de protección a 30 días.  El costo puede alcanzar el 27% anual si la estrategia se repite todos los meses. El costo es alto.\n",
    "\n",
    "Se pueden hacer algunos ajustes para obtener un mejor resultado de cobertura.\n",
    "\n",
    "1. Los índices de IL cuando el precio de ETH sube y baja no son simétricos;\n",
    "\n",
    "2. Pueden usarse múltiples combinaciones de call y put para la cobertura al alza y a la baja;\n",
    "\n",
    "3. La cantidad de opciones se puede ajustar para hacer que la línea roja se eleve menos para adaptarse a diferentes estrategias;\n",
    "\n",
    "4. No es necesario que el rango efectivo de cobertura cubra todo el movimiento del precio de -100% a +500%.‍"
   ]
  },
  {
   "cell_type": "markdown",
   "metadata": {},
   "source": [
    "### Idea 2: Hedging con combinaciones de Calls y Puts\n"
   ]
  },
  {
   "cell_type": "markdown",
   "metadata": {},
   "source": [
    "Debido a las características lineales en el comportamiento de las ganancias frente a los cambios de precios, cuando las opciones están in-the-money, es imposible cubrirse perfectamente contra la IL (que tiene una naturaleza convexa)  con solo un tipo de opciones de compra y venta. Sin embargo, con combinaciones de múltiples opciones de compra y venta, podemos encontrar una manera de compensar la IL con mayor efectividad mientras ajustamos los pesos de diferentes opciones con varios precios de ejercicios"
   ]
  },
  {
   "cell_type": "markdown",
   "metadata": {},
   "source": [
    "### Hedging con multiples opciones\n",
    "\n",
    "1. Rango de cobertura de precios: de -60% a +100%;\n",
    "\n",
    "2. Período de cobertura: 30 días;\n",
    "\n",
    "3. Opciones de compra: 6 llamadas ETH con precio de ejercicio $480 (+20%), 8 llamadas ETH con precio de ejercicio $520 (+30%), 10 llamadas ETH con precio de ejercicio $560 (+40%);\n",
    "\n",
    "4. Opciones de venta: 8 opciones de venta de ETH con precio de ejercicio de $360 (-10%), 10 opciones de venta de ETH con precio de ejercicio de $320 (-20%), 15 opciones de venta de ETH con precio de ejercicio de $280 (-30%), 5 opciones de venta de ETH con precio de ejercicio $240 (-40%).\n",
    "\n"
   ]
  },
  {
   "cell_type": "code",
   "execution_count": 33,
   "metadata": {},
   "outputs": [
    {
     "data": {
      "text/plain": [
       "<matplotlib.lines.Line2D at 0x165fce5ab80>"
      ]
     },
     "execution_count": 33,
     "metadata": {},
     "output_type": "execute_result"
    },
    {
     "data": {
      "image/png": "[encoded data removed]",
      "text/plain": [
       "<Figure size 1440x504 with 1 Axes>"
      ]
     },
     "metadata": {
      "needs_background": "light"
     },
     "output_type": "display_data"
    }
   ],
   "source": [
    "P = P_eth_0*(1+price_change)\n",
    "K_call = np.concatenate((480*np.ones(6), 520*np.ones(8), 560*np.ones(10)))\n",
    "K_put = np.concatenate((360*np.ones(8), 320*np.ones(10), 280*np.ones(15), 240*np.ones(5)))\n",
    "#\n",
    "V_hold = balance_usdc + balance_eth * P\n",
    "V_pool = IL_R(1+price_change) * V_hold\n",
    "IL_sin_hedge = (V_pool - V_hold) / V_hold\n",
    "#\n",
    "opt_comb = [option_combination(p,K_call,K_put) for p in P]\n",
    "IL_con_hedge = (V_pool + opt_comb - V_hold) / V_hold\n",
    "#\n",
    "fig, axs = plt.subplots(1,1,figsize = (20,7))\n",
    "axs.plot(price_change, IL_sin_hedge+1, c = 'blue', label = 'IL')\n",
    "\n",
    "axs.plot(price_change, IL_con_hedge+1, c = 'red', label = 'Opt_comb')\n",
    "axs.legend()\n",
    "axs.axhline(y = 0, color = 'black', linestyle = '--')"
   ]
  },
  {
   "cell_type": "markdown",
   "metadata": {},
   "source": [
    "### Hedging IL con multiples opciones-conservativo"
   ]
  },
  {
   "cell_type": "code",
   "execution_count": 34,
   "metadata": {},
   "outputs": [
    {
     "data": {
      "text/plain": [
       "<matplotlib.lines.Line2D at 0x165fe674bb0>"
      ]
     },
     "execution_count": 34,
     "metadata": {},
     "output_type": "execute_result"
    },
    {
     "data": {
      "image/png": "[encoded data removed]",
      "text/plain": [
       "<Figure size 1440x504 with 1 Axes>"
      ]
     },
     "metadata": {
      "needs_background": "light"
     },
     "output_type": "display_data"
    }
   ],
   "source": [
    "P = P_eth_0*(1+price_change)\n",
    "K_call = np.concatenate((480*np.ones(5), 520*np.ones(8)))\n",
    "K_put = np.concatenate((320*np.ones(8), 280*np.ones(10), 240*np.ones(10)))\n",
    "#\n",
    "V_hold = balance_usdc + balance_eth * P\n",
    "V_pool = IL_R(1+price_change) * V_hold\n",
    "IL_sin_hedge = (V_pool - V_hold) / V_hold\n",
    "#\n",
    "opt_comb = [option_combination(p,K_call,K_put) for p in P]\n",
    "IL_con_hedge = (V_pool + opt_comb - V_hold) / V_hold\n",
    "#\n",
    "fig, axs = plt.subplots(1,1,figsize = (20,7))\n",
    "axs.plot(price_change, IL_sin_hedge+1, c = 'blue', label = 'IL')\n",
    "\n",
    "axs.plot(price_change, IL_con_hedge+1, c = 'red', label = 'Opt cons')\n",
    "axs.legend()\n",
    "axs.axhline(y = 0, color = 'black', linestyle = '--')"
   ]
  },
  {
   "cell_type": "markdown",
   "metadata": {},
   "source": [
    "### Hedging IL con multiples opciones- agresivo "
   ]
  },
  {
   "cell_type": "code",
   "execution_count": null,
   "metadata": {},
   "outputs": [
    {
     "data": {
      "text/plain": [
       "<matplotlib.lines.Line2D at 0x2e71e1b7eb0>"
      ]
     },
     "metadata": {},
     "output_type": "display_data"
    },
    {
     "data": {
      "image/png": "[encoded data removed]",
      "text/plain": [
       "<Figure size 1440x504 with 1 Axes>"
      ]
     },
     "metadata": {},
     "output_type": "display_data"
    }
   ],
   "source": [
    "P = P_eth_0*(1+price_change)\n",
    "K_call = np.concatenate((440*np.ones(10), 480*np.ones(10),520*np.ones(10), 560*np.ones(10)))\n",
    "K_put = np.concatenate((360*np.ones(10), 320*np.ones(15), 280*np.ones(20), 240*np.ones(10)))\n",
    "#\n",
    "V_hold = balance_usdc + balance_eth * P\n",
    "V_pool = IL_R(1+price_change) * V_hold\n",
    "IL_sin_hedge = (V_pool - V_hold) / V_hold\n",
    "#\n",
    "opt_comb = [option_combination(p,K_call,K_put) for p in P]\n",
    "IL_con_hedge = (V_pool + opt_comb - V_hold) / V_hold\n",
    "#\n",
    "fig, axs = plt.subplots(1,1,figsize = (20,7))\n",
    "axs.plot(price_change, IL_sin_hedge+1, c = 'blue', label = 'IL')\n",
    "\n",
    "axs.plot(price_change, IL_con_hedge+1, c = 'red', label = 'Opt agres')\n",
    "axs.legend()\n",
    "axs.axhline(y = 0, color = 'black', linestyle = '--')"
   ]
  },
  {
   "cell_type": "markdown",
   "metadata": {},
   "source": []
  },
  {
   "cell_type": "markdown",
   "metadata": {},
   "source": [
    "# Traigo datos historicos de ETH"
   ]
  },
  {
   "cell_type": "code",
   "execution_count": null,
   "metadata": {},
   "outputs": [
    {
     "name": "stdout",
     "output_type": "stream",
     "text": [
      "Requirement already satisfied: python-binance in c:\\users\\seque\\appdata\\local\\programs\\python\\python38\\lib\\site-packages (1.0.16)\n",
      "Requirement already satisfied: requests in c:\\users\\seque\\appdata\\local\\programs\\python\\python38\\lib\\site-packages (from python-binance) (2.27.1)\n",
      "Requirement already satisfied: ujson in c:\\users\\seque\\appdata\\local\\programs\\python\\python38\\lib\\site-packages (from python-binance) (5.4.0)\n",
      "Requirement already satisfied: six in c:\\users\\seque\\appdata\\local\\programs\\python\\python38\\lib\\site-packages (from python-binance) (1.16.0)\n",
      "Requirement already satisfied: websockets in c:\\users\\seque\\appdata\\local\\programs\\python\\python38\\lib\\site-packages (from python-binance) (10.3)\n",
      "Requirement already satisfied: aiohttp in c:\\users\\seque\\appdata\\local\\programs\\python\\python38\\lib\\site-packages (from python-binance) (3.8.1)\n",
      "Requirement already satisfied: dateparser in c:\\users\\seque\\appdata\\local\\programs\\python\\python38\\lib\\site-packages (from python-binance) (1.1.1)\n",
      "Requirement already satisfied: charset-normalizer<3.0,>=2.0 in c:\\users\\seque\\appdata\\local\\programs\\python\\python38\\lib\\site-packages (from aiohttp->python-binance) (2.0.12)\n",
      "Requirement already satisfied: multidict<7.0,>=4.5 in c:\\users\\seque\\appdata\\local\\programs\\python\\python38\\lib\\site-packages (from aiohttp->python-binance) (6.0.2)\n",
      "Requirement already satisfied: attrs>=17.3.0 in c:\\users\\seque\\appdata\\local\\programs\\python\\python38\\lib\\site-packages (from aiohttp->python-binance) (21.4.0)\n",
      "Requirement already satisfied: aiosignal>=1.1.2 in c:\\users\\seque\\appdata\\local\\programs\\python\\python38\\lib\\site-packages (from aiohttp->python-binance) (1.2.0)\n",
      "Requirement already satisfied: yarl<2.0,>=1.0 in c:\\users\\seque\\appdata\\local\\programs\\python\\python38\\lib\\site-packages (from aiohttp->python-binance) (1.7.2)\n",
      "Requirement already satisfied: frozenlist>=1.1.1 in c:\\users\\seque\\appdata\\local\\programs\\python\\python38\\lib\\site-packages (from aiohttp->python-binance) (1.3.0)\n",
      "Requirement already satisfied: async-timeout<5.0,>=4.0.0a3 in c:\\users\\seque\\appdata\\local\\programs\\python\\python38\\lib\\site-packages (from aiohttp->python-binance) (4.0.2)\n",
      "Requirement already satisfied: regex!=2019.02.19,!=2021.8.27,<2022.3.15 in c:\\users\\seque\\appdata\\local\\programs\\python\\python38\\lib\\site-packages (from dateparser->python-binance) (2022.3.2)\n",
      "Requirement already satisfied: tzlocal in c:\\users\\seque\\appdata\\local\\programs\\python\\python38\\lib\\site-packages (from dateparser->python-binance) (4.2)\n",
      "Requirement already satisfied: python-dateutil in c:\\users\\seque\\appdata\\local\\programs\\python\\python38\\lib\\site-packages (from dateparser->python-binance) (2.8.2)\n",
      "Requirement already satisfied: pytz in c:\\users\\seque\\appdata\\local\\programs\\python\\python38\\lib\\site-packages (from dateparser->python-binance) (2022.1)\n",
      "Requirement already satisfied: idna<4,>=2.5 in c:\\users\\seque\\appdata\\local\\programs\\python\\python38\\lib\\site-packages (from requests->python-binance) (3.3)\n",
      "Requirement already satisfied: certifi>=2017.4.17 in c:\\users\\seque\\appdata\\local\\programs\\python\\python38\\lib\\site-packages (from requests->python-binance) (2021.10.8)\n",
      "Requirement already satisfied: urllib3<1.27,>=1.21.1 in c:\\users\\seque\\appdata\\local\\programs\\python\\python38\\lib\\site-packages (from requests->python-binance) (1.26.9)\n",
      "Requirement already satisfied: backports.zoneinfo in c:\\users\\seque\\appdata\\local\\programs\\python\\python38\\lib\\site-packages (from tzlocal->dateparser->python-binance) (0.2.1)\n",
      "Requirement already satisfied: pytz-deprecation-shim in c:\\users\\seque\\appdata\\local\\programs\\python\\python38\\lib\\site-packages (from tzlocal->dateparser->python-binance) (0.1.0.post0)\n",
      "Requirement already satisfied: tzdata in c:\\users\\seque\\appdata\\local\\programs\\python\\python38\\lib\\site-packages (from tzlocal->dateparser->python-binance) (2022.1)\n"
     ]
    }
   ],
   "source": [
    "!pip install python-binance"
   ]
  },
  {
   "cell_type": "code",
   "execution_count": null,
   "metadata": {},
   "outputs": [],
   "source": [
    "import pandas as pd\n",
    "import math\n",
    "import os.path\n",
    "import time\n",
    "from binance.client import Client\n",
    "from datetime import timedelta, datetime\n",
    "from dateutil import parser\n",
    "from tqdm import tqdm_notebook #(Optional, used for progress-bars)\n",
    "\n",
    "### API\n",
    "binance_api_key = '9zFIgetckRO80d4RciWs8jc4XSwAMEnFIuwVhAoaYIstQ9RWlfqiV6zcAGu0Ta8R'    #Enter your own API-key here\n",
    "binance_api_secret = 'Uu8vtNEmH1PPDPDchX51jivxBENEbNwDmDcQrnhPJBJwFcbqjnvxL2MeQJuTc4Kg' #Enter your own API-secret here\n",
    "\n",
    "### CONSTANTS\n",
    "binsizes = {\"1m\": 1, \"5m\": 5, \"10m\": 10, \"15m\": 15, \"1h\": 60, \"6h\": 360, \"12h\": 720, \"1d\": 1440}\n",
    "\n",
    "batch_size = 750\n",
    "binance_client = Client(api_key=binance_api_key, api_secret=binance_api_secret)\n",
    "\n",
    "# initial_date = '1 Jan 2017'\n",
    "initial_date = '31 Mar 2021'\n",
    "### FUNCTIONS\n",
    "def minutes_of_new_data(symbol, kline_size, data, source):\n",
    "    if len(data) > 0:  old = parser.parse(data[\"timestamp\"].iloc[-1])\n",
    "    elif source == \"binance\": old = datetime.strptime(initial_date, '%d %b %Y')\n",
    "    if source == \"binance\": new = pd.to_datetime(binance_client.get_klines(symbol=symbol, interval=kline_size)[-1][0], unit='ms')\n",
    "    return old, new\n",
    "\n",
    "def get_all_binance(symbol, kline_size, save = False):\n",
    "    filename = '%s-%s-data.csv' % (symbol, kline_size)\n",
    "    if os.path.isfile(filename): data_df = pd.read_csv(filename)\n",
    "    else: data_df = pd.DataFrame()\n",
    "    oldest_point, newest_point = minutes_of_new_data(symbol, kline_size, data_df, source = \"binance\")\n",
    "    delta_min = (newest_point - oldest_point).total_seconds()/60\n",
    "    available_data = math.ceil(delta_min/binsizes[kline_size])\n",
    "    if oldest_point == datetime.strptime(initial_date, '%d %b %Y'): print('Downloading all available %s data for %s. Be patient..!' % (kline_size, symbol))\n",
    "    else: print('Downloading %d minutes of new data available for %s, i.e. %d instances of %s data.' % (delta_min, symbol, available_data, kline_size))\n",
    "    klines = binance_client.get_historical_klines(symbol, kline_size, oldest_point.strftime(\"%d %b %Y %H:%M:%S\"), newest_point.strftime(\"%d %b %Y %H:%M:%S\"))\n",
    "    data = pd.DataFrame(klines, columns = ['timestamp', 'open', 'high', 'low', 'close', 'volume', 'close_time', 'quote_av', 'trades', 'tb_base_av', 'tb_quote_av', 'ignore' ])\n",
    "    data['timestamp'] = pd.to_datetime(data['timestamp'], unit='ms')\n",
    "    if len(data_df) > 0:\n",
    "        temp_df = pd.DataFrame(data)\n",
    "        data_df = data_df.append(temp_df)\n",
    "    else: data_df = data\n",
    "    data_df.set_index('timestamp', inplace=True)\n",
    "    if save: data_df.to_csv(filename)\n",
    "    print('All caught up..!')\n",
    "    return data_df\n"
   ]
  },
  {
   "cell_type": "markdown",
   "metadata": {},
   "source": [
    "Nos quedamos con datos históricos para ETHUSDC con frecuencia de 5m."
   ]
  },
  {
   "cell_type": "code",
   "execution_count": null,
   "metadata": {},
   "outputs": [
    {
     "name": "stdout",
     "output_type": "stream",
     "text": [
      "Downloading 2410 minutes of new data available for ETHUSDC, i.e. 482 instances of 5m data.\n",
      "All caught up..!\n"
     ]
    }
   ],
   "source": [
    "# lista = [\"ETHUSDC\"]\n",
    "\n",
    "# BTC ETH MATIC UNI COMP AAVE YFI CRV MKR LINK KP3R SFI SUSHI 1INCH CAKE \n",
    "symbol = \"ETHUSDC\"\n",
    "# Frecuencia: 1m, 5m, 10m, 15m, 1h, 1d, 1m\n",
    "freq = \"5m\"\n",
    "\n",
    "# Descarga de datos\n",
    "ETH_historico = get_all_binance(symbol, freq, save = True)"
   ]
  },
  {
   "cell_type": "code",
   "execution_count": null,
   "metadata": {},
   "outputs": [
    {
     "data": {
      "text/html": [
       "<div>\n",
       "<style scoped>\n",
       "    .dataframe tbody tr th:only-of-type {\n",
       "        vertical-align: middle;\n",
       "    }\n",
       "\n",
       "    .dataframe tbody tr th {\n",
       "        vertical-align: top;\n",
       "    }\n",
       "\n",
       "    .dataframe thead th {\n",
       "        text-align: right;\n",
       "    }\n",
       "</style>\n",
       "<table border=\"1\" class=\"dataframe\">\n",
       "  <thead>\n",
       "    <tr style=\"text-align: right;\">\n",
       "      <th></th>\n",
       "      <th>open</th>\n",
       "      <th>high</th>\n",
       "      <th>low</th>\n",
       "      <th>close</th>\n",
       "      <th>volume</th>\n",
       "      <th>close_time</th>\n",
       "      <th>quote_av</th>\n",
       "      <th>trades</th>\n",
       "      <th>tb_base_av</th>\n",
       "      <th>tb_quote_av</th>\n",
       "      <th>ignore</th>\n",
       "    </tr>\n",
       "    <tr>\n",
       "      <th>timestamp</th>\n",
       "      <th></th>\n",
       "      <th></th>\n",
       "      <th></th>\n",
       "      <th></th>\n",
       "      <th></th>\n",
       "      <th></th>\n",
       "      <th></th>\n",
       "      <th></th>\n",
       "      <th></th>\n",
       "      <th></th>\n",
       "      <th></th>\n",
       "    </tr>\n",
       "  </thead>\n",
       "  <tbody>\n",
       "    <tr>\n",
       "      <th>2021-03-31 00:00:00</th>\n",
       "      <td>1841.29</td>\n",
       "      <td>1845.35</td>\n",
       "      <td>1841.12</td>\n",
       "      <td>1845.35</td>\n",
       "      <td>13.4565</td>\n",
       "      <td>1617149099999</td>\n",
       "      <td>24811.47622</td>\n",
       "      <td>39</td>\n",
       "      <td>4.46207</td>\n",
       "      <td>8228.108687</td>\n",
       "      <td>0</td>\n",
       "    </tr>\n",
       "    <tr>\n",
       "      <th>2021-03-31 00:05:00</th>\n",
       "      <td>1844.39</td>\n",
       "      <td>1847.08</td>\n",
       "      <td>1843.99</td>\n",
       "      <td>1846.29</td>\n",
       "      <td>54.69818</td>\n",
       "      <td>1617149399999</td>\n",
       "      <td>100898.416</td>\n",
       "      <td>50</td>\n",
       "      <td>18.71127</td>\n",
       "      <td>34521.301061</td>\n",
       "      <td>0</td>\n",
       "    </tr>\n",
       "    <tr>\n",
       "      <th>2021-03-31 00:10:00</th>\n",
       "      <td>1845.54</td>\n",
       "      <td>1849.53</td>\n",
       "      <td>1845.54</td>\n",
       "      <td>1848.96</td>\n",
       "      <td>10.56434</td>\n",
       "      <td>1617149699999</td>\n",
       "      <td>19523.841834</td>\n",
       "      <td>31</td>\n",
       "      <td>6.35202</td>\n",
       "      <td>11739.724326</td>\n",
       "      <td>0</td>\n",
       "    </tr>\n",
       "    <tr>\n",
       "      <th>2021-03-31 00:15:00</th>\n",
       "      <td>1848.96</td>\n",
       "      <td>1850.35</td>\n",
       "      <td>1847.5</td>\n",
       "      <td>1847.5</td>\n",
       "      <td>126.93107</td>\n",
       "      <td>1617149999999</td>\n",
       "      <td>234808.651352</td>\n",
       "      <td>117</td>\n",
       "      <td>70.3571</td>\n",
       "      <td>130155.068172</td>\n",
       "      <td>0</td>\n",
       "    </tr>\n",
       "    <tr>\n",
       "      <th>2021-03-31 00:20:00</th>\n",
       "      <td>1848.12</td>\n",
       "      <td>1849.12</td>\n",
       "      <td>1846.0</td>\n",
       "      <td>1846.0</td>\n",
       "      <td>16.03979</td>\n",
       "      <td>1617150299999</td>\n",
       "      <td>29631.683226</td>\n",
       "      <td>61</td>\n",
       "      <td>3.04496</td>\n",
       "      <td>5630.118179</td>\n",
       "      <td>0</td>\n",
       "    </tr>\n",
       "    <tr>\n",
       "      <th>...</th>\n",
       "      <td>...</td>\n",
       "      <td>...</td>\n",
       "      <td>...</td>\n",
       "      <td>...</td>\n",
       "      <td>...</td>\n",
       "      <td>...</td>\n",
       "      <td>...</td>\n",
       "      <td>...</td>\n",
       "      <td>...</td>\n",
       "      <td>...</td>\n",
       "      <td>...</td>\n",
       "    </tr>\n",
       "    <tr>\n",
       "      <th>2022-07-14 09:45:00</th>\n",
       "      <td>1083.89000000</td>\n",
       "      <td>1084.89000000</td>\n",
       "      <td>1082.53000000</td>\n",
       "      <td>1084.22000000</td>\n",
       "      <td>139.23340000</td>\n",
       "      <td>1657792199999</td>\n",
       "      <td>150921.62080500</td>\n",
       "      <td>183</td>\n",
       "      <td>57.13520000</td>\n",
       "      <td>61928.74414400</td>\n",
       "      <td>0</td>\n",
       "    </tr>\n",
       "    <tr>\n",
       "      <th>2022-07-14 09:50:00</th>\n",
       "      <td>1084.38000000</td>\n",
       "      <td>1086.32000000</td>\n",
       "      <td>1083.63000000</td>\n",
       "      <td>1086.32000000</td>\n",
       "      <td>104.85890000</td>\n",
       "      <td>1657792499999</td>\n",
       "      <td>113780.55680200</td>\n",
       "      <td>171</td>\n",
       "      <td>54.57720000</td>\n",
       "      <td>59219.31778100</td>\n",
       "      <td>0</td>\n",
       "    </tr>\n",
       "    <tr>\n",
       "      <th>2022-07-14 09:55:00</th>\n",
       "      <td>1086.36000000</td>\n",
       "      <td>1088.39000000</td>\n",
       "      <td>1085.37000000</td>\n",
       "      <td>1088.39000000</td>\n",
       "      <td>217.11120000</td>\n",
       "      <td>1657792799999</td>\n",
       "      <td>236028.30511000</td>\n",
       "      <td>256</td>\n",
       "      <td>78.52470000</td>\n",
       "      <td>85329.33788500</td>\n",
       "      <td>0</td>\n",
       "    </tr>\n",
       "    <tr>\n",
       "      <th>2022-07-14 10:00:00</th>\n",
       "      <td>1088.09000000</td>\n",
       "      <td>1088.17000000</td>\n",
       "      <td>1086.77000000</td>\n",
       "      <td>1088.06000000</td>\n",
       "      <td>94.54160000</td>\n",
       "      <td>1657793099999</td>\n",
       "      <td>102794.97603200</td>\n",
       "      <td>132</td>\n",
       "      <td>69.57310000</td>\n",
       "      <td>75638.01481100</td>\n",
       "      <td>0</td>\n",
       "    </tr>\n",
       "    <tr>\n",
       "      <th>2022-07-14 10:05:00</th>\n",
       "      <td>1088.06000000</td>\n",
       "      <td>1088.06000000</td>\n",
       "      <td>1087.74000000</td>\n",
       "      <td>1087.75000000</td>\n",
       "      <td>1.04020000</td>\n",
       "      <td>1657793399999</td>\n",
       "      <td>1131.54194400</td>\n",
       "      <td>6</td>\n",
       "      <td>0.20910000</td>\n",
       "      <td>227.45113600</td>\n",
       "      <td>0</td>\n",
       "    </tr>\n",
       "  </tbody>\n",
       "</table>\n",
       "<p>135320 rows × 11 columns</p>\n",
       "</div>"
      ],
      "text/plain": [
       "                              open           high            low  \\\n",
       "timestamp                                                          \n",
       "2021-03-31 00:00:00        1841.29        1845.35        1841.12   \n",
       "2021-03-31 00:05:00        1844.39        1847.08        1843.99   \n",
       "2021-03-31 00:10:00        1845.54        1849.53        1845.54   \n",
       "2021-03-31 00:15:00        1848.96        1850.35         1847.5   \n",
       "2021-03-31 00:20:00        1848.12        1849.12         1846.0   \n",
       "...                            ...            ...            ...   \n",
       "2022-07-14 09:45:00  1083.89000000  1084.89000000  1082.53000000   \n",
       "2022-07-14 09:50:00  1084.38000000  1086.32000000  1083.63000000   \n",
       "2022-07-14 09:55:00  1086.36000000  1088.39000000  1085.37000000   \n",
       "2022-07-14 10:00:00  1088.09000000  1088.17000000  1086.77000000   \n",
       "2022-07-14 10:05:00  1088.06000000  1088.06000000  1087.74000000   \n",
       "\n",
       "                             close        volume     close_time  \\\n",
       "timestamp                                                         \n",
       "2021-03-31 00:00:00        1845.35       13.4565  1617149099999   \n",
       "2021-03-31 00:05:00        1846.29      54.69818  1617149399999   \n",
       "2021-03-31 00:10:00        1848.96      10.56434  1617149699999   \n",
       "2021-03-31 00:15:00         1847.5     126.93107  1617149999999   \n",
       "2021-03-31 00:20:00         1846.0      16.03979  1617150299999   \n",
       "...                            ...           ...            ...   \n",
       "2022-07-14 09:45:00  1084.22000000  139.23340000  1657792199999   \n",
       "2022-07-14 09:50:00  1086.32000000  104.85890000  1657792499999   \n",
       "2022-07-14 09:55:00  1088.39000000  217.11120000  1657792799999   \n",
       "2022-07-14 10:00:00  1088.06000000   94.54160000  1657793099999   \n",
       "2022-07-14 10:05:00  1087.75000000    1.04020000  1657793399999   \n",
       "\n",
       "                            quote_av  trades   tb_base_av     tb_quote_av  \\\n",
       "timestamp                                                                   \n",
       "2021-03-31 00:00:00      24811.47622      39      4.46207     8228.108687   \n",
       "2021-03-31 00:05:00       100898.416      50     18.71127    34521.301061   \n",
       "2021-03-31 00:10:00     19523.841834      31      6.35202    11739.724326   \n",
       "2021-03-31 00:15:00    234808.651352     117      70.3571   130155.068172   \n",
       "2021-03-31 00:20:00     29631.683226      61      3.04496     5630.118179   \n",
       "...                              ...     ...          ...             ...   \n",
       "2022-07-14 09:45:00  150921.62080500     183  57.13520000  61928.74414400   \n",
       "2022-07-14 09:50:00  113780.55680200     171  54.57720000  59219.31778100   \n",
       "2022-07-14 09:55:00  236028.30511000     256  78.52470000  85329.33788500   \n",
       "2022-07-14 10:00:00  102794.97603200     132  69.57310000  75638.01481100   \n",
       "2022-07-14 10:05:00    1131.54194400       6   0.20910000    227.45113600   \n",
       "\n",
       "                    ignore  \n",
       "timestamp                   \n",
       "2021-03-31 00:00:00      0  \n",
       "2021-03-31 00:05:00      0  \n",
       "2021-03-31 00:10:00      0  \n",
       "2021-03-31 00:15:00      0  \n",
       "2021-03-31 00:20:00      0  \n",
       "...                    ...  \n",
       "2022-07-14 09:45:00      0  \n",
       "2022-07-14 09:50:00      0  \n",
       "2022-07-14 09:55:00      0  \n",
       "2022-07-14 10:00:00      0  \n",
       "2022-07-14 10:05:00      0  \n",
       "\n",
       "[135320 rows x 11 columns]"
      ]
     },
     "metadata": {},
     "output_type": "display_data"
    }
   ],
   "source": [
    "ETH_historico"
   ]
  },
  {
   "cell_type": "code",
   "execution_count": null,
   "metadata": {},
   "outputs": [],
   "source": [
    "P_ETH = ETH_historico[:2000]['close']\n",
    "for i in range(len(P_ETH)):\n",
    "  P_ETH[i] = float(P_ETH[i])"
   ]
  },
  {
   "cell_type": "code",
   "execution_count": null,
   "metadata": {},
   "outputs": [
    {
     "data": {
      "text/plain": [
       "[<matplotlib.lines.Line2D at 0x228819f5f70>]"
      ]
     },
     "metadata": {},
     "output_type": "display_data"
    },
    {
     "data": {
      "image/png": "[encoded data removed]",
      "text/plain": [
       "<Figure size 432x288 with 1 Axes>"
      ]
     },
     "metadata": {},
     "output_type": "display_data"
    }
   ],
   "source": [
    "plt.plot(list(P_ETH))\n",
    "# plt.figsize(20,7)"
   ]
  }
 ],
 "metadata": {
  "kernelspec": {
   "display_name": "Python 3.8.6 64-bit",
   "language": "python",
   "name": "python3"
  },
  "language_info": {
   "codemirror_mode": {
    "name": "ipython",
    "version": 3
   },
   "file_extension": ".py",
   "mimetype": "text/x-python",
   "name": "python",
   "nbconvert_exporter": "python",
   "pygments_lexer": "ipython3",
   "version": "3.8.6"
  },
  "orig_nbformat": 4,
  "vscode": {
   "interpreter": {
    "hash": "2b04cc55a68c9d13265eecf042f98c17371fc63d52f7a7250e8daf9e482aaa17"
   }
  }
 },
 "nbformat": 4,
 "nbformat_minor": 2
}
