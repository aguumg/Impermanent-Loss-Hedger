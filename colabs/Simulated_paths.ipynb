{
  "nbformat": 4,
  "nbformat_minor": 0,
  "metadata": {
    "colab": {
      "name": "Simulated paths.ipynb",
      "provenance": [],
      "collapsed_sections": [
        "tOktJspAThdA"
      ]
    },
    "kernelspec": {
      "name": "python3",
      "display_name": "Python 3"
    },
    "language_info": {
      "name": "python"
    }
  },
  "cells": [
    {
      "cell_type": "markdown",
      "source": [
        "# Librerias y funciones previas"
      ],
      "metadata": {
        "id": "tOktJspAThdA"
      }
    },
    {
      "cell_type": "markdown",
      "source": [
        "Comencemos cargando las librerías que usaremos a lo largo del trabajo, y definiendo todas las funciones necesarias."
      ],
      "metadata": {
        "id": "8HbkTRUtmSwn"
      }
    },
    {
      "cell_type": "code",
      "source": [
        "import numpy as np\n",
        "import pandas as pd\n",
        "import matplotlib.pyplot as plt"
      ],
      "metadata": {
        "id": "SaV8Cx3YSRgm"
      },
      "execution_count": null,
      "outputs": []
    },
    {
      "cell_type": "markdown",
      "source": [
        "Las próximas funciones las obtuvimos del whitepaper de Balancer (o de la propia dev doc del protocolo). A saber\n",
        "\n",
        "- OutGivenIn: Devuelve la cantidad A_o (o = out) del token j = 1-i que obtendríamos si metiéramos al pool A_i (i = in) unidades del token i.\n",
        "- InGivenOut: Devuelve la cantidad A_i del token j = 1-i que habría que meter al pool para obtener A_o unidades del token i.\n",
        "- InGivenPrice: Devuelve la cantidad del token j = 1-i que habría que meter al pool si queremos cambiar el precio del pool P_pool a un nuevo precio P_new, metiendo el token i."
      ],
      "metadata": {
        "id": "w1mfmJ_5ot6u"
      }
    },
    {
      "cell_type": "code",
      "source": [
        "def OutGivenIn(balance, A_i, i):\n",
        "  '''\n",
        "  P_ETH = balance[0] / balance[1]\n",
        "  i = 0 quiere decir que meto USDC\n",
        "  '''\n",
        "  B_i = balance[i]\n",
        "  B_o = balance[i-1]\n",
        "  # if i==0:\n",
        "  #   B_i = balance[0]\n",
        "  #   B_o = balance[1]\n",
        "  # else:\n",
        "  #   B_i = balance[1]\n",
        "  #   B_o = balance[0]\n",
        "  A_o = B_o * (1-B_i/(B_i+A_i))\n",
        "  return A_o\n",
        "\n",
        "def InGivenOut(balance, A_o, i):\n",
        "  B_i = balance[i]\n",
        "  B_o = balance[i-1]\n",
        "  # if i==0:\n",
        "  #   B_i = balance[0]\n",
        "  #   B_o = balance[1]\n",
        "  # else:\n",
        "  #   B_i = balance[1]\n",
        "  #   B_o = balance[0]\n",
        "  A_i = B_i * (B_o/(B_o-A_o)-1)\n",
        "  return A_i \n",
        "\n",
        "def InGivenPrice(balance, P_new, i):\n",
        "  P_pool = balance[0] / balance[1]\n",
        "  B_i = balance[i]\n",
        "  # if i==0:\n",
        "  #   B_i = balance[0]\n",
        "  #   B_o = balance[1]\n",
        "  # else:\n",
        "  #   B_i = balance[1]\n",
        "  #   B_o = balance[0]\n",
        "  A_i = B_i * ((P_new/P_pool)**(1/2)-1)\n",
        "  return A_i"
      ],
      "metadata": {
        "id": "P-sSx_6GTkZh"
      },
      "execution_count": null,
      "outputs": []
    },
    {
      "cell_type": "markdown",
      "source": [
        "La idea para emular los cambios en los balances del pool va a ser la siguiente:\n",
        "- Dado un nuevo precio de mercado (de la data historica) vamos a comparar el precio del pool con el precio de mercado para saber cuál es más alto y ver qué moneda (i=0 USDC, i=1 wETH) debemos ingresar al pool para cambiar el precio relativo. Para eso usaremos la funcion InGivenPrice;\n",
        "- Sabiendo la cantidad $A_i$ del token $i$ que debemos ingresar al pool, utilizaremos la función OutGivenIn para saber cuántas unidades $A_o$ del token o recibiremos por el swap;\n",
        "- Finalmente teniendo ahora sí cuántas unidades del token i metimos al pool y cuántas unidades del token o sacamos del pool, podremos actualizar los balances.\n"
      ],
      "metadata": {
        "id": "2P_gUtOxpv5N"
      }
    },
    {
      "cell_type": "markdown",
      "source": [
        "Definimos entonces las siguientes funciones\n",
        "\n",
        "- variacion_balances(balance_nuevo, balance_anterior): Devuelve la variacion como porcentaje (pcg) y en unidades, entre los dos balances que le pasemos. Usaremos esta función para calcular la variacion de los balances y aplicar estos cambios a nuestras tenencias. Otra forma sería directamente quedarnos con el % de nuestra participación en el pool para cada balance simulado.\n",
        "- new_balance(P_new, balance_anterior): Devuelve el nuevo balance del pool dados el nuevo precio de mercado y el balance anterior. Esta función encierra la lógica que describimos en el párrafo anterior.\n",
        "[Ej: Si ETH se valoriza en el mercado, entonces el pool tiene que reducir el balance de ETH. Con lo cual uno podría calcular cuánto USDC hay que meter para cambiar P_pool a P_new (InGivenPrice) y luego para ese A_i, calcular cuántos A_o ETH recibiría por esos A_i USDC (OutGivenIn). Finalmente, sumamos A_i al balance de USDC, restamos A_o al balance de ETH y tenemos el nuevo balance]"
      ],
      "metadata": {
        "id": "k0KpoUTont23"
      }
    },
    {
      "cell_type": "code",
      "source": [
        "def variacion_balances(balance_nuevo, balance_anterior):\n",
        "  r_USDC = balance_nuevo[0] / balance_anterior[0] -1\n",
        "  r_ETH = balance_nuevo[1] / balance_anterior[1] -1\n",
        "  return {'pcg': [r_USDC, r_ETH],\n",
        "          'unidades': [balance_nuevo[0]-balance_anterior[0], balance_nuevo[1]-balance_anterior[1]]}\n",
        "def new_balance(P_new, balance_anterior):\n",
        "  P_pool = balance_anterior[0] / balance_anterior[1]\n",
        "  if P_pool < P_new: # ETH se apreció en el mercado, entonces tiene que bajar su balance y subir el de USDC\n",
        "    A_i = InGivenPrice(balance_anterior, P_new, 0)\n",
        "    A_o = OutGivenIn(balance_anterior, A_i, 0)\n",
        "    return [balance_anterior[0] + abs(A_i), balance_anterior[1] - abs(A_o)]\n",
        "  else: # si ETH se deprecia en el mercado, tiene que subir su balance\n",
        "    A_i = InGivenPrice(balance_anterior, P_new, 1)\n",
        "    A_o = OutGivenIn(balance_anterior, A_i, 1)\n",
        "    return [balance_anterior[0] - abs(A_o), balance_anterior[1] + abs(A_i)]"
      ],
      "metadata": {
        "id": "AEikcS_DXljR"
      },
      "execution_count": null,
      "outputs": []
    },
    {
      "cell_type": "markdown",
      "source": [
        "Por último, definimos las funciones de Impermanent Loss como % y en USD, en términos de $R=\\frac{P}{P_0}$ y de $P$, dadas por\n",
        "\n",
        "\\begin{align*}\n",
        "  IL_{\\%}(R) &= \\frac{2\\sqrt{R}}{R+1} -1 \\Rightarrow IL_{USD}(R) = IL_{\\%}(R)*V_{Hold};\\\\\n",
        "  IL_{\\%}(P) &= 2\\sqrt{P_0}\\frac{\\sqrt{P}}{P+P_0}-1 \\Rightarrow IL_{USD}(P) = IL_{\\%}(P)*V_{Hold};\\\\ \n",
        "\\end{align*}\n",
        "\n",
        "Hay otra escritura posible para $IL_{USD}(P)$ que sale usando\n",
        "\n",
        "\\begin{align*}\n",
        "  V_P &= 2\\sqrt{kP} = 2\\sqrt{kP_0}\\sqrt{\\frac{P}{P_0}} = V_P^0\\sqrt{\\frac{P}{P_0}},\\\\\n",
        "  V_H &= \\sqrt{kP_0}\\left(\\frac{P}{P_0}+1\\right) = 2\\sqrt{kP_0}\\frac{1}{2}\\left(\\frac{P}{P_0}+1\\right)=\\frac{V_H^0}{2}\\left(\\frac{P}{P_0}+1\\right).\n",
        "\\end{align*}\n",
        "\n",
        "Notar que en las últimas identidades estamos usando $k(t)=k(0)$, que podría no ser cierto (Ver sección ¿Es lo mismo calcular IL como la diferencia entre V_P y V_H que tomar las formulas? NO!).\n",
        "\n",
        "Nos queda entonces\n",
        "\n",
        "$$IL_{USD}(P) = V_P - V_H = V_H^0\\left(\\sqrt{\\frac{P}{P_0}}-\\frac{1}{2}-\\frac{P}{2P_0}\\right).$$\n",
        "\n",
        "**Observación** \n",
        "\n",
        "Como la idea es hedgearse contra el cambio en la IL respecto de cambios en el precio, debemos expresarla como función de $P$. Además, nos interesa manejar esa pérdida en términos de USDC y no como un ratio."
      ],
      "metadata": {
        "id": "HpDZJfZMu7r8"
      }
    },
    {
      "cell_type": "code",
      "source": [
        "def IL_R(R):\n",
        "  return 2 * R**(1/2)/(R+1)-1\n",
        "def IL_P(P):\n",
        "  # return IL_R(P/P_entry)\n",
        "  return 2 * (P_entry)**(1/2) * P**(1/2)/(P+P_entry)-1\n",
        "def IL_R_in_usd(R):\n",
        "  P = R * P_entry\n",
        "  V_hold = tenencias_inicial[0] + tenencias_inicial[1] * P\n",
        "  return IL_R(R) * V_hold\n",
        "def IL_P_in_usd(P):\n",
        "  V_hold = tenencias_inicial[0] + tenencias_inicial[1] * P\n",
        "  # V_hold_0 = tenencias_inicial[0] + tenencias_inicial[1] * P_entry\n",
        "  # return IL_R_in_usd(P/P_entry)\n",
        "  return IL_P(P) * V_hold\n",
        "  # return V_hold_0 * ((P/P_entry)**(1/2) - 1/2 - P/(2*P_entry))\n"
      ],
      "metadata": {
        "id": "N74sOxSQTrU6"
      },
      "execution_count": null,
      "outputs": []
    },
    {
      "cell_type": "markdown",
      "source": [
        "Podemos entonces calcular la derivada de IL\n",
        "\n",
        "\\begin{align*}\n",
        "  \\frac{\\partial}{\\partial R}IL_{\\%}(R) &= \\frac{1-R}{\\sqrt{R}(R+1)^2}; \\\n",
        "  \\frac{\\partial}{\\partial P}IL_{\\%}(P) = \\sqrt{P_0}\\frac{P_0-P}{\\sqrt{P}(P+P_0)^2} \\\\ \n",
        "  \\Rightarrow \\frac{\\partial}{\\partial P}IL_{USD}(P) &= \\frac{\\partial}{\\partial P}IL_{\\%}(P) * V_{Hold} + IL_{\\%}(P) * \\frac{\\partial}{\\partial P}V_{Hold}\\\\\n",
        "  &= \\frac{\\partial}{\\partial P}IL_{\\%}(P) * V_{Hold} + IL_{\\%}(P) * b,\n",
        "\\end{align*}\n",
        "donde en la última identidad usamod $V_{Hold} = tenencias\\_inicial[0] + tenencias\\_inicial[1] * P =: a + b*P$.\n",
        "\n",
        "Equivalentemente, si usamos $$IL_{USD}(P) = V_P - V_H = V_H^0\\left(\\sqrt{\\frac{P}{P_0}}-\\frac{1}{2}-\\frac{P}{2P_0}\\right),$$\n",
        "nos queda\n",
        "$$\\frac{\\partial}{\\partial P}IL_{USD}(P) = \\frac{V^0_H}{2P_0}\\left(\\sqrt{\\frac{P_0}{P}}-1\\right).$$"
      ],
      "metadata": {
        "id": "XBWDAEttxLsY"
      }
    },
    {
      "cell_type": "code",
      "source": [
        "#\n",
        "def IL_derivada_R(R):\n",
        "  return (1-R) / (R**(1/2)*(R+1)**2)\n",
        "def IL_derivada_P(P):\n",
        "  return IL_derivada_R(P/P_entry) / P_entry\n",
        "  # return (P_entry)**(1/2)*(P_entry-P)/(P**(1/2)*(P+P_entry)**2)\n",
        "def IL_derivada_P_in_usd(P):\n",
        "  V_hold = tenencias_inicial[0] + tenencias_inicial[1] * P\n",
        "  V_hold_0 = tenencias_inicial[0] + tenencias_inicial[1] * P_entry\n",
        "  return IL_derivada_P(P) * V_hold + IL_P(P) * tenencias_inicial[1]\n",
        "  # return V_hold_0/(2*P_entry) * ((P_entry/P)**(1/2) - 1)"
      ],
      "metadata": {
        "id": "yBvGxZO8w0ef"
      },
      "execution_count": null,
      "outputs": []
    },
    {
      "cell_type": "markdown",
      "source": [
        "Agregamos también las fórmulas incorporando fees. Sean $fee=\\tau$, $\\phi = 1-\\tau$, $P:=p^{bid^1}$ y $P_0:=p^{bid^0}$. Sabiendo que $p^b = \\phi P_{Y|X} = \\phi \\frac{y}{x}$, $R=\\frac{P_{Y|X}}{P^0_{Y|X}}=\\frac{p^b}{p^b_0}$ y que $V_{Hold} = a+b*p^b$, tenemos\n",
        "\n",
        "\\begin{align*}\n",
        "  IL^{fee}_{\\%}(R) &= \\sqrt{R}\\frac{1+\\phi}{\\phi R+1} -1 \\Rightarrow \\frac{\\partial}{\\partial R}IL^{fee}_{\\%}(R) = \\frac{1+\\phi}{(1+\\phi R)^2}\\frac{1-\\phi R}{2\\sqrt{R}};\\\\\n",
        "  IL^{fee}_{\\%}(P) &= \\sqrt{PP_0}\\frac{1+\\phi}{P_0+\\phi P}-1 \\Rightarrow \\frac{\\partial}{\\partial P} IL^{fee}_{\\%}(P) = \\frac{1+\\phi}{2}\\sqrt{\\frac{P_0}{P}}\\frac{P_0-\\phi P}{(P_0+\\phi P)^2};\\\\ \n",
        "  IL^{fee}_{USD}(P) &= IL^{fee}_{\\%}(P)*V_{Hold} \\text{ una forma} \\\\\n",
        "  &= \\frac{V_H^0}{2}\\left(\\sqrt{\\frac{P}{P_0}}\\frac{1+\\phi}{\\phi}-\\frac{P_0+\\phi P}{P_0\\sqrt{\\phi}}\\right) \\text{ otra forma} \\Rightarrow \\frac{\\partial}{\\partial P} IL^{fee}_{USD}(P) = \\frac{V_H^0}{2P_0}\\left(\\frac{1}{2}\\sqrt{\\frac{P_0}{P}}\\frac{1+\\phi}{\\phi}-\\sqrt{\\phi}\\right).\n",
        "\\end{align*}"
      ],
      "metadata": {
        "id": "rzdnvyKn0SeQ"
      }
    },
    {
      "cell_type": "code",
      "source": [
        "def IL_R_fee(R,fee):\n",
        "  phi = 1-fee\n",
        "  return R**(1/2)*(1+phi)/(1+R*phi)-1\n",
        "def IL_P_fee(P,fee):\n",
        "  phi = 1-fee\n",
        "  return IL_R_fee(P/P_entry,fee)\n",
        "  # return (P*P_entry)**(1/2)*(1+phi)/(P_entry+phi*P)-1\n",
        "def IL_P_in_usd_fee(P,fee):\n",
        "  phi = 1-fee\n",
        "  # P = R * P_entry\n",
        "  p_bid = P * phi\n",
        "  p_bid_entry = P_entry * phi\n",
        "  # p_bid_entry = P_entry * phi\n",
        "  V_hold = tenencias_inicial[0] + tenencias_inicial[1] * p_bid\n",
        "  V_hold_0 = tenencias_inicial[0] + tenencias_inicial[1] * p_bid_entry\n",
        "  return V_hold_0/2 * ( (p_bid/p_bid_entry)**(1/2) * (1+phi)/phi - (p_bid_entry + phi*p_bid) / (p_bid_entry*phi**(1/2)) )\n",
        "  # return IL_R_in_usd_fee(P/P_entry,fee)\n",
        "#\n",
        "def IL_derivada_R_fee(R, fee):\n",
        "  phi = 1-fee\n",
        "  return (1+phi)/(1+phi*R)**2 * (1-phi*R)/(2*R**(1/2))\n",
        "def IL_derivada_P_fee(P,fee):\n",
        "  phi = 1-fee\n",
        "  p_bid_entry = P_entry * phi\n",
        "  p_bid = P *  phi\n",
        "  return IL_derivada_R_fee(P/P_entry, fee) / p_bid_entry\n",
        "  # return (1+phi)/2 * (p_bid_entry/p_bid)**(1/2) * (p_bid_entry-phi*p_bid)/(p_bid_entry+phi*p_bid)**2\n",
        "def IL_derivada_P_in_usd_fee(P,fee):\n",
        "  phi = 1-fee\n",
        "  p_bid = P * phi\n",
        "  p_bid_entry = P_entry * phi\n",
        "  V_hold = tenencias_inicial[0] + tenencias_inicial[1] * p_bid\n",
        "  V_hold_0 = tenencias_inicial[0] + tenencias_inicial[1] * p_bid_entry\n",
        "  return IL_derivada_P_fee(P,fee) * V_hold + IL_P_fee(P, fee) * tenencias_inicial[1] \n",
        "  # return V_hold_0/(2*p_bid_entry) * ( 1/2*(p_bid_entry/p_bid)**(1/2) * (1+phi)/phi - phi**(1/2) )"
      ],
      "metadata": {
        "id": "yeuL8dj5hs2e"
      },
      "execution_count": null,
      "outputs": []
    },
    {
      "cell_type": "markdown",
      "source": [
        "Hacemos algunos plots para chequear que todas las formulaciones son, al menos graficamente, equivalentes."
      ],
      "metadata": {
        "id": "d6p7C4Le8lrv"
      }
    },
    {
      "cell_type": "code",
      "source": [
        "R_minus = np.arange(0.01, 1, 0.01)\n",
        "R_plus = np.arange(1, 10, 0.01)"
      ],
      "metadata": {
        "id": "hM8AvXzWtWi8"
      },
      "execution_count": null,
      "outputs": []
    },
    {
      "cell_type": "code",
      "source": [
        "# fig, axs = plt.subplots(1,1,figsize = (20,7))\n",
        "# axs.plot(R_minus, IL_R(R_minus), c='red')\n",
        "# axs.plot(R_plus, IL_R(R_plus), c='blue')\n",
        "# axs.plot(R_minus*P_entry, IL_P(R_minus*P_entry), c='red')\n",
        "# axs.plot(R_plus*P_entry, IL_P(R_plus*P_entry), c='blue')\n",
        "# axs.plot(R_minus, IL_R_in_usd(R_minus), c='red')\n",
        "# axs.plot(R_plus, IL_R_in_usd(R_plus), c='blue')\n",
        "# axs.plot(R_minus*P_entry, IL_P_in_usd(R_minus*P_entry), c='red')\n",
        "# axs.plot(R_plus*P_entry, IL_P_in_usd(R_plus*P_entry), c='blue')\n",
        "# with fees\n",
        "# fee = 0.00075\n",
        "# axs.plot(R_minus, IL_R_fee(R_minus, fee), c='red')\n",
        "# axs.plot(R_plus, IL_R_fee(R_plus, fee), c='blue')\n",
        "# axs.plot(R_minus*P_entry, IL_P_fee(R_minus*P_entry, fee), c='red')\n",
        "# axs.plot(R_plus*P_entry, IL_P_fee(R_plus*P_entry, fee), c='blue')\n",
        "# axs.plot(R_minus*P_entry, IL_P_in_usd_fee(R_minus*P_entry, fee), c='red')\n",
        "# axs.plot(R_plus*P_entry, IL_P_in_usd_fee(R_plus*P_entry, fee), c='blue')"
      ],
      "metadata": {
        "id": "_KdLGJIxtgae"
      },
      "execution_count": null,
      "outputs": []
    },
    {
      "cell_type": "code",
      "source": [
        "fig, axs = plt.subplots(2,1,figsize = (20,7))\n",
        "axs[0].plot(R_minus, IL_derivada_R(R_minus), c='red')\n",
        "axs[1].plot(R_plus, IL_derivada_R(R_plus), c='blue')\n",
        "# axs[0].plot(R_minus*P_entry, IL_derivada_P(R_minus*P_entry), c='red')\n",
        "# axs[1].plot(R_plus*P_entry, IL_derivada_P(R_plus*P_entry), c='blue')\n",
        "# axs[0].plot(R_minus*P_entry, IL_derivada_P_in_usd(R_minus*P_entry), c='red')\n",
        "# axs[1].plot(R_plus*P_entry, IL_derivada_P_in_usd(R_plus*P_entry), c='blue')\n",
        "# with fees\n",
        "# fee = 0.00075\n",
        "# axs[0].plot(R_minus, IL_derivada_R_fee(R_minus, fee), c='red')\n",
        "# axs[1].plot(R_plus, IL_derivada_R_fee(R_plus, fee), c='blue')\n",
        "# axs[0].plot(R_minus*P_entry, IL_derivada_P_fee(R_minus*P_entry, fee), c='red')\n",
        "# axs[1].plot(R_plus*P_entry, IL_derivada_P_fee(R_plus*P_entry, fee), c='blue')\n",
        "# axs[0].plot(R_minus*P_entry, IL_derivada_P_in_usd_fee(R_minus*P_entry, fee), c='red')\n",
        "# axs[1].plot(R_plus*P_entry, IL_derivada_P_in_usd_fee(R_plus*P_entry, fee), c='blue')"
      ],
      "metadata": {
        "id": "zkIBplwAuKCI",
        "colab": {
          "base_uri": "https://localhost:8080/"
        },
        "outputId": "ed575f8c-864d-452e-a122-3afa93cfec9c"
      },
      "execution_count": null,
      "outputs": [
        {
          "output_type": "execute_result",
          "data": {
            "text/plain": [
              "[<matplotlib.lines.Line2D at 0x7f6497a415d0>]"
            ]
          },
          "metadata": {},
          "execution_count": 9
        },
        {
          "output_type": "display_data",
          "data": {
            "text/plain": [
              "<Figure size 1440x504 with 2 Axes>"
            ],
            "image/png": "[encoded data removed]"
          },
          "metadata": {
            "needs_background": "light"
          }
        }
      ]
    },
    {
      "cell_type": "markdown",
      "source": [
        "# Datos historicos de ETH"
      ],
      "metadata": {
        "id": "dqJhPe6PTc4N"
      }
    },
    {
      "cell_type": "markdown",
      "source": [
        "En esta sección armamos una función para traer datos históricos de Binance para varias frecuencias temporales. Notar que seteamos initial_date = '31 Mar 2021' pero uno puede poner la fecha de inicio que desee."
      ],
      "metadata": {
        "id": "rD0zjDFXnlGN"
      }
    },
    {
      "cell_type": "code",
      "source": [
        "!pip install python-binance"
      ],
      "metadata": {
        "colab": {
          "base_uri": "https://localhost:8080/"
        },
        "id": "RC3BvJrzp7ab",
        "outputId": "8ceebb08-5454-437a-eae5-48574c248016"
      },
      "execution_count": null,
      "outputs": [
        {
          "output_type": "stream",
          "name": "stdout",
          "text": [
            "Looking in indexes: https://pypi.org/simple, https://us-python.pkg.dev/colab-wheels/public/simple/\n",
            "Collecting python-binance\n",
            "  Downloading python_binance-1.0.16-py2.py3-none-any.whl (65 kB)\n",
            "\u001b[K     |████████████████████████████████| 65 kB 2.5 MB/s \n",
            "\u001b[?25hRequirement already satisfied: six in /usr/local/lib/python3.7/dist-packages (from python-binance) (1.15.0)\n",
            "Collecting dateparser\n",
            "  Downloading dateparser-1.1.1-py2.py3-none-any.whl (288 kB)\n",
            "\u001b[K     |████████████████████████████████| 288 kB 11.9 MB/s \n",
            "\u001b[?25hCollecting ujson\n",
            "  Downloading ujson-5.4.0-cp37-cp37m-manylinux_2_17_x86_64.manylinux2014_x86_64.whl (45 kB)\n",
            "\u001b[K     |████████████████████████████████| 45 kB 3.2 MB/s \n",
            "\u001b[?25hCollecting aiohttp\n",
            "  Downloading aiohttp-3.8.1-cp37-cp37m-manylinux_2_5_x86_64.manylinux1_x86_64.manylinux_2_12_x86_64.manylinux2010_x86_64.whl (1.1 MB)\n",
            "\u001b[K     |████████████████████████████████| 1.1 MB 42.3 MB/s \n",
            "\u001b[?25hRequirement already satisfied: requests in /usr/local/lib/python3.7/dist-packages (from python-binance) (2.23.0)\n",
            "Collecting websockets\n",
            "  Downloading websockets-10.3-cp37-cp37m-manylinux_2_5_x86_64.manylinux1_x86_64.manylinux_2_12_x86_64.manylinux2010_x86_64.whl (112 kB)\n",
            "\u001b[K     |████████████████████████████████| 112 kB 46.0 MB/s \n",
            "\u001b[?25hCollecting yarl<2.0,>=1.0\n",
            "  Downloading yarl-1.7.2-cp37-cp37m-manylinux_2_5_x86_64.manylinux1_x86_64.manylinux_2_12_x86_64.manylinux2010_x86_64.whl (271 kB)\n",
            "\u001b[K     |████████████████████████████████| 271 kB 39.9 MB/s \n",
            "\u001b[?25hCollecting aiosignal>=1.1.2\n",
            "  Downloading aiosignal-1.2.0-py3-none-any.whl (8.2 kB)\n",
            "Collecting asynctest==0.13.0\n",
            "  Downloading asynctest-0.13.0-py3-none-any.whl (26 kB)\n",
            "Collecting async-timeout<5.0,>=4.0.0a3\n",
            "  Downloading async_timeout-4.0.2-py3-none-any.whl (5.8 kB)\n",
            "Requirement already satisfied: charset-normalizer<3.0,>=2.0 in /usr/local/lib/python3.7/dist-packages (from aiohttp->python-binance) (2.0.12)\n",
            "Collecting frozenlist>=1.1.1\n",
            "  Downloading frozenlist-1.3.0-cp37-cp37m-manylinux_2_5_x86_64.manylinux1_x86_64.manylinux_2_17_x86_64.manylinux2014_x86_64.whl (144 kB)\n",
            "\u001b[K     |████████████████████████████████| 144 kB 48.2 MB/s \n",
            "\u001b[?25hRequirement already satisfied: attrs>=17.3.0 in /usr/local/lib/python3.7/dist-packages (from aiohttp->python-binance) (21.4.0)\n",
            "Requirement already satisfied: typing-extensions>=3.7.4 in /usr/local/lib/python3.7/dist-packages (from aiohttp->python-binance) (4.1.1)\n",
            "Collecting multidict<7.0,>=4.5\n",
            "  Downloading multidict-6.0.2-cp37-cp37m-manylinux_2_17_x86_64.manylinux2014_x86_64.whl (94 kB)\n",
            "\u001b[K     |████████████████████████████████| 94 kB 2.7 MB/s \n",
            "\u001b[?25hRequirement already satisfied: idna>=2.0 in /usr/local/lib/python3.7/dist-packages (from yarl<2.0,>=1.0->aiohttp->python-binance) (2.10)\n",
            "Collecting regex!=2019.02.19,!=2021.8.27,<2022.3.15\n",
            "  Downloading regex-2022.3.2-cp37-cp37m-manylinux_2_17_x86_64.manylinux2014_x86_64.whl (749 kB)\n",
            "\u001b[K     |████████████████████████████████| 749 kB 34.0 MB/s \n",
            "\u001b[?25hRequirement already satisfied: pytz in /usr/local/lib/python3.7/dist-packages (from dateparser->python-binance) (2022.1)\n",
            "Requirement already satisfied: python-dateutil in /usr/local/lib/python3.7/dist-packages (from dateparser->python-binance) (2.8.2)\n",
            "Requirement already satisfied: tzlocal in /usr/local/lib/python3.7/dist-packages (from dateparser->python-binance) (1.5.1)\n",
            "Requirement already satisfied: urllib3!=1.25.0,!=1.25.1,<1.26,>=1.21.1 in /usr/local/lib/python3.7/dist-packages (from requests->python-binance) (1.24.3)\n",
            "Requirement already satisfied: certifi>=2017.4.17 in /usr/local/lib/python3.7/dist-packages (from requests->python-binance) (2022.6.15)\n",
            "Requirement already satisfied: chardet<4,>=3.0.2 in /usr/local/lib/python3.7/dist-packages (from requests->python-binance) (3.0.4)\n",
            "Installing collected packages: multidict, frozenlist, yarl, regex, asynctest, async-timeout, aiosignal, websockets, ujson, dateparser, aiohttp, python-binance\n",
            "  Attempting uninstall: regex\n",
            "    Found existing installation: regex 2022.6.2\n",
            "    Uninstalling regex-2022.6.2:\n",
            "      Successfully uninstalled regex-2022.6.2\n",
            "Successfully installed aiohttp-3.8.1 aiosignal-1.2.0 async-timeout-4.0.2 asynctest-0.13.0 dateparser-1.1.1 frozenlist-1.3.0 multidict-6.0.2 python-binance-1.0.16 regex-2022.3.2 ujson-5.4.0 websockets-10.3 yarl-1.7.2\n"
          ]
        }
      ]
    },
    {
      "cell_type": "code",
      "source": [
        "import pandas as pd\n",
        "import math\n",
        "import os.path\n",
        "import time\n",
        "from binance.client import Client\n",
        "from datetime import timedelta, datetime\n",
        "from dateutil import parser\n",
        "from tqdm import tqdm_notebook #(Optional, used for progress-bars)\n",
        "\n",
        "### API\n",
        "binance_api_key = '9zFIgetckRO80d4RciWs8jc4XSwAMEnFIuwVhAoaYIstQ9RWlfqiV6zcAGu0Ta8R'    #Enter your own API-key here\n",
        "binance_api_secret = 'Uu8vtNEmH1PPDPDchX51jivxBENEbNwDmDcQrnhPJBJwFcbqjnvxL2MeQJuTc4Kg' #Enter your own API-secret here\n",
        "\n",
        "### CONSTANTS\n",
        "binsizes = {\"1m\": 1, \"5m\": 5, \"10m\": 10, \"15m\": 15, \"1h\": 60, \"6h\": 360, \"12h\": 720, \"1d\": 1440}\n",
        "\n",
        "batch_size = 750\n",
        "binance_client = Client(api_key=binance_api_key, api_secret=binance_api_secret)\n",
        "\n",
        "# initial_date = '1 Jan 2017'\n",
        "initial_date = '31 Mar 2021'\n",
        "### FUNCTIONS\n",
        "def minutes_of_new_data(symbol, kline_size, data, source):\n",
        "    if len(data) > 0:  old = parser.parse(data[\"timestamp\"].iloc[-1])\n",
        "    elif source == \"binance\": old = datetime.strptime(initial_date, '%d %b %Y')\n",
        "    if source == \"binance\": new = pd.to_datetime(binance_client.get_klines(symbol=symbol, interval=kline_size)[-1][0], unit='ms')\n",
        "    return old, new\n",
        "\n",
        "def get_all_binance(symbol, kline_size, save = False):\n",
        "    filename = '%s-%s-data.csv' % (symbol, kline_size)\n",
        "    if os.path.isfile(filename): data_df = pd.read_csv(filename)\n",
        "    else: data_df = pd.DataFrame()\n",
        "    oldest_point, newest_point = minutes_of_new_data(symbol, kline_size, data_df, source = \"binance\")\n",
        "    delta_min = (newest_point - oldest_point).total_seconds()/60\n",
        "    available_data = math.ceil(delta_min/binsizes[kline_size])\n",
        "    if oldest_point == datetime.strptime(initial_date, '%d %b %Y'): print('Downloading all available %s data for %s. Be patient..!' % (kline_size, symbol))\n",
        "    else: print('Downloading %d minutes of new data available for %s, i.e. %d instances of %s data.' % (delta_min, symbol, available_data, kline_size))\n",
        "    klines = binance_client.get_historical_klines(symbol, kline_size, oldest_point.strftime(\"%d %b %Y %H:%M:%S\"), newest_point.strftime(\"%d %b %Y %H:%M:%S\"))\n",
        "    data = pd.DataFrame(klines, columns = ['timestamp', 'open', 'high', 'low', 'close', 'volume', 'close_time', 'quote_av', 'trades', 'tb_base_av', 'tb_quote_av', 'ignore' ])\n",
        "    data['timestamp'] = pd.to_datetime(data['timestamp'], unit='ms')\n",
        "    if len(data_df) > 0:\n",
        "        temp_df = pd.DataFrame(data)\n",
        "        data_df = data_df.append(temp_df)\n",
        "    else: data_df = data\n",
        "    data_df.set_index('timestamp', inplace=True)\n",
        "    if save: data_df.to_csv(filename)\n",
        "    print('All caught up..!')\n",
        "    return data_df\n"
      ],
      "metadata": {
        "id": "u2Z1IoPsU8zm"
      },
      "execution_count": null,
      "outputs": []
    },
    {
      "cell_type": "markdown",
      "source": [
        "Nos quedamos con datos históricos para ETHUSDC con frecuencia de 5m."
      ],
      "metadata": {
        "id": "LNCkEKyanznF"
      }
    },
    {
      "cell_type": "code",
      "source": [
        "# lista = [\"ETHUSDC\"]\n",
        "\n",
        "# BTC ETH MATIC UNI COMP AAVE YFI CRV MKR LINK KP3R SFI SUSHI 1INCH CAKE \n",
        "symbol = \"ETHUSDC\"\n",
        "# Frecuencia: 1m, 5m, 10m, 15m, 1h, 1d, 1m\n",
        "freq = \"5m\"\n",
        "\n",
        "# Descarga de datos\n",
        "ETH_historico = get_all_binance(symbol, freq, save = True)"
      ],
      "metadata": {
        "id": "TzBMvBB_VD2B",
        "colab": {
          "base_uri": "https://localhost:8080/"
        },
        "outputId": "75d7b87c-bb1b-43bd-a906-b93b8050d967"
      },
      "execution_count": null,
      "outputs": [
        {
          "output_type": "stream",
          "name": "stdout",
          "text": [
            "Downloading all available 5m data for ETHUSDC. Be patient..!\n",
            "All caught up..!\n"
          ]
        }
      ]
    },
    {
      "cell_type": "code",
      "source": [
        "len(ETH_historico)"
      ],
      "metadata": {
        "colab": {
          "base_uri": "https://localhost:8080/"
        },
        "id": "CDEicxyQoLGD",
        "outputId": "97bf54ce-975d-4dfc-e035-11ec8a9740e2"
      },
      "execution_count": null,
      "outputs": [
        {
          "output_type": "execute_result",
          "data": {
            "text/plain": [
              "133357"
            ]
          },
          "metadata": {},
          "execution_count": 13
        }
      ]
    },
    {
      "cell_type": "code",
      "source": [
        "ETH_historico"
      ],
      "metadata": {
        "colab": {
          "base_uri": "https://localhost:8080/",
          "height": 455
        },
        "id": "xdVZi1ZtwTz4",
        "outputId": "a92899ab-7206-413a-86c5-066f4055cd59"
      },
      "execution_count": null,
      "outputs": [
        {
          "output_type": "execute_result",
          "data": {
            "text/plain": [
              "                              open           high            low  \\\n",
              "timestamp                                                          \n",
              "2021-03-31 00:00:00  1841.29000000  1845.35000000  1841.12000000   \n",
              "2021-03-31 00:05:00  1844.39000000  1847.08000000  1843.99000000   \n",
              "2021-03-31 00:10:00  1845.54000000  1849.53000000  1845.54000000   \n",
              "2021-03-31 00:15:00  1848.96000000  1850.35000000  1847.50000000   \n",
              "2021-03-31 00:20:00  1848.12000000  1849.12000000  1846.00000000   \n",
              "...                            ...            ...            ...   \n",
              "2022-07-07 14:20:00  1213.69000000  1213.69000000  1207.31000000   \n",
              "2022-07-07 14:25:00  1208.43000000  1214.21000000  1208.43000000   \n",
              "2022-07-07 14:30:00  1212.28000000  1218.13000000  1211.72000000   \n",
              "2022-07-07 14:35:00  1216.84000000  1225.00000000  1216.17000000   \n",
              "2022-07-07 14:40:00  1219.01000000  1227.84000000  1218.76000000   \n",
              "\n",
              "                             close         volume     close_time  \\\n",
              "timestamp                                                          \n",
              "2021-03-31 00:00:00  1845.35000000    13.45650000  1617149099999   \n",
              "2021-03-31 00:05:00  1846.29000000    54.69818000  1617149399999   \n",
              "2021-03-31 00:10:00  1848.96000000    10.56434000  1617149699999   \n",
              "2021-03-31 00:15:00  1847.50000000   126.93107000  1617149999999   \n",
              "2021-03-31 00:20:00  1846.00000000    16.03979000  1617150299999   \n",
              "...                            ...            ...            ...   \n",
              "2022-07-07 14:20:00  1209.55000000   621.63930000  1657203899999   \n",
              "2022-07-07 14:25:00  1212.56000000   518.96480000  1657204199999   \n",
              "2022-07-07 14:30:00  1216.89000000   945.09250000  1657204499999   \n",
              "2022-07-07 14:35:00  1218.61000000   811.64280000  1657204799999   \n",
              "2022-07-07 14:40:00  1224.12000000  3125.85190000  1657205099999   \n",
              "\n",
              "                             quote_av  trades     tb_base_av  \\\n",
              "timestamp                                                      \n",
              "2021-03-31 00:00:00    24811.47621960      39     4.46207000   \n",
              "2021-03-31 00:05:00   100898.41600010      50    18.71127000   \n",
              "2021-03-31 00:10:00    19523.84183440      31     6.35202000   \n",
              "2021-03-31 00:15:00   234808.65135190     117    70.35710000   \n",
              "2021-03-31 00:20:00    29631.68322550      61     3.04496000   \n",
              "...                               ...     ...            ...   \n",
              "2022-07-07 14:20:00   752524.18384600     746   239.77200000   \n",
              "2022-07-07 14:25:00   628691.56924600     669   230.20170000   \n",
              "2022-07-07 14:30:00  1148458.19510400    1073   356.78150000   \n",
              "2022-07-07 14:35:00   990234.50929700    1101   457.14610000   \n",
              "2022-07-07 14:40:00  3827585.31389700    2019  2522.30480000   \n",
              "\n",
              "                          tb_quote_av ignore  \n",
              "timestamp                                     \n",
              "2021-03-31 00:00:00     8228.10868710      0  \n",
              "2021-03-31 00:05:00    34521.30106140      0  \n",
              "2021-03-31 00:10:00    11739.72432620      0  \n",
              "2021-03-31 00:15:00   130155.06817220      0  \n",
              "2021-03-31 00:20:00     5630.11817930      0  \n",
              "...                               ...    ...  \n",
              "2022-07-07 14:20:00   290249.98889700      0  \n",
              "2022-07-07 14:25:00   278875.84077800      0  \n",
              "2022-07-07 14:30:00   433576.84903200      0  \n",
              "2022-07-07 14:35:00   557721.27517500      0  \n",
              "2022-07-07 14:40:00  3088739.01103200      0  \n",
              "\n",
              "[133357 rows x 11 columns]"
            ],
            "text/html": [
              "\n",
              "  <div id=\"df-b400fd3f-b06d-4f82-9e33-5f8d9bc98169\">\n",
              "    <div class=\"colab-df-container\">\n",
              "      <div>\n",
              "<style scoped>\n",
              "    .dataframe tbody tr th:only-of-type {\n",
              "        vertical-align: middle;\n",
              "    }\n",
              "\n",
              "    .dataframe tbody tr th {\n",
              "        vertical-align: top;\n",
              "    }\n",
              "\n",
              "    .dataframe thead th {\n",
              "        text-align: right;\n",
              "    }\n",
              "</style>\n",
              "<table border=\"1\" class=\"dataframe\">\n",
              "  <thead>\n",
              "    <tr style=\"text-align: right;\">\n",
              "      <th></th>\n",
              "      <th>open</th>\n",
              "      <th>high</th>\n",
              "      <th>low</th>\n",
              "      <th>close</th>\n",
              "      <th>volume</th>\n",
              "      <th>close_time</th>\n",
              "      <th>quote_av</th>\n",
              "      <th>trades</th>\n",
              "      <th>tb_base_av</th>\n",
              "      <th>tb_quote_av</th>\n",
              "      <th>ignore</th>\n",
              "    </tr>\n",
              "    <tr>\n",
              "      <th>timestamp</th>\n",
              "      <th></th>\n",
              "      <th></th>\n",
              "      <th></th>\n",
              "      <th></th>\n",
              "      <th></th>\n",
              "      <th></th>\n",
              "      <th></th>\n",
              "      <th></th>\n",
              "      <th></th>\n",
              "      <th></th>\n",
              "      <th></th>\n",
              "    </tr>\n",
              "  </thead>\n",
              "  <tbody>\n",
              "    <tr>\n",
              "      <th>2021-03-31 00:00:00</th>\n",
              "      <td>1841.29000000</td>\n",
              "      <td>1845.35000000</td>\n",
              "      <td>1841.12000000</td>\n",
              "      <td>1845.35000000</td>\n",
              "      <td>13.45650000</td>\n",
              "      <td>1617149099999</td>\n",
              "      <td>24811.47621960</td>\n",
              "      <td>39</td>\n",
              "      <td>4.46207000</td>\n",
              "      <td>8228.10868710</td>\n",
              "      <td>0</td>\n",
              "    </tr>\n",
              "    <tr>\n",
              "      <th>2021-03-31 00:05:00</th>\n",
              "      <td>1844.39000000</td>\n",
              "      <td>1847.08000000</td>\n",
              "      <td>1843.99000000</td>\n",
              "      <td>1846.29000000</td>\n",
              "      <td>54.69818000</td>\n",
              "      <td>1617149399999</td>\n",
              "      <td>100898.41600010</td>\n",
              "      <td>50</td>\n",
              "      <td>18.71127000</td>\n",
              "      <td>34521.30106140</td>\n",
              "      <td>0</td>\n",
              "    </tr>\n",
              "    <tr>\n",
              "      <th>2021-03-31 00:10:00</th>\n",
              "      <td>1845.54000000</td>\n",
              "      <td>1849.53000000</td>\n",
              "      <td>1845.54000000</td>\n",
              "      <td>1848.96000000</td>\n",
              "      <td>10.56434000</td>\n",
              "      <td>1617149699999</td>\n",
              "      <td>19523.84183440</td>\n",
              "      <td>31</td>\n",
              "      <td>6.35202000</td>\n",
              "      <td>11739.72432620</td>\n",
              "      <td>0</td>\n",
              "    </tr>\n",
              "    <tr>\n",
              "      <th>2021-03-31 00:15:00</th>\n",
              "      <td>1848.96000000</td>\n",
              "      <td>1850.35000000</td>\n",
              "      <td>1847.50000000</td>\n",
              "      <td>1847.50000000</td>\n",
              "      <td>126.93107000</td>\n",
              "      <td>1617149999999</td>\n",
              "      <td>234808.65135190</td>\n",
              "      <td>117</td>\n",
              "      <td>70.35710000</td>\n",
              "      <td>130155.06817220</td>\n",
              "      <td>0</td>\n",
              "    </tr>\n",
              "    <tr>\n",
              "      <th>2021-03-31 00:20:00</th>\n",
              "      <td>1848.12000000</td>\n",
              "      <td>1849.12000000</td>\n",
              "      <td>1846.00000000</td>\n",
              "      <td>1846.00000000</td>\n",
              "      <td>16.03979000</td>\n",
              "      <td>1617150299999</td>\n",
              "      <td>29631.68322550</td>\n",
              "      <td>61</td>\n",
              "      <td>3.04496000</td>\n",
              "      <td>5630.11817930</td>\n",
              "      <td>0</td>\n",
              "    </tr>\n",
              "    <tr>\n",
              "      <th>...</th>\n",
              "      <td>...</td>\n",
              "      <td>...</td>\n",
              "      <td>...</td>\n",
              "      <td>...</td>\n",
              "      <td>...</td>\n",
              "      <td>...</td>\n",
              "      <td>...</td>\n",
              "      <td>...</td>\n",
              "      <td>...</td>\n",
              "      <td>...</td>\n",
              "      <td>...</td>\n",
              "    </tr>\n",
              "    <tr>\n",
              "      <th>2022-07-07 14:20:00</th>\n",
              "      <td>1213.69000000</td>\n",
              "      <td>1213.69000000</td>\n",
              "      <td>1207.31000000</td>\n",
              "      <td>1209.55000000</td>\n",
              "      <td>621.63930000</td>\n",
              "      <td>1657203899999</td>\n",
              "      <td>752524.18384600</td>\n",
              "      <td>746</td>\n",
              "      <td>239.77200000</td>\n",
              "      <td>290249.98889700</td>\n",
              "      <td>0</td>\n",
              "    </tr>\n",
              "    <tr>\n",
              "      <th>2022-07-07 14:25:00</th>\n",
              "      <td>1208.43000000</td>\n",
              "      <td>1214.21000000</td>\n",
              "      <td>1208.43000000</td>\n",
              "      <td>1212.56000000</td>\n",
              "      <td>518.96480000</td>\n",
              "      <td>1657204199999</td>\n",
              "      <td>628691.56924600</td>\n",
              "      <td>669</td>\n",
              "      <td>230.20170000</td>\n",
              "      <td>278875.84077800</td>\n",
              "      <td>0</td>\n",
              "    </tr>\n",
              "    <tr>\n",
              "      <th>2022-07-07 14:30:00</th>\n",
              "      <td>1212.28000000</td>\n",
              "      <td>1218.13000000</td>\n",
              "      <td>1211.72000000</td>\n",
              "      <td>1216.89000000</td>\n",
              "      <td>945.09250000</td>\n",
              "      <td>1657204499999</td>\n",
              "      <td>1148458.19510400</td>\n",
              "      <td>1073</td>\n",
              "      <td>356.78150000</td>\n",
              "      <td>433576.84903200</td>\n",
              "      <td>0</td>\n",
              "    </tr>\n",
              "    <tr>\n",
              "      <th>2022-07-07 14:35:00</th>\n",
              "      <td>1216.84000000</td>\n",
              "      <td>1225.00000000</td>\n",
              "      <td>1216.17000000</td>\n",
              "      <td>1218.61000000</td>\n",
              "      <td>811.64280000</td>\n",
              "      <td>1657204799999</td>\n",
              "      <td>990234.50929700</td>\n",
              "      <td>1101</td>\n",
              "      <td>457.14610000</td>\n",
              "      <td>557721.27517500</td>\n",
              "      <td>0</td>\n",
              "    </tr>\n",
              "    <tr>\n",
              "      <th>2022-07-07 14:40:00</th>\n",
              "      <td>1219.01000000</td>\n",
              "      <td>1227.84000000</td>\n",
              "      <td>1218.76000000</td>\n",
              "      <td>1224.12000000</td>\n",
              "      <td>3125.85190000</td>\n",
              "      <td>1657205099999</td>\n",
              "      <td>3827585.31389700</td>\n",
              "      <td>2019</td>\n",
              "      <td>2522.30480000</td>\n",
              "      <td>3088739.01103200</td>\n",
              "      <td>0</td>\n",
              "    </tr>\n",
              "  </tbody>\n",
              "</table>\n",
              "<p>133357 rows × 11 columns</p>\n",
              "</div>\n",
              "      <button class=\"colab-df-convert\" onclick=\"convertToInteractive('df-b400fd3f-b06d-4f82-9e33-5f8d9bc98169')\"\n",
              "              title=\"Convert this dataframe to an interactive table.\"\n",
              "              style=\"display:none;\">\n",
              "        \n",
              "  <svg xmlns=\"http://www.w3.org/2000/svg\" height=\"24px\"viewBox=\"0 0 24 24\"\n",
              "       width=\"24px\">\n",
              "    <path d=\"M0 0h24v24H0V0z\" fill=\"none\"/>\n",
              "    <path d=\"M18.56 5.44l.94 2.06.94-2.06 2.06-.94-2.06-.94-.94-2.06-.94 2.06-2.06.94zm-11 1L8.5 8.5l.94-2.06 2.06-.94-2.06-.94L8.5 2.5l-.94 2.06-2.06.94zm10 10l.94 2.06.94-2.06 2.06-.94-2.06-.94-.94-2.06-.94 2.06-2.06.94z\"/><path d=\"M17.41 7.96l-1.37-1.37c-.4-.4-.92-.59-1.43-.59-.52 0-1.04.2-1.43.59L10.3 9.45l-7.72 7.72c-.78.78-.78 2.05 0 2.83L4 21.41c.39.39.9.59 1.41.59.51 0 1.02-.2 1.41-.59l7.78-7.78 2.81-2.81c.8-.78.8-2.07 0-2.86zM5.41 20L4 18.59l7.72-7.72 1.47 1.35L5.41 20z\"/>\n",
              "  </svg>\n",
              "      </button>\n",
              "      \n",
              "  <style>\n",
              "    .colab-df-container {\n",
              "      display:flex;\n",
              "      flex-wrap:wrap;\n",
              "      gap: 12px;\n",
              "    }\n",
              "\n",
              "    .colab-df-convert {\n",
              "      background-color: #E8F0FE;\n",
              "      border: none;\n",
              "      border-radius: 50%;\n",
              "      cursor: pointer;\n",
              "      display: none;\n",
              "      fill: #1967D2;\n",
              "      height: 32px;\n",
              "      padding: 0 0 0 0;\n",
              "      width: 32px;\n",
              "    }\n",
              "\n",
              "    .colab-df-convert:hover {\n",
              "      background-color: #E2EBFA;\n",
              "      box-shadow: 0px 1px 2px rgba(60, 64, 67, 0.3), 0px 1px 3px 1px rgba(60, 64, 67, 0.15);\n",
              "      fill: #174EA6;\n",
              "    }\n",
              "\n",
              "    [theme=dark] .colab-df-convert {\n",
              "      background-color: #3B4455;\n",
              "      fill: #D2E3FC;\n",
              "    }\n",
              "\n",
              "    [theme=dark] .colab-df-convert:hover {\n",
              "      background-color: #434B5C;\n",
              "      box-shadow: 0px 1px 3px 1px rgba(0, 0, 0, 0.15);\n",
              "      filter: drop-shadow(0px 1px 2px rgba(0, 0, 0, 0.3));\n",
              "      fill: #FFFFFF;\n",
              "    }\n",
              "  </style>\n",
              "\n",
              "      <script>\n",
              "        const buttonEl =\n",
              "          document.querySelector('#df-b400fd3f-b06d-4f82-9e33-5f8d9bc98169 button.colab-df-convert');\n",
              "        buttonEl.style.display =\n",
              "          google.colab.kernel.accessAllowed ? 'block' : 'none';\n",
              "\n",
              "        async function convertToInteractive(key) {\n",
              "          const element = document.querySelector('#df-b400fd3f-b06d-4f82-9e33-5f8d9bc98169');\n",
              "          const dataTable =\n",
              "            await google.colab.kernel.invokeFunction('convertToInteractive',\n",
              "                                                     [key], {});\n",
              "          if (!dataTable) return;\n",
              "\n",
              "          const docLinkHtml = 'Like what you see? Visit the ' +\n",
              "            '<a target=\"_blank\" href=https://colab.research.google.com/notebooks/data_table.ipynb>data table notebook</a>'\n",
              "            + ' to learn more about interactive tables.';\n",
              "          element.innerHTML = '';\n",
              "          dataTable['output_type'] = 'display_data';\n",
              "          await google.colab.output.renderOutput(dataTable, element);\n",
              "          const docLink = document.createElement('div');\n",
              "          docLink.innerHTML = docLinkHtml;\n",
              "          element.appendChild(docLink);\n",
              "        }\n",
              "      </script>\n",
              "    </div>\n",
              "  </div>\n",
              "  "
            ]
          },
          "metadata": {},
          "execution_count": 14
        }
      ]
    },
    {
      "cell_type": "markdown",
      "source": [
        "# Simulated Paths\n"
      ],
      "metadata": {
        "id": "Tk4e5ypIGzsw"
      }
    },
    {
      "cell_type": "markdown",
      "source": [
        "Dados $\\mu,\\sigma,S_0$ los parámetros asociados al drift, volatilidad y dato inicial estimados de los datos, definimos el movimiento browniano geométrico asociado a ETH como el proceso estocástico a tiempo continuo $\\{S_t\\}_{t\\geq 0}$ que satisface la ecuación diferencial estocástica\n",
        "$$dS_t=\\mu S_t dt + \\sigma S_t dW_t,$$\n",
        "para $W$ un movimiento browniano estándar.\n",
        "\n",
        "Una formulación equivalente para $S_t$ es\n",
        "\n",
        "$$S_t=S_0\\exp{\\left(\\left(\\mu-\\frac{\\sigma^2}{2}\\right)t+\\sigma W_t\\right)}, \\ t\\geq 0.$$"
      ],
      "metadata": {
        "id": "yseMdMbZG86k"
      }
    },
    {
      "cell_type": "code",
      "source": [
        "ETH = ETH_historico[2000:][['close']]\n",
        "for i in range(len(ETH)):\n",
        "  ETH['close'][i] = float(ETH['close'][i])"
      ],
      "metadata": {
        "id": "OujbgHBjHUAP"
      },
      "execution_count": null,
      "outputs": []
    },
    {
      "cell_type": "code",
      "source": [
        "ETH['close'][0]"
      ],
      "metadata": {
        "colab": {
          "base_uri": "https://localhost:8080/"
        },
        "id": "VexaoNp3IEre",
        "outputId": "b9c44681-b615-4fa4-d99a-6b9ef4c425f4"
      },
      "execution_count": null,
      "outputs": [
        {
          "output_type": "execute_result",
          "data": {
            "text/plain": [
              "2115.15"
            ]
          },
          "metadata": {},
          "execution_count": 24
        }
      ]
    },
    {
      "cell_type": "code",
      "source": [
        "# ETH's returns\n",
        "ETH['Returns']=np.around(ETH['close'].pct_change().dropna(),3)\n",
        "ETH['std21']=ETH['Returns'].rolling(14).std() * np.sqrt(365)"
      ],
      "metadata": {
        "id": "BqyVjeMVHAvF"
      },
      "execution_count": null,
      "outputs": []
    },
    {
      "cell_type": "code",
      "source": [
        "ETH=ETH.dropna()"
      ],
      "metadata": {
        "id": "5rsflf73HDJ9"
      },
      "execution_count": null,
      "outputs": []
    },
    {
      "cell_type": "markdown",
      "source": [
        "Seteamos los parámetros del movimiento browniano.\n",
        "\n",
        "La variable scen_size es la cantidad de caminos que simularemos. \n",
        "\n",
        "El array b, para cada tiempo predicho, guarda un número aleatorio proveniente de una distribución normal estándar. Es decir, es el shock aleatorio que sufre el precio de un tiempo $t$ al siguiente $t+dt$:\n",
        "$$S_{t+dt}=S_te^{(\\mu+\\frac{1}{2}\\sigma^2)dt+\\sigma b(t+dt)}.$$\n",
        "\n",
        "\n",
        "W, por otro lado, es EL CAMINO COMPLETO. Es decir, incluye los efectos de todos los shocks aleatorios inducidos por el array b. Digamos, $W(M)$ es la suma de los M primeros elementos de b.\n",
        "\n",
        "Entendemos por\n",
        "$$drift_k=\\mu-\\frac{1}{2}\\sigma^2 ,\\ diffusion_k=\\sigma b_k.$$\n",
        "\n",
        "Por último, recordamos la expresión recurrente que define a $S$:\n",
        "$$S_k=S_0e^{\\left(\\mu-\\frac{1}{2}\\sigma^2\\right)k+\\sigma \\sum_i^kb_i}=S_0e^{\\left(\\mu-\\frac{1}{2}\\sigma^2\\right)t_k+\\sigma W_k},$$\n",
        "para $t_k=k$, $W_k=\\sum_i b_i$ y $b_i$ los shocks aleatorios anteriores."
      ],
      "metadata": {
        "id": "BX7QUtEUHEVV"
      }
    },
    {
      "cell_type": "code",
      "source": [
        "ETH.index[0]"
      ],
      "metadata": {
        "colab": {
          "base_uri": "https://localhost:8080/"
        },
        "id": "g81hI9ZrJFBa",
        "outputId": "4c795af8-a027-4478-fce4-dd53bf8edadc"
      },
      "execution_count": null,
      "outputs": [
        {
          "output_type": "execute_result",
          "data": {
            "text/plain": [
              "Timestamp('2021-04-06 22:40:00')"
            ]
          },
          "metadata": {},
          "execution_count": 31
        }
      ]
    },
    {
      "cell_type": "code",
      "source": [
        "start_date = ETH.index[0].strftime(\"%Y-%d-%m %H:%M:%S\")"
      ],
      "metadata": {
        "id": "pwIvtkk7IypQ"
      },
      "execution_count": null,
      "outputs": []
    },
    {
      "cell_type": "code",
      "source": [
        "pd.to_datetime(pred_end_date, \n",
        "                 format = \"%Y-%d-%m %HH:%M:%S\")"
      ],
      "metadata": {
        "colab": {
          "base_uri": "https://localhost:8080/",
          "height": 345
        },
        "id": "VtNc1ZmRI4qS",
        "outputId": "28ccd45c-4673-45e3-9855-736b9ed555f6"
      },
      "execution_count": null,
      "outputs": [
        {
          "output_type": "error",
          "ename": "ValueError",
          "evalue": "ignored",
          "traceback": [
            "\u001b[0;31m---------------------------------------------------------------------------\u001b[0m",
            "\u001b[0;31mTypeError\u001b[0m                                 Traceback (most recent call last)",
            "\u001b[0;32m/usr/local/lib/python3.7/dist-packages/pandas/core/tools/datetimes.py\u001b[0m in \u001b[0;36m_to_datetime_with_format\u001b[0;34m(arg, orig_arg, name, tz, fmt, exact, errors, infer_datetime_format)\u001b[0m\n\u001b[1;32m    508\u001b[0m         \u001b[0;32mtry\u001b[0m\u001b[0;34m:\u001b[0m\u001b[0;34m\u001b[0m\u001b[0;34m\u001b[0m\u001b[0m\n\u001b[0;32m--> 509\u001b[0;31m             \u001b[0mvalues\u001b[0m\u001b[0;34m,\u001b[0m \u001b[0mtz\u001b[0m \u001b[0;34m=\u001b[0m \u001b[0mconversion\u001b[0m\u001b[0;34m.\u001b[0m\u001b[0mdatetime_to_datetime64\u001b[0m\u001b[0;34m(\u001b[0m\u001b[0marg\u001b[0m\u001b[0;34m)\u001b[0m\u001b[0;34m\u001b[0m\u001b[0;34m\u001b[0m\u001b[0m\n\u001b[0m\u001b[1;32m    510\u001b[0m             \u001b[0mdta\u001b[0m \u001b[0;34m=\u001b[0m \u001b[0mDatetimeArray\u001b[0m\u001b[0;34m(\u001b[0m\u001b[0mvalues\u001b[0m\u001b[0;34m,\u001b[0m \u001b[0mdtype\u001b[0m\u001b[0;34m=\u001b[0m\u001b[0mtz_to_dtype\u001b[0m\u001b[0;34m(\u001b[0m\u001b[0mtz\u001b[0m\u001b[0;34m)\u001b[0m\u001b[0;34m)\u001b[0m\u001b[0;34m\u001b[0m\u001b[0;34m\u001b[0m\u001b[0m\n",
            "\u001b[0;32m/usr/local/lib/python3.7/dist-packages/pandas/_libs/tslibs/conversion.pyx\u001b[0m in \u001b[0;36mpandas._libs.tslibs.conversion.datetime_to_datetime64\u001b[0;34m()\u001b[0m\n",
            "\u001b[0;31mTypeError\u001b[0m: Unrecognized value type: <class 'str'>",
            "\nDuring handling of the above exception, another exception occurred:\n",
            "\u001b[0;31mValueError\u001b[0m                                Traceback (most recent call last)",
            "\u001b[0;32m<ipython-input-41-5d3645513c81>\u001b[0m in \u001b[0;36m<module>\u001b[0;34m()\u001b[0m\n\u001b[1;32m      1\u001b[0m pd.to_datetime(pred_end_date, \n\u001b[0;32m----> 2\u001b[0;31m                  format = \"%Y-%d-%m %HH:%M:%S\")\n\u001b[0m",
            "\u001b[0;32m/usr/local/lib/python3.7/dist-packages/pandas/core/tools/datetimes.py\u001b[0m in \u001b[0;36mto_datetime\u001b[0;34m(arg, errors, dayfirst, yearfirst, utc, format, exact, unit, infer_datetime_format, origin, cache)\u001b[0m\n\u001b[1;32m    912\u001b[0m             \u001b[0mresult\u001b[0m \u001b[0;34m=\u001b[0m \u001b[0mconvert_listlike\u001b[0m\u001b[0;34m(\u001b[0m\u001b[0marg\u001b[0m\u001b[0;34m,\u001b[0m \u001b[0mformat\u001b[0m\u001b[0;34m)\u001b[0m\u001b[0;34m\u001b[0m\u001b[0;34m\u001b[0m\u001b[0m\n\u001b[1;32m    913\u001b[0m     \u001b[0;32melse\u001b[0m\u001b[0;34m:\u001b[0m\u001b[0;34m\u001b[0m\u001b[0;34m\u001b[0m\u001b[0m\n\u001b[0;32m--> 914\u001b[0;31m         \u001b[0mresult\u001b[0m \u001b[0;34m=\u001b[0m \u001b[0mconvert_listlike\u001b[0m\u001b[0;34m(\u001b[0m\u001b[0mnp\u001b[0m\u001b[0;34m.\u001b[0m\u001b[0marray\u001b[0m\u001b[0;34m(\u001b[0m\u001b[0;34m[\u001b[0m\u001b[0marg\u001b[0m\u001b[0;34m]\u001b[0m\u001b[0;34m)\u001b[0m\u001b[0;34m,\u001b[0m \u001b[0mformat\u001b[0m\u001b[0;34m)\u001b[0m\u001b[0;34m[\u001b[0m\u001b[0;36m0\u001b[0m\u001b[0;34m]\u001b[0m\u001b[0;34m\u001b[0m\u001b[0;34m\u001b[0m\u001b[0m\n\u001b[0m\u001b[1;32m    915\u001b[0m \u001b[0;34m\u001b[0m\u001b[0m\n\u001b[1;32m    916\u001b[0m     \u001b[0;31m#  error: Incompatible return value type (got \"Union[Timestamp, NaTType,\u001b[0m\u001b[0;34m\u001b[0m\u001b[0;34m\u001b[0m\u001b[0;34m\u001b[0m\u001b[0m\n",
            "\u001b[0;32m/usr/local/lib/python3.7/dist-packages/pandas/core/tools/datetimes.py\u001b[0m in \u001b[0;36m_convert_listlike_datetimes\u001b[0;34m(arg, format, name, tz, unit, errors, infer_datetime_format, dayfirst, yearfirst, exact)\u001b[0m\n\u001b[1;32m    392\u001b[0m     \u001b[0;32mif\u001b[0m \u001b[0mformat\u001b[0m \u001b[0;32mis\u001b[0m \u001b[0;32mnot\u001b[0m \u001b[0;32mNone\u001b[0m\u001b[0;34m:\u001b[0m\u001b[0;34m\u001b[0m\u001b[0;34m\u001b[0m\u001b[0m\n\u001b[1;32m    393\u001b[0m         res = _to_datetime_with_format(\n\u001b[0;32m--> 394\u001b[0;31m             \u001b[0marg\u001b[0m\u001b[0;34m,\u001b[0m \u001b[0morig_arg\u001b[0m\u001b[0;34m,\u001b[0m \u001b[0mname\u001b[0m\u001b[0;34m,\u001b[0m \u001b[0mtz\u001b[0m\u001b[0;34m,\u001b[0m \u001b[0mformat\u001b[0m\u001b[0;34m,\u001b[0m \u001b[0mexact\u001b[0m\u001b[0;34m,\u001b[0m \u001b[0merrors\u001b[0m\u001b[0;34m,\u001b[0m \u001b[0minfer_datetime_format\u001b[0m\u001b[0;34m\u001b[0m\u001b[0;34m\u001b[0m\u001b[0m\n\u001b[0m\u001b[1;32m    395\u001b[0m         )\n\u001b[1;32m    396\u001b[0m         \u001b[0;32mif\u001b[0m \u001b[0mres\u001b[0m \u001b[0;32mis\u001b[0m \u001b[0;32mnot\u001b[0m \u001b[0;32mNone\u001b[0m\u001b[0;34m:\u001b[0m\u001b[0;34m\u001b[0m\u001b[0;34m\u001b[0m\u001b[0m\n",
            "\u001b[0;32m/usr/local/lib/python3.7/dist-packages/pandas/core/tools/datetimes.py\u001b[0m in \u001b[0;36m_to_datetime_with_format\u001b[0;34m(arg, orig_arg, name, tz, fmt, exact, errors, infer_datetime_format)\u001b[0m\n\u001b[1;32m    511\u001b[0m             \u001b[0;32mreturn\u001b[0m \u001b[0mDatetimeIndex\u001b[0m\u001b[0;34m.\u001b[0m\u001b[0m_simple_new\u001b[0m\u001b[0;34m(\u001b[0m\u001b[0mdta\u001b[0m\u001b[0;34m,\u001b[0m \u001b[0mname\u001b[0m\u001b[0;34m=\u001b[0m\u001b[0mname\u001b[0m\u001b[0;34m)\u001b[0m\u001b[0;34m\u001b[0m\u001b[0;34m\u001b[0m\u001b[0m\n\u001b[1;32m    512\u001b[0m         \u001b[0;32mexcept\u001b[0m \u001b[0;34m(\u001b[0m\u001b[0mValueError\u001b[0m\u001b[0;34m,\u001b[0m \u001b[0mTypeError\u001b[0m\u001b[0;34m)\u001b[0m\u001b[0;34m:\u001b[0m\u001b[0;34m\u001b[0m\u001b[0;34m\u001b[0m\u001b[0m\n\u001b[0;32m--> 513\u001b[0;31m             \u001b[0;32mraise\u001b[0m \u001b[0merr\u001b[0m\u001b[0;34m\u001b[0m\u001b[0;34m\u001b[0m\u001b[0m\n\u001b[0m\u001b[1;32m    514\u001b[0m \u001b[0;34m\u001b[0m\u001b[0m\n\u001b[1;32m    515\u001b[0m \u001b[0;34m\u001b[0m\u001b[0m\n",
            "\u001b[0;32m/usr/local/lib/python3.7/dist-packages/pandas/core/tools/datetimes.py\u001b[0m in \u001b[0;36m_to_datetime_with_format\u001b[0;34m(arg, orig_arg, name, tz, fmt, exact, errors, infer_datetime_format)\u001b[0m\n\u001b[1;32m    499\u001b[0m         \u001b[0;31m# fallback\u001b[0m\u001b[0;34m\u001b[0m\u001b[0;34m\u001b[0m\u001b[0;34m\u001b[0m\u001b[0m\n\u001b[1;32m    500\u001b[0m         res = _array_strptime_with_fallback(\n\u001b[0;32m--> 501\u001b[0;31m             \u001b[0marg\u001b[0m\u001b[0;34m,\u001b[0m \u001b[0mname\u001b[0m\u001b[0;34m,\u001b[0m \u001b[0mtz\u001b[0m\u001b[0;34m,\u001b[0m \u001b[0mfmt\u001b[0m\u001b[0;34m,\u001b[0m \u001b[0mexact\u001b[0m\u001b[0;34m,\u001b[0m \u001b[0merrors\u001b[0m\u001b[0;34m,\u001b[0m \u001b[0minfer_datetime_format\u001b[0m\u001b[0;34m\u001b[0m\u001b[0;34m\u001b[0m\u001b[0m\n\u001b[0m\u001b[1;32m    502\u001b[0m         )\n\u001b[1;32m    503\u001b[0m         \u001b[0;32mreturn\u001b[0m \u001b[0mres\u001b[0m\u001b[0;34m\u001b[0m\u001b[0;34m\u001b[0m\u001b[0m\n",
            "\u001b[0;32m/usr/local/lib/python3.7/dist-packages/pandas/core/tools/datetimes.py\u001b[0m in \u001b[0;36m_array_strptime_with_fallback\u001b[0;34m(arg, name, tz, fmt, exact, errors, infer_datetime_format)\u001b[0m\n\u001b[1;32m    434\u001b[0m \u001b[0;34m\u001b[0m\u001b[0m\n\u001b[1;32m    435\u001b[0m     \u001b[0;32mtry\u001b[0m\u001b[0;34m:\u001b[0m\u001b[0;34m\u001b[0m\u001b[0;34m\u001b[0m\u001b[0m\n\u001b[0;32m--> 436\u001b[0;31m         \u001b[0mresult\u001b[0m\u001b[0;34m,\u001b[0m \u001b[0mtimezones\u001b[0m \u001b[0;34m=\u001b[0m \u001b[0marray_strptime\u001b[0m\u001b[0;34m(\u001b[0m\u001b[0marg\u001b[0m\u001b[0;34m,\u001b[0m \u001b[0mfmt\u001b[0m\u001b[0;34m,\u001b[0m \u001b[0mexact\u001b[0m\u001b[0;34m=\u001b[0m\u001b[0mexact\u001b[0m\u001b[0;34m,\u001b[0m \u001b[0merrors\u001b[0m\u001b[0;34m=\u001b[0m\u001b[0merrors\u001b[0m\u001b[0;34m)\u001b[0m\u001b[0;34m\u001b[0m\u001b[0;34m\u001b[0m\u001b[0m\n\u001b[0m\u001b[1;32m    437\u001b[0m         \u001b[0;32mif\u001b[0m \u001b[0;34m\"%Z\"\u001b[0m \u001b[0;32min\u001b[0m \u001b[0mfmt\u001b[0m \u001b[0;32mor\u001b[0m \u001b[0;34m\"%z\"\u001b[0m \u001b[0;32min\u001b[0m \u001b[0mfmt\u001b[0m\u001b[0;34m:\u001b[0m\u001b[0;34m\u001b[0m\u001b[0;34m\u001b[0m\u001b[0m\n\u001b[1;32m    438\u001b[0m             \u001b[0;32mreturn\u001b[0m \u001b[0m_return_parsed_timezone_results\u001b[0m\u001b[0;34m(\u001b[0m\u001b[0mresult\u001b[0m\u001b[0;34m,\u001b[0m \u001b[0mtimezones\u001b[0m\u001b[0;34m,\u001b[0m \u001b[0mtz\u001b[0m\u001b[0;34m,\u001b[0m \u001b[0mname\u001b[0m\u001b[0;34m)\u001b[0m\u001b[0;34m\u001b[0m\u001b[0;34m\u001b[0m\u001b[0m\n",
            "\u001b[0;32m/usr/local/lib/python3.7/dist-packages/pandas/_libs/tslibs/strptime.pyx\u001b[0m in \u001b[0;36mpandas._libs.tslibs.strptime.array_strptime\u001b[0;34m()\u001b[0m\n",
            "\u001b[0;31mValueError\u001b[0m: time data '2022-01-20 00:00:00' does not match format '%Y-%d-%m %HH:%M:%S' (match)"
          ]
        }
      ]
    },
    {
      "cell_type": "code",
      "source": [
        "#--------------------------------------------------- GEOMETRIC BROWNIAN MOTION ------------------------------------------------\n",
        "\n",
        "# Parameter Definitions\n",
        "\n",
        "# So    :   initial stock price\n",
        "# dt    :   time increment -> a day in our case\n",
        "# T     :   length of the prediction time horizon(how many time points to predict, same unit with dt(days))\n",
        "# N     :   number of time points in prediction the time horizon -> T/dt\n",
        "# t     :   array for time points in the prediction time horizon [1, 2, 3, .. , N]\n",
        "# mu    :   mean of historical daily returns\n",
        "# sigma :   standard deviation of historical daily returns\n",
        "# scen_size : number of paths simulated\n",
        "# b     :   array for brownian increments\n",
        "# W     :   array for brownian path\n",
        "\n",
        "start_date = ETH.index[0].strftime(\"%Y-%d-%m %H:%M:%S\")\n",
        "end_date = ETH.index[len(ETH)-1].strftime(\"%Y-%d-%m %H:%M:%S\")\n",
        "pred_end_date = '2022-20-01 00:00:00'\n",
        "\n",
        "\n",
        "S_ETH=ETH['close']\n",
        "S_ETH['Fecha']=ETH.index\n",
        "# print(S_eon.head())\n",
        "# print(S_eon.tail())\n",
        "\n",
        "returns = ETH['Returns']\n",
        "# print('Lista de retornos:', returns.tolist())\n",
        "\n",
        "# Parameter Assignments\n",
        "So = ETH['close'][len(ETH)-1]\n",
        "dt = 1 # day   # User input\n",
        "n_of_wkdays = pd.date_range(start = pd.to_datetime(end_date, \n",
        "                 format = \"%Y-%d-%m %H:%M:%S\") + pd.Timedelta('1 days'), \n",
        "                 end = pd.to_datetime(pred_end_date, \n",
        "                 format = \"%Y-%d-%m %H:%M:%S\")).to_series().map(lambda x: \n",
        "                 1 if x.isoweekday() in range(1,8) else 0).sum()\n",
        "T = n_of_wkdays # days  # User input -> follows from pred_end_date\n",
        "N = T / dt\n",
        "t = np.arange(1, int(N) + 1)\n",
        "mu = np.mean(returns)\n",
        "sigma = np.std(returns)\n",
        "scen_size = 50 # User input\n",
        "b = {str(scen): np.random.normal(0, 1, int(N)) for scen in range(1, scen_size + 1)}\n",
        "W = {str(scen): b[str(scen)].cumsum() for scen in range(1, scen_size + 1)}\n",
        "\n",
        "# Calculating drift and diffusion components\n",
        "drift = (mu - 0.5 * sigma**2) * t\n",
        "# print('\\n\\n drift--->', drift)\n",
        "diffusion = {str(scen): sigma * W[str(scen)] for scen in range(1, scen_size + 1)}\n",
        "# print('\\n\\n difussion--->', diffusion)"
      ],
      "metadata": {
        "colab": {
          "base_uri": "https://localhost:8080/"
        },
        "id": "OXOaBPZ-HF18",
        "outputId": "bc469e5f-a35b-4ddd-91b7-5736c495ff23"
      },
      "execution_count": null,
      "outputs": [
        {
          "output_type": "stream",
          "name": "stderr",
          "text": [
            "/usr/local/lib/python3.7/dist-packages/ipykernel_launcher.py:22: SettingWithCopyWarning: \n",
            "A value is trying to be set on a copy of a slice from a DataFrame\n",
            "\n",
            "See the caveats in the documentation: https://pandas.pydata.org/pandas-docs/stable/user_guide/indexing.html#returning-a-view-versus-a-copy\n"
          ]
        }
      ]
    },
    {
      "cell_type": "code",
      "source": [
        "# Making the predictions\n",
        "# Usamos la solución explícita de la integral estocástica\n",
        "S = np.array([So * np.exp(drift + diffusion[str(scen)]) for scen in range(1, scen_size + 1)]) \n",
        "S = np.hstack((np.array([[So] for scen in range(scen_size)]), S)) # add So to the beginning series\n",
        "# print('\\n\\n S---->', S)\n",
        "\n",
        "# Plotting the simulations\n",
        "plt.figure(figsize = (20,10))\n",
        "for i in range(scen_size):\n",
        "    plt.title(\"Daily Volatility: \" + str(sigma))\n",
        "    plt.plot(pd.date_range(start = S_ETH[\"Fecha\"].max(), \n",
        "                end = pred_end_date, freq = 'D').map(lambda x:\n",
        "                x if x.isoweekday() in range(1, 8) else np.nan).dropna(), S[i, :])\n",
        "    plt.ylabel('Stock Prices, USD')\n",
        "    plt.xlabel('Prediction Days')\n",
        "plt.show()\n",
        "\n",
        "# Dataframe format for predictions - first 10 scenarios only\n",
        "Preds_df = pd.DataFrame(S.swapaxes(0, 1)[:, :10]).set_index(\n",
        "           pd.date_range(start = S_ETH[\"Fecha\"].max(), \n",
        "           end = pred_end_date, freq = 'D').map(lambda x:\n",
        "           x if x.isoweekday() in range(1, 8) else np.nan).dropna()\n",
        "           ).reset_index(drop = False)\n"
      ],
      "metadata": {
        "colab": {
          "base_uri": "https://localhost:8080/",
          "height": 1000
        },
        "id": "s03yzV3zHHRS",
        "outputId": "d0d46e23-93ab-4b37-90fa-dd19071d6494"
      },
      "execution_count": null,
      "outputs": [
        {
          "output_type": "error",
          "ename": "ValueError",
          "evalue": "ignored",
          "traceback": [
            "\u001b[0;31m---------------------------------------------------------------------------\u001b[0m",
            "\u001b[0;31mValueError\u001b[0m                                Traceback (most recent call last)",
            "\u001b[0;32m/usr/local/lib/python3.7/dist-packages/dateutil/parser/_parser.py\u001b[0m in \u001b[0;36mparse\u001b[0;34m(self, timestr, default, ignoretz, tzinfos, **kwargs)\u001b[0m\n\u001b[1;32m    648\u001b[0m         \u001b[0;32mtry\u001b[0m\u001b[0;34m:\u001b[0m\u001b[0;34m\u001b[0m\u001b[0;34m\u001b[0m\u001b[0m\n\u001b[0;32m--> 649\u001b[0;31m             \u001b[0mret\u001b[0m \u001b[0;34m=\u001b[0m \u001b[0mself\u001b[0m\u001b[0;34m.\u001b[0m\u001b[0m_build_naive\u001b[0m\u001b[0;34m(\u001b[0m\u001b[0mres\u001b[0m\u001b[0;34m,\u001b[0m \u001b[0mdefault\u001b[0m\u001b[0;34m)\u001b[0m\u001b[0;34m\u001b[0m\u001b[0;34m\u001b[0m\u001b[0m\n\u001b[0m\u001b[1;32m    650\u001b[0m         \u001b[0;32mexcept\u001b[0m \u001b[0mValueError\u001b[0m \u001b[0;32mas\u001b[0m \u001b[0me\u001b[0m\u001b[0;34m:\u001b[0m\u001b[0;34m\u001b[0m\u001b[0;34m\u001b[0m\u001b[0m\n",
            "\u001b[0;32m/usr/local/lib/python3.7/dist-packages/dateutil/parser/_parser.py\u001b[0m in \u001b[0;36m_build_naive\u001b[0;34m(self, res, default)\u001b[0m\n\u001b[1;32m   1234\u001b[0m \u001b[0;34m\u001b[0m\u001b[0m\n\u001b[0;32m-> 1235\u001b[0;31m         \u001b[0mnaive\u001b[0m \u001b[0;34m=\u001b[0m \u001b[0mdefault\u001b[0m\u001b[0;34m.\u001b[0m\u001b[0mreplace\u001b[0m\u001b[0;34m(\u001b[0m\u001b[0;34m**\u001b[0m\u001b[0mrepl\u001b[0m\u001b[0;34m)\u001b[0m\u001b[0;34m\u001b[0m\u001b[0;34m\u001b[0m\u001b[0m\n\u001b[0m\u001b[1;32m   1236\u001b[0m \u001b[0;34m\u001b[0m\u001b[0m\n",
            "\u001b[0;31mValueError\u001b[0m: month must be in 1..12",
            "\nThe above exception was the direct cause of the following exception:\n",
            "\u001b[0;31mParserError\u001b[0m                               Traceback (most recent call last)",
            "\u001b[0;32m/usr/local/lib/python3.7/dist-packages/pandas/_libs/tslibs/conversion.pyx\u001b[0m in \u001b[0;36mpandas._libs.tslibs.conversion._convert_str_to_tsobject\u001b[0;34m()\u001b[0m\n",
            "\u001b[0;32m/usr/local/lib/python3.7/dist-packages/pandas/_libs/tslibs/parsing.pyx\u001b[0m in \u001b[0;36mpandas._libs.tslibs.parsing.parse_datetime_string\u001b[0;34m()\u001b[0m\n",
            "\u001b[0;32m/usr/local/lib/python3.7/dist-packages/dateutil/parser/_parser.py\u001b[0m in \u001b[0;36mparse\u001b[0;34m(timestr, parserinfo, **kwargs)\u001b[0m\n\u001b[1;32m   1367\u001b[0m     \u001b[0;32melse\u001b[0m\u001b[0;34m:\u001b[0m\u001b[0;34m\u001b[0m\u001b[0;34m\u001b[0m\u001b[0m\n\u001b[0;32m-> 1368\u001b[0;31m         \u001b[0;32mreturn\u001b[0m \u001b[0mDEFAULTPARSER\u001b[0m\u001b[0;34m.\u001b[0m\u001b[0mparse\u001b[0m\u001b[0;34m(\u001b[0m\u001b[0mtimestr\u001b[0m\u001b[0;34m,\u001b[0m \u001b[0;34m**\u001b[0m\u001b[0mkwargs\u001b[0m\u001b[0;34m)\u001b[0m\u001b[0;34m\u001b[0m\u001b[0;34m\u001b[0m\u001b[0m\n\u001b[0m\u001b[1;32m   1369\u001b[0m \u001b[0;34m\u001b[0m\u001b[0m\n",
            "\u001b[0;32m/usr/local/lib/python3.7/dist-packages/dateutil/parser/_parser.py\u001b[0m in \u001b[0;36mparse\u001b[0;34m(self, timestr, default, ignoretz, tzinfos, **kwargs)\u001b[0m\n\u001b[1;32m    650\u001b[0m         \u001b[0;32mexcept\u001b[0m \u001b[0mValueError\u001b[0m \u001b[0;32mas\u001b[0m \u001b[0me\u001b[0m\u001b[0;34m:\u001b[0m\u001b[0;34m\u001b[0m\u001b[0;34m\u001b[0m\u001b[0m\n\u001b[0;32m--> 651\u001b[0;31m             \u001b[0msix\u001b[0m\u001b[0;34m.\u001b[0m\u001b[0mraise_from\u001b[0m\u001b[0;34m(\u001b[0m\u001b[0mParserError\u001b[0m\u001b[0;34m(\u001b[0m\u001b[0mstr\u001b[0m\u001b[0;34m(\u001b[0m\u001b[0me\u001b[0m\u001b[0;34m)\u001b[0m \u001b[0;34m+\u001b[0m \u001b[0;34m\": %s\"\u001b[0m\u001b[0;34m,\u001b[0m \u001b[0mtimestr\u001b[0m\u001b[0;34m)\u001b[0m\u001b[0;34m,\u001b[0m \u001b[0me\u001b[0m\u001b[0;34m)\u001b[0m\u001b[0;34m\u001b[0m\u001b[0;34m\u001b[0m\u001b[0m\n\u001b[0m\u001b[1;32m    652\u001b[0m \u001b[0;34m\u001b[0m\u001b[0m\n",
            "\u001b[0;32m/usr/local/lib/python3.7/dist-packages/six.py\u001b[0m in \u001b[0;36mraise_from\u001b[0;34m(value, from_value)\u001b[0m\n",
            "\u001b[0;31mParserError\u001b[0m: month must be in 1..12: 2022-20-01 00:00:00",
            "\nDuring handling of the above exception, another exception occurred:\n",
            "\u001b[0;31mValueError\u001b[0m                                Traceback (most recent call last)",
            "\u001b[0;32m<ipython-input-44-e1cdb63542fb>\u001b[0m in \u001b[0;36m<module>\u001b[0;34m()\u001b[0m\n\u001b[1;32m     10\u001b[0m     \u001b[0mplt\u001b[0m\u001b[0;34m.\u001b[0m\u001b[0mtitle\u001b[0m\u001b[0;34m(\u001b[0m\u001b[0;34m\"Daily Volatility: \"\u001b[0m \u001b[0;34m+\u001b[0m \u001b[0mstr\u001b[0m\u001b[0;34m(\u001b[0m\u001b[0msigma\u001b[0m\u001b[0;34m)\u001b[0m\u001b[0;34m)\u001b[0m\u001b[0;34m\u001b[0m\u001b[0;34m\u001b[0m\u001b[0m\n\u001b[1;32m     11\u001b[0m     plt.plot(pd.date_range(start = S_ETH[\"Fecha\"].max(), \n\u001b[0;32m---> 12\u001b[0;31m                 \u001b[0mend\u001b[0m \u001b[0;34m=\u001b[0m \u001b[0mpred_end_date\u001b[0m\u001b[0;34m,\u001b[0m \u001b[0mfreq\u001b[0m \u001b[0;34m=\u001b[0m \u001b[0;34m'D'\u001b[0m\u001b[0;34m)\u001b[0m\u001b[0;34m.\u001b[0m\u001b[0mmap\u001b[0m\u001b[0;34m(\u001b[0m\u001b[0;32mlambda\u001b[0m \u001b[0mx\u001b[0m\u001b[0;34m:\u001b[0m\u001b[0;34m\u001b[0m\u001b[0;34m\u001b[0m\u001b[0m\n\u001b[0m\u001b[1;32m     13\u001b[0m                 x if x.isoweekday() in range(1, 8) else np.nan).dropna(), S[i, :])\n\u001b[1;32m     14\u001b[0m     \u001b[0mplt\u001b[0m\u001b[0;34m.\u001b[0m\u001b[0mylabel\u001b[0m\u001b[0;34m(\u001b[0m\u001b[0;34m'Stock Prices, USD'\u001b[0m\u001b[0;34m)\u001b[0m\u001b[0;34m\u001b[0m\u001b[0;34m\u001b[0m\u001b[0m\n",
            "\u001b[0;32m/usr/local/lib/python3.7/dist-packages/pandas/core/indexes/datetimes.py\u001b[0m in \u001b[0;36mdate_range\u001b[0;34m(start, end, periods, freq, tz, normalize, name, closed, **kwargs)\u001b[0m\n\u001b[1;32m   1103\u001b[0m         \u001b[0mnormalize\u001b[0m\u001b[0;34m=\u001b[0m\u001b[0mnormalize\u001b[0m\u001b[0;34m,\u001b[0m\u001b[0;34m\u001b[0m\u001b[0;34m\u001b[0m\u001b[0m\n\u001b[1;32m   1104\u001b[0m         \u001b[0mclosed\u001b[0m\u001b[0;34m=\u001b[0m\u001b[0mclosed\u001b[0m\u001b[0;34m,\u001b[0m\u001b[0;34m\u001b[0m\u001b[0;34m\u001b[0m\u001b[0m\n\u001b[0;32m-> 1105\u001b[0;31m         \u001b[0;34m**\u001b[0m\u001b[0mkwargs\u001b[0m\u001b[0;34m,\u001b[0m\u001b[0;34m\u001b[0m\u001b[0;34m\u001b[0m\u001b[0m\n\u001b[0m\u001b[1;32m   1106\u001b[0m     )\n\u001b[1;32m   1107\u001b[0m     \u001b[0;32mreturn\u001b[0m \u001b[0mDatetimeIndex\u001b[0m\u001b[0;34m.\u001b[0m\u001b[0m_simple_new\u001b[0m\u001b[0;34m(\u001b[0m\u001b[0mdtarr\u001b[0m\u001b[0;34m,\u001b[0m \u001b[0mname\u001b[0m\u001b[0;34m=\u001b[0m\u001b[0mname\u001b[0m\u001b[0;34m)\u001b[0m\u001b[0;34m\u001b[0m\u001b[0;34m\u001b[0m\u001b[0m\n",
            "\u001b[0;32m/usr/local/lib/python3.7/dist-packages/pandas/core/arrays/datetimes.py\u001b[0m in \u001b[0;36m_generate_range\u001b[0;34m(cls, start, end, periods, freq, tz, normalize, ambiguous, nonexistent, closed)\u001b[0m\n\u001b[1;32m    410\u001b[0m \u001b[0;34m\u001b[0m\u001b[0m\n\u001b[1;32m    411\u001b[0m         \u001b[0;32mif\u001b[0m \u001b[0mend\u001b[0m \u001b[0;32mis\u001b[0m \u001b[0;32mnot\u001b[0m \u001b[0;32mNone\u001b[0m\u001b[0;34m:\u001b[0m\u001b[0;34m\u001b[0m\u001b[0;34m\u001b[0m\u001b[0m\n\u001b[0;32m--> 412\u001b[0;31m             \u001b[0mend\u001b[0m \u001b[0;34m=\u001b[0m \u001b[0mTimestamp\u001b[0m\u001b[0;34m(\u001b[0m\u001b[0mend\u001b[0m\u001b[0;34m)\u001b[0m\u001b[0;34m\u001b[0m\u001b[0;34m\u001b[0m\u001b[0m\n\u001b[0m\u001b[1;32m    413\u001b[0m \u001b[0;34m\u001b[0m\u001b[0m\n\u001b[1;32m    414\u001b[0m         \u001b[0;32mif\u001b[0m \u001b[0mstart\u001b[0m \u001b[0;32mis\u001b[0m \u001b[0mNaT\u001b[0m \u001b[0;32mor\u001b[0m \u001b[0mend\u001b[0m \u001b[0;32mis\u001b[0m \u001b[0mNaT\u001b[0m\u001b[0;34m:\u001b[0m\u001b[0;34m\u001b[0m\u001b[0;34m\u001b[0m\u001b[0m\n",
            "\u001b[0;32m/usr/local/lib/python3.7/dist-packages/pandas/_libs/tslibs/timestamps.pyx\u001b[0m in \u001b[0;36mpandas._libs.tslibs.timestamps.Timestamp.__new__\u001b[0;34m()\u001b[0m\n",
            "\u001b[0;32m/usr/local/lib/python3.7/dist-packages/pandas/_libs/tslibs/conversion.pyx\u001b[0m in \u001b[0;36mpandas._libs.tslibs.conversion.convert_to_tsobject\u001b[0;34m()\u001b[0m\n",
            "\u001b[0;32m/usr/local/lib/python3.7/dist-packages/pandas/_libs/tslibs/conversion.pyx\u001b[0m in \u001b[0;36mpandas._libs.tslibs.conversion._convert_str_to_tsobject\u001b[0;34m()\u001b[0m\n",
            "\u001b[0;31mValueError\u001b[0m: could not convert string to Timestamp"
          ]
        },
        {
          "output_type": "display_data",
          "data": {
            "text/plain": [
              "<Figure size 1440x720 with 1 Axes>"
            ],
            "image/png": "[encoded data removed]"
          },
          "metadata": {
            "needs_background": "light"
          }
        }
      ]
    },
    {
      "cell_type": "code",
      "source": [
        "aux=pd.DataFrame(S).T.mean(axis=1)\n",
        "ETH_pred=pd.DataFrame(aux,columns=['Precio'])\n",
        "ETH_pred['Fecha']=pd.date_range(start = S_ETH[\"Fecha\"].max(), \n",
        "                end = pred_end_date, freq = 'D').map(lambda x:\n",
        "                x if x.isoweekday() in range(1, 8) else np.nan).dropna()\n",
        "ETH_pred=ETH_pred[['Fecha','Precio']]"
      ],
      "metadata": {
        "id": "nP-zDuVOHJSk"
      },
      "execution_count": null,
      "outputs": []
    },
    {
      "cell_type": "code",
      "source": [
        "ETH_pred.tail(10)"
      ],
      "metadata": {
        "id": "BSHY3VRZHKzJ"
      },
      "execution_count": null,
      "outputs": []
    }
  ]
}