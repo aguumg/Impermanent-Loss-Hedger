{
  "nbformat": 4,
  "nbformat_minor": 0,
  "metadata": {
    "colab": {
      "name": "Hedge IL en wETH-USDC.ipynb",
      "provenance": [],
      "collapsed_sections": [
        "tOktJspAThdA",
        "dqJhPe6PTc4N",
        "O7jKG1Cd5zif"
      ]
    },
    "kernelspec": {
      "name": "python3",
      "display_name": "Python 3"
    },
    "language_info": {
      "name": "python"
    }
  },
  "cells": [
    {
      "cell_type": "markdown",
      "source": [
        "# Librerias y funciones previas"
      ],
      "metadata": {
        "id": "tOktJspAThdA"
      }
    },
    {
      "cell_type": "markdown",
      "source": [
        "Comencemos cargando las librerías que usaremos a lo largo del trabajo, y definiendo todas las funciones necesarias."
      ],
      "metadata": {
        "id": "8HbkTRUtmSwn"
      }
    },
    {
      "cell_type": "code",
      "source": [
        "import numpy as np\n",
        "import pandas as pd\n",
        "import matplotlib.pyplot as plt"
      ],
      "metadata": {
        "id": "SaV8Cx3YSRgm"
      },
      "execution_count": null,
      "outputs": []
    },
    {
      "cell_type": "markdown",
      "source": [
        "Las próximas funciones las obtuvimos del whitepaper de Balancer (o de la propia dev doc del protocolo). A saber\n",
        "\n",
        "- OutGivenIn: Devuelve la cantidad A_o (o = out) del token j = 1-i que obtendríamos si metiéramos al pool A_i (i = in) unidades del token i.\n",
        "- InGivenOut: Devuelve la cantidad A_i del token j = 1-i que habría que meter al pool para obtener A_o unidades del token i.\n",
        "- InGivenPrice: Devuelve la cantidad del token j = 1-i que habría que meter al pool si queremos cambiar el precio del pool P_pool a un nuevo precio P_new, metiendo el token i."
      ],
      "metadata": {
        "id": "w1mfmJ_5ot6u"
      }
    },
    {
      "cell_type": "code",
      "source": [
        "def OutGivenIn(balance, A_i, i):\n",
        "  '''\n",
        "  P_ETH = balance[0] / balance[1]\n",
        "  i = 0 quiere decir que meto USDC\n",
        "  '''\n",
        "  B_i = balance[i]\n",
        "  B_o = balance[i-1]\n",
        "  # if i==0:\n",
        "  #   B_i = balance[0]\n",
        "  #   B_o = balance[1]\n",
        "  # else:\n",
        "  #   B_i = balance[1]\n",
        "  #   B_o = balance[0]\n",
        "  A_o = B_o * (1-B_i/(B_i+A_i))\n",
        "  return A_o\n",
        "\n",
        "def InGivenOut(balance, A_o, i):\n",
        "  B_i = balance[i]\n",
        "  B_o = balance[i-1]\n",
        "  # if i==0:\n",
        "  #   B_i = balance[0]\n",
        "  #   B_o = balance[1]\n",
        "  # else:\n",
        "  #   B_i = balance[1]\n",
        "  #   B_o = balance[0]\n",
        "  A_i = B_i * (B_o/(B_o-A_o)-1)\n",
        "  return A_i \n",
        "\n",
        "def InGivenPrice(balance, P_new, i):\n",
        "  P_pool = balance[0] / balance[1]\n",
        "  B_i = balance[i]\n",
        "  # if i==0:\n",
        "  #   B_i = balance[0]\n",
        "  #   B_o = balance[1]\n",
        "  # else:\n",
        "  #   B_i = balance[1]\n",
        "  #   B_o = balance[0]\n",
        "  A_i = B_i * ((P_new/P_pool)**(1/2)-1)\n",
        "  return A_i"
      ],
      "metadata": {
        "id": "P-sSx_6GTkZh"
      },
      "execution_count": null,
      "outputs": []
    },
    {
      "cell_type": "markdown",
      "source": [
        "La idea para emular los cambios en los balances del pool va a ser la siguiente:\n",
        "- Dado un nuevo precio de mercado (de la data historica) vamos a comparar el precio del pool con el precio de mercado para saber cuál es más alto y ver qué moneda (i=0 USDC, i=1 wETH) debemos ingresar al pool para cambiar el precio relativo. Para eso usaremos la funcion InGivenPrice;\n",
        "- Sabiendo la cantidad $A_i$ del token $i$ que debemos ingresar al pool, utilizaremos la función OutGivenIn para saber cuántas unidades $A_o$ del token o recibiremos por el swap;\n",
        "- Finalmente teniendo ahora sí cuántas unidades del token i metimos al pool y cuántas unidades del token o sacamos del pool, podremos actualizar los balances.\n"
      ],
      "metadata": {
        "id": "2P_gUtOxpv5N"
      }
    },
    {
      "cell_type": "markdown",
      "source": [
        "Definimos entonces las siguientes funciones\n",
        "\n",
        "- variacion_balances(balance_nuevo, balance_anterior): Devuelve la variacion como porcentaje (pcg) y en unidades, entre los dos balances que le pasemos. Usaremos esta función para calcular la variacion de los balances y aplicar estos cambios a nuestras tenencias. Otra forma sería directamente quedarnos con el % de nuestra participación en el pool para cada balance simulado.\n",
        "- new_balance(P_new, balance_anterior): Devuelve el nuevo balance del pool dados el nuevo precio de mercado y el balance anterior. Esta función encierra la lógica que describimos en el párrafo anterior.\n",
        "[Ej: Si ETH se valoriza en el mercado, entonces el pool tiene que reducir el balance de ETH. Con lo cual uno podría calcular cuánto USDC hay que meter para cambiar P_pool a P_new (InGivenPrice) y luego para ese A_i, calcular cuántos A_o ETH recibiría por esos A_i USDC (OutGivenIn). Finalmente, sumamos A_i al balance de USDC, restamos A_o al balance de ETH y tenemos el nuevo balance]"
      ],
      "metadata": {
        "id": "k0KpoUTont23"
      }
    },
    {
      "cell_type": "code",
      "source": [
        "def variacion_balances(balance_nuevo, balance_anterior):\n",
        "  r_USDC = balance_nuevo[0] / balance_anterior[0] -1\n",
        "  r_ETH = balance_nuevo[1] / balance_anterior[1] -1\n",
        "  return {'pcg': [r_USDC, r_ETH],\n",
        "          'unidades': [balance_nuevo[0]-balance_anterior[0], balance_nuevo[1]-balance_anterior[1]]}\n",
        "def new_balance(P_new, balance_anterior):\n",
        "  P_pool = balance_anterior[0] / balance_anterior[1]\n",
        "  if P_pool < P_new: # ETH se apreció en el mercado, entonces tiene que bajar su balance y subir el de USDC\n",
        "    A_i = InGivenPrice(balance_anterior, P_new, 0)\n",
        "    A_o = OutGivenIn(balance_anterior, A_i, 0)\n",
        "    return [balance_anterior[0] + abs(A_i), balance_anterior[1] - abs(A_o)]\n",
        "  else: # si ETH se deprecia en el mercado, tiene que subir su balance\n",
        "    A_i = InGivenPrice(balance_anterior, P_new, 1)\n",
        "    A_o = OutGivenIn(balance_anterior, A_i, 1)\n",
        "    return [balance_anterior[0] - abs(A_o), balance_anterior[1] + abs(A_i)]"
      ],
      "metadata": {
        "id": "AEikcS_DXljR"
      },
      "execution_count": null,
      "outputs": []
    },
    {
      "cell_type": "markdown",
      "source": [
        "Por último, definimos las funciones de Impermanent Loss como % y en USD, en términos de $R=\\frac{P}{P_0}$ y de $P$, dadas por\n",
        "\n",
        "\\begin{align*}\n",
        "  IL_{\\%}(R) &= \\frac{2\\sqrt{R}}{R+1} -1 \\Rightarrow IL_{USD}(R) = IL_{\\%}(R)*V_{Hold};\\\\\n",
        "  IL_{\\%}(P) &= 2\\sqrt{P_0}\\frac{\\sqrt{P}}{P+P_0}-1 \\Rightarrow IL_{USD}(P) = IL_{\\%}(P)*V_{Hold};\\\\ \n",
        "\\end{align*}\n",
        "\n",
        "Hay otra escritura posible para $IL_{USD}(P)$ que sale usando\n",
        "\n",
        "\\begin{align*}\n",
        "  V_P &= 2\\sqrt{kP} = 2\\sqrt{kP_0}\\sqrt{\\frac{P}{P_0}} = V_P^0\\sqrt{\\frac{P}{P_0}},\\\\\n",
        "  V_H &= \\sqrt{kP_0}\\left(\\frac{P}{P_0}+1\\right) = 2\\sqrt{kP_0}\\frac{1}{2}\\left(\\frac{P}{P_0}+1\\right)=\\frac{V_H^0}{2}\\left(\\frac{P}{P_0}+1\\right).\n",
        "\\end{align*}\n",
        "\n",
        "Notar que en las últimas identidades estamos usando $k(t)=k(0)$, que podría no ser cierto (Ver sección ¿Es lo mismo calcular IL como la diferencia entre V_P y V_H que tomar las formulas? NO!).\n",
        "\n",
        "Nos queda entonces\n",
        "\n",
        "$$IL_{USD}(P) = V_P - V_H = V_H^0\\left(\\sqrt{\\frac{P}{P_0}}-\\frac{1}{2}-\\frac{P}{2P_0}\\right).$$\n",
        "\n",
        "**Observación** \n",
        "\n",
        "Como la idea es hedgearse contra el cambio en la IL respecto de cambios en el precio, debemos expresarla como función de $P$. Además, nos interesa manejar esa pérdida en términos de USDC y no como un ratio."
      ],
      "metadata": {
        "id": "HpDZJfZMu7r8"
      }
    },
    {
      "cell_type": "code",
      "source": [
        "def IL_R(R):\n",
        "  return 2 * R**(1/2)/(R+1)-1\n",
        "def IL_P(P):\n",
        "  # return IL_R(P/P_entry)\n",
        "  return 2 * (P_entry)**(1/2) * P**(1/2)/(P+P_entry)-1\n",
        "def IL_R_in_usd(R):\n",
        "  P = R * P_entry\n",
        "  V_hold = tenencias_inicial[0] + tenencias_inicial[1] * P\n",
        "  return IL_R(R) * V_hold\n",
        "def IL_P_in_usd(P):\n",
        "  V_hold = tenencias_inicial[0] + tenencias_inicial[1] * P\n",
        "  # V_hold_0 = tenencias_inicial[0] + tenencias_inicial[1] * P_entry\n",
        "  # return IL_R_in_usd(P/P_entry)\n",
        "  return IL_P(P) * V_hold\n",
        "  # return V_hold_0 * ((P/P_entry)**(1/2) - 1/2 - P/(2*P_entry))\n"
      ],
      "metadata": {
        "id": "N74sOxSQTrU6"
      },
      "execution_count": null,
      "outputs": []
    },
    {
      "cell_type": "markdown",
      "source": [
        "Podemos entonces calcular la derivada de IL\n",
        "\n",
        "\\begin{align*}\n",
        "  \\frac{\\partial}{\\partial R}IL_{\\%}(R) &= \\frac{1-R}{\\sqrt{R}(R+1)^2}; \\\n",
        "  \\frac{\\partial}{\\partial P}IL_{\\%}(P) = \\sqrt{P_0}\\frac{P_0-P}{\\sqrt{P}(P+P_0)^2} \\\\ \n",
        "  \\Rightarrow \\frac{\\partial}{\\partial P}IL_{USD}(P) &= \\frac{\\partial}{\\partial P}IL_{\\%}(P) * V_{Hold} + IL_{\\%}(P) * \\frac{\\partial}{\\partial P}V_{Hold}\\\\\n",
        "  &= \\frac{\\partial}{\\partial P}IL_{\\%}(P) * V_{Hold} + IL_{\\%}(P) * b,\n",
        "\\end{align*}\n",
        "donde en la última identidad usamod $V_{Hold} = tenencias\\_inicial[0] + tenencias\\_inicial[1] * P =: a + b*P$.\n",
        "\n",
        "Equivalentemente, si usamos $$IL_{USD}(P) = V_P - V_H = V_H^0\\left(\\sqrt{\\frac{P}{P_0}}-\\frac{1}{2}-\\frac{P}{2P_0}\\right),$$\n",
        "nos queda\n",
        "$$\\frac{\\partial}{\\partial P}IL_{USD}(P) = \\frac{V^0_H}{2P_0}\\left(\\sqrt{\\frac{P_0}{P}}-1\\right).$$"
      ],
      "metadata": {
        "id": "XBWDAEttxLsY"
      }
    },
    {
      "cell_type": "code",
      "source": [
        "#\n",
        "def IL_derivada_R(R):\n",
        "  return (1-R) / (R**(1/2)*(R+1)**2)\n",
        "def IL_derivada_P(P):\n",
        "  return IL_derivada_R(P/P_entry) / P_entry\n",
        "  # return (P_entry)**(1/2)*(P_entry-P)/(P**(1/2)*(P+P_entry)**2)\n",
        "def IL_derivada_P_in_usd(P):\n",
        "  V_hold = tenencias_inicial[0] + tenencias_inicial[1] * P\n",
        "  V_hold_0 = tenencias_inicial[0] + tenencias_inicial[1] * P_entry\n",
        "  return IL_derivada_P(P) * V_hold + IL_P(P) * tenencias_inicial[1]\n",
        "  # return V_hold_0/(2*P_entry) * ((P_entry/P)**(1/2) - 1)"
      ],
      "metadata": {
        "id": "yBvGxZO8w0ef"
      },
      "execution_count": null,
      "outputs": []
    },
    {
      "cell_type": "markdown",
      "source": [
        "Agregamos también las fórmulas incorporando fees. Sean $fee=\\tau$, $\\phi = 1-\\tau$, $P:=p^{bid^1}$ y $P_0:=p^{bid^0}$. Sabiendo que $p^b = \\phi P_{Y|X} = \\phi \\frac{y}{x}$, $R=\\frac{P_{Y|X}}{P^0_{Y|X}}=\\frac{p^b}{p^b_0}$ y que $V_{Hold} = a+b*p^b$, tenemos\n",
        "\n",
        "\\begin{align*}\n",
        "  IL^{fee}_{\\%}(R) &= \\sqrt{R}\\frac{1+\\phi}{\\phi R+1} -1 \\Rightarrow \\frac{\\partial}{\\partial R}IL^{fee}_{\\%}(R) = \\frac{1+\\phi}{(1+\\phi R)^2}\\frac{1-\\phi R}{2\\sqrt{R}};\\\\\n",
        "  IL^{fee}_{\\%}(P) &= \\sqrt{PP_0}\\frac{1+\\phi}{P_0+\\phi P}-1 \\Rightarrow \\frac{\\partial}{\\partial P} IL^{fee}_{\\%}(P) = \\frac{1+\\phi}{2}\\sqrt{\\frac{P_0}{P}}\\frac{P_0-\\phi P}{(P_0+\\phi P)^2};\\\\ \n",
        "  IL^{fee}_{USD}(P) &= IL^{fee}_{\\%}(P)*V_{Hold} \\text{ una forma} \\\\\n",
        "  &= \\frac{V_H^0}{2}\\left(\\sqrt{\\frac{P}{P_0}}\\frac{1+\\phi}{\\phi}-\\frac{P_0+\\phi P}{P_0\\sqrt{\\phi}}\\right) \\text{ otra forma} \\Rightarrow \\frac{\\partial}{\\partial P} IL^{fee}_{USD}(P) = \\frac{V_H^0}{2P_0}\\left(\\frac{1}{2}\\sqrt{\\frac{P_0}{P}}\\frac{1+\\phi}{\\phi}-\\sqrt{\\phi}\\right).\n",
        "\\end{align*}"
      ],
      "metadata": {
        "id": "rzdnvyKn0SeQ"
      }
    },
    {
      "cell_type": "code",
      "source": [
        "def IL_R_fee(R,fee):\n",
        "  phi = 1-fee\n",
        "  return R**(1/2)*(1+phi)/(1+R*phi)-1\n",
        "def IL_P_fee(P,fee):\n",
        "  phi = 1-fee\n",
        "  return IL_R_fee(P/P_entry,fee)\n",
        "  # return (P*P_entry)**(1/2)*(1+phi)/(P_entry+phi*P)-1\n",
        "def IL_P_in_usd_fee(P,fee):\n",
        "  phi = 1-fee\n",
        "  # P = R * P_entry\n",
        "  p_bid = P * phi\n",
        "  p_bid_entry = P_entry * phi\n",
        "  # p_bid_entry = P_entry * phi\n",
        "  V_hold = tenencias_inicial[0] + tenencias_inicial[1] * p_bid\n",
        "  V_hold_0 = tenencias_inicial[0] + tenencias_inicial[1] * p_bid_entry\n",
        "  return V_hold_0/2 * ( (p_bid/p_bid_entry)**(1/2) * (1+phi)/phi - (p_bid_entry + phi*p_bid) / (p_bid_entry*phi**(1/2)) )\n",
        "  # return IL_R_in_usd_fee(P/P_entry,fee)\n",
        "#\n",
        "def IL_derivada_R_fee(R, fee):\n",
        "  phi = 1-fee\n",
        "  return (1+phi)/(1+phi*R)**2 * (1-phi*R)/(2*R**(1/2))\n",
        "def IL_derivada_P_fee(P,fee):\n",
        "  phi = 1-fee\n",
        "  p_bid_entry = P_entry * phi\n",
        "  p_bid = P *  phi\n",
        "  return IL_derivada_R_fee(P/P_entry, fee) / p_bid_entry\n",
        "  # return (1+phi)/2 * (p_bid_entry/p_bid)**(1/2) * (p_bid_entry-phi*p_bid)/(p_bid_entry+phi*p_bid)**2\n",
        "def IL_derivada_P_in_usd_fee(P,fee):\n",
        "  phi = 1-fee\n",
        "  p_bid = P * phi\n",
        "  p_bid_entry = P_entry * phi\n",
        "  V_hold = tenencias_inicial[0] + tenencias_inicial[1] * p_bid\n",
        "  V_hold_0 = tenencias_inicial[0] + tenencias_inicial[1] * p_bid_entry\n",
        "  return IL_derivada_P_fee(P,fee) * V_hold + IL_P_fee(P, fee) * tenencias_inicial[1] \n",
        "  # return V_hold_0/(2*p_bid_entry) * ( 1/2*(p_bid_entry/p_bid)**(1/2) * (1+phi)/phi - phi**(1/2) )"
      ],
      "metadata": {
        "id": "yeuL8dj5hs2e"
      },
      "execution_count": null,
      "outputs": []
    },
    {
      "cell_type": "markdown",
      "source": [
        "Hacemos algunos plots para chequear que todas las formulaciones son, al menos graficamente, equivalentes."
      ],
      "metadata": {
        "id": "d6p7C4Le8lrv"
      }
    },
    {
      "cell_type": "code",
      "source": [
        "R_minus = np.arange(0.01, 1, 0.01)\n",
        "R_plus = np.arange(1, 10, 0.01)"
      ],
      "metadata": {
        "id": "hM8AvXzWtWi8"
      },
      "execution_count": null,
      "outputs": []
    },
    {
      "cell_type": "code",
      "source": [
        "# fig, axs = plt.subplots(1,1,figsize = (20,7))\n",
        "# axs.plot(R_minus, IL_R(R_minus), c='red')\n",
        "# axs.plot(R_plus, IL_R(R_plus), c='blue')\n",
        "# axs.plot(R_minus*P_entry, IL_P(R_minus*P_entry), c='red')\n",
        "# axs.plot(R_plus*P_entry, IL_P(R_plus*P_entry), c='blue')\n",
        "# axs.plot(R_minus, IL_R_in_usd(R_minus), c='red')\n",
        "# axs.plot(R_plus, IL_R_in_usd(R_plus), c='blue')\n",
        "# axs.plot(R_minus*P_entry, IL_P_in_usd(R_minus*P_entry), c='red')\n",
        "# axs.plot(R_plus*P_entry, IL_P_in_usd(R_plus*P_entry), c='blue')\n",
        "# with fees\n",
        "# fee = 0.00075\n",
        "# axs.plot(R_minus, IL_R_fee(R_minus, fee), c='red')\n",
        "# axs.plot(R_plus, IL_R_fee(R_plus, fee), c='blue')\n",
        "# axs.plot(R_minus*P_entry, IL_P_fee(R_minus*P_entry, fee), c='red')\n",
        "# axs.plot(R_plus*P_entry, IL_P_fee(R_plus*P_entry, fee), c='blue')\n",
        "# axs.plot(R_minus*P_entry, IL_P_in_usd_fee(R_minus*P_entry, fee), c='red')\n",
        "# axs.plot(R_plus*P_entry, IL_P_in_usd_fee(R_plus*P_entry, fee), c='blue')"
      ],
      "metadata": {
        "id": "_KdLGJIxtgae"
      },
      "execution_count": null,
      "outputs": []
    },
    {
      "cell_type": "code",
      "source": [
        "fig, axs = plt.subplots(2,1,figsize = (20,7))\n",
        "axs[0].plot(R_minus, IL_derivada_R(R_minus), c='red')\n",
        "axs[1].plot(R_plus, IL_derivada_R(R_plus), c='blue')\n",
        "# axs[0].plot(R_minus*P_entry, IL_derivada_P(R_minus*P_entry), c='red')\n",
        "# axs[1].plot(R_plus*P_entry, IL_derivada_P(R_plus*P_entry), c='blue')\n",
        "# axs[0].plot(R_minus*P_entry, IL_derivada_P_in_usd(R_minus*P_entry), c='red')\n",
        "# axs[1].plot(R_plus*P_entry, IL_derivada_P_in_usd(R_plus*P_entry), c='blue')\n",
        "# with fees\n",
        "# fee = 0.00075\n",
        "# axs[0].plot(R_minus, IL_derivada_R_fee(R_minus, fee), c='red')\n",
        "# axs[1].plot(R_plus, IL_derivada_R_fee(R_plus, fee), c='blue')\n",
        "# axs[0].plot(R_minus*P_entry, IL_derivada_P_fee(R_minus*P_entry, fee), c='red')\n",
        "# axs[1].plot(R_plus*P_entry, IL_derivada_P_fee(R_plus*P_entry, fee), c='blue')\n",
        "# axs[0].plot(R_minus*P_entry, IL_derivada_P_in_usd_fee(R_minus*P_entry, fee), c='red')\n",
        "# axs[1].plot(R_plus*P_entry, IL_derivada_P_in_usd_fee(R_plus*P_entry, fee), c='blue')"
      ],
      "metadata": {
        "id": "zkIBplwAuKCI",
        "colab": {
          "base_uri": "https://localhost:8080/",
          "height": 446
        },
        "outputId": "26eb37f2-f071-4cce-b9c2-ce67b253bd5b"
      },
      "execution_count": null,
      "outputs": [
        {
          "output_type": "execute_result",
          "data": {
            "text/plain": [
              "[<matplotlib.lines.Line2D at 0x7f0b031ba4d0>]"
            ]
          },
          "metadata": {},
          "execution_count": 9
        },
        {
          "output_type": "display_data",
          "data": {
            "text/plain": [
              "<Figure size 1440x504 with 2 Axes>"
            ],
            "image/png": "[encoded data removed]"
          },
          "metadata": {
            "needs_background": "light"
          }
        }
      ]
    },
    {
      "cell_type": "markdown",
      "source": [
        "# Datos historicos de ETH"
      ],
      "metadata": {
        "id": "dqJhPe6PTc4N"
      }
    },
    {
      "cell_type": "markdown",
      "source": [
        "En esta sección armamos una función para traer datos históricos de Binance para varias frecuencias temporales. Notar que seteamos initial_date = '31 Mar 2021' pero uno puede poner la fecha de inicio que desee."
      ],
      "metadata": {
        "id": "rD0zjDFXnlGN"
      }
    },
    {
      "cell_type": "code",
      "source": [
        "!pip install python-binance"
      ],
      "metadata": {
        "colab": {
          "base_uri": "https://localhost:8080/"
        },
        "id": "RC3BvJrzp7ab",
        "outputId": "8e137c5e-54e3-4321-ec94-530a319143ae"
      },
      "execution_count": null,
      "outputs": [
        {
          "output_type": "stream",
          "name": "stdout",
          "text": [
            "Looking in indexes: https://pypi.org/simple, https://us-python.pkg.dev/colab-wheels/public/simple/\n",
            "Collecting python-binance\n",
            "  Downloading python_binance-1.0.16-py2.py3-none-any.whl (65 kB)\n",
            "\u001b[K     |████████████████████████████████| 65 kB 3.4 MB/s \n",
            "\u001b[?25hRequirement already satisfied: requests in /usr/local/lib/python3.7/dist-packages (from python-binance) (2.23.0)\n",
            "Collecting ujson\n",
            "  Downloading ujson-5.4.0-cp37-cp37m-manylinux_2_17_x86_64.manylinux2014_x86_64.whl (45 kB)\n",
            "\u001b[K     |████████████████████████████████| 45 kB 3.9 MB/s \n",
            "\u001b[?25hCollecting aiohttp\n",
            "  Downloading aiohttp-3.8.1-cp37-cp37m-manylinux_2_5_x86_64.manylinux1_x86_64.manylinux_2_12_x86_64.manylinux2010_x86_64.whl (1.1 MB)\n",
            "\u001b[K     |████████████████████████████████| 1.1 MB 15.8 MB/s \n",
            "\u001b[?25hCollecting websockets\n",
            "  Downloading websockets-10.3-cp37-cp37m-manylinux_2_5_x86_64.manylinux1_x86_64.manylinux_2_12_x86_64.manylinux2010_x86_64.whl (112 kB)\n",
            "\u001b[K     |████████████████████████████████| 112 kB 64.0 MB/s \n",
            "\u001b[?25hRequirement already satisfied: six in /usr/local/lib/python3.7/dist-packages (from python-binance) (1.15.0)\n",
            "Collecting dateparser\n",
            "  Downloading dateparser-1.1.1-py2.py3-none-any.whl (288 kB)\n",
            "\u001b[K     |████████████████████████████████| 288 kB 70.7 MB/s \n",
            "\u001b[?25hRequirement already satisfied: attrs>=17.3.0 in /usr/local/lib/python3.7/dist-packages (from aiohttp->python-binance) (21.4.0)\n",
            "Requirement already satisfied: charset-normalizer<3.0,>=2.0 in /usr/local/lib/python3.7/dist-packages (from aiohttp->python-binance) (2.0.12)\n",
            "Collecting yarl<2.0,>=1.0\n",
            "  Downloading yarl-1.7.2-cp37-cp37m-manylinux_2_5_x86_64.manylinux1_x86_64.manylinux_2_12_x86_64.manylinux2010_x86_64.whl (271 kB)\n",
            "\u001b[K     |████████████████████████████████| 271 kB 81.6 MB/s \n",
            "\u001b[?25hRequirement already satisfied: typing-extensions>=3.7.4 in /usr/local/lib/python3.7/dist-packages (from aiohttp->python-binance) (4.1.1)\n",
            "Collecting async-timeout<5.0,>=4.0.0a3\n",
            "  Downloading async_timeout-4.0.2-py3-none-any.whl (5.8 kB)\n",
            "Collecting multidict<7.0,>=4.5\n",
            "  Downloading multidict-6.0.2-cp37-cp37m-manylinux_2_17_x86_64.manylinux2014_x86_64.whl (94 kB)\n",
            "\u001b[K     |████████████████████████████████| 94 kB 3.6 MB/s \n",
            "\u001b[?25hCollecting frozenlist>=1.1.1\n",
            "  Downloading frozenlist-1.3.0-cp37-cp37m-manylinux_2_5_x86_64.manylinux1_x86_64.manylinux_2_17_x86_64.manylinux2014_x86_64.whl (144 kB)\n",
            "\u001b[K     |████████████████████████████████| 144 kB 57.3 MB/s \n",
            "\u001b[?25hCollecting asynctest==0.13.0\n",
            "  Downloading asynctest-0.13.0-py3-none-any.whl (26 kB)\n",
            "Collecting aiosignal>=1.1.2\n",
            "  Downloading aiosignal-1.2.0-py3-none-any.whl (8.2 kB)\n",
            "Requirement already satisfied: idna>=2.0 in /usr/local/lib/python3.7/dist-packages (from yarl<2.0,>=1.0->aiohttp->python-binance) (2.10)\n",
            "Requirement already satisfied: pytz in /usr/local/lib/python3.7/dist-packages (from dateparser->python-binance) (2022.1)\n",
            "Requirement already satisfied: python-dateutil in /usr/local/lib/python3.7/dist-packages (from dateparser->python-binance) (2.8.2)\n",
            "Requirement already satisfied: tzlocal in /usr/local/lib/python3.7/dist-packages (from dateparser->python-binance) (1.5.1)\n",
            "Collecting regex!=2019.02.19,!=2021.8.27,<2022.3.15\n",
            "  Downloading regex-2022.3.2-cp37-cp37m-manylinux_2_17_x86_64.manylinux2014_x86_64.whl (749 kB)\n",
            "\u001b[K     |████████████████████████████████| 749 kB 27.7 MB/s \n",
            "\u001b[?25hRequirement already satisfied: urllib3!=1.25.0,!=1.25.1,<1.26,>=1.21.1 in /usr/local/lib/python3.7/dist-packages (from requests->python-binance) (1.24.3)\n",
            "Requirement already satisfied: chardet<4,>=3.0.2 in /usr/local/lib/python3.7/dist-packages (from requests->python-binance) (3.0.4)\n",
            "Requirement already satisfied: certifi>=2017.4.17 in /usr/local/lib/python3.7/dist-packages (from requests->python-binance) (2022.6.15)\n",
            "Installing collected packages: multidict, frozenlist, yarl, regex, asynctest, async-timeout, aiosignal, websockets, ujson, dateparser, aiohttp, python-binance\n",
            "  Attempting uninstall: regex\n",
            "    Found existing installation: regex 2022.6.2\n",
            "    Uninstalling regex-2022.6.2:\n",
            "      Successfully uninstalled regex-2022.6.2\n",
            "Successfully installed aiohttp-3.8.1 aiosignal-1.2.0 async-timeout-4.0.2 asynctest-0.13.0 dateparser-1.1.1 frozenlist-1.3.0 multidict-6.0.2 python-binance-1.0.16 regex-2022.3.2 ujson-5.4.0 websockets-10.3 yarl-1.7.2\n"
          ]
        }
      ]
    },
    {
      "cell_type": "code",
      "source": [
        "import pandas as pd\n",
        "import math\n",
        "import os.path\n",
        "import time\n",
        "from binance.client import Client\n",
        "from datetime import timedelta, datetime\n",
        "from dateutil import parser\n",
        "from tqdm import tqdm_notebook #(Optional, used for progress-bars)\n",
        "\n",
        "### API\n",
        "binance_api_key = '9zFIgetckRO80d4RciWs8jc4XSwAMEnFIuwVhAoaYIstQ9RWlfqiV6zcAGu0Ta8R'    #Enter your own API-key here\n",
        "binance_api_secret = 'Uu8vtNEmH1PPDPDchX51jivxBENEbNwDmDcQrnhPJBJwFcbqjnvxL2MeQJuTc4Kg' #Enter your own API-secret here\n",
        "\n",
        "### CONSTANTS\n",
        "binsizes = {\"1m\": 1, \"5m\": 5, \"10m\": 10, \"15m\": 15, \"1h\": 60, \"6h\": 360, \"12h\": 720, \"1d\": 1440}\n",
        "\n",
        "batch_size = 750\n",
        "binance_client = Client(api_key=binance_api_key, api_secret=binance_api_secret)\n",
        "\n",
        "# initial_date = '1 Jan 2017'\n",
        "initial_date = '31 Mar 2021'\n",
        "### FUNCTIONS\n",
        "def minutes_of_new_data(symbol, kline_size, data, source):\n",
        "    if len(data) > 0:  old = parser.parse(data[\"timestamp\"].iloc[-1])\n",
        "    elif source == \"binance\": old = datetime.strptime(initial_date, '%d %b %Y')\n",
        "    if source == \"binance\": new = pd.to_datetime(binance_client.get_klines(symbol=symbol, interval=kline_size)[-1][0], unit='ms')\n",
        "    return old, new\n",
        "\n",
        "def get_all_binance(symbol, kline_size, save = False):\n",
        "    filename = '%s-%s-data.csv' % (symbol, kline_size)\n",
        "    if os.path.isfile(filename): data_df = pd.read_csv(filename)\n",
        "    else: data_df = pd.DataFrame()\n",
        "    oldest_point, newest_point = minutes_of_new_data(symbol, kline_size, data_df, source = \"binance\")\n",
        "    delta_min = (newest_point - oldest_point).total_seconds()/60\n",
        "    available_data = math.ceil(delta_min/binsizes[kline_size])\n",
        "    if oldest_point == datetime.strptime(initial_date, '%d %b %Y'): print('Downloading all available %s data for %s. Be patient..!' % (kline_size, symbol))\n",
        "    else: print('Downloading %d minutes of new data available for %s, i.e. %d instances of %s data.' % (delta_min, symbol, available_data, kline_size))\n",
        "    klines = binance_client.get_historical_klines(symbol, kline_size, oldest_point.strftime(\"%d %b %Y %H:%M:%S\"), newest_point.strftime(\"%d %b %Y %H:%M:%S\"))\n",
        "    data = pd.DataFrame(klines, columns = ['timestamp', 'open', 'high', 'low', 'close', 'volume', 'close_time', 'quote_av', 'trades', 'tb_base_av', 'tb_quote_av', 'ignore' ])\n",
        "    data['timestamp'] = pd.to_datetime(data['timestamp'], unit='ms')\n",
        "    if len(data_df) > 0:\n",
        "        temp_df = pd.DataFrame(data)\n",
        "        data_df = data_df.append(temp_df)\n",
        "    else: data_df = data\n",
        "    data_df.set_index('timestamp', inplace=True)\n",
        "    if save: data_df.to_csv(filename)\n",
        "    print('All caught up..!')\n",
        "    return data_df\n"
      ],
      "metadata": {
        "id": "u2Z1IoPsU8zm"
      },
      "execution_count": null,
      "outputs": []
    },
    {
      "cell_type": "markdown",
      "source": [
        "Nos quedamos con datos históricos para ETHUSDC con frecuencia de 5m."
      ],
      "metadata": {
        "id": "LNCkEKyanznF"
      }
    },
    {
      "cell_type": "code",
      "source": [
        "# lista = [\"ETHUSDC\"]\n",
        "\n",
        "# BTC ETH MATIC UNI COMP AAVE YFI CRV MKR LINK KP3R SFI SUSHI 1INCH CAKE \n",
        "symbol = \"ETHUSDC\"\n",
        "# Frecuencia: 1m, 5m, 10m, 15m, 1h, 1d, 1m\n",
        "freq = \"5m\"\n",
        "\n",
        "# Descarga de datos\n",
        "ETH_historico = get_all_binance(symbol, freq, save = True)"
      ],
      "metadata": {
        "id": "TzBMvBB_VD2B",
        "colab": {
          "base_uri": "https://localhost:8080/"
        },
        "outputId": "e68d8bfd-f568-4d81-fc39-29e89f53b9b3"
      },
      "execution_count": null,
      "outputs": [
        {
          "output_type": "stream",
          "name": "stdout",
          "text": [
            "Downloading all available 5m data for ETHUSDC. Be patient..!\n",
            "All caught up..!\n"
          ]
        }
      ]
    },
    {
      "cell_type": "code",
      "source": [
        "len(ETH_historico)"
      ],
      "metadata": {
        "colab": {
          "base_uri": "https://localhost:8080/"
        },
        "id": "CDEicxyQoLGD",
        "outputId": "ee22ff44-7e54-4227-eb32-de55f187687d"
      },
      "execution_count": null,
      "outputs": [
        {
          "output_type": "execute_result",
          "data": {
            "text/plain": [
              "133339"
            ]
          },
          "metadata": {},
          "execution_count": 13
        }
      ]
    },
    {
      "cell_type": "code",
      "source": [
        "ETH_historico"
      ],
      "metadata": {
        "colab": {
          "base_uri": "https://localhost:8080/",
          "height": 866
        },
        "id": "xdVZi1ZtwTz4",
        "outputId": "34c71c04-dd32-48ee-c97c-4db2564eefa5"
      },
      "execution_count": null,
      "outputs": [
        {
          "output_type": "execute_result",
          "data": {
            "text/plain": [
              "                              open           high            low  \\\n",
              "timestamp                                                          \n",
              "2021-03-31 00:00:00  1841.29000000  1845.35000000  1841.12000000   \n",
              "2021-03-31 00:05:00  1844.39000000  1847.08000000  1843.99000000   \n",
              "2021-03-31 00:10:00  1845.54000000  1849.53000000  1845.54000000   \n",
              "2021-03-31 00:15:00  1848.96000000  1850.35000000  1847.50000000   \n",
              "2021-03-31 00:20:00  1848.12000000  1849.12000000  1846.00000000   \n",
              "...                            ...            ...            ...   \n",
              "2022-07-07 12:50:00  1186.35000000  1188.46000000  1185.67000000   \n",
              "2022-07-07 12:55:00  1187.79000000  1188.40000000  1185.89000000   \n",
              "2022-07-07 13:00:00  1186.44000000  1197.99000000  1186.07000000   \n",
              "2022-07-07 13:05:00  1188.10000000  1188.10000000  1183.82000000   \n",
              "2022-07-07 13:10:00  1185.28000000  1187.20000000  1184.42000000   \n",
              "\n",
              "                             close         volume     close_time  \\\n",
              "timestamp                                                          \n",
              "2021-03-31 00:00:00  1845.35000000    13.45650000  1617149099999   \n",
              "2021-03-31 00:05:00  1846.29000000    54.69818000  1617149399999   \n",
              "2021-03-31 00:10:00  1848.96000000    10.56434000  1617149699999   \n",
              "2021-03-31 00:15:00  1847.50000000   126.93107000  1617149999999   \n",
              "2021-03-31 00:20:00  1846.00000000    16.03979000  1617150299999   \n",
              "...                            ...            ...            ...   \n",
              "2022-07-07 12:50:00  1187.86000000  1590.46130000  1657198499999   \n",
              "2022-07-07 12:55:00  1186.37000000   166.55710000  1657198799999   \n",
              "2022-07-07 13:00:00  1188.24000000  1314.95700000  1657199099999   \n",
              "2022-07-07 13:05:00  1184.88000000   224.54870000  1657199399999   \n",
              "2022-07-07 13:10:00  1186.38000000    75.18780000  1657199699999   \n",
              "\n",
              "                             quote_av  trades     tb_base_av  \\\n",
              "timestamp                                                      \n",
              "2021-03-31 00:00:00    24811.47621960      39     4.46207000   \n",
              "2021-03-31 00:05:00   100898.41600010      50    18.71127000   \n",
              "2021-03-31 00:10:00    19523.84183440      31     6.35202000   \n",
              "2021-03-31 00:15:00   234808.65135190     117    70.35710000   \n",
              "2021-03-31 00:20:00    29631.68322550      61     3.04496000   \n",
              "...                               ...     ...            ...   \n",
              "2022-07-07 12:50:00  1889259.19900500     833   138.16200000   \n",
              "2022-07-07 12:55:00   197708.14141200     270    66.26460000   \n",
              "2022-07-07 13:00:00  1563837.96491700     918  1028.80510000   \n",
              "2022-07-07 13:05:00   266205.14974100     396    80.82850000   \n",
              "2022-07-07 13:10:00    89151.81367700     134    35.31320000   \n",
              "\n",
              "                          tb_quote_av ignore  \n",
              "timestamp                                     \n",
              "2021-03-31 00:00:00     8228.10868710      0  \n",
              "2021-03-31 00:05:00    34521.30106140      0  \n",
              "2021-03-31 00:10:00    11739.72432620      0  \n",
              "2021-03-31 00:15:00   130155.06817220      0  \n",
              "2021-03-31 00:20:00     5630.11817930      0  \n",
              "...                               ...    ...  \n",
              "2022-07-07 12:50:00   164048.93580400      0  \n",
              "2022-07-07 12:55:00    78653.06631000      0  \n",
              "2022-07-07 13:00:00  1223933.84054100      0  \n",
              "2022-07-07 13:05:00    95804.71894400      0  \n",
              "2022-07-07 13:10:00    41868.11563200      0  \n",
              "\n",
              "[133339 rows x 11 columns]"
            ],
            "text/html": [
              "\n",
              "  <div id=\"df-f581fee7-aac6-4878-8bf7-b388747e3a4f\">\n",
              "    <div class=\"colab-df-container\">\n",
              "      <div>\n",
              "<style scoped>\n",
              "    .dataframe tbody tr th:only-of-type {\n",
              "        vertical-align: middle;\n",
              "    }\n",
              "\n",
              "    .dataframe tbody tr th {\n",
              "        vertical-align: top;\n",
              "    }\n",
              "\n",
              "    .dataframe thead th {\n",
              "        text-align: right;\n",
              "    }\n",
              "</style>\n",
              "<table border=\"1\" class=\"dataframe\">\n",
              "  <thead>\n",
              "    <tr style=\"text-align: right;\">\n",
              "      <th></th>\n",
              "      <th>open</th>\n",
              "      <th>high</th>\n",
              "      <th>low</th>\n",
              "      <th>close</th>\n",
              "      <th>volume</th>\n",
              "      <th>close_time</th>\n",
              "      <th>quote_av</th>\n",
              "      <th>trades</th>\n",
              "      <th>tb_base_av</th>\n",
              "      <th>tb_quote_av</th>\n",
              "      <th>ignore</th>\n",
              "    </tr>\n",
              "    <tr>\n",
              "      <th>timestamp</th>\n",
              "      <th></th>\n",
              "      <th></th>\n",
              "      <th></th>\n",
              "      <th></th>\n",
              "      <th></th>\n",
              "      <th></th>\n",
              "      <th></th>\n",
              "      <th></th>\n",
              "      <th></th>\n",
              "      <th></th>\n",
              "      <th></th>\n",
              "    </tr>\n",
              "  </thead>\n",
              "  <tbody>\n",
              "    <tr>\n",
              "      <th>2021-03-31 00:00:00</th>\n",
              "      <td>1841.29000000</td>\n",
              "      <td>1845.35000000</td>\n",
              "      <td>1841.12000000</td>\n",
              "      <td>1845.35000000</td>\n",
              "      <td>13.45650000</td>\n",
              "      <td>1617149099999</td>\n",
              "      <td>24811.47621960</td>\n",
              "      <td>39</td>\n",
              "      <td>4.46207000</td>\n",
              "      <td>8228.10868710</td>\n",
              "      <td>0</td>\n",
              "    </tr>\n",
              "    <tr>\n",
              "      <th>2021-03-31 00:05:00</th>\n",
              "      <td>1844.39000000</td>\n",
              "      <td>1847.08000000</td>\n",
              "      <td>1843.99000000</td>\n",
              "      <td>1846.29000000</td>\n",
              "      <td>54.69818000</td>\n",
              "      <td>1617149399999</td>\n",
              "      <td>100898.41600010</td>\n",
              "      <td>50</td>\n",
              "      <td>18.71127000</td>\n",
              "      <td>34521.30106140</td>\n",
              "      <td>0</td>\n",
              "    </tr>\n",
              "    <tr>\n",
              "      <th>2021-03-31 00:10:00</th>\n",
              "      <td>1845.54000000</td>\n",
              "      <td>1849.53000000</td>\n",
              "      <td>1845.54000000</td>\n",
              "      <td>1848.96000000</td>\n",
              "      <td>10.56434000</td>\n",
              "      <td>1617149699999</td>\n",
              "      <td>19523.84183440</td>\n",
              "      <td>31</td>\n",
              "      <td>6.35202000</td>\n",
              "      <td>11739.72432620</td>\n",
              "      <td>0</td>\n",
              "    </tr>\n",
              "    <tr>\n",
              "      <th>2021-03-31 00:15:00</th>\n",
              "      <td>1848.96000000</td>\n",
              "      <td>1850.35000000</td>\n",
              "      <td>1847.50000000</td>\n",
              "      <td>1847.50000000</td>\n",
              "      <td>126.93107000</td>\n",
              "      <td>1617149999999</td>\n",
              "      <td>234808.65135190</td>\n",
              "      <td>117</td>\n",
              "      <td>70.35710000</td>\n",
              "      <td>130155.06817220</td>\n",
              "      <td>0</td>\n",
              "    </tr>\n",
              "    <tr>\n",
              "      <th>2021-03-31 00:20:00</th>\n",
              "      <td>1848.12000000</td>\n",
              "      <td>1849.12000000</td>\n",
              "      <td>1846.00000000</td>\n",
              "      <td>1846.00000000</td>\n",
              "      <td>16.03979000</td>\n",
              "      <td>1617150299999</td>\n",
              "      <td>29631.68322550</td>\n",
              "      <td>61</td>\n",
              "      <td>3.04496000</td>\n",
              "      <td>5630.11817930</td>\n",
              "      <td>0</td>\n",
              "    </tr>\n",
              "    <tr>\n",
              "      <th>...</th>\n",
              "      <td>...</td>\n",
              "      <td>...</td>\n",
              "      <td>...</td>\n",
              "      <td>...</td>\n",
              "      <td>...</td>\n",
              "      <td>...</td>\n",
              "      <td>...</td>\n",
              "      <td>...</td>\n",
              "      <td>...</td>\n",
              "      <td>...</td>\n",
              "      <td>...</td>\n",
              "    </tr>\n",
              "    <tr>\n",
              "      <th>2022-07-07 12:50:00</th>\n",
              "      <td>1186.35000000</td>\n",
              "      <td>1188.46000000</td>\n",
              "      <td>1185.67000000</td>\n",
              "      <td>1187.86000000</td>\n",
              "      <td>1590.46130000</td>\n",
              "      <td>1657198499999</td>\n",
              "      <td>1889259.19900500</td>\n",
              "      <td>833</td>\n",
              "      <td>138.16200000</td>\n",
              "      <td>164048.93580400</td>\n",
              "      <td>0</td>\n",
              "    </tr>\n",
              "    <tr>\n",
              "      <th>2022-07-07 12:55:00</th>\n",
              "      <td>1187.79000000</td>\n",
              "      <td>1188.40000000</td>\n",
              "      <td>1185.89000000</td>\n",
              "      <td>1186.37000000</td>\n",
              "      <td>166.55710000</td>\n",
              "      <td>1657198799999</td>\n",
              "      <td>197708.14141200</td>\n",
              "      <td>270</td>\n",
              "      <td>66.26460000</td>\n",
              "      <td>78653.06631000</td>\n",
              "      <td>0</td>\n",
              "    </tr>\n",
              "    <tr>\n",
              "      <th>2022-07-07 13:00:00</th>\n",
              "      <td>1186.44000000</td>\n",
              "      <td>1197.99000000</td>\n",
              "      <td>1186.07000000</td>\n",
              "      <td>1188.24000000</td>\n",
              "      <td>1314.95700000</td>\n",
              "      <td>1657199099999</td>\n",
              "      <td>1563837.96491700</td>\n",
              "      <td>918</td>\n",
              "      <td>1028.80510000</td>\n",
              "      <td>1223933.84054100</td>\n",
              "      <td>0</td>\n",
              "    </tr>\n",
              "    <tr>\n",
              "      <th>2022-07-07 13:05:00</th>\n",
              "      <td>1188.10000000</td>\n",
              "      <td>1188.10000000</td>\n",
              "      <td>1183.82000000</td>\n",
              "      <td>1184.88000000</td>\n",
              "      <td>224.54870000</td>\n",
              "      <td>1657199399999</td>\n",
              "      <td>266205.14974100</td>\n",
              "      <td>396</td>\n",
              "      <td>80.82850000</td>\n",
              "      <td>95804.71894400</td>\n",
              "      <td>0</td>\n",
              "    </tr>\n",
              "    <tr>\n",
              "      <th>2022-07-07 13:10:00</th>\n",
              "      <td>1185.28000000</td>\n",
              "      <td>1187.20000000</td>\n",
              "      <td>1184.42000000</td>\n",
              "      <td>1186.38000000</td>\n",
              "      <td>75.18780000</td>\n",
              "      <td>1657199699999</td>\n",
              "      <td>89151.81367700</td>\n",
              "      <td>134</td>\n",
              "      <td>35.31320000</td>\n",
              "      <td>41868.11563200</td>\n",
              "      <td>0</td>\n",
              "    </tr>\n",
              "  </tbody>\n",
              "</table>\n",
              "<p>133339 rows × 11 columns</p>\n",
              "</div>\n",
              "      <button class=\"colab-df-convert\" onclick=\"convertToInteractive('df-f581fee7-aac6-4878-8bf7-b388747e3a4f')\"\n",
              "              title=\"Convert this dataframe to an interactive table.\"\n",
              "              style=\"display:none;\">\n",
              "        \n",
              "  <svg xmlns=\"http://www.w3.org/2000/svg\" height=\"24px\"viewBox=\"0 0 24 24\"\n",
              "       width=\"24px\">\n",
              "    <path d=\"M0 0h24v24H0V0z\" fill=\"none\"/>\n",
              "    <path d=\"M18.56 5.44l.94 2.06.94-2.06 2.06-.94-2.06-.94-.94-2.06-.94 2.06-2.06.94zm-11 1L8.5 8.5l.94-2.06 2.06-.94-2.06-.94L8.5 2.5l-.94 2.06-2.06.94zm10 10l.94 2.06.94-2.06 2.06-.94-2.06-.94-.94-2.06-.94 2.06-2.06.94z\"/><path d=\"M17.41 7.96l-1.37-1.37c-.4-.4-.92-.59-1.43-.59-.52 0-1.04.2-1.43.59L10.3 9.45l-7.72 7.72c-.78.78-.78 2.05 0 2.83L4 21.41c.39.39.9.59 1.41.59.51 0 1.02-.2 1.41-.59l7.78-7.78 2.81-2.81c.8-.78.8-2.07 0-2.86zM5.41 20L4 18.59l7.72-7.72 1.47 1.35L5.41 20z\"/>\n",
              "  </svg>\n",
              "      </button>\n",
              "      \n",
              "  <style>\n",
              "    .colab-df-container {\n",
              "      display:flex;\n",
              "      flex-wrap:wrap;\n",
              "      gap: 12px;\n",
              "    }\n",
              "\n",
              "    .colab-df-convert {\n",
              "      background-color: #E8F0FE;\n",
              "      border: none;\n",
              "      border-radius: 50%;\n",
              "      cursor: pointer;\n",
              "      display: none;\n",
              "      fill: #1967D2;\n",
              "      height: 32px;\n",
              "      padding: 0 0 0 0;\n",
              "      width: 32px;\n",
              "    }\n",
              "\n",
              "    .colab-df-convert:hover {\n",
              "      background-color: #E2EBFA;\n",
              "      box-shadow: 0px 1px 2px rgba(60, 64, 67, 0.3), 0px 1px 3px 1px rgba(60, 64, 67, 0.15);\n",
              "      fill: #174EA6;\n",
              "    }\n",
              "\n",
              "    [theme=dark] .colab-df-convert {\n",
              "      background-color: #3B4455;\n",
              "      fill: #D2E3FC;\n",
              "    }\n",
              "\n",
              "    [theme=dark] .colab-df-convert:hover {\n",
              "      background-color: #434B5C;\n",
              "      box-shadow: 0px 1px 3px 1px rgba(0, 0, 0, 0.15);\n",
              "      filter: drop-shadow(0px 1px 2px rgba(0, 0, 0, 0.3));\n",
              "      fill: #FFFFFF;\n",
              "    }\n",
              "  </style>\n",
              "\n",
              "      <script>\n",
              "        const buttonEl =\n",
              "          document.querySelector('#df-f581fee7-aac6-4878-8bf7-b388747e3a4f button.colab-df-convert');\n",
              "        buttonEl.style.display =\n",
              "          google.colab.kernel.accessAllowed ? 'block' : 'none';\n",
              "\n",
              "        async function convertToInteractive(key) {\n",
              "          const element = document.querySelector('#df-f581fee7-aac6-4878-8bf7-b388747e3a4f');\n",
              "          const dataTable =\n",
              "            await google.colab.kernel.invokeFunction('convertToInteractive',\n",
              "                                                     [key], {});\n",
              "          if (!dataTable) return;\n",
              "\n",
              "          const docLinkHtml = 'Like what you see? Visit the ' +\n",
              "            '<a target=\"_blank\" href=https://colab.research.google.com/notebooks/data_table.ipynb>data table notebook</a>'\n",
              "            + ' to learn more about interactive tables.';\n",
              "          element.innerHTML = '';\n",
              "          dataTable['output_type'] = 'display_data';\n",
              "          await google.colab.output.renderOutput(dataTable, element);\n",
              "          const docLink = document.createElement('div');\n",
              "          docLink.innerHTML = docLinkHtml;\n",
              "          element.appendChild(docLink);\n",
              "        }\n",
              "      </script>\n",
              "    </div>\n",
              "  </div>\n",
              "  "
            ]
          },
          "metadata": {},
          "execution_count": 14
        }
      ]
    },
    {
      "cell_type": "markdown",
      "source": [
        "# Simulación del balance del pool wETH-USDC y de nuestras tenencias"
      ],
      "metadata": {
        "id": "WK9cB2P2XAK7"
      }
    },
    {
      "cell_type": "markdown",
      "source": [
        "Vamos a definir el balance inicial del pool con $50000$ unidades de ETH y $50000*P_{ETH_0}$ USDC, con $P_{ETH_0}$ el precio de mercado de ETH al momento de iniciar el pool. Nosotros tomaremos $P_{ETH_0}$ como el primer precio histórico. \n",
        "\n",
        "Recordar que en un protocolo de producto constante como es Balancer (cuando la cantidad de tokens en el pool es $n=2$ y los pesos son $w_i=0.5$) el precio relativo del pool es $P_{pool} = \\frac{balance\\_USDC}{balance\\_ETH}$ con lo cual el precio al iniciar el pool es exactamente $P_{ETH_0}$."
      ],
      "metadata": {
        "id": "1wBkHchxoulJ"
      }
    },
    {
      "cell_type": "markdown",
      "source": [
        "Dado que los datos históricos son demasiados, nos quedamos con los ultimos 2000 datos."
      ],
      "metadata": {
        "id": "D8PTIclcn7yc"
      }
    },
    {
      "cell_type": "code",
      "source": [
        "P_ETH = ETH_historico[:2000]['close']\n",
        "for i in range(len(P_ETH)):\n",
        "  P_ETH[i] = float(P_ETH[i])"
      ],
      "metadata": {
        "id": "H2HnKxKOVPqS",
        "colab": {
          "base_uri": "https://localhost:8080/"
        },
        "outputId": "642d30ac-ae5f-40b5-d098-4f2aeca5c69c"
      },
      "execution_count": null,
      "outputs": [
        {
          "output_type": "stream",
          "name": "stderr",
          "text": [
            "/usr/local/lib/python3.7/dist-packages/ipykernel_launcher.py:3: SettingWithCopyWarning: \n",
            "A value is trying to be set on a copy of a slice from a DataFrame\n",
            "\n",
            "See the caveats in the documentation: https://pandas.pydata.org/pandas-docs/stable/user_guide/indexing.html#returning-a-view-versus-a-copy\n",
            "  This is separate from the ipykernel package so we can avoid doing imports until\n",
            "/usr/local/lib/python3.7/dist-packages/pandas/core/series.py:1056: SettingWithCopyWarning: \n",
            "A value is trying to be set on a copy of a slice from a DataFrame\n",
            "\n",
            "See the caveats in the documentation: https://pandas.pydata.org/pandas-docs/stable/user_guide/indexing.html#returning-a-view-versus-a-copy\n",
            "  cacher_needs_updating = self._check_is_chained_assignment_possible()\n"
          ]
        }
      ]
    },
    {
      "cell_type": "code",
      "source": [
        "# plt.plot(list(P_ETH))\n",
        "# plt.figsize(20,7)\n",
        "fig, axs = plt.subplots(1,1,figsize = (20,7))\n",
        "axs.plot(list(P_ETH), c='blue', label = 'Precio ETH')\n",
        "axs.legend()"
      ],
      "metadata": {
        "colab": {
          "base_uri": "https://localhost:8080/",
          "height": 445
        },
        "id": "6G4pU35Wq9VM",
        "outputId": "e82dcf6c-8c7d-475b-c554-950963fb86a4"
      },
      "execution_count": null,
      "outputs": [
        {
          "output_type": "execute_result",
          "data": {
            "text/plain": [
              "<matplotlib.legend.Legend at 0x7f0b005eda50>"
            ]
          },
          "metadata": {},
          "execution_count": 25
        },
        {
          "output_type": "display_data",
          "data": {
            "text/plain": [
              "<Figure size 1440x504 with 1 Axes>"
            ],
            "image/png": "[encoded data removed]"
          },
          "metadata": {
            "needs_background": "light"
          }
        }
      ]
    },
    {
      "cell_type": "markdown",
      "source": [
        "A continuación, definimos el balance inicial del pool con los datos que especificamos al comienzo y simularemos sus variaciones por medio de las funcion new_balance si este cambiara cada vez que se actualiza el precio de mercado (5m).\n",
        "\n",
        "Además, para cada nuevo balance calcularemos su variación respecto del balance anterior utilizando la función variacion_balances, para aplicar estas variaciones a nuestras tenencias iniciales.\n",
        "\n",
        "Además, utilizando las funciones new_balance y variacion_balances vamos a calcular cómo iría variando el balance del pool \n",
        "\n",
        "**Observacion**\n",
        "\n",
        "Notar que en la vida real los balances no tienen por qué cambiar cada vez que el precio de mercado cambia, sino que lo hará cuando los arbitradores consideren que el gap entre P_pool y P_new justifica el esfuerzo. Sin embargo, la idea es simular cambios en nuestras tenencias para ver cómo se comporta la IL y desarrollar una estrategia de hedgeo. Mientras respetemos la geometría subyacente al pool, la IL que emerja será lo suficientemente representativa.\n"
      ],
      "metadata": {
        "id": "tSYFDmyVoQ9G"
      }
    },
    {
      "cell_type": "code",
      "source": [
        "P_entry = P_ETH[0]\n",
        "balance_inicial = [P_entry*50000, 50000]\n",
        "nuevos_balances = [balance_inicial]\n",
        "variacion_balance_pcg = [[0,0]]\n",
        "variacion_balance_unidades = [[0,0]]\n",
        "for i in range(1,len(P_ETH)):\n",
        "  P = P_ETH[i]\n",
        "  nuevos_balances.append(new_balance(P, nuevos_balances[i-1]))\n",
        "  variacion_balance_pcg.append(variacion_balances(nuevos_balances[i], nuevos_balances[i-1])['pcg'])\n",
        "  variacion_balance_unidades.append(variacion_balances(nuevos_balances[i], nuevos_balances[i-1])['unidades'])"
      ],
      "metadata": {
        "id": "iHkK9UmLXCW3"
      },
      "execution_count": null,
      "outputs": []
    },
    {
      "cell_type": "code",
      "source": [
        "balance_inicial[0]*2"
      ],
      "metadata": {
        "colab": {
          "base_uri": "https://localhost:8080/"
        },
        "id": "OKWJoZn-nbr6",
        "outputId": "f1cd31fb-9611-42c9-b569-7166b522e632"
      },
      "execution_count": null,
      "outputs": [
        {
          "output_type": "execute_result",
          "data": {
            "text/plain": [
              "184535000.0"
            ]
          },
          "metadata": {},
          "execution_count": 27
        }
      ]
    },
    {
      "cell_type": "markdown",
      "source": [
        "Chequeamos que la variacion de los nuevos balances sea acorde a las variaciones teóricas."
      ],
      "metadata": {
        "id": "TUt0oMdCrkzX"
      }
    },
    {
      "cell_type": "code",
      "source": [
        "i = 15\n",
        "nuevos_balances[i][0]/nuevos_balances[i-1][0] -1, variacion_balance_pcg[i][0]"
      ],
      "metadata": {
        "colab": {
          "base_uri": "https://localhost:8080/"
        },
        "id": "fGJ7-z5SrlwY",
        "outputId": "80a7255a-bd26-4fda-a442-1b0b51a35146"
      },
      "execution_count": null,
      "outputs": [
        {
          "output_type": "execute_result",
          "data": {
            "text/plain": [
              "(-0.00016729016134897634, -0.00016729016134897634)"
            ]
          },
          "metadata": {},
          "execution_count": 28
        }
      ]
    },
    {
      "cell_type": "markdown",
      "source": [
        "Chequeamos que P_pool coincida con P_ETH (P de mercado)"
      ],
      "metadata": {
        "id": "jpXYgBvn9LAA"
      }
    },
    {
      "cell_type": "code",
      "source": [
        "i = 15\n",
        "nuevos_balances[i][0] / nuevos_balances[i][1], P_ETH[i] "
      ],
      "metadata": {
        "colab": {
          "base_uri": "https://localhost:8080/"
        },
        "id": "VAWVCt3Qr-Hs",
        "outputId": "29744f8c-b86e-4cf0-a808-8e4f8d6763c4"
      },
      "execution_count": null,
      "outputs": [
        {
          "output_type": "execute_result",
          "data": {
            "text/plain": [
              "(1852.9099999826547, 1852.91)"
            ]
          },
          "metadata": {},
          "execution_count": 29
        }
      ]
    },
    {
      "cell_type": "markdown",
      "source": [
        "Ahora sí, seteamos nuestras tenencias iniciales respetando nuevamente que el cociente de las mismas refleje el precio del mercado en ese momento."
      ],
      "metadata": {
        "id": "oFNeLHTa9UF2"
      }
    },
    {
      "cell_type": "code",
      "source": [
        "tenencias_inicial = [P_entry*100,100]\n",
        "tenencias = [tenencias_inicial]\n",
        "for i in range(len(variacion_balance_pcg)-1):\n",
        "  tenencias.append([tenencias[i][0]*(1+variacion_balance_pcg[i+1][0]), tenencias[i][1]*(1+variacion_balance_pcg[i+1][1])])"
      ],
      "metadata": {
        "id": "G5mQlD-Octu6"
      },
      "execution_count": null,
      "outputs": []
    },
    {
      "cell_type": "markdown",
      "source": [
        "Volvemos a chequear las dos cosas que chequeamos en los balances."
      ],
      "metadata": {
        "id": "e3CrExoj9bmm"
      }
    },
    {
      "cell_type": "code",
      "source": [
        "i = 100\n",
        "tenencias[i][0] / tenencias[i-1][0] -1, variacion_balance_pcg[i][0]"
      ],
      "metadata": {
        "colab": {
          "base_uri": "https://localhost:8080/"
        },
        "id": "rH_cGM1Mslgi",
        "outputId": "934d6618-3f4e-4750-87ff-7ac1747bf618"
      },
      "execution_count": null,
      "outputs": [
        {
          "output_type": "execute_result",
          "data": {
            "text/plain": [
              "(-0.0010314798635737699, -0.0010314798635737699)"
            ]
          },
          "metadata": {},
          "execution_count": 31
        }
      ]
    },
    {
      "cell_type": "code",
      "source": [
        "i = 16\n",
        "tenencias[i][0] / tenencias[i][1], P_ETH[i]"
      ],
      "metadata": {
        "colab": {
          "base_uri": "https://localhost:8080/"
        },
        "id": "CaRCPdUMtGbK",
        "outputId": "80b4cfc6-1ce8-430f-fcc3-11a780997552"
      },
      "execution_count": null,
      "outputs": [
        {
          "output_type": "execute_result",
          "data": {
            "text/plain": [
              "(1850.3699988059277, 1850.37)"
            ]
          },
          "metadata": {},
          "execution_count": 32
        }
      ]
    },
    {
      "cell_type": "markdown",
      "source": [
        "# ¿Es lo mismo calcular IL como la diferencia entre V_P y V_H que tomar las formulas? NO!"
      ],
      "metadata": {
        "id": "O7jKG1Cd5zif"
      }
    },
    {
      "cell_type": "markdown",
      "source": [
        "Como mencionamos cuando definimos las formulas para la IL y su derivada, ciertas formulaciones equivalentes usaban el hecho de que $k(t)=k(0)$ para todo $t$. Veamos que esto podría ser un error."
      ],
      "metadata": {
        "id": "GGkW5ZdJ9iOP"
      }
    },
    {
      "cell_type": "code",
      "source": [
        "V_hold = tenencias_inicial[0] + tenencias_inicial[1] * P_ETH\n",
        "V_pool = [tenencias[i][0]+tenencias[i][1]*P_ETH[i] for i in range(len(tenencias))]\n",
        "IL_formula = IL_P_in_usd(P_ETH)\n",
        "IL_usd = [V_pool[i] - V_hold[i] for i in range(len(V_pool))]\n",
        "diferencias = pd.DataFrame([IL_usd[i]-IL_formula[i] for i in range(len(P_ETH))], index = P_ETH.index)\n",
        "comparacion_IL = pd.concat([pd.DataFrame(IL_usd, index = P_ETH.index), \n",
        "                            pd.DataFrame(IL_formula, index = P_ETH.index),\n",
        "                            diferencias], axis = 1)\n",
        "comparacion_IL.columns = ['IL_usd', 'IL_formula', 'Diferencias']\n",
        "comparacion_IL"
      ],
      "metadata": {
        "colab": {
          "base_uri": "https://localhost:8080/",
          "height": 455
        },
        "id": "NiRNZ5yIHF-h",
        "outputId": "bb5fc4bc-76c3-4dbc-cccb-ceff7c811212"
      },
      "execution_count": null,
      "outputs": [
        {
          "output_type": "execute_result",
          "data": {
            "text/plain": [
              "                          IL_usd  IL_formula   Diferencias\n",
              "timestamp                                                 \n",
              "2021-03-31 00:00:00     0.000000        -0.0  4.097500e-11\n",
              "2021-03-31 00:05:00    -0.011968   -0.011968  3.664713e-11\n",
              "2021-03-31 00:10:00    -0.176381   -0.176381  1.222279e-10\n",
              "2021-03-31 00:15:00    -0.120197   -0.062587 -5.760967e-02\n",
              "2021-03-31 00:20:00    -0.124191   -0.005723 -1.184686e-01\n",
              "...                          ...         ...           ...\n",
              "2021-04-06 22:15:00 -1448.104708 -879.642836 -5.684619e+02\n",
              "2021-04-06 22:20:00 -1496.282993 -926.848892 -5.694341e+02\n",
              "2021-04-06 22:25:00 -1466.760059 -897.486997 -5.692731e+02\n",
              "2021-04-06 22:30:00 -1504.300948  -934.27491 -5.700260e+02\n",
              "2021-04-06 22:35:00 -1510.001674 -939.862574 -5.701391e+02\n",
              "\n",
              "[2000 rows x 3 columns]"
            ],
            "text/html": [
              "\n",
              "  <div id=\"df-a63b2154-3b25-4033-b010-2306fd5bba3a\">\n",
              "    <div class=\"colab-df-container\">\n",
              "      <div>\n",
              "<style scoped>\n",
              "    .dataframe tbody tr th:only-of-type {\n",
              "        vertical-align: middle;\n",
              "    }\n",
              "\n",
              "    .dataframe tbody tr th {\n",
              "        vertical-align: top;\n",
              "    }\n",
              "\n",
              "    .dataframe thead th {\n",
              "        text-align: right;\n",
              "    }\n",
              "</style>\n",
              "<table border=\"1\" class=\"dataframe\">\n",
              "  <thead>\n",
              "    <tr style=\"text-align: right;\">\n",
              "      <th></th>\n",
              "      <th>IL_usd</th>\n",
              "      <th>IL_formula</th>\n",
              "      <th>Diferencias</th>\n",
              "    </tr>\n",
              "    <tr>\n",
              "      <th>timestamp</th>\n",
              "      <th></th>\n",
              "      <th></th>\n",
              "      <th></th>\n",
              "    </tr>\n",
              "  </thead>\n",
              "  <tbody>\n",
              "    <tr>\n",
              "      <th>2021-03-31 00:00:00</th>\n",
              "      <td>0.000000</td>\n",
              "      <td>-0.0</td>\n",
              "      <td>4.097500e-11</td>\n",
              "    </tr>\n",
              "    <tr>\n",
              "      <th>2021-03-31 00:05:00</th>\n",
              "      <td>-0.011968</td>\n",
              "      <td>-0.011968</td>\n",
              "      <td>3.664713e-11</td>\n",
              "    </tr>\n",
              "    <tr>\n",
              "      <th>2021-03-31 00:10:00</th>\n",
              "      <td>-0.176381</td>\n",
              "      <td>-0.176381</td>\n",
              "      <td>1.222279e-10</td>\n",
              "    </tr>\n",
              "    <tr>\n",
              "      <th>2021-03-31 00:15:00</th>\n",
              "      <td>-0.120197</td>\n",
              "      <td>-0.062587</td>\n",
              "      <td>-5.760967e-02</td>\n",
              "    </tr>\n",
              "    <tr>\n",
              "      <th>2021-03-31 00:20:00</th>\n",
              "      <td>-0.124191</td>\n",
              "      <td>-0.005723</td>\n",
              "      <td>-1.184686e-01</td>\n",
              "    </tr>\n",
              "    <tr>\n",
              "      <th>...</th>\n",
              "      <td>...</td>\n",
              "      <td>...</td>\n",
              "      <td>...</td>\n",
              "    </tr>\n",
              "    <tr>\n",
              "      <th>2021-04-06 22:15:00</th>\n",
              "      <td>-1448.104708</td>\n",
              "      <td>-879.642836</td>\n",
              "      <td>-5.684619e+02</td>\n",
              "    </tr>\n",
              "    <tr>\n",
              "      <th>2021-04-06 22:20:00</th>\n",
              "      <td>-1496.282993</td>\n",
              "      <td>-926.848892</td>\n",
              "      <td>-5.694341e+02</td>\n",
              "    </tr>\n",
              "    <tr>\n",
              "      <th>2021-04-06 22:25:00</th>\n",
              "      <td>-1466.760059</td>\n",
              "      <td>-897.486997</td>\n",
              "      <td>-5.692731e+02</td>\n",
              "    </tr>\n",
              "    <tr>\n",
              "      <th>2021-04-06 22:30:00</th>\n",
              "      <td>-1504.300948</td>\n",
              "      <td>-934.27491</td>\n",
              "      <td>-5.700260e+02</td>\n",
              "    </tr>\n",
              "    <tr>\n",
              "      <th>2021-04-06 22:35:00</th>\n",
              "      <td>-1510.001674</td>\n",
              "      <td>-939.862574</td>\n",
              "      <td>-5.701391e+02</td>\n",
              "    </tr>\n",
              "  </tbody>\n",
              "</table>\n",
              "<p>2000 rows × 3 columns</p>\n",
              "</div>\n",
              "      <button class=\"colab-df-convert\" onclick=\"convertToInteractive('df-a63b2154-3b25-4033-b010-2306fd5bba3a')\"\n",
              "              title=\"Convert this dataframe to an interactive table.\"\n",
              "              style=\"display:none;\">\n",
              "        \n",
              "  <svg xmlns=\"http://www.w3.org/2000/svg\" height=\"24px\"viewBox=\"0 0 24 24\"\n",
              "       width=\"24px\">\n",
              "    <path d=\"M0 0h24v24H0V0z\" fill=\"none\"/>\n",
              "    <path d=\"M18.56 5.44l.94 2.06.94-2.06 2.06-.94-2.06-.94-.94-2.06-.94 2.06-2.06.94zm-11 1L8.5 8.5l.94-2.06 2.06-.94-2.06-.94L8.5 2.5l-.94 2.06-2.06.94zm10 10l.94 2.06.94-2.06 2.06-.94-2.06-.94-.94-2.06-.94 2.06-2.06.94z\"/><path d=\"M17.41 7.96l-1.37-1.37c-.4-.4-.92-.59-1.43-.59-.52 0-1.04.2-1.43.59L10.3 9.45l-7.72 7.72c-.78.78-.78 2.05 0 2.83L4 21.41c.39.39.9.59 1.41.59.51 0 1.02-.2 1.41-.59l7.78-7.78 2.81-2.81c.8-.78.8-2.07 0-2.86zM5.41 20L4 18.59l7.72-7.72 1.47 1.35L5.41 20z\"/>\n",
              "  </svg>\n",
              "      </button>\n",
              "      \n",
              "  <style>\n",
              "    .colab-df-container {\n",
              "      display:flex;\n",
              "      flex-wrap:wrap;\n",
              "      gap: 12px;\n",
              "    }\n",
              "\n",
              "    .colab-df-convert {\n",
              "      background-color: #E8F0FE;\n",
              "      border: none;\n",
              "      border-radius: 50%;\n",
              "      cursor: pointer;\n",
              "      display: none;\n",
              "      fill: #1967D2;\n",
              "      height: 32px;\n",
              "      padding: 0 0 0 0;\n",
              "      width: 32px;\n",
              "    }\n",
              "\n",
              "    .colab-df-convert:hover {\n",
              "      background-color: #E2EBFA;\n",
              "      box-shadow: 0px 1px 2px rgba(60, 64, 67, 0.3), 0px 1px 3px 1px rgba(60, 64, 67, 0.15);\n",
              "      fill: #174EA6;\n",
              "    }\n",
              "\n",
              "    [theme=dark] .colab-df-convert {\n",
              "      background-color: #3B4455;\n",
              "      fill: #D2E3FC;\n",
              "    }\n",
              "\n",
              "    [theme=dark] .colab-df-convert:hover {\n",
              "      background-color: #434B5C;\n",
              "      box-shadow: 0px 1px 3px 1px rgba(0, 0, 0, 0.15);\n",
              "      filter: drop-shadow(0px 1px 2px rgba(0, 0, 0, 0.3));\n",
              "      fill: #FFFFFF;\n",
              "    }\n",
              "  </style>\n",
              "\n",
              "      <script>\n",
              "        const buttonEl =\n",
              "          document.querySelector('#df-a63b2154-3b25-4033-b010-2306fd5bba3a button.colab-df-convert');\n",
              "        buttonEl.style.display =\n",
              "          google.colab.kernel.accessAllowed ? 'block' : 'none';\n",
              "\n",
              "        async function convertToInteractive(key) {\n",
              "          const element = document.querySelector('#df-a63b2154-3b25-4033-b010-2306fd5bba3a');\n",
              "          const dataTable =\n",
              "            await google.colab.kernel.invokeFunction('convertToInteractive',\n",
              "                                                     [key], {});\n",
              "          if (!dataTable) return;\n",
              "\n",
              "          const docLinkHtml = 'Like what you see? Visit the ' +\n",
              "            '<a target=\"_blank\" href=https://colab.research.google.com/notebooks/data_table.ipynb>data table notebook</a>'\n",
              "            + ' to learn more about interactive tables.';\n",
              "          element.innerHTML = '';\n",
              "          dataTable['output_type'] = 'display_data';\n",
              "          await google.colab.output.renderOutput(dataTable, element);\n",
              "          const docLink = document.createElement('div');\n",
              "          docLink.innerHTML = docLinkHtml;\n",
              "          element.appendChild(docLink);\n",
              "        }\n",
              "      </script>\n",
              "    </div>\n",
              "  </div>\n",
              "  "
            ]
          },
          "metadata": {},
          "execution_count": 34
        }
      ]
    },
    {
      "cell_type": "markdown",
      "source": [
        "Analicemos de dónde proviene esa diferencias. \n",
        "\n",
        "Tenemos las siguientes fórmulas equivalentes para V_pool y V_hold.\n",
        "\n",
        "Si suponemos $k\\equiv cte$\n",
        "\n",
        "\\begin{align*}\n",
        "  V_P &= 2\\sqrt{kP} = 2\\sqrt{kP_0}\\sqrt{\\frac{P}{P_0}} = V_P^0\\sqrt{\\frac{P}{P_0}},\\\\\n",
        "  V_H &= \\sqrt{kP_0}\\left(\\frac{P}{P_0}+1\\right) = 2\\sqrt{kP_0}\\frac{1}{2}\\left(\\frac{P}{P_0}+1\\right)=\\frac{V_H^0}{2}\\left(\\frac{P}{P_0}+1\\right).\n",
        "\\end{align*}\n",
        "\n",
        "Notar que en las ultimas igualdades de cada formula estoy asumiendo que $k(t)=k(0)$.\n",
        "\n",
        "A continuacion, llamo formula_IL a la primera igualdad de las formulas y formula_cte a la ultima igualdad."
      ],
      "metadata": {
        "id": "NXlIce_7-3EG"
      }
    },
    {
      "cell_type": "code",
      "source": [
        "k= pd.DataFrame([i*j for i,j in tenencias])[0]"
      ],
      "metadata": {
        "id": "YVkHgRaiRw3H"
      },
      "execution_count": null,
      "outputs": []
    },
    {
      "cell_type": "code",
      "source": [
        "V_hold_formula_IL = [(k[i]*P_entry)**(1/2)*(P_ETH[i]/P_entry+1) for i in range(len(k))]\n",
        "V_hold_formula_cte = V_hold[0]/2*(P_ETH/P_entry + 1)\n",
        "V_pool_formula_IL = [2*(k[i]*P_ETH[i])**(1/2) for i in range(len(k))]\n",
        "V_pool_formula_cte = V_hold[0]*(P_ETH/P_entry)**(1/2)"
      ],
      "metadata": {
        "id": "Z3xaY41w6SMR"
      },
      "execution_count": null,
      "outputs": []
    },
    {
      "cell_type": "code",
      "source": [
        "comparacion_V_H = pd.concat([pd.DataFrame(V_hold, index = P_ETH.index), \n",
        "                             pd.DataFrame(V_hold_formula_IL, index = P_ETH.index),\n",
        "                             pd.DataFrame(V_hold_formula_cte, index = P_ETH.index)], axis = 1)\n",
        "          #  pd.DataFrame([V_hold[i]-V_hold_2[i] for i in range(len(V_pool))], index = P_ETH.index)], axis = 1)\n",
        "comparacion_V_H.columns = ['V_H', 'V_H_formula_IL', 'V_H_formula_cte']\n",
        "comparacion_V_P = pd.concat([pd.DataFrame(V_pool, index = P_ETH.index), \n",
        "                             pd.DataFrame(V_pool_formula_IL, index = P_ETH.index),\n",
        "                             pd.DataFrame(V_pool_formula_cte, index = P_ETH.index)], axis = 1)\n",
        "          #  pd.DataFrame([V_hold[i]-V_hold_2[i] for i in range(len(V_pool))], index = P_ETH.index)], axis = 1)\n",
        "comparacion_V_P.columns = ['V_P', 'V_P_formula_IL', 'V_P_formula_cte']\n",
        "pd.concat([comparacion_V_H, comparacion_V_P], axis = 1)"
      ],
      "metadata": {
        "colab": {
          "base_uri": "https://localhost:8080/",
          "height": 455
        },
        "id": "dSmvVy__QYf1",
        "outputId": "7b0a595f-4d57-4f35-a15b-c2ec7c6da220"
      },
      "execution_count": null,
      "outputs": [
        {
          "output_type": "execute_result",
          "data": {
            "text/plain": [
              "                          V_H  V_H_formula_IL V_H_formula_cte            V_P  \\\n",
              "timestamp                                                                      \n",
              "2021-03-31 00:00:00  369070.0   369070.000000        369070.0  369070.000000   \n",
              "2021-03-31 00:05:00  369164.0   369164.000000        369164.0  369163.988032   \n",
              "2021-03-31 00:10:00  369431.0   369431.000000        369431.0  369430.823619   \n",
              "2021-03-31 00:15:00  369285.0   369284.942390        369285.0  369284.879803   \n",
              "2021-03-31 00:20:00  369135.0   369134.881531        369135.0  369134.875809   \n",
              "...                       ...             ...             ...            ...   \n",
              "2021-04-06 22:15:00  395431.0   394861.270756        395431.0  393982.895292   \n",
              "2021-04-06 22:20:00  396153.0   395582.230513        396153.0  394656.717007   \n",
              "2021-04-06 22:25:00  395706.0   395135.432854        395706.0  394239.239941   \n",
              "2021-04-06 22:30:00  396265.0   395693.626834        396265.0  394760.699052   \n",
              "2021-04-06 22:35:00  396349.0   395777.505715        396349.0  394838.998326   \n",
              "\n",
              "                     V_P_formula_IL V_P_formula_cte  \n",
              "timestamp                                            \n",
              "2021-03-31 00:00:00   369070.000000        369070.0  \n",
              "2021-03-31 00:05:00   369163.988032   369163.988032  \n",
              "2021-03-31 00:10:00   369430.823619   369430.823619  \n",
              "2021-03-31 00:15:00   369284.879803   369284.937413  \n",
              "2021-03-31 00:20:00   369134.875809   369134.994277  \n",
              "...                             ...             ...  \n",
              "2021-04-06 22:15:00   393982.895292   394551.357164  \n",
              "2021-04-06 22:20:00   394656.717007   395226.151108  \n",
              "2021-04-06 22:25:00   394239.239941   394808.513003  \n",
              "2021-04-06 22:30:00   394760.699052    395330.72509  \n",
              "2021-04-06 22:35:00   394838.998326   395409.137426  \n",
              "\n",
              "[2000 rows x 6 columns]"
            ],
            "text/html": [
              "\n",
              "  <div id=\"df-11a2f098-edd2-4177-b4d5-b443e1028306\">\n",
              "    <div class=\"colab-df-container\">\n",
              "      <div>\n",
              "<style scoped>\n",
              "    .dataframe tbody tr th:only-of-type {\n",
              "        vertical-align: middle;\n",
              "    }\n",
              "\n",
              "    .dataframe tbody tr th {\n",
              "        vertical-align: top;\n",
              "    }\n",
              "\n",
              "    .dataframe thead th {\n",
              "        text-align: right;\n",
              "    }\n",
              "</style>\n",
              "<table border=\"1\" class=\"dataframe\">\n",
              "  <thead>\n",
              "    <tr style=\"text-align: right;\">\n",
              "      <th></th>\n",
              "      <th>V_H</th>\n",
              "      <th>V_H_formula_IL</th>\n",
              "      <th>V_H_formula_cte</th>\n",
              "      <th>V_P</th>\n",
              "      <th>V_P_formula_IL</th>\n",
              "      <th>V_P_formula_cte</th>\n",
              "    </tr>\n",
              "    <tr>\n",
              "      <th>timestamp</th>\n",
              "      <th></th>\n",
              "      <th></th>\n",
              "      <th></th>\n",
              "      <th></th>\n",
              "      <th></th>\n",
              "      <th></th>\n",
              "    </tr>\n",
              "  </thead>\n",
              "  <tbody>\n",
              "    <tr>\n",
              "      <th>2021-03-31 00:00:00</th>\n",
              "      <td>369070.0</td>\n",
              "      <td>369070.000000</td>\n",
              "      <td>369070.0</td>\n",
              "      <td>369070.000000</td>\n",
              "      <td>369070.000000</td>\n",
              "      <td>369070.0</td>\n",
              "    </tr>\n",
              "    <tr>\n",
              "      <th>2021-03-31 00:05:00</th>\n",
              "      <td>369164.0</td>\n",
              "      <td>369164.000000</td>\n",
              "      <td>369164.0</td>\n",
              "      <td>369163.988032</td>\n",
              "      <td>369163.988032</td>\n",
              "      <td>369163.988032</td>\n",
              "    </tr>\n",
              "    <tr>\n",
              "      <th>2021-03-31 00:10:00</th>\n",
              "      <td>369431.0</td>\n",
              "      <td>369431.000000</td>\n",
              "      <td>369431.0</td>\n",
              "      <td>369430.823619</td>\n",
              "      <td>369430.823619</td>\n",
              "      <td>369430.823619</td>\n",
              "    </tr>\n",
              "    <tr>\n",
              "      <th>2021-03-31 00:15:00</th>\n",
              "      <td>369285.0</td>\n",
              "      <td>369284.942390</td>\n",
              "      <td>369285.0</td>\n",
              "      <td>369284.879803</td>\n",
              "      <td>369284.879803</td>\n",
              "      <td>369284.937413</td>\n",
              "    </tr>\n",
              "    <tr>\n",
              "      <th>2021-03-31 00:20:00</th>\n",
              "      <td>369135.0</td>\n",
              "      <td>369134.881531</td>\n",
              "      <td>369135.0</td>\n",
              "      <td>369134.875809</td>\n",
              "      <td>369134.875809</td>\n",
              "      <td>369134.994277</td>\n",
              "    </tr>\n",
              "    <tr>\n",
              "      <th>...</th>\n",
              "      <td>...</td>\n",
              "      <td>...</td>\n",
              "      <td>...</td>\n",
              "      <td>...</td>\n",
              "      <td>...</td>\n",
              "      <td>...</td>\n",
              "    </tr>\n",
              "    <tr>\n",
              "      <th>2021-04-06 22:15:00</th>\n",
              "      <td>395431.0</td>\n",
              "      <td>394861.270756</td>\n",
              "      <td>395431.0</td>\n",
              "      <td>393982.895292</td>\n",
              "      <td>393982.895292</td>\n",
              "      <td>394551.357164</td>\n",
              "    </tr>\n",
              "    <tr>\n",
              "      <th>2021-04-06 22:20:00</th>\n",
              "      <td>396153.0</td>\n",
              "      <td>395582.230513</td>\n",
              "      <td>396153.0</td>\n",
              "      <td>394656.717007</td>\n",
              "      <td>394656.717007</td>\n",
              "      <td>395226.151108</td>\n",
              "    </tr>\n",
              "    <tr>\n",
              "      <th>2021-04-06 22:25:00</th>\n",
              "      <td>395706.0</td>\n",
              "      <td>395135.432854</td>\n",
              "      <td>395706.0</td>\n",
              "      <td>394239.239941</td>\n",
              "      <td>394239.239941</td>\n",
              "      <td>394808.513003</td>\n",
              "    </tr>\n",
              "    <tr>\n",
              "      <th>2021-04-06 22:30:00</th>\n",
              "      <td>396265.0</td>\n",
              "      <td>395693.626834</td>\n",
              "      <td>396265.0</td>\n",
              "      <td>394760.699052</td>\n",
              "      <td>394760.699052</td>\n",
              "      <td>395330.72509</td>\n",
              "    </tr>\n",
              "    <tr>\n",
              "      <th>2021-04-06 22:35:00</th>\n",
              "      <td>396349.0</td>\n",
              "      <td>395777.505715</td>\n",
              "      <td>396349.0</td>\n",
              "      <td>394838.998326</td>\n",
              "      <td>394838.998326</td>\n",
              "      <td>395409.137426</td>\n",
              "    </tr>\n",
              "  </tbody>\n",
              "</table>\n",
              "<p>2000 rows × 6 columns</p>\n",
              "</div>\n",
              "      <button class=\"colab-df-convert\" onclick=\"convertToInteractive('df-11a2f098-edd2-4177-b4d5-b443e1028306')\"\n",
              "              title=\"Convert this dataframe to an interactive table.\"\n",
              "              style=\"display:none;\">\n",
              "        \n",
              "  <svg xmlns=\"http://www.w3.org/2000/svg\" height=\"24px\"viewBox=\"0 0 24 24\"\n",
              "       width=\"24px\">\n",
              "    <path d=\"M0 0h24v24H0V0z\" fill=\"none\"/>\n",
              "    <path d=\"M18.56 5.44l.94 2.06.94-2.06 2.06-.94-2.06-.94-.94-2.06-.94 2.06-2.06.94zm-11 1L8.5 8.5l.94-2.06 2.06-.94-2.06-.94L8.5 2.5l-.94 2.06-2.06.94zm10 10l.94 2.06.94-2.06 2.06-.94-2.06-.94-.94-2.06-.94 2.06-2.06.94z\"/><path d=\"M17.41 7.96l-1.37-1.37c-.4-.4-.92-.59-1.43-.59-.52 0-1.04.2-1.43.59L10.3 9.45l-7.72 7.72c-.78.78-.78 2.05 0 2.83L4 21.41c.39.39.9.59 1.41.59.51 0 1.02-.2 1.41-.59l7.78-7.78 2.81-2.81c.8-.78.8-2.07 0-2.86zM5.41 20L4 18.59l7.72-7.72 1.47 1.35L5.41 20z\"/>\n",
              "  </svg>\n",
              "      </button>\n",
              "      \n",
              "  <style>\n",
              "    .colab-df-container {\n",
              "      display:flex;\n",
              "      flex-wrap:wrap;\n",
              "      gap: 12px;\n",
              "    }\n",
              "\n",
              "    .colab-df-convert {\n",
              "      background-color: #E8F0FE;\n",
              "      border: none;\n",
              "      border-radius: 50%;\n",
              "      cursor: pointer;\n",
              "      display: none;\n",
              "      fill: #1967D2;\n",
              "      height: 32px;\n",
              "      padding: 0 0 0 0;\n",
              "      width: 32px;\n",
              "    }\n",
              "\n",
              "    .colab-df-convert:hover {\n",
              "      background-color: #E2EBFA;\n",
              "      box-shadow: 0px 1px 2px rgba(60, 64, 67, 0.3), 0px 1px 3px 1px rgba(60, 64, 67, 0.15);\n",
              "      fill: #174EA6;\n",
              "    }\n",
              "\n",
              "    [theme=dark] .colab-df-convert {\n",
              "      background-color: #3B4455;\n",
              "      fill: #D2E3FC;\n",
              "    }\n",
              "\n",
              "    [theme=dark] .colab-df-convert:hover {\n",
              "      background-color: #434B5C;\n",
              "      box-shadow: 0px 1px 3px 1px rgba(0, 0, 0, 0.15);\n",
              "      filter: drop-shadow(0px 1px 2px rgba(0, 0, 0, 0.3));\n",
              "      fill: #FFFFFF;\n",
              "    }\n",
              "  </style>\n",
              "\n",
              "      <script>\n",
              "        const buttonEl =\n",
              "          document.querySelector('#df-11a2f098-edd2-4177-b4d5-b443e1028306 button.colab-df-convert');\n",
              "        buttonEl.style.display =\n",
              "          google.colab.kernel.accessAllowed ? 'block' : 'none';\n",
              "\n",
              "        async function convertToInteractive(key) {\n",
              "          const element = document.querySelector('#df-11a2f098-edd2-4177-b4d5-b443e1028306');\n",
              "          const dataTable =\n",
              "            await google.colab.kernel.invokeFunction('convertToInteractive',\n",
              "                                                     [key], {});\n",
              "          if (!dataTable) return;\n",
              "\n",
              "          const docLinkHtml = 'Like what you see? Visit the ' +\n",
              "            '<a target=\"_blank\" href=https://colab.research.google.com/notebooks/data_table.ipynb>data table notebook</a>'\n",
              "            + ' to learn more about interactive tables.';\n",
              "          element.innerHTML = '';\n",
              "          dataTable['output_type'] = 'display_data';\n",
              "          await google.colab.output.renderOutput(dataTable, element);\n",
              "          const docLink = document.createElement('div');\n",
              "          docLink.innerHTML = docLinkHtml;\n",
              "          element.appendChild(docLink);\n",
              "        }\n",
              "      </script>\n",
              "    </div>\n",
              "  </div>\n",
              "  "
            ]
          },
          "metadata": {},
          "execution_count": 38
        }
      ]
    },
    {
      "cell_type": "markdown",
      "source": [
        "Vemos entonces que V_H =! V_H_formula_IL pero V_H == V_H_formula_cte y V_P == V_P_formula_IL pero V_P =! V_P_formula_cte. Evidentemente V_P =! V_P_formula_cte porque $k(t)\\neq k(0)$, lo curioso es que V_H == V_H_formula_cte.\n",
        "\n",
        "Veamos que efectivamente $k(t)\\neq k(0)$."
      ],
      "metadata": {
        "id": "rOqYBIbFAcwY"
      }
    },
    {
      "cell_type": "code",
      "source": [
        "bool(np.prod([k[i] == k[0] for i in range(len(k))]))"
      ],
      "metadata": {
        "colab": {
          "base_uri": "https://localhost:8080/"
        },
        "id": "ZGcv_FFQAxeL",
        "outputId": "a7fccb25-8b6d-4559-a951-ca92c3187373"
      },
      "execution_count": null,
      "outputs": [
        {
          "output_type": "execute_result",
          "data": {
            "text/plain": [
              "False"
            ]
          },
          "metadata": {},
          "execution_count": 39
        }
      ]
    },
    {
      "cell_type": "markdown",
      "source": [
        "De hecho, a continuacion vemos que hay mucha diferencias a medida que $t$ (i) aumenta."
      ],
      "metadata": {
        "id": "BOELbXWBFcYQ"
      }
    },
    {
      "cell_type": "code",
      "source": [
        "diferencias = pd.DataFrame([k[i]-k[0] for i in range(len(k))], index = P_ETH.index)\n",
        "comparacion_k = pd.concat([pd.DataFrame([k[i] for i in range(len(k))], index = P_ETH.index), \n",
        "                            pd.DataFrame([k[0]]*len(k), index = P_ETH.index),\n",
        "                            diferencias], axis = 1)\n",
        "comparacion_k.columns = ['k', 'k[0]', 'Diferencias']\n",
        "comparacion_k"
      ],
      "metadata": {
        "colab": {
          "base_uri": "https://localhost:8080/",
          "height": 455
        },
        "id": "P-XMD1G-A_wW",
        "outputId": "bedf4f47-99b9-4044-c174-8bd926c17676"
      },
      "execution_count": null,
      "outputs": [
        {
          "output_type": "execute_result",
          "data": {
            "text/plain": [
              "                                k        k[0]   Diferencias\n",
              "timestamp                                                  \n",
              "2021-03-31 00:00:00  1.845350e+07  18453500.0  0.000000e+00\n",
              "2021-03-31 00:05:00  1.845350e+07  18453500.0  3.725290e-09\n",
              "2021-03-31 00:10:00  1.845350e+07  18453500.0  3.725290e-09\n",
              "2021-03-31 00:15:00  1.845349e+07  18453500.0 -5.757613e+00\n",
              "2021-03-31 00:20:00  1.845349e+07  18453500.0 -1.184477e+01\n",
              "...                           ...         ...           ...\n",
              "2021-04-06 22:15:00  1.840036e+07  18453500.0 -5.313658e+04\n",
              "2021-04-06 22:20:00  1.840036e+07  18453500.0 -5.313658e+04\n",
              "2021-04-06 22:25:00  1.840032e+07  18453500.0 -5.317771e+04\n",
              "2021-04-06 22:30:00  1.840032e+07  18453500.0 -5.317771e+04\n",
              "2021-04-06 22:35:00  1.840032e+07  18453500.0 -5.317771e+04\n",
              "\n",
              "[2000 rows x 3 columns]"
            ],
            "text/html": [
              "\n",
              "  <div id=\"df-9127d09b-a5f8-4c0c-ad86-cb67fa071429\">\n",
              "    <div class=\"colab-df-container\">\n",
              "      <div>\n",
              "<style scoped>\n",
              "    .dataframe tbody tr th:only-of-type {\n",
              "        vertical-align: middle;\n",
              "    }\n",
              "\n",
              "    .dataframe tbody tr th {\n",
              "        vertical-align: top;\n",
              "    }\n",
              "\n",
              "    .dataframe thead th {\n",
              "        text-align: right;\n",
              "    }\n",
              "</style>\n",
              "<table border=\"1\" class=\"dataframe\">\n",
              "  <thead>\n",
              "    <tr style=\"text-align: right;\">\n",
              "      <th></th>\n",
              "      <th>k</th>\n",
              "      <th>k[0]</th>\n",
              "      <th>Diferencias</th>\n",
              "    </tr>\n",
              "    <tr>\n",
              "      <th>timestamp</th>\n",
              "      <th></th>\n",
              "      <th></th>\n",
              "      <th></th>\n",
              "    </tr>\n",
              "  </thead>\n",
              "  <tbody>\n",
              "    <tr>\n",
              "      <th>2021-03-31 00:00:00</th>\n",
              "      <td>1.845350e+07</td>\n",
              "      <td>18453500.0</td>\n",
              "      <td>0.000000e+00</td>\n",
              "    </tr>\n",
              "    <tr>\n",
              "      <th>2021-03-31 00:05:00</th>\n",
              "      <td>1.845350e+07</td>\n",
              "      <td>18453500.0</td>\n",
              "      <td>3.725290e-09</td>\n",
              "    </tr>\n",
              "    <tr>\n",
              "      <th>2021-03-31 00:10:00</th>\n",
              "      <td>1.845350e+07</td>\n",
              "      <td>18453500.0</td>\n",
              "      <td>3.725290e-09</td>\n",
              "    </tr>\n",
              "    <tr>\n",
              "      <th>2021-03-31 00:15:00</th>\n",
              "      <td>1.845349e+07</td>\n",
              "      <td>18453500.0</td>\n",
              "      <td>-5.757613e+00</td>\n",
              "    </tr>\n",
              "    <tr>\n",
              "      <th>2021-03-31 00:20:00</th>\n",
              "      <td>1.845349e+07</td>\n",
              "      <td>18453500.0</td>\n",
              "      <td>-1.184477e+01</td>\n",
              "    </tr>\n",
              "    <tr>\n",
              "      <th>...</th>\n",
              "      <td>...</td>\n",
              "      <td>...</td>\n",
              "      <td>...</td>\n",
              "    </tr>\n",
              "    <tr>\n",
              "      <th>2021-04-06 22:15:00</th>\n",
              "      <td>1.840036e+07</td>\n",
              "      <td>18453500.0</td>\n",
              "      <td>-5.313658e+04</td>\n",
              "    </tr>\n",
              "    <tr>\n",
              "      <th>2021-04-06 22:20:00</th>\n",
              "      <td>1.840036e+07</td>\n",
              "      <td>18453500.0</td>\n",
              "      <td>-5.313658e+04</td>\n",
              "    </tr>\n",
              "    <tr>\n",
              "      <th>2021-04-06 22:25:00</th>\n",
              "      <td>1.840032e+07</td>\n",
              "      <td>18453500.0</td>\n",
              "      <td>-5.317771e+04</td>\n",
              "    </tr>\n",
              "    <tr>\n",
              "      <th>2021-04-06 22:30:00</th>\n",
              "      <td>1.840032e+07</td>\n",
              "      <td>18453500.0</td>\n",
              "      <td>-5.317771e+04</td>\n",
              "    </tr>\n",
              "    <tr>\n",
              "      <th>2021-04-06 22:35:00</th>\n",
              "      <td>1.840032e+07</td>\n",
              "      <td>18453500.0</td>\n",
              "      <td>-5.317771e+04</td>\n",
              "    </tr>\n",
              "  </tbody>\n",
              "</table>\n",
              "<p>2000 rows × 3 columns</p>\n",
              "</div>\n",
              "      <button class=\"colab-df-convert\" onclick=\"convertToInteractive('df-9127d09b-a5f8-4c0c-ad86-cb67fa071429')\"\n",
              "              title=\"Convert this dataframe to an interactive table.\"\n",
              "              style=\"display:none;\">\n",
              "        \n",
              "  <svg xmlns=\"http://www.w3.org/2000/svg\" height=\"24px\"viewBox=\"0 0 24 24\"\n",
              "       width=\"24px\">\n",
              "    <path d=\"M0 0h24v24H0V0z\" fill=\"none\"/>\n",
              "    <path d=\"M18.56 5.44l.94 2.06.94-2.06 2.06-.94-2.06-.94-.94-2.06-.94 2.06-2.06.94zm-11 1L8.5 8.5l.94-2.06 2.06-.94-2.06-.94L8.5 2.5l-.94 2.06-2.06.94zm10 10l.94 2.06.94-2.06 2.06-.94-2.06-.94-.94-2.06-.94 2.06-2.06.94z\"/><path d=\"M17.41 7.96l-1.37-1.37c-.4-.4-.92-.59-1.43-.59-.52 0-1.04.2-1.43.59L10.3 9.45l-7.72 7.72c-.78.78-.78 2.05 0 2.83L4 21.41c.39.39.9.59 1.41.59.51 0 1.02-.2 1.41-.59l7.78-7.78 2.81-2.81c.8-.78.8-2.07 0-2.86zM5.41 20L4 18.59l7.72-7.72 1.47 1.35L5.41 20z\"/>\n",
              "  </svg>\n",
              "      </button>\n",
              "      \n",
              "  <style>\n",
              "    .colab-df-container {\n",
              "      display:flex;\n",
              "      flex-wrap:wrap;\n",
              "      gap: 12px;\n",
              "    }\n",
              "\n",
              "    .colab-df-convert {\n",
              "      background-color: #E8F0FE;\n",
              "      border: none;\n",
              "      border-radius: 50%;\n",
              "      cursor: pointer;\n",
              "      display: none;\n",
              "      fill: #1967D2;\n",
              "      height: 32px;\n",
              "      padding: 0 0 0 0;\n",
              "      width: 32px;\n",
              "    }\n",
              "\n",
              "    .colab-df-convert:hover {\n",
              "      background-color: #E2EBFA;\n",
              "      box-shadow: 0px 1px 2px rgba(60, 64, 67, 0.3), 0px 1px 3px 1px rgba(60, 64, 67, 0.15);\n",
              "      fill: #174EA6;\n",
              "    }\n",
              "\n",
              "    [theme=dark] .colab-df-convert {\n",
              "      background-color: #3B4455;\n",
              "      fill: #D2E3FC;\n",
              "    }\n",
              "\n",
              "    [theme=dark] .colab-df-convert:hover {\n",
              "      background-color: #434B5C;\n",
              "      box-shadow: 0px 1px 3px 1px rgba(0, 0, 0, 0.15);\n",
              "      filter: drop-shadow(0px 1px 2px rgba(0, 0, 0, 0.3));\n",
              "      fill: #FFFFFF;\n",
              "    }\n",
              "  </style>\n",
              "\n",
              "      <script>\n",
              "        const buttonEl =\n",
              "          document.querySelector('#df-9127d09b-a5f8-4c0c-ad86-cb67fa071429 button.colab-df-convert');\n",
              "        buttonEl.style.display =\n",
              "          google.colab.kernel.accessAllowed ? 'block' : 'none';\n",
              "\n",
              "        async function convertToInteractive(key) {\n",
              "          const element = document.querySelector('#df-9127d09b-a5f8-4c0c-ad86-cb67fa071429');\n",
              "          const dataTable =\n",
              "            await google.colab.kernel.invokeFunction('convertToInteractive',\n",
              "                                                     [key], {});\n",
              "          if (!dataTable) return;\n",
              "\n",
              "          const docLinkHtml = 'Like what you see? Visit the ' +\n",
              "            '<a target=\"_blank\" href=https://colab.research.google.com/notebooks/data_table.ipynb>data table notebook</a>'\n",
              "            + ' to learn more about interactive tables.';\n",
              "          element.innerHTML = '';\n",
              "          dataTable['output_type'] = 'display_data';\n",
              "          await google.colab.output.renderOutput(dataTable, element);\n",
              "          const docLink = document.createElement('div');\n",
              "          docLink.innerHTML = docLinkHtml;\n",
              "          element.appendChild(docLink);\n",
              "        }\n",
              "      </script>\n",
              "    </div>\n",
              "  </div>\n",
              "  "
            ]
          },
          "metadata": {},
          "execution_count": 40
        }
      ]
    },
    {
      "cell_type": "markdown",
      "source": [
        "Entonces para armar nuestra estrategia, como queremos usar las fórmulas de IL y IL_derivada, debemos tener en cuenta \n",
        "$$k(t) = tenencias(t)[0]*tenencias(t)[1],$$\n",
        "en cada momento.\n",
        "\n",
        "Si suponemos que $k$ puede cambiar entonces las fórmulas para V_P y V_H quedan\n",
        "\n",
        "\\begin{align*}\n",
        "  V_P(t) &= 2\\sqrt{k(t)P(t)} = 2\\sqrt{k(0)P(0)}\\sqrt{\\frac{k(t)P(t)}{k(0)P(0)}}\\\\ \n",
        "  &= V_P(0)\\sqrt{\\frac{k(t)}{k(0)}}\\sqrt{\\frac{P(t)}{P(0)}},\\\\\n",
        "  V_H(t) &= \\sqrt{k(t)P(0)}\\left(\\frac{P(t)}{P(0)}+1\\right) = 2\\sqrt{k(0)P(0)}\\sqrt{\\frac{k(t)}{k(0)}}\\frac{1}{2}\\left(\\frac{P(t)}{P(0)}+1\\right)\\\\\n",
        "  &=\\frac{V_H(0)}{2}\\sqrt{\\frac{k(t)}{k(0)}}\\left(\\frac{P}{P_0}+1\\right).\n",
        "\\end{align*}\n"
      ],
      "metadata": {
        "id": "Bv7obr1eBdi1"
      }
    },
    {
      "cell_type": "code",
      "source": [
        "V_hold = tenencias_inicial[0] + tenencias_inicial[1] * P_ETH\n",
        "V_hold_formula_IL_k = [(k[i]*P_entry)**(1/2)*(P_ETH[i]/P_entry+1) for i in range(len(k))]\n",
        "V_hold_formula_cte_k = [V_hold[0]/2*(k[i]/k[0])**(1/2)*(P_ETH[i]/P_entry + 1) for i in range(len(k))]\n",
        "V_pool = [tenencias[i][0]+tenencias[i][1]*P_ETH[i] for i in range(len(tenencias))]\n",
        "V_pool_formula_IL_k = [2*(k[i]*P_ETH[i])**(1/2) for i in range(len(k))]\n",
        "V_pool_formula_cte_k = [V_hold[0]*(k[i]/k[0])**(1/2)*(P_ETH[i]/P_entry)**(1/2) for i in range(len(k))]"
      ],
      "metadata": {
        "id": "JYAuXNlCFlb2"
      },
      "execution_count": null,
      "outputs": []
    },
    {
      "cell_type": "code",
      "source": [
        "comparacion_V_H_k = pd.concat([pd.DataFrame(V_hold, index = P_ETH.index), \n",
        "                             pd.DataFrame(V_hold_formula_IL_k, index = P_ETH.index),\n",
        "                             pd.DataFrame(V_hold_formula_cte_k, index = P_ETH.index)], axis = 1)\n",
        "          #  pd.DataFrame([V_hold[i]-V_hold_2[i] for i in range(len(V_pool))], index = P_ETH.index)], axis = 1)\n",
        "comparacion_V_H_k.columns = ['V_H', 'V_H_formula_IL_k', 'V_H_formula_cte_k']\n",
        "comparacion_V_P_k = pd.concat([pd.DataFrame(V_pool, index = P_ETH.index), \n",
        "                             pd.DataFrame(V_pool_formula_IL_k, index = P_ETH.index),\n",
        "                             pd.DataFrame(V_pool_formula_cte_k, index = P_ETH.index)], axis = 1)\n",
        "          #  pd.DataFrame([V_hold[i]-V_hold_2[i] for i in range(len(V_pool))], index = P_ETH.index)], axis = 1)\n",
        "comparacion_V_P_k.columns = ['V_P', 'V_P_formula_IL_k', 'V_P_formula_cte_k']\n",
        "pd.concat([comparacion_V_H_k, comparacion_V_P_k], axis = 1)"
      ],
      "metadata": {
        "colab": {
          "base_uri": "https://localhost:8080/",
          "height": 455
        },
        "outputId": "48389405-b771-44f4-92cf-be61bbed25e5",
        "id": "Nr30EzhsFlb3"
      },
      "execution_count": null,
      "outputs": [
        {
          "output_type": "execute_result",
          "data": {
            "text/plain": [
              "                          V_H  V_H_formula_IL_k  V_H_formula_cte_k  \\\n",
              "timestamp                                                            \n",
              "2021-03-31 00:00:00  369070.0     369070.000000      369070.000000   \n",
              "2021-03-31 00:05:00  369164.0     369164.000000      369164.000000   \n",
              "2021-03-31 00:10:00  369431.0     369431.000000      369431.000000   \n",
              "2021-03-31 00:15:00  369285.0     369284.942390      369284.942390   \n",
              "2021-03-31 00:20:00  369135.0     369134.881531      369134.881531   \n",
              "...                       ...               ...                ...   \n",
              "2021-04-06 22:15:00  395431.0     394861.270756      394861.270756   \n",
              "2021-04-06 22:20:00  396153.0     395582.230513      395582.230513   \n",
              "2021-04-06 22:25:00  395706.0     395135.432854      395135.432854   \n",
              "2021-04-06 22:30:00  396265.0     395693.626834      395693.626834   \n",
              "2021-04-06 22:35:00  396349.0     395777.505715      395777.505715   \n",
              "\n",
              "                               V_P  V_P_formula_IL_k  V_P_formula_cte_k  \n",
              "timestamp                                                                \n",
              "2021-03-31 00:00:00  369070.000000     369070.000000      369070.000000  \n",
              "2021-03-31 00:05:00  369163.988032     369163.988032      369163.988032  \n",
              "2021-03-31 00:10:00  369430.823619     369430.823619      369430.823619  \n",
              "2021-03-31 00:15:00  369284.879803     369284.879803      369284.879803  \n",
              "2021-03-31 00:20:00  369134.875809     369134.875809      369134.875809  \n",
              "...                            ...               ...                ...  \n",
              "2021-04-06 22:15:00  393982.895292     393982.895292      393982.895292  \n",
              "2021-04-06 22:20:00  394656.717007     394656.717007      394656.717007  \n",
              "2021-04-06 22:25:00  394239.239941     394239.239941      394239.239941  \n",
              "2021-04-06 22:30:00  394760.699052     394760.699052      394760.699052  \n",
              "2021-04-06 22:35:00  394838.998326     394838.998326      394838.998326  \n",
              "\n",
              "[2000 rows x 6 columns]"
            ],
            "text/html": [
              "\n",
              "  <div id=\"df-065c60e0-38ab-47ef-883e-14f2c961fdbd\">\n",
              "    <div class=\"colab-df-container\">\n",
              "      <div>\n",
              "<style scoped>\n",
              "    .dataframe tbody tr th:only-of-type {\n",
              "        vertical-align: middle;\n",
              "    }\n",
              "\n",
              "    .dataframe tbody tr th {\n",
              "        vertical-align: top;\n",
              "    }\n",
              "\n",
              "    .dataframe thead th {\n",
              "        text-align: right;\n",
              "    }\n",
              "</style>\n",
              "<table border=\"1\" class=\"dataframe\">\n",
              "  <thead>\n",
              "    <tr style=\"text-align: right;\">\n",
              "      <th></th>\n",
              "      <th>V_H</th>\n",
              "      <th>V_H_formula_IL_k</th>\n",
              "      <th>V_H_formula_cte_k</th>\n",
              "      <th>V_P</th>\n",
              "      <th>V_P_formula_IL_k</th>\n",
              "      <th>V_P_formula_cte_k</th>\n",
              "    </tr>\n",
              "    <tr>\n",
              "      <th>timestamp</th>\n",
              "      <th></th>\n",
              "      <th></th>\n",
              "      <th></th>\n",
              "      <th></th>\n",
              "      <th></th>\n",
              "      <th></th>\n",
              "    </tr>\n",
              "  </thead>\n",
              "  <tbody>\n",
              "    <tr>\n",
              "      <th>2021-03-31 00:00:00</th>\n",
              "      <td>369070.0</td>\n",
              "      <td>369070.000000</td>\n",
              "      <td>369070.000000</td>\n",
              "      <td>369070.000000</td>\n",
              "      <td>369070.000000</td>\n",
              "      <td>369070.000000</td>\n",
              "    </tr>\n",
              "    <tr>\n",
              "      <th>2021-03-31 00:05:00</th>\n",
              "      <td>369164.0</td>\n",
              "      <td>369164.000000</td>\n",
              "      <td>369164.000000</td>\n",
              "      <td>369163.988032</td>\n",
              "      <td>369163.988032</td>\n",
              "      <td>369163.988032</td>\n",
              "    </tr>\n",
              "    <tr>\n",
              "      <th>2021-03-31 00:10:00</th>\n",
              "      <td>369431.0</td>\n",
              "      <td>369431.000000</td>\n",
              "      <td>369431.000000</td>\n",
              "      <td>369430.823619</td>\n",
              "      <td>369430.823619</td>\n",
              "      <td>369430.823619</td>\n",
              "    </tr>\n",
              "    <tr>\n",
              "      <th>2021-03-31 00:15:00</th>\n",
              "      <td>369285.0</td>\n",
              "      <td>369284.942390</td>\n",
              "      <td>369284.942390</td>\n",
              "      <td>369284.879803</td>\n",
              "      <td>369284.879803</td>\n",
              "      <td>369284.879803</td>\n",
              "    </tr>\n",
              "    <tr>\n",
              "      <th>2021-03-31 00:20:00</th>\n",
              "      <td>369135.0</td>\n",
              "      <td>369134.881531</td>\n",
              "      <td>369134.881531</td>\n",
              "      <td>369134.875809</td>\n",
              "      <td>369134.875809</td>\n",
              "      <td>369134.875809</td>\n",
              "    </tr>\n",
              "    <tr>\n",
              "      <th>...</th>\n",
              "      <td>...</td>\n",
              "      <td>...</td>\n",
              "      <td>...</td>\n",
              "      <td>...</td>\n",
              "      <td>...</td>\n",
              "      <td>...</td>\n",
              "    </tr>\n",
              "    <tr>\n",
              "      <th>2021-04-06 22:15:00</th>\n",
              "      <td>395431.0</td>\n",
              "      <td>394861.270756</td>\n",
              "      <td>394861.270756</td>\n",
              "      <td>393982.895292</td>\n",
              "      <td>393982.895292</td>\n",
              "      <td>393982.895292</td>\n",
              "    </tr>\n",
              "    <tr>\n",
              "      <th>2021-04-06 22:20:00</th>\n",
              "      <td>396153.0</td>\n",
              "      <td>395582.230513</td>\n",
              "      <td>395582.230513</td>\n",
              "      <td>394656.717007</td>\n",
              "      <td>394656.717007</td>\n",
              "      <td>394656.717007</td>\n",
              "    </tr>\n",
              "    <tr>\n",
              "      <th>2021-04-06 22:25:00</th>\n",
              "      <td>395706.0</td>\n",
              "      <td>395135.432854</td>\n",
              "      <td>395135.432854</td>\n",
              "      <td>394239.239941</td>\n",
              "      <td>394239.239941</td>\n",
              "      <td>394239.239941</td>\n",
              "    </tr>\n",
              "    <tr>\n",
              "      <th>2021-04-06 22:30:00</th>\n",
              "      <td>396265.0</td>\n",
              "      <td>395693.626834</td>\n",
              "      <td>395693.626834</td>\n",
              "      <td>394760.699052</td>\n",
              "      <td>394760.699052</td>\n",
              "      <td>394760.699052</td>\n",
              "    </tr>\n",
              "    <tr>\n",
              "      <th>2021-04-06 22:35:00</th>\n",
              "      <td>396349.0</td>\n",
              "      <td>395777.505715</td>\n",
              "      <td>395777.505715</td>\n",
              "      <td>394838.998326</td>\n",
              "      <td>394838.998326</td>\n",
              "      <td>394838.998326</td>\n",
              "    </tr>\n",
              "  </tbody>\n",
              "</table>\n",
              "<p>2000 rows × 6 columns</p>\n",
              "</div>\n",
              "      <button class=\"colab-df-convert\" onclick=\"convertToInteractive('df-065c60e0-38ab-47ef-883e-14f2c961fdbd')\"\n",
              "              title=\"Convert this dataframe to an interactive table.\"\n",
              "              style=\"display:none;\">\n",
              "        \n",
              "  <svg xmlns=\"http://www.w3.org/2000/svg\" height=\"24px\"viewBox=\"0 0 24 24\"\n",
              "       width=\"24px\">\n",
              "    <path d=\"M0 0h24v24H0V0z\" fill=\"none\"/>\n",
              "    <path d=\"M18.56 5.44l.94 2.06.94-2.06 2.06-.94-2.06-.94-.94-2.06-.94 2.06-2.06.94zm-11 1L8.5 8.5l.94-2.06 2.06-.94-2.06-.94L8.5 2.5l-.94 2.06-2.06.94zm10 10l.94 2.06.94-2.06 2.06-.94-2.06-.94-.94-2.06-.94 2.06-2.06.94z\"/><path d=\"M17.41 7.96l-1.37-1.37c-.4-.4-.92-.59-1.43-.59-.52 0-1.04.2-1.43.59L10.3 9.45l-7.72 7.72c-.78.78-.78 2.05 0 2.83L4 21.41c.39.39.9.59 1.41.59.51 0 1.02-.2 1.41-.59l7.78-7.78 2.81-2.81c.8-.78.8-2.07 0-2.86zM5.41 20L4 18.59l7.72-7.72 1.47 1.35L5.41 20z\"/>\n",
              "  </svg>\n",
              "      </button>\n",
              "      \n",
              "  <style>\n",
              "    .colab-df-container {\n",
              "      display:flex;\n",
              "      flex-wrap:wrap;\n",
              "      gap: 12px;\n",
              "    }\n",
              "\n",
              "    .colab-df-convert {\n",
              "      background-color: #E8F0FE;\n",
              "      border: none;\n",
              "      border-radius: 50%;\n",
              "      cursor: pointer;\n",
              "      display: none;\n",
              "      fill: #1967D2;\n",
              "      height: 32px;\n",
              "      padding: 0 0 0 0;\n",
              "      width: 32px;\n",
              "    }\n",
              "\n",
              "    .colab-df-convert:hover {\n",
              "      background-color: #E2EBFA;\n",
              "      box-shadow: 0px 1px 2px rgba(60, 64, 67, 0.3), 0px 1px 3px 1px rgba(60, 64, 67, 0.15);\n",
              "      fill: #174EA6;\n",
              "    }\n",
              "\n",
              "    [theme=dark] .colab-df-convert {\n",
              "      background-color: #3B4455;\n",
              "      fill: #D2E3FC;\n",
              "    }\n",
              "\n",
              "    [theme=dark] .colab-df-convert:hover {\n",
              "      background-color: #434B5C;\n",
              "      box-shadow: 0px 1px 3px 1px rgba(0, 0, 0, 0.15);\n",
              "      filter: drop-shadow(0px 1px 2px rgba(0, 0, 0, 0.3));\n",
              "      fill: #FFFFFF;\n",
              "    }\n",
              "  </style>\n",
              "\n",
              "      <script>\n",
              "        const buttonEl =\n",
              "          document.querySelector('#df-065c60e0-38ab-47ef-883e-14f2c961fdbd button.colab-df-convert');\n",
              "        buttonEl.style.display =\n",
              "          google.colab.kernel.accessAllowed ? 'block' : 'none';\n",
              "\n",
              "        async function convertToInteractive(key) {\n",
              "          const element = document.querySelector('#df-065c60e0-38ab-47ef-883e-14f2c961fdbd');\n",
              "          const dataTable =\n",
              "            await google.colab.kernel.invokeFunction('convertToInteractive',\n",
              "                                                     [key], {});\n",
              "          if (!dataTable) return;\n",
              "\n",
              "          const docLinkHtml = 'Like what you see? Visit the ' +\n",
              "            '<a target=\"_blank\" href=https://colab.research.google.com/notebooks/data_table.ipynb>data table notebook</a>'\n",
              "            + ' to learn more about interactive tables.';\n",
              "          element.innerHTML = '';\n",
              "          dataTable['output_type'] = 'display_data';\n",
              "          await google.colab.output.renderOutput(dataTable, element);\n",
              "          const docLink = document.createElement('div');\n",
              "          docLink.innerHTML = docLinkHtml;\n",
              "          element.appendChild(docLink);\n",
              "        }\n",
              "      </script>\n",
              "    </div>\n",
              "  </div>\n",
              "  "
            ]
          },
          "metadata": {},
          "execution_count": 43
        }
      ]
    },
    {
      "cell_type": "markdown",
      "source": [
        "Vemos que ahora V_H_formula_IL_k == V_H_formula_cte_k pero distintas a V_H y que V_P = V_H_formula_IL_k == V_H_formula_cte_k.\n",
        "\n",
        "Incorporemos entonces las funciones que tienen en cuenta el factor $\\sqrt{\\frac{k(t)}{k(0)}}$ y volvamos a ver cómo dan las cuentas. Por lo anterior, meteremos el término $\\sqrt{\\frac{k(t)}{k(0)}}$ sólo en V_P."
      ],
      "metadata": {
        "id": "LQxdRfHvJRqI"
      }
    },
    {
      "cell_type": "code",
      "source": [
        "def IL_P_in_usd_k(P,k):\n",
        "  # return IL_R(P/P_entry)\n",
        "  V_hold_0 = tenencias_inicial[0] + tenencias_inicial[1] * P_entry\n",
        "  k_0 = tenencias_inicial[0]*tenencias_inicial[1]\n",
        "  return V_hold_0 * ( (k/k_0)**(1/2) * (P/P_entry)**(1/2) - 1/2 - P/(2*P_entry) )\n",
        "def IL_derivada_P_in_usd_k(P,k):\n",
        "  k_0 = tenencias_inicial[0]*tenencias_inicial[1]\n",
        "  V_hold = tenencias_inicial[0] + tenencias_inicial[1] * P\n",
        "  V_hold_0 = tenencias_inicial[0] + tenencias_inicial[1] * P_entry\n",
        "  # return IL_derivada_P(P)*V_hold + IL_P(P)*tenencias_inicial[1]\n",
        "  return V_hold_0/(2*P_entry) * ( (k/k_0)**(1/2) * (P_entry/P)**(1/2) - 1 )"
      ],
      "metadata": {
        "id": "gS3xuqLnKEuB"
      },
      "execution_count": null,
      "outputs": []
    },
    {
      "cell_type": "code",
      "source": [
        "IL_formula_k = [IL_P_in_usd_k(P_ETH[i],k[i]) for i in range(len(P_ETH))]\n",
        "diferencias_k = pd.DataFrame([IL_usd[i]-IL_formula_k[i] for i in range(len(P_ETH))], index = P_ETH.index)\n",
        "comparacion_IL_k = pd.concat([pd.DataFrame(IL_usd, index = P_ETH.index), \n",
        "                            pd.DataFrame(IL_formula_k, index = P_ETH.index),\n",
        "                            diferencias_k], axis = 1)\n",
        "comparacion_IL_k.columns = ['IL_usd', 'IL_formula_k', 'Diferencias_k']\n",
        "comparacion_IL_k"
      ],
      "metadata": {
        "colab": {
          "base_uri": "https://localhost:8080/",
          "height": 455
        },
        "id": "PcNHPTyNJNFQ",
        "outputId": "18fe759d-c062-434e-f978-85de9ed79313"
      },
      "execution_count": null,
      "outputs": [
        {
          "output_type": "execute_result",
          "data": {
            "text/plain": [
              "                          IL_usd  IL_formula_k  Diferencias_k\n",
              "timestamp                                                    \n",
              "2021-03-31 00:00:00     0.000000      0.000000   0.000000e+00\n",
              "2021-03-31 00:05:00    -0.011968     -0.011968   8.784307e-12\n",
              "2021-03-31 00:10:00    -0.176381     -0.176381   1.054479e-10\n",
              "2021-03-31 00:15:00    -0.120197     -0.120197  -2.112932e-11\n",
              "2021-03-31 00:20:00    -0.124191     -0.124191   8.434409e-11\n",
              "...                          ...           ...            ...\n",
              "2021-04-06 22:15:00 -1448.104708  -1448.104708  -3.524292e-11\n",
              "2021-04-06 22:20:00 -1496.282993  -1496.282993  -7.003109e-11\n",
              "2021-04-06 22:25:00 -1466.760059  -1466.760059   7.048584e-12\n",
              "2021-04-06 22:30:00 -1504.300948  -1504.300948  -3.433342e-11\n",
              "2021-04-06 22:35:00 -1510.001674  -1510.001674  -7.889867e-11\n",
              "\n",
              "[2000 rows x 3 columns]"
            ],
            "text/html": [
              "\n",
              "  <div id=\"df-15163798-95cd-4569-9795-804c40043e99\">\n",
              "    <div class=\"colab-df-container\">\n",
              "      <div>\n",
              "<style scoped>\n",
              "    .dataframe tbody tr th:only-of-type {\n",
              "        vertical-align: middle;\n",
              "    }\n",
              "\n",
              "    .dataframe tbody tr th {\n",
              "        vertical-align: top;\n",
              "    }\n",
              "\n",
              "    .dataframe thead th {\n",
              "        text-align: right;\n",
              "    }\n",
              "</style>\n",
              "<table border=\"1\" class=\"dataframe\">\n",
              "  <thead>\n",
              "    <tr style=\"text-align: right;\">\n",
              "      <th></th>\n",
              "      <th>IL_usd</th>\n",
              "      <th>IL_formula_k</th>\n",
              "      <th>Diferencias_k</th>\n",
              "    </tr>\n",
              "    <tr>\n",
              "      <th>timestamp</th>\n",
              "      <th></th>\n",
              "      <th></th>\n",
              "      <th></th>\n",
              "    </tr>\n",
              "  </thead>\n",
              "  <tbody>\n",
              "    <tr>\n",
              "      <th>2021-03-31 00:00:00</th>\n",
              "      <td>0.000000</td>\n",
              "      <td>0.000000</td>\n",
              "      <td>0.000000e+00</td>\n",
              "    </tr>\n",
              "    <tr>\n",
              "      <th>2021-03-31 00:05:00</th>\n",
              "      <td>-0.011968</td>\n",
              "      <td>-0.011968</td>\n",
              "      <td>8.784307e-12</td>\n",
              "    </tr>\n",
              "    <tr>\n",
              "      <th>2021-03-31 00:10:00</th>\n",
              "      <td>-0.176381</td>\n",
              "      <td>-0.176381</td>\n",
              "      <td>1.054479e-10</td>\n",
              "    </tr>\n",
              "    <tr>\n",
              "      <th>2021-03-31 00:15:00</th>\n",
              "      <td>-0.120197</td>\n",
              "      <td>-0.120197</td>\n",
              "      <td>-2.112932e-11</td>\n",
              "    </tr>\n",
              "    <tr>\n",
              "      <th>2021-03-31 00:20:00</th>\n",
              "      <td>-0.124191</td>\n",
              "      <td>-0.124191</td>\n",
              "      <td>8.434409e-11</td>\n",
              "    </tr>\n",
              "    <tr>\n",
              "      <th>...</th>\n",
              "      <td>...</td>\n",
              "      <td>...</td>\n",
              "      <td>...</td>\n",
              "    </tr>\n",
              "    <tr>\n",
              "      <th>2021-04-06 22:15:00</th>\n",
              "      <td>-1448.104708</td>\n",
              "      <td>-1448.104708</td>\n",
              "      <td>-3.524292e-11</td>\n",
              "    </tr>\n",
              "    <tr>\n",
              "      <th>2021-04-06 22:20:00</th>\n",
              "      <td>-1496.282993</td>\n",
              "      <td>-1496.282993</td>\n",
              "      <td>-7.003109e-11</td>\n",
              "    </tr>\n",
              "    <tr>\n",
              "      <th>2021-04-06 22:25:00</th>\n",
              "      <td>-1466.760059</td>\n",
              "      <td>-1466.760059</td>\n",
              "      <td>7.048584e-12</td>\n",
              "    </tr>\n",
              "    <tr>\n",
              "      <th>2021-04-06 22:30:00</th>\n",
              "      <td>-1504.300948</td>\n",
              "      <td>-1504.300948</td>\n",
              "      <td>-3.433342e-11</td>\n",
              "    </tr>\n",
              "    <tr>\n",
              "      <th>2021-04-06 22:35:00</th>\n",
              "      <td>-1510.001674</td>\n",
              "      <td>-1510.001674</td>\n",
              "      <td>-7.889867e-11</td>\n",
              "    </tr>\n",
              "  </tbody>\n",
              "</table>\n",
              "<p>2000 rows × 3 columns</p>\n",
              "</div>\n",
              "      <button class=\"colab-df-convert\" onclick=\"convertToInteractive('df-15163798-95cd-4569-9795-804c40043e99')\"\n",
              "              title=\"Convert this dataframe to an interactive table.\"\n",
              "              style=\"display:none;\">\n",
              "        \n",
              "  <svg xmlns=\"http://www.w3.org/2000/svg\" height=\"24px\"viewBox=\"0 0 24 24\"\n",
              "       width=\"24px\">\n",
              "    <path d=\"M0 0h24v24H0V0z\" fill=\"none\"/>\n",
              "    <path d=\"M18.56 5.44l.94 2.06.94-2.06 2.06-.94-2.06-.94-.94-2.06-.94 2.06-2.06.94zm-11 1L8.5 8.5l.94-2.06 2.06-.94-2.06-.94L8.5 2.5l-.94 2.06-2.06.94zm10 10l.94 2.06.94-2.06 2.06-.94-2.06-.94-.94-2.06-.94 2.06-2.06.94z\"/><path d=\"M17.41 7.96l-1.37-1.37c-.4-.4-.92-.59-1.43-.59-.52 0-1.04.2-1.43.59L10.3 9.45l-7.72 7.72c-.78.78-.78 2.05 0 2.83L4 21.41c.39.39.9.59 1.41.59.51 0 1.02-.2 1.41-.59l7.78-7.78 2.81-2.81c.8-.78.8-2.07 0-2.86zM5.41 20L4 18.59l7.72-7.72 1.47 1.35L5.41 20z\"/>\n",
              "  </svg>\n",
              "      </button>\n",
              "      \n",
              "  <style>\n",
              "    .colab-df-container {\n",
              "      display:flex;\n",
              "      flex-wrap:wrap;\n",
              "      gap: 12px;\n",
              "    }\n",
              "\n",
              "    .colab-df-convert {\n",
              "      background-color: #E8F0FE;\n",
              "      border: none;\n",
              "      border-radius: 50%;\n",
              "      cursor: pointer;\n",
              "      display: none;\n",
              "      fill: #1967D2;\n",
              "      height: 32px;\n",
              "      padding: 0 0 0 0;\n",
              "      width: 32px;\n",
              "    }\n",
              "\n",
              "    .colab-df-convert:hover {\n",
              "      background-color: #E2EBFA;\n",
              "      box-shadow: 0px 1px 2px rgba(60, 64, 67, 0.3), 0px 1px 3px 1px rgba(60, 64, 67, 0.15);\n",
              "      fill: #174EA6;\n",
              "    }\n",
              "\n",
              "    [theme=dark] .colab-df-convert {\n",
              "      background-color: #3B4455;\n",
              "      fill: #D2E3FC;\n",
              "    }\n",
              "\n",
              "    [theme=dark] .colab-df-convert:hover {\n",
              "      background-color: #434B5C;\n",
              "      box-shadow: 0px 1px 3px 1px rgba(0, 0, 0, 0.15);\n",
              "      filter: drop-shadow(0px 1px 2px rgba(0, 0, 0, 0.3));\n",
              "      fill: #FFFFFF;\n",
              "    }\n",
              "  </style>\n",
              "\n",
              "      <script>\n",
              "        const buttonEl =\n",
              "          document.querySelector('#df-15163798-95cd-4569-9795-804c40043e99 button.colab-df-convert');\n",
              "        buttonEl.style.display =\n",
              "          google.colab.kernel.accessAllowed ? 'block' : 'none';\n",
              "\n",
              "        async function convertToInteractive(key) {\n",
              "          const element = document.querySelector('#df-15163798-95cd-4569-9795-804c40043e99');\n",
              "          const dataTable =\n",
              "            await google.colab.kernel.invokeFunction('convertToInteractive',\n",
              "                                                     [key], {});\n",
              "          if (!dataTable) return;\n",
              "\n",
              "          const docLinkHtml = 'Like what you see? Visit the ' +\n",
              "            '<a target=\"_blank\" href=https://colab.research.google.com/notebooks/data_table.ipynb>data table notebook</a>'\n",
              "            + ' to learn more about interactive tables.';\n",
              "          element.innerHTML = '';\n",
              "          dataTable['output_type'] = 'display_data';\n",
              "          await google.colab.output.renderOutput(dataTable, element);\n",
              "          const docLink = document.createElement('div');\n",
              "          docLink.innerHTML = docLinkHtml;\n",
              "          element.appendChild(docLink);\n",
              "        }\n",
              "      </script>\n",
              "    </div>\n",
              "  </div>\n",
              "  "
            ]
          },
          "metadata": {},
          "execution_count": 45
        }
      ]
    },
    {
      "cell_type": "markdown",
      "source": [
        "Ahora si se observa que los cálculos coinciden. \n",
        "\n",
        "Ya podemos armar la estrategia usando IL_P_in_usd_k y IL_derivada_P_in_usd_k."
      ],
      "metadata": {
        "id": "uQe4camL-HxK"
      }
    }
  ]
}