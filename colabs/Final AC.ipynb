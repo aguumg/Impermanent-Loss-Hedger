{
 "cells": [
  {
   "cell_type": "markdown",
   "metadata": {
    "id": "N4NSxVKOjWtc"
   },
   "source": [
    "# Hedging estático de Impermanent Loss en CPM"
   ]
  },
  {
   "cell_type": "markdown",
   "metadata": {
    "id": "Bv1YgjXJ4_UB"
   },
   "source": [
    "## Formulación Teórica"
   ]
  },
  {
   "cell_type": "markdown",
   "metadata": {
    "id": "rwBEoYmKCFES"
   },
   "source": [
    "### Alcances"
   ]
  },
  {
   "cell_type": "markdown",
   "metadata": {
    "id": "2c7cQqID8Ds7"
   },
   "source": [
    "<a name=\"alcances\">Nota:</a>\n",
    "\n",
    "En el presente trabajo nos limitaremos a un estudio estático de la cuestión, razón por la cual solo tendremos un tiempo inicial y uno final, sin pasos intermedios.\n",
    "\n",
    "Asumimos, excepto donde se aclare, que las cantidades existentes en el pool entre tiempo inicial y final respetan sin cambios la constante de producto $k$.\n",
    "\n",
    "También asumimos que el pool se constituye inicialmente con cantidades que no permiten arbitraje.\n",
    "\n",
    "No consideramos fees en el cálculo de la Impermanent Loss, aunque incluimos un desarrollo breve de la cuestión en el Apéndice II. El detalle del cálculo y la integración de las funciones con el resto del código quedaron fuera del alcance del presente trabajo por razones tanto de tiempo como de claridad para la exposición."
   ]
  },
  {
   "cell_type": "markdown",
   "metadata": {
    "id": "b_2ZbQlv4rW9"
   },
   "source": [
    "### Composición y valuación del pool"
   ]
  },
  {
   "cell_type": "markdown",
   "metadata": {
    "id": "8F1lnroLRRBx"
   },
   "source": [
    "Un pool $Q$ de dos monedas X, Y puede representarse como un vector conteniendo a tiempo $T$ cantidades $x$ e $y$ respectivamente:\n",
    "\n",
    "$$ \\vec Q_T = (x, y) $$\n",
    "\n",
    "El pool se constituye originalmente en cantidades iniciales $\\vec Q_0=(x_0, y_0)$ equilibradas respecto de los precios en ese momento."
   ]
  },
  {
   "cell_type": "markdown",
   "metadata": {
    "id": "vi73oUFUsPlP"
   },
   "source": [
    "Para valuar el pool hay que sumar la valuación de sus reservas. Es decir que, teniendo un vector de valuación $\\vec P_t$ a tiempo $t$, el valor del pool $Q_t$ es el siguiente producto escalar:\n",
    "\n",
    "$$V_{Q_t}(P_t) = \\vec Q_t \\cdot \\vec P_t$$\n",
    "\n",
    "Para valuar las reservas $(x,y)$ con el vector $\\vec P_t$, podemos valuarlas ambas en función de una de ellas (e.g., de $Y$), o bien ambas en función de una tercera moneda $Z$. Si notamos el precio de $X$ medido en unidades de $Y$ como $P_{Y|X}$, tenemos:\n",
    "\n",
    "* Vector de valuación en función de $Y$: $\\vec P = (P_{Y|X}, P_{X|X}) = (P_{Y|X}, 1) $\n",
    "* Vector de valuación en función de $Z$: $\\vec P = (P_{Z|X}, P_{Z|Y}) = P_{Z|Y} \\cdot (P_{Y|X}, 1) $\n",
    "\n",
    "Por lo dicho, valuar en una tercera moneda requiere simplemente aplicar un factor. Por ello, simplificaremos cuentas usando la valuación en función de $Y$. En adelante vamos a utilizar el precio $P_{Y|X}$, al cual denominaremos simplemente $P$, pues no hay confusión con el vector de valuación $\\vec P$. Como dicho precio varía con el tiempo $t$, lo notaremos $\\vec P_t$."
   ]
  },
  {
   "cell_type": "code",
   "execution_count": 1,
   "metadata": {
    "executionInfo": {
     "elapsed": 6,
     "status": "ok",
     "timestamp": 1659920996166,
     "user": {
      "displayName": "Juan Sequeira",
      "userId": "17910834634520870800"
     },
     "user_tz": 180
    },
    "id": "AgsZGK4jgivY"
   },
   "outputs": [],
   "source": [
    "import numpy as np\n",
    "#np.warnings.filterwarnings('ignore', category=np.VisibleDeprecationWarning) \n",
    "np.warnings.filterwarnings('error', category=np.VisibleDeprecationWarning)                  \n",
    "\n",
    "# Precio implícito inicial (porque asumimos no arbitraje)\n",
    "def get_pool_initial_price(balances: tuple) -> float:\n",
    "    return balances[1]/balances[0]\n",
    "\n",
    "def get_pool_price_units(symbols: tuple) -> str:\n",
    "    return symbols[1]\n",
    "\n",
    "def get_initial_prices_vector(balances: tuple) -> tuple:\n",
    "    return (get_pool_initial_price(pool_balances), 1) # precios del pool medidos en la unidad de pool_symbols[1]\n",
    "\n",
    "def get_prices_vector(price: float) -> tuple:\n",
    "    return (price, 1)\n",
    "\n",
    "# Función que, dado un pool y vector de precios, devuelve el valor del pool dado.\n",
    "def get_pool_value(balances: tuple, prices: tuple) -> float:\n",
    "    return float(np.dot(balances, prices))\n",
    "\n"
   ]
  },
  {
   "cell_type": "markdown",
   "metadata": {
    "id": "4tTLtTOS4_UC"
   },
   "source": [
    "### Impermanent Loss"
   ]
  },
  {
   "cell_type": "markdown",
   "metadata": {
    "id": "ZkMFDIoZ-48t"
   },
   "source": [
    "En su forma más sencilla, la Impermanent Loss surge de restar dos valores:\n",
    "* El valor a tiempo $t$ de las cantidades $\\vec Q_t$ existentes en el pool, usando sus precios $\\vec P_t$.\n",
    "$$V_{Pool_t} = V_{Q_t}(P_t) = \\vec Q_t \\cdot \\vec P_t$$\n",
    "* El valor a tiempo $t$ de las cantidades iniciales del pool, $\\vec Q_0$, como si aún las conserváramos fuera del pool, valuadas con sus precios a tiempo $t$.\n",
    "$$V_{Hold_t} = V_{Q_0}(P_t) = \\vec Q_0 \\cdot \\vec P_t$$\n",
    "\n",
    "La Impermanent Loss expresada en función de los precios $\\vec P_t$ a tiempo $t$ es, entonces:\n",
    "\n",
    "$$IL(\\vec P_t) = V_{Pool_t} - V_{Hold_t} = (\\vec Q_t-\\vec Q_0) \\cdot \\vec P_t $$\n",
    "\n",
    "$$ = (x-x_0, y-y_0) \\cdot (P, 1)$$\n",
    "\n",
    "$$ = (x-x_0)P + (y-y_0) $$\n",
    "\n",
    "Pero como la idea es hedgear contra el cambio en la IL respecto de cambios en el precio, debemos expresarla como función de $P$ quitando del medio las cantidades existentes en el pool. Para ello, formulamos $V_{Pool}$ y $V_{Hold}$ de otra manera usando las siguientes identidades (ver bibliografía de referencia \\[[1](#referencia1)\\]):\n",
    "\n",
    "\\begin{align*}\n",
    "  Ec.\\ 1\\ :\\ \\ \\ \\ y_t &= \\sqrt{k\\ P_t} \\\\\n",
    "  Ec.\\ 2\\ :\\ \\ \\ \\ V_{Pool_0} &= V_{Hold_0} = 2 \\sqrt{k P_0} \\\\\n",
    "  Ec.\\ 3\\ :\\ \\ \\ \\ P_0 &= y_0 / x_0 \\\\\n",
    "  Ec.\\ 4\\ :\\ \\ \\ \\ V_{Pool_T} &= 2 \\sqrt{k P_T} \\\\\n",
    "\\end{align*}\n",
    "\n",
    "Por la Ec. 4 tenemos:\n",
    "\n",
    "$$  V_{Pool} = 2\\sqrt{kP} $$\n",
    "$$ = \\frac{2\\sqrt{kP_0 P}}{\\sqrt{P_0}} $$\n",
    "$$ = 2\\sqrt{kP_0} \\sqrt{\\frac{P}{P_0}} $$\n",
    "$$ [Ec.\\ 2]\\ \\ \\  = V_{Pool_0}\\sqrt{\\frac{P}{P_0}} $$\n",
    "\n",
    "Y por la definición que dimos, tenemos:\n",
    "$$ V_{Hold} = \\vec Q_0 \\cdot \\vec P_t = (x_0, y_0) \\cdot (P, 1) = x_0 P + y_0 $$\n",
    "\n",
    "$$ [Ec.\\ 1]\\ \\ \\ \\ \\ \\ = x_0 P + \\sqrt{k P_0} $$\n",
    "\n",
    "$$ [Ec.\\ 3]\\ \\ \\  = \\frac{y_0}{P_0} P + \\sqrt{k P_0} $$\n",
    "\n",
    "$$ [Ec.\\ 1]\\ \\ \\ \\ \\ \\  = \\frac{\\sqrt{k P_0}}{P_0} P + \\sqrt{k P_0} $$\n",
    "\n",
    "$$ = \\sqrt{k P_0} (\\frac{P}{P_0} +  1 )$$\n",
    "\n",
    "$$  = 2\\sqrt{kP_0}\\frac{1}{2}(\\frac{P}{P_0}+1) $$\n",
    "$$ [Ec.\\ 2]\\ \\ \\ \\ \\ \\  =\\frac{V_{Hold_0}}{2}(\\frac{P}{P_0}+1) $$\n",
    "\n",
    "Nos queda entonces la siguiente fórmula de Impermanent Loss expresada en función de precios cuya unidad es la moneda $Y$:\n",
    "\n",
    "$$IL_Y(P) = V_{Pool} - V_{Hold} $$\n",
    "$$ = V_{Pool_0}\\sqrt{\\frac{P}{P_0}} - \\frac{V_{Hold_0}}{2}(\\frac{P}{P_0}+1)$$\n",
    "\n",
    "$$ [Ec.\\ 2]\\ \\ \\ \\ \\ \\  = V_{Hold_0}\\left(\\sqrt{\\frac{P}{P_0}}-\\frac{1}{2} (\\frac{P}{P_0}+1)\\right) $$\n",
    "\n",
    "$$ = V_{Hold_0}\\left(\\sqrt{\\frac{P}{P_0}}-\\frac{1}{2}-\\frac{P}{2P_0}\\right)$$\n",
    "\n"
   ]
  },
  {
   "cell_type": "code",
   "execution_count": 44,
   "metadata": {
    "executionInfo": {
     "elapsed": 5,
     "status": "ok",
     "timestamp": 1659921005619,
     "user": {
      "displayName": "Juan Sequeira",
      "userId": "17910834634520870800"
     },
     "user_tz": 180
    },
    "id": "lFVmYLu-6Dn0"
   },
   "outputs": [],
   "source": [
    "# Impermanent Loss expresada en la moneda Y en función de P sin fees \n",
    "def IL_Y_P(P: any, balances: tuple) -> any:\n",
    "    if type(P) == float or type(P) == np.float64 or type(P) == int:\n",
    "        # Caso en que P es un número, retorno un float\n",
    "        P_entry = get_pool_initial_price(balances)\n",
    "        V_hold_0 = get_pool_value(balances, get_prices_vector(P_entry))\n",
    "        return V_hold_0 * ((P/P_entry)**(1/2) - 1/2 - P/(2*P_entry))\n",
    "    elif type(P) != np.ndarray:\n",
    "        print(f'Error de tipo: {type(P)}')\n",
    "        assert False # bug trap\n",
    "    # Caso en que P es un array, retorno un array conteniendo los floats de los\n",
    "    # resultados correspondientes a cada elemento de P.\n",
    "    arr = np.array([])\n",
    "    for p in P:\n",
    "        arr = np.append(arr, [ IL_Y_P(p, balances) ])\n",
    "    return arr\n"
   ]
  },
  {
   "cell_type": "markdown",
   "metadata": {
    "id": "7iOBa7f24_UE"
   },
   "source": [
    "Podemos entonces calcular la derivada de $IL_Y(P)$ con respecto a P:\n",
    "\n",
    "\n",
    "$$\\frac{\\partial}{\\partial P}IL_Y(P) = V_{Hold_0}\\left(\\frac{\\partial}{\\partial P}\\left(\\sqrt{\\frac{P}{P_0}}\\right)+0-\\frac{1}{2P_0}\\right) $$\n",
    "\n",
    "$$ = \\frac{V_{Hold_0}}{\\sqrt{P_0}}\\left(\\frac{\\partial}{\\partial P}(\\sqrt{P}) - \\frac{1}{2\\sqrt{P_0}}\\right) $$\n",
    "\n",
    "$$ = \\frac{V_{Hold_0}}{\\sqrt{P_0}}\\left(\\frac{1}{2\\sqrt{P}} - \\frac{1}{2\\sqrt{P_0}}\\right) $$\n",
    "\n",
    "$$ = \\frac{V_{Hold_0}}{\\sqrt{P_0}}\\left(\\frac{\\sqrt{P_0}}{2\\sqrt{P}\\sqrt{P_0}} - \\frac{1}{2\\sqrt{P_0}}\\right) $$\n",
    "\n",
    "$$  = \\frac{V_{Hold_0}}{2P_0}\\left(\\sqrt{\\frac{P_0}{P}}-1\\right)$$\n"
   ]
  },
  {
   "cell_type": "code",
   "execution_count": 3,
   "metadata": {
    "executionInfo": {
     "elapsed": 435,
     "status": "ok",
     "timestamp": 1659921010456,
     "user": {
      "displayName": "Juan Sequeira",
      "userId": "17910834634520870800"
     },
     "user_tz": 180
    },
    "id": "ZhMTna594_UF"
   },
   "outputs": [],
   "source": [
    "# Derivada de IL expresada en la moneda Y en función de P sin fees\n",
    "def IL_derivada_Y_P(P: float, balances: tuple) -> float:\n",
    "    V_hold_0 = get_pool_value(balances)\n",
    "    P_entry = get_pool_initial_price(balances)\n",
    "    #assert V_hold_0 == 2*numpy.sqrt(balances[0]*balances[1]*P_entry)\n",
    "    return V_hold_0/(2*P_entry) * ((P_entry/P)**(1/2) - 1)\n",
    "\n"
   ]
  },
  {
   "cell_type": "markdown",
   "metadata": {
    "id": "JvKn6evPIkgk"
   },
   "source": [
    "### Estrategia con opciones: Long Strangle"
   ]
  },
  {
   "cell_type": "markdown",
   "metadata": {
    "id": "EqN8B1Nt4_UO"
   },
   "source": [
    "Un provedor de liquidez ingresa al pool $Q$ depositando $x_0$  cantidad de la moneda $X$ e $y_0$ cantidad de la moneda $Y$ tales que respeten la constante del pool: $k = x_0 y_0$\n",
    "\n",
    "A tiempo $T$ tenemos Impermanent Loss por depositar los tokens en el pool, según lo ya descripto.\n",
    "\n",
    "Motivados por el resultado que asegura que cualquier payoff puede escribirse en terminos de bonos y opciones, proponemos usar un _Long Strangle_ como aplicacion practica para hedgearse contra la IL. La misma consiste en:\n",
    "\n",
    "* comprar una cantidad $q_c$ de calls con strike $K_c$ del subyacente $X$\n",
    "* comprar una cantidad $q_p$ de puts con strike $K_p$ del subyacente $X$\n",
    "\n",
    "Los strikes $K_c$ y $K_p$ no pueden coincidir y se encuentran _out-the_money_ al momento inicial.\n",
    "\n",
    "La estrategia se define típicamente para cantidades $q_c$ y $q_p$ iguales, pero es usual abarcar en ella también los casos en que difieren (para los cuales la estrategia se califica como _Unbalanced_). \n",
    "\n",
    "Llamaremos $d_c$ y $d_p$ a las primas respectivas.\n",
    "\n",
    "En razón de los PnL de calls y puts, el PnL del Long Strangle a tiempo T será\n",
    "\n",
    "$$LS_T=q_c máx(0, P_T-K_c) +q_pmáx(0,K_p-P_T) - (q_c d_c + q_pd_2)$$  \n",
    "\n",
    "\n",
    "\n",
    "\n",
    "\n",
    "\n",
    "\n"
   ]
  },
  {
   "cell_type": "markdown",
   "metadata": {
    "id": "OR_4hbBq4_UN"
   },
   "source": [
    "La siguiente función tiene como inputs vectores de strikes $\\vec K_\\text{call}$, $\\vec K_\\text{put}$  y de primas $\\vec d_\\text{call}$, $\\vec d_\\text{put}$  asociados a un conjunto de calls y puts. Tiene como output el PnL de considerar la combinación de estas opciones cuando el precio del subyacente es $P$."
   ]
  },
  {
   "cell_type": "code",
   "execution_count": 74,
   "metadata": {
    "executionInfo": {
     "elapsed": 412,
     "status": "ok",
     "timestamp": 1659921018833,
     "user": {
      "displayName": "Juan Sequeira",
      "userId": "17910834634520870800"
     },
     "user_tz": 180
    },
    "id": "lZICX7SfeEff"
   },
   "outputs": [],
   "source": [
    "\n",
    "# Payoff de estrategias combinando calls y puts\n",
    "# Si el precio P es un array, devuelve un array \n",
    "def payoff_CP_combination(P: any,K_call, K_put,d_call,d_put,qcall,qput) -> any:\n",
    "    if type(P) == float or type(P) == np.float64 or type(P) == int:\n",
    "        # Caso en que P es un número, retorno un float\n",
    "        call=0.0\n",
    "        put=0.0\n",
    "        call = call + qcall*max(P-K_call,0)\n",
    "        put = put + qput*max(K_put-P,0)  \n",
    "        costos = (qcall*d_call)+(qput*d_put)\n",
    "        return call+put-costos\n",
    "    elif type(P) != np.ndarray:\n",
    "        print(f'Error de tipo: {type(P)}')\n",
    "        assert False # bug trap\n",
    "    # Caso en que P es un array, retorno un array conteniendo los floats de los\n",
    "    # resultados correspondientes a cada elemento de P.\n",
    "    arr = np.array([])\n",
    "    for p in P:\n",
    "        float(K_call)\n",
    "        float(K_put)\n",
    "        arr = np.append(arr, [ payoff_CP_combination(p, \n",
    "                                                     K_call, K_put,\n",
    "                                                     d_call,d_put,\n",
    "                                                     qcall,qput) ])\n",
    "    return arr\n",
    "  \n"
   ]
  },
  {
   "cell_type": "markdown",
   "metadata": {
    "id": "ZmfKn2KVqvl-"
   },
   "source": [
    "### Hedging de IL con Long Strangle"
   ]
  },
  {
   "cell_type": "markdown",
   "metadata": {
    "id": "aLrdQJ-0qq6n"
   },
   "source": [
    "\n",
    "Sea  $r_Q$ la tasa de retorno mensual del pool para los liquidity providers.\n",
    "\n",
    "Hacer hedging de la Impermanent Loss mediante Long Strangle tiene el siguiente PnL:\n",
    "\n",
    "$$ H_T= r_Q (V_{Pool_0}) + LS_T + IL_Y(P_T)  $$ \n",
    "\n",
    "$$ = r_Q (x_0+y_0 P_0)+ LS_T + IL_Y(P_T)  $$ \n",
    "\n",
    "Para que el hedge sea efectivo (i.e., que no esté en pérdida) buscamos que $H_T$ sea mayor o igual que cero.\n"
   ]
  },
  {
   "cell_type": "code",
   "execution_count": 82,
   "metadata": {
    "executionInfo": {
     "elapsed": 408,
     "status": "ok",
     "timestamp": 1659921028873,
     "user": {
      "displayName": "Juan Sequeira",
      "userId": "17910834634520870800"
     },
     "user_tz": 180
    },
    "id": "C4e90wFZqSPe"
   },
   "outputs": [],
   "source": [
    "def payoff_IL_hedgeada_con_LS(precio_T, balances_0, precio_inicial, \n",
    "                              Kcall, Kput, \n",
    "                              dcall, dput, \n",
    "                              qcall, qput, \n",
    "                              r_pool):\n",
    "    V_hold_0 = get_pool_value(balances_0, get_prices_vector(precio_inicial))\n",
    "    retornos_usd_pool = r_pool * V_hold_0\n",
    "    value = retornos_usd_pool + \\\n",
    "          payoff_CP_combination(precio_T, \n",
    "                                Kcall, Kput, \n",
    "                                dcall, dput, \n",
    "                                qcall,qput) + \\\n",
    "          IL_Y_P(precio_T, balances_0)\n",
    "    \n",
    "    return value"
   ]
  },
  {
   "cell_type": "code",
   "execution_count": 76,
   "metadata": {},
   "outputs": [
    {
     "data": {
      "text/plain": [
       "88000.0"
      ]
     },
     "execution_count": 76,
     "metadata": {},
     "output_type": "execute_result"
    }
   ],
   "source": [
    "payoff_IL_hedgeada_con_LS(grid*P_entry, pool_balances, precio_inicial, strike_call, strike_put, precio_call, precio_put, cant_call, cant_put, retorno_del_pool_a_tiempo_final)[1]"
   ]
  },
  {
   "cell_type": "markdown",
   "metadata": {
    "id": "NAhpTH-t4_UI"
   },
   "source": [
    "## Ejemplo teórico"
   ]
  },
  {
   "cell_type": "markdown",
   "metadata": {
    "id": "PQEx9W6uj1mO"
   },
   "source": [
    "### Parámetros"
   ]
  },
  {
   "cell_type": "code",
   "execution_count": 80,
   "metadata": {
    "colab": {
     "base_uri": "https://localhost:8080/"
    },
    "executionInfo": {
     "elapsed": 440,
     "status": "ok",
     "timestamp": 1659921044443,
     "user": {
      "displayName": "Juan Sequeira",
      "userId": "17910834634520870800"
     },
     "user_tz": 180
    },
    "id": "9k3nvWQ74_UJ",
    "outputId": "782fe823-ab83-4da1-a095-0df6988ecb89"
   },
   "outputs": [
    {
     "name": "stdout",
     "output_type": "stream",
     "text": [
      "call 1000\n",
      "put 1000\n",
      "Composición inicial del pool: 100 ETH + 40000 USDC\n",
      "Precio inicial $P_0$ de ETH = 400.0 USDC\n",
      "Valor total inicial del pool: 80000.0 USDC\n"
     ]
    }
   ],
   "source": [
    "# Datos iniciales del pool\n",
    "# El precio P de la primera moneda se expresará en unidades de la segunda moneda.\n",
    "pool_symbols = ('ETH', 'USDC')\n",
    "pool_balances = (100, 400*100) # cantidades correspondientes a pool_symbols[i]\n",
    "\n",
    "\n",
    "precio_inicial = get_pool_initial_price(pool_balances)\n",
    "\n",
    "# precio_call = 0.05\n",
    "# precio_put = 0.05\n",
    "# strike_call = np.append(np.array([]), [precio_inicial*1.5])\n",
    "# strike_put = np.append(np.array([]), [precio_inicial*0.5])\n",
    "\n",
    "\n",
    "strike_call = 520\n",
    "strike_put = 280\n",
    "precio_call = 12\n",
    "precio_put = 6\n",
    "\n",
    "P_s = strike_call*1.05\n",
    "P_i = strike_put*0.95\n",
    "\n",
    "V_pool_0 = get_pool_value(pool_balances, get_initial_prices_vector(pool_balances))\n",
    "\n",
    "\n",
    "cant_call = -V_pool_0 / 2.0 * (1/(P_s*precio_inicial)**(1/2)-1/precio_inicial)\n",
    "cant_put = cant_call # strangle balanceado\n",
    "\n",
    "cant_call = 1000\n",
    "cant_put = 1000\n",
    "\n",
    "print(f'call {cant_call}')\n",
    "print(f'put {cant_put}')\n",
    "\n",
    "#precio_final = 1650\n",
    "#H_T = payoff_IL_hedgeada_con_LS(precio_final, pool_balances, precio_inicial, strike_call, strike_put, precio_call, precio_put, cant_call, cant_put, retorno_del_pool_a_tiempo_final)\n",
    "#print(H_T)\n",
    "\n",
    "print(f'Composición inicial del pool: {pool_balances[0]} {pool_symbols[0]} + {pool_balances[1]} {pool_symbols[1]}')\n",
    "print(f'Precio inicial $P_0$ de {pool_symbols[0]} = {get_pool_initial_price(pool_balances)} {get_pool_price_units(pool_symbols)}')\n",
    "print(f'Valor total inicial del pool: {get_pool_value(pool_balances, get_initial_prices_vector(pool_balances))} {get_pool_price_units(pool_symbols)}')\n"
   ]
  },
  {
   "cell_type": "markdown",
   "metadata": {
    "id": "q0pXqc3gXqSr"
   },
   "source": [
    "### Gráfico"
   ]
  },
  {
   "cell_type": "code",
   "execution_count": 49,
   "metadata": {
    "executionInfo": {
     "elapsed": 436,
     "status": "ok",
     "timestamp": 1659921049061,
     "user": {
      "displayName": "Juan Sequeira",
      "userId": "17910834634520870800"
     },
     "user_tz": 180
    },
    "id": "gg3wCTP94_UJ"
   },
   "outputs": [],
   "source": [
    "# Grilla a graficar\n",
    "leftmost = 0.02\n",
    "rightmost = 1.8\n",
    "step = 0.01\n",
    "\n"
   ]
  },
  {
   "cell_type": "code",
   "execution_count": 8,
   "metadata": {
    "executionInfo": {
     "elapsed": 555,
     "status": "ok",
     "timestamp": 1659921053353,
     "user": {
      "displayName": "Juan Sequeira",
      "userId": "17910834634520870800"
     },
     "user_tz": 180
    },
    "id": "bzxGekhwjudD"
   },
   "outputs": [],
   "source": [
    "# Librerías a utilizar\n",
    "import numpy as np\n",
    "import pandas as pd\n",
    "import matplotlib.pyplot as plt"
   ]
  },
  {
   "cell_type": "code",
   "execution_count": 87,
   "metadata": {
    "colab": {
     "base_uri": "https://localhost:8080/",
     "height": 501
    },
    "executionInfo": {
     "elapsed": 1137,
     "status": "ok",
     "timestamp": 1659921056609,
     "user": {
      "displayName": "Juan Sequeira",
      "userId": "17910834634520870800"
     },
     "user_tz": 180
    },
    "id": "j-lpQb9W4c69",
    "outputId": "72469fe2-704e-4aca-d4d2-3326966e7a33"
   },
   "outputs": [
    {
     "data": {
      "image/png": "[encoded data removed]",
      "text/plain": [
       "<Figure size 1440x504 with 1 Axes>"
      ]
     },
     "metadata": {
      "needs_background": "light"
     },
     "output_type": "display_data"
    },
    {
     "name": "stdout",
     "output_type": "stream",
     "text": [
      "<class 'list'>\n",
      "<class 'numpy.ndarray'>\n"
     ]
    },
    {
     "data": {
      "text/plain": [
       "[<matplotlib.lines.Line2D at 0x7f21412a4850>]"
      ]
     },
     "execution_count": 87,
     "metadata": {},
     "output_type": "execute_result"
    }
   ],
   "source": [
    "# Generación de gráfico\n",
    "grid = np.arange(leftmost,rightmost,step)\n",
    "\n",
    "font = {'family': 'serif',\n",
    "        'color':  'darkred',\n",
    "        'weight': 'normal',\n",
    "        'size': 16,\n",
    "        }\n",
    "\n",
    "fig = plt.figure(figsize = (20,7))\n",
    "axs = fig.subplots(1)\n",
    "\n",
    "r_pool = 0.25 # 0.002\n",
    "P_entry = get_pool_initial_price(pool_balances)\n",
    "V_hold_0 = get_pool_value(pool_balances, get_prices_vector(P_entry))\n",
    "retornos_usd_pool = r_pool * V_hold_0\n",
    "costos = (cant_call*precio_call)+(cant_put*precio_put)\n",
    "if costos > retornos_usd_pool:\n",
    "    print(f'WARNING: Fees del pool: {retornos_usd_pool} < costo opciones {costos}')\n",
    "axs.plot(grid*P_entry, IL_Y_P(grid*P_entry, pool_balances), c='red', label='Impermanent Loss')\n",
    "axs.plot(grid*P_entry, payoff_CP_combination(grid*P_entry, strike_call, strike_put, precio_call, precio_put, cant_call, cant_put), c='green', label='LongStrangle')\n",
    "axs.plot(grid*P_entry, payoff_IL_hedgeada_con_LS(grid*P_entry, pool_balances, precio_inicial, strike_call, strike_put, precio_call, precio_put, cant_call, cant_put, r_pool), c='blue', label='Hedge')\n",
    "\n",
    "#axs.set_title('Profit and Loss', fontdict=font)\n",
    "#plt.text(0,0, f'Fee = 0', fontdict=font)\n",
    "\n",
    "axs.set_xlabel(f'Precio final de {pool_symbols[0]} expresado en {pool_symbols[1]}', fontdict=font)\n",
    "axs.set_ylabel(f'PnL (valuado en {pool_symbols[1]})', fontdict=font)\n",
    "axs.plot(P_entry, 0, 'bo', label=f'Precio inicial de {pool_symbols[0]}')\n",
    "#axs.set_ylim(-1000,1000)\n",
    "axs.legend()\n",
    "plt.show()\n",
    "\n",
    "#grid2 = np.arange(-1, 2, 0.2)\n",
    "#pd.DataFrame([[str(round(i*100,3))+'%',\n",
    "#               str(round((i+1)*100,3))+'%',\n",
    "#               str(round(abs(IL_Y_P(i+1, pool_balances)),1)*100)+'%'] for i in grid2],\n",
    "#             columns = ['Price change', 'R', 'IL ratio']).T\n",
    "\n",
    "#v1 = payoff_IL_hedgeada_con_LS_parcial(pool_balances, get_pool_initial_price(pool_balances), retorno_del_pool_a_tiempo_final) * np.ones(len(grid))\n",
    "#print(type(v1))\n",
    "v2bis = [payoff_CP_combination(g*P_entry, strike_call, strike_put, precio_call, precio_put,cant_call,cant_put) for g in grid]\n",
    "print(type(v2bis))\n",
    "v3 = IL_Y_P(grid*P_entry, pool_balances)\n",
    "print(type(v3))\n",
    "v4 = v2bis+v3\n",
    "\n",
    "\n",
    "\n",
    "\n",
    "#axs.plot(grid*P_entry, IL_Y_P(grid*P_entry, pool_balances), c='red', label='Impermanent Loss')\n",
    "#axs.plot(grid*P_entry, payoff_CP_combination(grid*P_entry, strike_call, strike_put, precio_call, precio_put, cant_call, cant_put), c='green', label='LongStrangle')\n",
    "#axs.plot(grid*P_entry, v1, c='red', label='Hedge1 - pool')\n",
    "axs.plot(grid*P_entry, v2bis, c='green', label='Hedge2 - strangle')\n",
    "axs.plot(grid*P_entry, v3, c='blue', label='Hedge3 - IL')\n",
    "axs.plot(grid*P_entry, v4, c='orange', label='Hedge4 - Total')\n"
   ]
  },
  {
   "cell_type": "markdown",
   "metadata": {
    "id": "_lQpPTvP4_UX"
   },
   "source": [
    "## Ejemplo práctico"
   ]
  },
  {
   "cell_type": "markdown",
   "metadata": {
    "id": "HY5mDuL9c6UO"
   },
   "source": [
    "### Obtención de datos de mercado"
   ]
  },
  {
   "cell_type": "markdown",
   "metadata": {
    "id": "GSZ59zmZuN_n"
   },
   "source": [
    "#### Obtener cotizaciones (Binance)"
   ]
  },
  {
   "cell_type": "markdown",
   "metadata": {
    "id": "8sWQOsVQuW_e"
   },
   "source": [
    "En esta sección armamos código para traer datos históricos de Binance."
   ]
  },
  {
   "cell_type": "markdown",
   "metadata": {
    "id": "i1cpJ6w0xFew"
   },
   "source": [
    "##### Parámetros"
   ]
  },
  {
   "cell_type": "code",
   "execution_count": 88,
   "metadata": {
    "executionInfo": {
     "elapsed": 397,
     "status": "ok",
     "timestamp": 1659921081494,
     "user": {
      "displayName": "Juan Sequeira",
      "userId": "17910834634520870800"
     },
     "user_tz": 180
    },
    "id": "Uti1nns8tDF0"
   },
   "outputs": [],
   "source": [
    "## Parámetros para obtener datos desde Binance\n",
    "\n",
    "# initial_date = '1 Jan 2022' # respetar este formato de fecha\n",
    "initial_date = '1 Jan 2022'\n",
    "\n",
    "# pools = [\"ETHUSDC\", \"ETHUSDT\", \"BTCUSDT\"]\n",
    "\n",
    "# monedas y tokens: BTC ETH MATIC UNI COMP AAVE YFI CRV MKR LINK KP3R SFI SUSHI 1INCH CAKE \n",
    "\n",
    "symbol = \"ETHUSDC\"\n",
    "\n",
    "# Frecuencia: 1m, 5m, 10m, 15m, 1h, 1d, 1w, 1M\n",
    "freq = \"1d\"\n",
    "\n",
    "# Máxima cantidad de registros a guardar\n",
    "# maxnum=2000\n"
   ]
  },
  {
   "cell_type": "markdown",
   "metadata": {
    "id": "1Ke0q8c9xO_a"
   },
   "source": [
    "##### Código"
   ]
  },
  {
   "cell_type": "code",
   "execution_count": 11,
   "metadata": {
    "colab": {
     "base_uri": "https://localhost:8080/"
    },
    "executionInfo": {
     "elapsed": 11015,
     "status": "ok",
     "timestamp": 1659921097941,
     "user": {
      "displayName": "Juan Sequeira",
      "userId": "17910834634520870800"
     },
     "user_tz": 180
    },
    "id": "ZdFo7peruM4Q",
    "outputId": "eec9729a-eb6a-4202-e0d3-e45d69445c52",
    "scrolled": true
   },
   "outputs": [
    {
     "name": "stdout",
     "output_type": "stream",
     "text": [
      "Looking in indexes: https://pypi.org/simple, https://us-python.pkg.dev/colab-wheels/public/simple/\n",
      "Collecting python-binance\n",
      "  Downloading python_binance-1.0.16-py2.py3-none-any.whl (65 kB)\n",
      "\u001b[K     |████████████████████████████████| 65 kB 2.0 MB/s \n",
      "\u001b[?25hRequirement already satisfied: requests in /usr/local/lib/python3.7/dist-packages (from python-binance) (2.23.0)\n",
      "Requirement already satisfied: aiohttp in /usr/local/lib/python3.7/dist-packages (from python-binance) (3.8.1)\n",
      "Requirement already satisfied: ujson in /usr/local/lib/python3.7/dist-packages (from python-binance) (5.4.0)\n",
      "Collecting dateparser\n",
      "  Downloading dateparser-1.1.1-py2.py3-none-any.whl (288 kB)\n",
      "\u001b[K     |████████████████████████████████| 288 kB 8.4 MB/s \n",
      "\u001b[?25hRequirement already satisfied: six in /usr/local/lib/python3.7/dist-packages (from python-binance) (1.15.0)\n",
      "Collecting websockets\n",
      "  Downloading websockets-10.3-cp37-cp37m-manylinux_2_5_x86_64.manylinux1_x86_64.manylinux_2_12_x86_64.manylinux2010_x86_64.whl (112 kB)\n",
      "\u001b[K     |████████████████████████████████| 112 kB 43.2 MB/s \n",
      "\u001b[?25hRequirement already satisfied: typing-extensions>=3.7.4 in /usr/local/lib/python3.7/dist-packages (from aiohttp->python-binance) (4.1.1)\n",
      "Requirement already satisfied: yarl<2.0,>=1.0 in /usr/local/lib/python3.7/dist-packages (from aiohttp->python-binance) (1.8.1)\n",
      "Requirement already satisfied: attrs>=17.3.0 in /usr/local/lib/python3.7/dist-packages (from aiohttp->python-binance) (22.1.0)\n",
      "Requirement already satisfied: async-timeout<5.0,>=4.0.0a3 in /usr/local/lib/python3.7/dist-packages (from aiohttp->python-binance) (4.0.2)\n",
      "Requirement already satisfied: multidict<7.0,>=4.5 in /usr/local/lib/python3.7/dist-packages (from aiohttp->python-binance) (6.0.2)\n",
      "Requirement already satisfied: charset-normalizer<3.0,>=2.0 in /usr/local/lib/python3.7/dist-packages (from aiohttp->python-binance) (2.1.0)\n",
      "Requirement already satisfied: frozenlist>=1.1.1 in /usr/local/lib/python3.7/dist-packages (from aiohttp->python-binance) (1.3.0)\n",
      "Requirement already satisfied: aiosignal>=1.1.2 in /usr/local/lib/python3.7/dist-packages (from aiohttp->python-binance) (1.2.0)\n",
      "Requirement already satisfied: asynctest==0.13.0 in /usr/local/lib/python3.7/dist-packages (from aiohttp->python-binance) (0.13.0)\n",
      "Requirement already satisfied: idna>=2.0 in /usr/local/lib/python3.7/dist-packages (from yarl<2.0,>=1.0->aiohttp->python-binance) (2.10)\n",
      "Requirement already satisfied: python-dateutil in /usr/local/lib/python3.7/dist-packages (from dateparser->python-binance) (2.8.2)\n",
      "Requirement already satisfied: pytz in /usr/local/lib/python3.7/dist-packages (from dateparser->python-binance) (2022.1)\n",
      "Requirement already satisfied: tzlocal in /usr/local/lib/python3.7/dist-packages (from dateparser->python-binance) (1.5.1)\n",
      "Collecting regex!=2019.02.19,!=2021.8.27,<2022.3.15\n",
      "  Downloading regex-2022.3.2-cp37-cp37m-manylinux_2_17_x86_64.manylinux2014_x86_64.whl (749 kB)\n",
      "\u001b[K     |████████████████████████████████| 749 kB 40.8 MB/s \n",
      "\u001b[?25hRequirement already satisfied: certifi>=2017.4.17 in /usr/local/lib/python3.7/dist-packages (from requests->python-binance) (2022.6.15)\n",
      "Requirement already satisfied: urllib3!=1.25.0,!=1.25.1,<1.26,>=1.21.1 in /usr/local/lib/python3.7/dist-packages (from requests->python-binance) (1.24.3)\n",
      "Requirement already satisfied: chardet<4,>=3.0.2 in /usr/local/lib/python3.7/dist-packages (from requests->python-binance) (3.0.4)\n",
      "Installing collected packages: regex, websockets, dateparser, python-binance\n",
      "  Attempting uninstall: regex\n",
      "    Found existing installation: regex 2022.6.2\n",
      "    Uninstalling regex-2022.6.2:\n",
      "      Successfully uninstalled regex-2022.6.2\n",
      "Successfully installed dateparser-1.1.1 python-binance-1.0.16 regex-2022.3.2 websockets-10.3\n"
     ]
    }
   ],
   "source": [
    "!pip install python-binance"
   ]
  },
  {
   "cell_type": "code",
   "execution_count": 89,
   "metadata": {
    "executionInfo": {
     "elapsed": 2614,
     "status": "ok",
     "timestamp": 1659921122849,
     "user": {
      "displayName": "Juan Sequeira",
      "userId": "17910834634520870800"
     },
     "user_tz": 180
    },
    "id": "XTK84o3aunAI"
   },
   "outputs": [],
   "source": [
    "import pandas as pd\n",
    "import math\n",
    "import os.path\n",
    "import time\n",
    "from binance.client import Client\n",
    "from datetime import timedelta, datetime\n",
    "from dateutil import parser\n",
    "from tqdm import tqdm_notebook #(Optional, used for progress-bars)\n",
    "\n",
    "### API\n",
    "binance_api_key = '9zFIgetckRO80d4RciWs8jc4XSwAMEnFIuwVhAoaYIstQ9RWlfqiV6zcAGu0Ta8R'    #Enter your own API-key here\n",
    "binance_api_secret = 'Uu8vtNEmH1PPDPDchX51jivxBENEbNwDmDcQrnhPJBJwFcbqjnvxL2MeQJuTc4Kg' #Enter your own API-secret here\n",
    "\n",
    "### CONSTANTS\n",
    "binsizes = {\"1m\": 1, \"5m\": 5, \"10m\": 10, \"15m\": 15, \"1h\": 60, \"6h\": 360, \"12h\": 720, \"1d\": 1440}\n",
    "\n",
    "batch_size = 750\n",
    "binance_client = Client(api_key=binance_api_key, api_secret=binance_api_secret)\n",
    "\n",
    "### FUNCTIONS\n",
    "def minutes_of_new_data(symbol, kline_size, data, source):\n",
    "    if len(data) > 0:  old = parser.parse(data[\"timestamp\"].iloc[-1])\n",
    "    elif source == \"binance\": old = datetime.strptime(initial_date, '%d %b %Y')\n",
    "    if source == \"binance\": new = pd.to_datetime(binance_client.get_klines(symbol=symbol, interval=kline_size)[-1][0], unit='ms')\n",
    "    return old, new\n",
    "\n",
    "def get_all_binance(symbol, kline_size, save = False):\n",
    "    filename = '%s-%s-data.csv' % (symbol, kline_size)\n",
    "    if os.path.isfile(filename): data_df = pd.read_csv(filename)\n",
    "    else: data_df = pd.DataFrame()\n",
    "    oldest_point, newest_point = minutes_of_new_data(symbol, kline_size, data_df, source = \"binance\")\n",
    "    delta_min = (newest_point - oldest_point).total_seconds()/60\n",
    "    available_data = math.ceil(delta_min/binsizes[kline_size])\n",
    "    if oldest_point == datetime.strptime(initial_date, '%d %b %Y'): print('Downloading all available %s data for %s. Be patient..!' % (kline_size, symbol))\n",
    "    else: print('Downloading %d minutes of new data available for %s, i.e. %d instances of %s data.' % (delta_min, symbol, available_data, kline_size))\n",
    "    klines = binance_client.get_historical_klines(symbol, kline_size, oldest_point.strftime(\"%d %b %Y %H:%M:%S\"), newest_point.strftime(\"%d %b %Y %H:%M:%S\"))\n",
    "    data = pd.DataFrame(klines, columns = ['timestamp', 'open', 'high', 'low', 'close', 'volume', 'close_time', 'quote_av', 'trades', 'tb_base_av', 'tb_quote_av', 'ignore' ])\n",
    "    data['timestamp'] = pd.to_datetime(data['timestamp'], unit='ms')\n",
    "    if len(data_df) > 0:\n",
    "        temp_df = pd.DataFrame(data)\n",
    "        data_df = data_df.append(temp_df)\n",
    "    else: data_df = data\n",
    "    data_df.set_index('timestamp', inplace=True)\n",
    "    if save: data_df.to_csv(filename)\n",
    "    print('All caught up..!')\n",
    "    return data_df"
   ]
  },
  {
   "cell_type": "code",
   "execution_count": 90,
   "metadata": {
    "colab": {
     "base_uri": "https://localhost:8080/"
    },
    "executionInfo": {
     "elapsed": 404,
     "status": "ok",
     "timestamp": 1659921128765,
     "user": {
      "displayName": "Juan Sequeira",
      "userId": "17910834634520870800"
     },
     "user_tz": 180
    },
    "id": "IxHfTmWnu46k",
    "outputId": "e254f304-7c5f-4dd1-c887-501fa40e71d2"
   },
   "outputs": [
    {
     "name": "stdout",
     "output_type": "stream",
     "text": [
      "Downloading all available 1d data for ETHUSDC. Be patient..!\n",
      "All caught up..!\n",
      "318\n"
     ]
    },
    {
     "name": "stderr",
     "output_type": "stream",
     "text": [
      "<ipython-input-90-8d4ddc75c7f5>:12: SettingWithCopyWarning: \n",
      "A value is trying to be set on a copy of a slice from a DataFrame\n",
      "\n",
      "See the caveats in the documentation: https://pandas.pydata.org/pandas-docs/stable/user_guide/indexing.html#returning-a-view-versus-a-copy\n",
      "  P_ETH[i] = float(P_ETH[i])\n"
     ]
    }
   ],
   "source": [
    "\n",
    "# Descarga de datos\n",
    "ETH_historico = get_all_binance(symbol, freq, save = True)\n",
    "\n",
    "len(ETH_historico)\n",
    "\n",
    "## Debugging:\n",
    "#ETH_historico\n",
    "\n",
    "# Me quedo con los últimos maxnum registros\n",
    "P_ETH = ETH_historico['close']\n",
    "for i in range(len(P_ETH)):\n",
    "  P_ETH[i] = float(P_ETH[i])\n",
    "\n",
    "print(len(P_ETH))\n"
   ]
  },
  {
   "cell_type": "markdown",
   "metadata": {
    "id": "yLKiat7bxZT5"
   },
   "source": [
    "##### Gráfico"
   ]
  },
  {
   "cell_type": "code",
   "execution_count": 91,
   "metadata": {
    "colab": {
     "base_uri": "https://localhost:8080/",
     "height": 445
    },
    "executionInfo": {
     "elapsed": 687,
     "status": "ok",
     "timestamp": 1659921147133,
     "user": {
      "displayName": "Juan Sequeira",
      "userId": "17910834634520870800"
     },
     "user_tz": 180
    },
    "id": "tDTF5_4YxxKU",
    "outputId": "1dbe25eb-7bd0-48e0-ae8f-f51d96094d33"
   },
   "outputs": [
    {
     "data": {
      "text/plain": [
       "<matplotlib.legend.Legend at 0x7f213f746100>"
      ]
     },
     "execution_count": 91,
     "metadata": {},
     "output_type": "execute_result"
    },
    {
     "data": {
      "image/png": "[encoded data removed]",
      "text/plain": [
       "<Figure size 1440x504 with 1 Axes>"
      ]
     },
     "metadata": {
      "needs_background": "light"
     },
     "output_type": "display_data"
    }
   ],
   "source": [
    "import matplotlib.pyplot as plt\n",
    "# plt.plot(list(P_ETH))\n",
    "# plt.figsize(20,7)\n",
    "fig, axs = plt.subplots(1,1,figsize = (20,7))\n",
    "axs.plot(list(P_ETH), c='blue', label = 'Precio ETH')\n",
    "axs.legend()"
   ]
  },
  {
   "cell_type": "markdown",
   "metadata": {
    "id": "bznBny7h4_UV"
   },
   "source": [
    "#### Obtener cotizaciones (Deribit)"
   ]
  },
  {
   "cell_type": "markdown",
   "metadata": {
    "id": "x6Yh2xjFzeH6"
   },
   "source": [
    "En esta sección tenemos código para traer datos y cotizaciones de opciones desde Deribit."
   ]
  },
  {
   "cell_type": "markdown",
   "metadata": {
    "id": "xGuXHEsXy90Q"
   },
   "source": [
    "##### Parámetros"
   ]
  },
  {
   "cell_type": "code",
   "execution_count": 92,
   "metadata": {
    "executionInfo": {
     "elapsed": 403,
     "status": "ok",
     "timestamp": 1659921158341,
     "user": {
      "displayName": "Juan Sequeira",
      "userId": "17910834634520870800"
     },
     "user_tz": 180
    },
    "id": "lq01FrFCx4Qs"
   },
   "outputs": [],
   "source": [
    "## Parámetros para obtener datos de opciones desde Deribit\n",
    "\n",
    "instrument_name = \"ETH\" # BTC, ETH or SOL\n",
    "\n",
    "# cada contrato de opciones sobre ETH y BTC en Deribit corresponde a 1 única\n",
    "# unidad subyacente.\n",
    "\n",
    "multiplier = 1 \n"
   ]
  },
  {
   "cell_type": "markdown",
   "metadata": {
    "id": "c3ufGngSy6cv"
   },
   "source": [
    "##### Código"
   ]
  },
  {
   "cell_type": "code",
   "execution_count": 93,
   "metadata": {
    "executionInfo": {
     "elapsed": 405,
     "status": "ok",
     "timestamp": 1659921167162,
     "user": {
      "displayName": "Juan Sequeira",
      "userId": "17910834634520870800"
     },
     "user_tz": 180
    },
    "id": "IC6XcwdB4_UV"
   },
   "outputs": [],
   "source": [
    "\n",
    "import pandas as pd\n",
    "import numpy as np\n",
    "from scipy import interpolate\n",
    "import matplotlib.pyplot as plt\n",
    "from matplotlib.ticker import FuncFormatter\n"
   ]
  },
  {
   "cell_type": "code",
   "execution_count": 94,
   "metadata": {
    "executionInfo": {
     "elapsed": 414,
     "status": "ok",
     "timestamp": 1659921170987,
     "user": {
      "displayName": "Juan Sequeira",
      "userId": "17910834634520870800"
     },
     "user_tz": 180
    },
    "id": "hvyyYaPL4_UW"
   },
   "outputs": [],
   "source": [
    "\n",
    "def get_all_instruments():\n",
    "  import urllib.request, json\n",
    "  url = f\"https://test.deribit.com/api/v2/public/get_instruments\"\n",
    "  with urllib.request.urlopen(url) as url:\n",
    "        data = json.loads(url.read().decode())\n",
    "  return data\n",
    "\n",
    "# Get a list of all active BTC options from the Deribit API.\n",
    "def get_all_active_options(instrument_name=\"BTC\"):\n",
    "    import urllib.request, json\n",
    "    url =  f\"https://test.deribit.com/api/v2/public/get_instruments?currency={instrument_name}&kind=option&expired=false\"\n",
    "    with urllib.request.urlopen(url) as url:\n",
    "        data = json.loads(url.read().decode())\n",
    "    data = pd.DataFrame(data['result']).set_index('instrument_name')\n",
    "    data['creation_date'] = pd.to_datetime(data['creation_timestamp'], unit='ms')\n",
    "    data['expiration_date'] = pd.to_datetime(data['expiration_timestamp'], unit='ms')\n",
    "    print(f'{data.shape[0]} active options.')\n",
    "    return data\n",
    "\n",
    "# Filter options based on data available from 'get_instruments'\n",
    "def filter_options(price, active_options):\n",
    "    # price is the current price of BTC\n",
    "    \n",
    "    #Get Put/Call information\n",
    "    pc = active_options.index.str.strip().str[-1]\n",
    "    \n",
    "    # Set \"moneyness\"\n",
    "    active_options['m'] = np.log(active_options['strike']/price)\n",
    "    active_options.loc[pc=='P','m'] = -active_options['m']\n",
    "    # Set days until expiration\n",
    "    active_options['t'] = (active_options['expiration_date']-pd.Timestamp.today()).dt.days\n",
    "    \n",
    "    # Only include options that are less than 30% from the current price and have less than 91 days until expiration\n",
    "    active_options = active_options.query('m>0 & m<.3 & t<91')\n",
    "    \n",
    "    print(f'{active_options.shape[0]} active options after filter.')\n",
    "    return active_options\n",
    "\n",
    "# Get Tick data for a given instrument from the Deribit API\n",
    "def get_tick_data(instrument_name=\"BTC\"):\n",
    "    import urllib.request, json\n",
    "    url =  f\"https://test.deribit.com/api/v2/public/ticker?instrument_name={instrument_name}\"\n",
    "    with urllib.request.urlopen(url) as url:\n",
    "        data = json.loads(url.read().decode())\n",
    "    data = pd.json_normalize(data['result'])\n",
    "    data.index = [instrument_name]\n",
    "    return data\n",
    "\n",
    "# Loop through all filtered options to get the current 'ticker' datas\n",
    "def get_all_option_data(instrument_name=\"BTC\"):\n",
    "    option_data = get_tick_data(f'{instrument_name}-PERPETUAL')\n",
    "    options = filter_options(option_data['last_price'][0], get_all_active_options(instrument_name))\n",
    "    for o in options.index:\n",
    "        option_data = option_data.append(get_tick_data(o))\n",
    "    return option_data\n",
    "\n"
   ]
  },
  {
   "cell_type": "code",
   "execution_count": 95,
   "metadata": {
    "colab": {
     "base_uri": "https://localhost:8080/"
    },
    "executionInfo": {
     "elapsed": 60804,
     "status": "ok",
     "timestamp": 1659921256317,
     "user": {
      "displayName": "Juan Sequeira",
      "userId": "17910834634520870800"
     },
     "user_tz": 180
    },
    "id": "uclqA8C44_UW",
    "outputId": "0648f6ec-9669-4e0c-86fd-0371553b7551",
    "scrolled": true
   },
   "outputs": [
    {
     "name": "stdout",
     "output_type": "stream",
     "text": [
      "358 active options.\n",
      "68 active options after filter.\n"
     ]
    },
    {
     "name": "stderr",
     "output_type": "stream",
     "text": [
      "<ipython-input-94-1e4c8e35271a>:54: FutureWarning: The frame.append method is deprecated and will be removed from pandas in a future version. Use pandas.concat instead.\n",
      "  option_data = option_data.append(get_tick_data(o))\n",
      "<ipython-input-94-1e4c8e35271a>:54: FutureWarning: The frame.append method is deprecated and will be removed from pandas in a future version. Use pandas.concat instead.\n",
      "  option_data = option_data.append(get_tick_data(o))\n",
      "<ipython-input-94-1e4c8e35271a>:54: FutureWarning: The frame.append method is deprecated and will be removed from pandas in a future version. Use pandas.concat instead.\n",
      "  option_data = option_data.append(get_tick_data(o))\n",
      "<ipython-input-94-1e4c8e35271a>:54: FutureWarning: The frame.append method is deprecated and will be removed from pandas in a future version. Use pandas.concat instead.\n",
      "  option_data = option_data.append(get_tick_data(o))\n",
      "<ipython-input-94-1e4c8e35271a>:54: FutureWarning: The frame.append method is deprecated and will be removed from pandas in a future version. Use pandas.concat instead.\n",
      "  option_data = option_data.append(get_tick_data(o))\n",
      "<ipython-input-94-1e4c8e35271a>:54: FutureWarning: The frame.append method is deprecated and will be removed from pandas in a future version. Use pandas.concat instead.\n",
      "  option_data = option_data.append(get_tick_data(o))\n",
      "<ipython-input-94-1e4c8e35271a>:54: FutureWarning: The frame.append method is deprecated and will be removed from pandas in a future version. Use pandas.concat instead.\n",
      "  option_data = option_data.append(get_tick_data(o))\n",
      "<ipython-input-94-1e4c8e35271a>:54: FutureWarning: The frame.append method is deprecated and will be removed from pandas in a future version. Use pandas.concat instead.\n",
      "  option_data = option_data.append(get_tick_data(o))\n",
      "<ipython-input-94-1e4c8e35271a>:54: FutureWarning: The frame.append method is deprecated and will be removed from pandas in a future version. Use pandas.concat instead.\n",
      "  option_data = option_data.append(get_tick_data(o))\n",
      "<ipython-input-94-1e4c8e35271a>:54: FutureWarning: The frame.append method is deprecated and will be removed from pandas in a future version. Use pandas.concat instead.\n",
      "  option_data = option_data.append(get_tick_data(o))\n",
      "<ipython-input-94-1e4c8e35271a>:54: FutureWarning: The frame.append method is deprecated and will be removed from pandas in a future version. Use pandas.concat instead.\n",
      "  option_data = option_data.append(get_tick_data(o))\n",
      "<ipython-input-94-1e4c8e35271a>:54: FutureWarning: The frame.append method is deprecated and will be removed from pandas in a future version. Use pandas.concat instead.\n",
      "  option_data = option_data.append(get_tick_data(o))\n",
      "<ipython-input-94-1e4c8e35271a>:54: FutureWarning: The frame.append method is deprecated and will be removed from pandas in a future version. Use pandas.concat instead.\n",
      "  option_data = option_data.append(get_tick_data(o))\n",
      "<ipython-input-94-1e4c8e35271a>:54: FutureWarning: The frame.append method is deprecated and will be removed from pandas in a future version. Use pandas.concat instead.\n",
      "  option_data = option_data.append(get_tick_data(o))\n",
      "<ipython-input-94-1e4c8e35271a>:54: FutureWarning: The frame.append method is deprecated and will be removed from pandas in a future version. Use pandas.concat instead.\n",
      "  option_data = option_data.append(get_tick_data(o))\n",
      "<ipython-input-94-1e4c8e35271a>:54: FutureWarning: The frame.append method is deprecated and will be removed from pandas in a future version. Use pandas.concat instead.\n",
      "  option_data = option_data.append(get_tick_data(o))\n",
      "<ipython-input-94-1e4c8e35271a>:54: FutureWarning: The frame.append method is deprecated and will be removed from pandas in a future version. Use pandas.concat instead.\n",
      "  option_data = option_data.append(get_tick_data(o))\n",
      "<ipython-input-94-1e4c8e35271a>:54: FutureWarning: The frame.append method is deprecated and will be removed from pandas in a future version. Use pandas.concat instead.\n",
      "  option_data = option_data.append(get_tick_data(o))\n",
      "<ipython-input-94-1e4c8e35271a>:54: FutureWarning: The frame.append method is deprecated and will be removed from pandas in a future version. Use pandas.concat instead.\n",
      "  option_data = option_data.append(get_tick_data(o))\n",
      "<ipython-input-94-1e4c8e35271a>:54: FutureWarning: The frame.append method is deprecated and will be removed from pandas in a future version. Use pandas.concat instead.\n",
      "  option_data = option_data.append(get_tick_data(o))\n",
      "<ipython-input-94-1e4c8e35271a>:54: FutureWarning: The frame.append method is deprecated and will be removed from pandas in a future version. Use pandas.concat instead.\n",
      "  option_data = option_data.append(get_tick_data(o))\n",
      "<ipython-input-94-1e4c8e35271a>:54: FutureWarning: The frame.append method is deprecated and will be removed from pandas in a future version. Use pandas.concat instead.\n",
      "  option_data = option_data.append(get_tick_data(o))\n",
      "<ipython-input-94-1e4c8e35271a>:54: FutureWarning: The frame.append method is deprecated and will be removed from pandas in a future version. Use pandas.concat instead.\n",
      "  option_data = option_data.append(get_tick_data(o))\n",
      "<ipython-input-94-1e4c8e35271a>:54: FutureWarning: The frame.append method is deprecated and will be removed from pandas in a future version. Use pandas.concat instead.\n",
      "  option_data = option_data.append(get_tick_data(o))\n",
      "<ipython-input-94-1e4c8e35271a>:54: FutureWarning: The frame.append method is deprecated and will be removed from pandas in a future version. Use pandas.concat instead.\n",
      "  option_data = option_data.append(get_tick_data(o))\n",
      "<ipython-input-94-1e4c8e35271a>:54: FutureWarning: The frame.append method is deprecated and will be removed from pandas in a future version. Use pandas.concat instead.\n",
      "  option_data = option_data.append(get_tick_data(o))\n",
      "<ipython-input-94-1e4c8e35271a>:54: FutureWarning: The frame.append method is deprecated and will be removed from pandas in a future version. Use pandas.concat instead.\n",
      "  option_data = option_data.append(get_tick_data(o))\n",
      "<ipython-input-94-1e4c8e35271a>:54: FutureWarning: The frame.append method is deprecated and will be removed from pandas in a future version. Use pandas.concat instead.\n",
      "  option_data = option_data.append(get_tick_data(o))\n",
      "<ipython-input-94-1e4c8e35271a>:54: FutureWarning: The frame.append method is deprecated and will be removed from pandas in a future version. Use pandas.concat instead.\n",
      "  option_data = option_data.append(get_tick_data(o))\n",
      "<ipython-input-94-1e4c8e35271a>:54: FutureWarning: The frame.append method is deprecated and will be removed from pandas in a future version. Use pandas.concat instead.\n",
      "  option_data = option_data.append(get_tick_data(o))\n",
      "<ipython-input-94-1e4c8e35271a>:54: FutureWarning: The frame.append method is deprecated and will be removed from pandas in a future version. Use pandas.concat instead.\n",
      "  option_data = option_data.append(get_tick_data(o))\n",
      "<ipython-input-94-1e4c8e35271a>:54: FutureWarning: The frame.append method is deprecated and will be removed from pandas in a future version. Use pandas.concat instead.\n",
      "  option_data = option_data.append(get_tick_data(o))\n",
      "<ipython-input-94-1e4c8e35271a>:54: FutureWarning: The frame.append method is deprecated and will be removed from pandas in a future version. Use pandas.concat instead.\n",
      "  option_data = option_data.append(get_tick_data(o))\n",
      "<ipython-input-94-1e4c8e35271a>:54: FutureWarning: The frame.append method is deprecated and will be removed from pandas in a future version. Use pandas.concat instead.\n",
      "  option_data = option_data.append(get_tick_data(o))\n",
      "<ipython-input-94-1e4c8e35271a>:54: FutureWarning: The frame.append method is deprecated and will be removed from pandas in a future version. Use pandas.concat instead.\n",
      "  option_data = option_data.append(get_tick_data(o))\n",
      "<ipython-input-94-1e4c8e35271a>:54: FutureWarning: The frame.append method is deprecated and will be removed from pandas in a future version. Use pandas.concat instead.\n",
      "  option_data = option_data.append(get_tick_data(o))\n",
      "<ipython-input-94-1e4c8e35271a>:54: FutureWarning: The frame.append method is deprecated and will be removed from pandas in a future version. Use pandas.concat instead.\n",
      "  option_data = option_data.append(get_tick_data(o))\n"
     ]
    },
    {
     "name": "stderr",
     "output_type": "stream",
     "text": [
      "<ipython-input-94-1e4c8e35271a>:54: FutureWarning: The frame.append method is deprecated and will be removed from pandas in a future version. Use pandas.concat instead.\n",
      "  option_data = option_data.append(get_tick_data(o))\n",
      "<ipython-input-94-1e4c8e35271a>:54: FutureWarning: The frame.append method is deprecated and will be removed from pandas in a future version. Use pandas.concat instead.\n",
      "  option_data = option_data.append(get_tick_data(o))\n",
      "<ipython-input-94-1e4c8e35271a>:54: FutureWarning: The frame.append method is deprecated and will be removed from pandas in a future version. Use pandas.concat instead.\n",
      "  option_data = option_data.append(get_tick_data(o))\n",
      "<ipython-input-94-1e4c8e35271a>:54: FutureWarning: The frame.append method is deprecated and will be removed from pandas in a future version. Use pandas.concat instead.\n",
      "  option_data = option_data.append(get_tick_data(o))\n",
      "<ipython-input-94-1e4c8e35271a>:54: FutureWarning: The frame.append method is deprecated and will be removed from pandas in a future version. Use pandas.concat instead.\n",
      "  option_data = option_data.append(get_tick_data(o))\n",
      "<ipython-input-94-1e4c8e35271a>:54: FutureWarning: The frame.append method is deprecated and will be removed from pandas in a future version. Use pandas.concat instead.\n",
      "  option_data = option_data.append(get_tick_data(o))\n",
      "<ipython-input-94-1e4c8e35271a>:54: FutureWarning: The frame.append method is deprecated and will be removed from pandas in a future version. Use pandas.concat instead.\n",
      "  option_data = option_data.append(get_tick_data(o))\n",
      "<ipython-input-94-1e4c8e35271a>:54: FutureWarning: The frame.append method is deprecated and will be removed from pandas in a future version. Use pandas.concat instead.\n",
      "  option_data = option_data.append(get_tick_data(o))\n",
      "<ipython-input-94-1e4c8e35271a>:54: FutureWarning: The frame.append method is deprecated and will be removed from pandas in a future version. Use pandas.concat instead.\n",
      "  option_data = option_data.append(get_tick_data(o))\n",
      "<ipython-input-94-1e4c8e35271a>:54: FutureWarning: The frame.append method is deprecated and will be removed from pandas in a future version. Use pandas.concat instead.\n",
      "  option_data = option_data.append(get_tick_data(o))\n",
      "<ipython-input-94-1e4c8e35271a>:54: FutureWarning: The frame.append method is deprecated and will be removed from pandas in a future version. Use pandas.concat instead.\n",
      "  option_data = option_data.append(get_tick_data(o))\n",
      "<ipython-input-94-1e4c8e35271a>:54: FutureWarning: The frame.append method is deprecated and will be removed from pandas in a future version. Use pandas.concat instead.\n",
      "  option_data = option_data.append(get_tick_data(o))\n",
      "<ipython-input-94-1e4c8e35271a>:54: FutureWarning: The frame.append method is deprecated and will be removed from pandas in a future version. Use pandas.concat instead.\n",
      "  option_data = option_data.append(get_tick_data(o))\n",
      "<ipython-input-94-1e4c8e35271a>:54: FutureWarning: The frame.append method is deprecated and will be removed from pandas in a future version. Use pandas.concat instead.\n",
      "  option_data = option_data.append(get_tick_data(o))\n",
      "<ipython-input-94-1e4c8e35271a>:54: FutureWarning: The frame.append method is deprecated and will be removed from pandas in a future version. Use pandas.concat instead.\n",
      "  option_data = option_data.append(get_tick_data(o))\n",
      "<ipython-input-94-1e4c8e35271a>:54: FutureWarning: The frame.append method is deprecated and will be removed from pandas in a future version. Use pandas.concat instead.\n",
      "  option_data = option_data.append(get_tick_data(o))\n",
      "<ipython-input-94-1e4c8e35271a>:54: FutureWarning: The frame.append method is deprecated and will be removed from pandas in a future version. Use pandas.concat instead.\n",
      "  option_data = option_data.append(get_tick_data(o))\n",
      "<ipython-input-94-1e4c8e35271a>:54: FutureWarning: The frame.append method is deprecated and will be removed from pandas in a future version. Use pandas.concat instead.\n",
      "  option_data = option_data.append(get_tick_data(o))\n",
      "<ipython-input-94-1e4c8e35271a>:54: FutureWarning: The frame.append method is deprecated and will be removed from pandas in a future version. Use pandas.concat instead.\n",
      "  option_data = option_data.append(get_tick_data(o))\n",
      "<ipython-input-94-1e4c8e35271a>:54: FutureWarning: The frame.append method is deprecated and will be removed from pandas in a future version. Use pandas.concat instead.\n",
      "  option_data = option_data.append(get_tick_data(o))\n",
      "<ipython-input-94-1e4c8e35271a>:54: FutureWarning: The frame.append method is deprecated and will be removed from pandas in a future version. Use pandas.concat instead.\n",
      "  option_data = option_data.append(get_tick_data(o))\n",
      "<ipython-input-94-1e4c8e35271a>:54: FutureWarning: The frame.append method is deprecated and will be removed from pandas in a future version. Use pandas.concat instead.\n",
      "  option_data = option_data.append(get_tick_data(o))\n",
      "<ipython-input-94-1e4c8e35271a>:54: FutureWarning: The frame.append method is deprecated and will be removed from pandas in a future version. Use pandas.concat instead.\n",
      "  option_data = option_data.append(get_tick_data(o))\n",
      "<ipython-input-94-1e4c8e35271a>:54: FutureWarning: The frame.append method is deprecated and will be removed from pandas in a future version. Use pandas.concat instead.\n",
      "  option_data = option_data.append(get_tick_data(o))\n",
      "<ipython-input-94-1e4c8e35271a>:54: FutureWarning: The frame.append method is deprecated and will be removed from pandas in a future version. Use pandas.concat instead.\n",
      "  option_data = option_data.append(get_tick_data(o))\n",
      "<ipython-input-94-1e4c8e35271a>:54: FutureWarning: The frame.append method is deprecated and will be removed from pandas in a future version. Use pandas.concat instead.\n",
      "  option_data = option_data.append(get_tick_data(o))\n",
      "<ipython-input-94-1e4c8e35271a>:54: FutureWarning: The frame.append method is deprecated and will be removed from pandas in a future version. Use pandas.concat instead.\n",
      "  option_data = option_data.append(get_tick_data(o))\n",
      "<ipython-input-94-1e4c8e35271a>:54: FutureWarning: The frame.append method is deprecated and will be removed from pandas in a future version. Use pandas.concat instead.\n",
      "  option_data = option_data.append(get_tick_data(o))\n",
      "<ipython-input-94-1e4c8e35271a>:54: FutureWarning: The frame.append method is deprecated and will be removed from pandas in a future version. Use pandas.concat instead.\n",
      "  option_data = option_data.append(get_tick_data(o))\n",
      "<ipython-input-94-1e4c8e35271a>:54: FutureWarning: The frame.append method is deprecated and will be removed from pandas in a future version. Use pandas.concat instead.\n",
      "  option_data = option_data.append(get_tick_data(o))\n",
      "<ipython-input-94-1e4c8e35271a>:54: FutureWarning: The frame.append method is deprecated and will be removed from pandas in a future version. Use pandas.concat instead.\n",
      "  option_data = option_data.append(get_tick_data(o))\n"
     ]
    }
   ],
   "source": [
    "option_data = get_all_option_data(instrument_name)"
   ]
  },
  {
   "cell_type": "code",
   "execution_count": 96,
   "metadata": {
    "colab": {
     "base_uri": "https://localhost:8080/"
    },
    "executionInfo": {
     "elapsed": 389,
     "status": "ok",
     "timestamp": 1659921260781,
     "user": {
      "displayName": "Juan Sequeira",
      "userId": "17910834634520870800"
     },
     "user_tz": 180
    },
    "id": "b64uHqvr4_UW",
    "outputId": "ef96d649-8265-412f-fcf3-2f36b817b717"
   },
   "outputs": [
    {
     "name": "stderr",
     "output_type": "stream",
     "text": [
      "<ipython-input-96-a83a62fe20fb>:5: FutureWarning: Slicing a positional slice with .loc is not supported, and will raise TypeError in a future version.  Use .loc with labels or .iloc with positions instead.\n",
      "  option_data.loc[1:,'daystoexpiration'] = (pd.to_datetime(option_data[1:].index.map(lambda x: x.split('-')[1]))-pd.Timestamp.today()).days\n",
      "<ipython-input-96-a83a62fe20fb>:6: FutureWarning: Slicing a positional slice with .loc is not supported, and will raise TypeError in a future version.  Use .loc with labels or .iloc with positions instead.\n",
      "  option_data.loc[1:,'t'] = option_data[1:].index.map(lambda x: x.split('-')[1]).astype(str)\n",
      "<ipython-input-96-a83a62fe20fb>:8: FutureWarning: Slicing a positional slice with .loc is not supported, and will raise TypeError in a future version.  Use .loc with labels or .iloc with positions instead.\n",
      "  option_data.loc[1:,'strike'] = option_data[1:].index.map(lambda x: x.split('-')[2]).astype(int)\n",
      "<ipython-input-96-a83a62fe20fb>:10: FutureWarning: Slicing a positional slice with .loc is not supported, and will raise TypeError in a future version.  Use .loc with labels or .iloc with positions instead.\n",
      "  option_data.loc[1:, 'callput'] = option_data[1:].index.map(lambda x: x.split('-')[3]).astype(str)\n"
     ]
    }
   ],
   "source": [
    "### Add additional metrics to data\n",
    "option_data['daystoexpiration'] = np.nan; option_data['t'] = np.nan; option_data['strike'] = np.nan; option_data['callput'] = np.nan\n",
    "# Calculated days until expiration\n",
    "#option_data.loc[1:,'t'] = (pd.to_datetime(option_data[1:].index.map(lambda x: x.split('-')[1]))-pd.Timestamp.today()).days\n",
    "option_data.loc[1:,'daystoexpiration'] = (pd.to_datetime(option_data[1:].index.map(lambda x: x.split('-')[1]))-pd.Timestamp.today()).days\n",
    "option_data.loc[1:,'t'] = option_data[1:].index.map(lambda x: x.split('-')[1]).astype(str)\n",
    "# Pull strike from instrument name\n",
    "option_data.loc[1:,'strike'] = option_data[1:].index.map(lambda x: x.split('-')[2]).astype(int)\n",
    "# pull callput\n",
    "option_data.loc[1:, 'callput'] = option_data[1:].index.map(lambda x: x.split('-')[3]).astype(str)\n",
    "# Calculate \"moneyness\"\n",
    "option_data['m'] = np.log(option_data['last_price'][0]/option_data['strike'])"
   ]
  },
  {
   "cell_type": "code",
   "execution_count": 21,
   "metadata": {
    "executionInfo": {
     "elapsed": 582,
     "status": "ok",
     "timestamp": 1659921268549,
     "user": {
      "displayName": "Juan Sequeira",
      "userId": "17910834634520870800"
     },
     "user_tz": 180
    },
    "id": "78AHPgfL4_UX"
   },
   "outputs": [],
   "source": [
    "## Debugging:\n",
    "#print(option_data)\n",
    "#print(option_data.columns)\n",
    "#print(option_data['daystoexpiration'])"
   ]
  },
  {
   "cell_type": "markdown",
   "metadata": {
    "id": "4jX3Rd-Xyxhw"
   },
   "source": [
    "##### Datos obtenidos"
   ]
  },
  {
   "cell_type": "code",
   "execution_count": 97,
   "metadata": {
    "colab": {
     "base_uri": "https://localhost:8080/"
    },
    "executionInfo": {
     "elapsed": 401,
     "status": "ok",
     "timestamp": 1659921280524,
     "user": {
      "displayName": "Juan Sequeira",
      "userId": "17910834634520870800"
     },
     "user_tz": 180
    },
    "id": "D91ACugTyRUE",
    "outputId": "dc4305e1-5c07-4ed3-961d-29944ad1c6f9",
    "scrolled": true
   },
   "outputs": [
    {
     "name": "stdout",
     "output_type": "stream",
     "text": [
      "ETH-27APR23-1975-C       NaN\n",
      "ETH-27APR23-2000-C       NaN\n",
      "ETH-27APR23-2050-C       NaN\n",
      "ETH-27APR23-2100-C       NaN\n",
      "ETH-27APR23-2150-C       NaN\n",
      "ETH-27APR23-2200-C       NaN\n",
      "ETH-28APR23-2000-C    0.0005\n",
      "ETH-28APR23-2100-C    0.0115\n",
      "ETH-28APR23-2200-C    0.0065\n",
      "ETH-28APR23-2400-C    0.0005\n",
      "ETH-28APR23-2500-C    0.0005\n",
      "ETH-28APR23-2600-C    0.0005\n",
      "ETH-5MAY23-2000-C     0.0270\n",
      "ETH-5MAY23-2100-C     0.0515\n",
      "ETH-5MAY23-2200-C     0.0005\n",
      "ETH-5MAY23-2300-C        NaN\n",
      "ETH-5MAY23-2400-C        NaN\n",
      "ETH-5MAY23-2500-C        NaN\n",
      "ETH-5MAY23-2600-C        NaN\n",
      "ETH-26MAY23-2000-C    0.0555\n",
      "ETH-26MAY23-2100-C    0.0785\n",
      "ETH-26MAY23-2200-C    0.0350\n",
      "ETH-26MAY23-2300-C       NaN\n",
      "ETH-26MAY23-2400-C    0.0325\n",
      "ETH-26MAY23-2500-C    0.0220\n",
      "ETH-26MAY23-2600-C    0.0160\n",
      "ETH-30JUN23-2000-C    0.1260\n",
      "ETH-30JUN23-2100-C    0.0855\n",
      "ETH-30JUN23-2200-C    0.0840\n",
      "ETH-30JUN23-2300-C    0.0445\n",
      "ETH-30JUN23-2400-C    0.3000\n",
      "ETH-30JUN23-2600-C    0.0095\n",
      "Name: last_price, dtype: float64\n",
      "ETH-27APR23-1500-P       NaN\n",
      "ETH-27APR23-1550-P       NaN\n",
      "ETH-27APR23-1600-P       NaN\n",
      "ETH-27APR23-1650-P       NaN\n",
      "ETH-27APR23-1675-P       NaN\n",
      "ETH-27APR23-1700-P       NaN\n",
      "ETH-27APR23-1725-P       NaN\n",
      "ETH-27APR23-1750-P       NaN\n",
      "ETH-27APR23-1775-P       NaN\n",
      "ETH-27APR23-1800-P       NaN\n",
      "ETH-27APR23-1825-P       NaN\n",
      "ETH-27APR23-1850-P    0.0220\n",
      "ETH-27APR23-1875-P       NaN\n",
      "ETH-27APR23-1900-P       NaN\n",
      "ETH-27APR23-1925-P       NaN\n",
      "ETH-27APR23-1950-P       NaN\n",
      "ETH-28APR23-1500-P    0.0005\n",
      "ETH-28APR23-1600-P    0.0005\n",
      "ETH-28APR23-1700-P    0.0045\n",
      "ETH-28APR23-1800-P    0.0045\n",
      "ETH-28APR23-1900-P    0.0585\n",
      "ETH-5MAY23-1500-P        NaN\n",
      "ETH-5MAY23-1600-P        NaN\n",
      "ETH-5MAY23-1700-P        NaN\n",
      "ETH-5MAY23-1800-P        NaN\n",
      "ETH-5MAY23-1900-P        NaN\n",
      "ETH-26MAY23-1500-P    0.0045\n",
      "ETH-26MAY23-1600-P    0.0075\n",
      "ETH-26MAY23-1700-P    0.0135\n",
      "ETH-26MAY23-1800-P    0.0005\n",
      "ETH-26MAY23-1900-P    0.0770\n",
      "ETH-30JUN23-1500-P    0.0130\n",
      "ETH-30JUN23-1600-P    0.0200\n",
      "ETH-30JUN23-1700-P    0.0780\n",
      "ETH-30JUN23-1800-P    0.1170\n",
      "ETH-30JUN23-1900-P    0.0491\n",
      "Name: last_price, dtype: float64\n"
     ]
    }
   ],
   "source": [
    "print(option_data[(option_data.callput == 'C')]['last_price'])\n",
    "print(option_data[(option_data.callput == 'P')]['last_price'])"
   ]
  },
  {
   "cell_type": "markdown",
   "metadata": {
    "id": "2300_AZiFpNz"
   },
   "source": [
    "## Elección de strikes para hedging"
   ]
  },
  {
   "cell_type": "markdown",
   "metadata": {
    "id": "lFGHSotZy9yu"
   },
   "source": [
    "### Cómputo de volatilidad histórica"
   ]
  },
  {
   "cell_type": "markdown",
   "metadata": {
    "id": "qbDTynWIzm78"
   },
   "source": [
    "Calculamos la volatilidad histórica del subyacente en base a los datos obtenidos de Binance, a fin de estimar el valor de la volatilidad, la cual usaremos para ver en qué rango hedgear. También puede ser útil para utilizarla en Black-Scholes, usando BSM para elegir los mejores precios de opciones disponibles. En el Anexo IV se encuentra bocetado el código correspondiente."
   ]
  },
  {
   "cell_type": "markdown",
   "metadata": {
    "id": "l7BE48eIcDK5"
   },
   "source": [
    "#### Código"
   ]
  },
  {
   "cell_type": "code",
   "execution_count": 98,
   "metadata": {
    "executionInfo": {
     "elapsed": 529,
     "status": "ok",
     "timestamp": 1659921349622,
     "user": {
      "displayName": "Juan Sequeira",
      "userId": "17910834634520870800"
     },
     "user_tz": 180
    },
    "id": "uVUu6668zhd1"
   },
   "outputs": [],
   "source": [
    "def get_ema_std_vol_of_returns(hist_data, alpha, min_periods):\n",
    "  # Rolling Volatility (annualized assuming 365 trading days)\n",
    "  # 2 week\n",
    "  # historical_data = hist_data[-2*30*24:].copy()\n",
    "  historical_data = hist_data.copy()\n",
    "  historical_data_return = np.around(historical_data.pct_change().dropna(), 3)\n",
    "  ema_of_com_in_periods = historical_data_return.ewm(alpha=alpha, min_periods=min_periods)\n",
    "  vol = ema_of_com_in_periods.std()\n",
    "  historical_data_vol = vol\n",
    "  vol_annualized = vol * np.sqrt(365)\n",
    "  historical_data_vol_ann = vol_annualized\n",
    "  return {'vol_ema_of_returns_respect_to_periods': vol,\n",
    "          'vol_ema_of_returns_annualized': vol_annualized}\n",
    "\n",
    "def get_ema_std_vol_of_prices(historical_data, alpha, min_periods):\n",
    "  # Rolling Volatility (annualized assuming 365 trading days)\n",
    "  # 2 week\n",
    "  # historical_data['returns'] = np.around(historical_data['close'].pct_change().dropna(), 3)\n",
    "  ema_of_com_in_periods = historical_data.ewm(alpha=alpha, min_periods=min_periods)\n",
    "  vol = ema_of_com_in_periods.std()\n",
    "  historical_data_vol = vol\n",
    "  vol_annualized = vol * np.sqrt(365)\n",
    "  historical_data_vol_ann = vol_annualized\n",
    "  return {'vol_ema_of_prices_respect_to_periods': vol,\n",
    "          'vol_ema_of_prices_annualized': vol_annualized}"
   ]
  },
  {
   "cell_type": "markdown",
   "metadata": {
    "id": "BtoRO4zlXQNe"
   },
   "source": [
    "#### Resultado"
   ]
  },
  {
   "cell_type": "markdown",
   "metadata": {
    "id": "EMGkc4-Lcngz"
   },
   "source": [
    "Usando los datos recibidos de Binance para calcular la volatilidad histórica, elegimos $P_i$ y $P_s$ como cotas para la región [P_i,P_0]del PnL, la cual pretendemos hedgear."
   ]
  },
  {
   "cell_type": "code",
   "execution_count": 99,
   "metadata": {
    "colab": {
     "base_uri": "https://localhost:8080/"
    },
    "executionInfo": {
     "elapsed": 11,
     "status": "ok",
     "timestamp": 1659921352809,
     "user": {
      "displayName": "Juan Sequeira",
      "userId": "17910834634520870800"
     },
     "user_tz": 180
    },
    "id": "pm-Bd6xR-wKC",
    "outputId": "64309143-e2a9-41fe-c393-0bb868e0ed67"
   },
   "outputs": [
    {
     "name": "stdout",
     "output_type": "stream",
     "text": [
      "sigma = 0.037017699885714066\n",
      "Margen para hedgear: 0.18508849942857034\n",
      "P_s = 2264.7826937755103\n",
      "P_0 = 1911.0663\n",
      "P_i = 1557.34990622449\n"
     ]
    }
   ],
   "source": [
    "sigma = np.mean(get_ema_std_vol_of_returns(P_ETH, 0.95, 15)['vol_ema_of_returns_respect_to_periods'])\n",
    "#sigma = 5\n",
    "factor_de_seguridad = 5\n",
    "\n",
    "print(f'sigma = {sigma}')\n",
    "margen_a_hedgear = sigma * factor_de_seguridad\n",
    "print(f'Margen para hedgear: {margen_a_hedgear}')\n",
    "\n",
    "precio_activo = option_data[\"underlying_price\"][1] # último precio registrado = precio Spot (S)\n",
    "P_s = precio_activo*(1+margen_a_hedgear)\n",
    "P_i = precio_activo*(1-margen_a_hedgear)\n",
    "print(f'P_s = {precio_activo*(1+margen_a_hedgear)}')\n",
    "print(f'P_0 = {precio_activo}')\n",
    "print(f'P_i = {precio_activo*(1-margen_a_hedgear)}')\n"
   ]
  },
  {
   "cell_type": "markdown",
   "metadata": {
    "id": "e5LoKCKdfd6J"
   },
   "source": [
    "#### Seleccionamos las opciones"
   ]
  },
  {
   "cell_type": "markdown",
   "metadata": {
    "id": "9iOH0NXJQfSd"
   },
   "source": [
    "En el informe mostramos un resultado que nos asegura cobertura en el intervalo $[P_i,P_s]$ siempre que \n",
    "\\begin{align*}\n",
    "    \\frac{c}{2}(\\frac{1}{\\sqrt{K_pP_0}} - \\frac{1}{P_0})&\\leq q_p\\\\\n",
    "     D-\\min\\{IL(K_c),IL(K_P)\\}&\\leq r_p c\\\\\n",
    "    -\\frac{c}{2}(\\frac{1}{\\sqrt{K_c P_0}}-\\frac{1}{P_0})&\\leq q_c\n",
    "\\end{align*}\n",
    "con $c$ el capital inicial; $q_p,q_c$ la cantidad de puts y calls a comprar respectivamente; $D$ el costo de las opciones.\n",
    "\n",
    "Filtremos entonces las opciones disponibles para un cierto rango de dias y con strikes tales que  $K_p\\in [P_i,P_0]$ y $K_c\\in [P_0,P_s]$."
   ]
  },
  {
   "cell_type": "code",
   "execution_count": 100,
   "metadata": {
    "colab": {
     "base_uri": "https://localhost:8080/"
    },
    "executionInfo": {
     "elapsed": 530,
     "status": "ok",
     "timestamp": 1659921412620,
     "user": {
      "displayName": "Juan Sequeira",
      "userId": "17910834634520870800"
     },
     "user_tz": 180
    },
    "id": "nD9PNdHv5VTI",
    "outputId": "effd30f1-0ab0-4c2b-9ff7-bf2cd1ed6177"
   },
   "outputs": [
    {
     "name": "stdout",
     "output_type": "stream",
     "text": [
      "Option name\tDays to expiration\n",
      "                        timestamp state  settlement_price  open_interest  \\\n",
      "ETH-26MAY23-2000-C  1682512714709  open          0.028906         6213.0   \n",
      "ETH-26MAY23-2100-C  1682512714705  open          0.018880          401.0   \n",
      "ETH-26MAY23-2200-C  1682512715712  open          0.010813         1962.0   \n",
      "\n",
      "                    min_price  max_price  mark_price  last_price  \\\n",
      "ETH-26MAY23-2000-C     0.0001     0.5495      0.0495      0.0555   \n",
      "ETH-26MAY23-2100-C     0.0001     0.5335      0.0337      0.0785   \n",
      "ETH-26MAY23-2200-C     0.0001     0.5460      0.0463      0.0350   \n",
      "\n",
      "                    interest_value     instrument_name  ...  greeks.vega  \\\n",
      "ETH-26MAY23-2000-C             NaN  ETH-26MAY23-2000-C  ...      2.24056   \n",
      "ETH-26MAY23-2100-C             NaN  ETH-26MAY23-2100-C  ...      2.10081   \n",
      "ETH-26MAY23-2200-C             NaN  ETH-26MAY23-2200-C  ...      2.07823   \n",
      "\n",
      "                    greeks.theta  greeks.rho  greeks.gamma  greeks.delta  \\\n",
      "ETH-26MAY23-2000-C      -1.87927     0.69550       0.00142       0.48242   \n",
      "ETH-26MAY23-2100-C      -1.84514     0.52235       0.00127       0.35883   \n",
      "ETH-26MAY23-2200-C      -2.71673     0.48484       0.00084       0.34808   \n",
      "\n",
      "                    daystoexpiration        t  strike  callput         m  \n",
      "ETH-26MAY23-2000-C              29.0  26MAY23  2000.0        C -0.020152  \n",
      "ETH-26MAY23-2100-C              29.0  26MAY23  2100.0        C -0.068942  \n",
      "ETH-26MAY23-2200-C              29.0  26MAY23  2200.0        C -0.115462  \n",
      "\n",
      "[3 rows x 40 columns]\n",
      "ETH-26MAY23-1600-P    29.0\n",
      "ETH-26MAY23-1700-P    29.0\n",
      "ETH-26MAY23-1800-P    29.0\n",
      "ETH-26MAY23-1900-P    29.0\n",
      "Name: daystoexpiration, dtype: float64\n"
     ]
    }
   ],
   "source": [
    "\n",
    "call_min_days_to_expiration = 20\n",
    "call_max_days_to_expiration = 60\n",
    "put_min_days_to_expiration = 20\n",
    "put_max_days_to_expiration = 60\n",
    "\n",
    "print(f'Option name\\tDays to expiration')\n",
    "print(option_data[(option_data.callput == 'C')&\\\n",
    "                  (option_data.daystoexpiration >= put_min_days_to_expiration)&\n",
    "                  (option_data.daystoexpiration <= put_max_days_to_expiration)&\\\n",
    "                  (precio_activo <= option_data.strike)&(option_data.strike <= P_s)])#['daystoexpiration'])\n",
    "\n",
    "print(option_data[(option_data.callput == 'P')&\\\n",
    "                  (option_data.daystoexpiration >= put_min_days_to_expiration)&\n",
    "                  (option_data.daystoexpiration <= put_max_days_to_expiration)&\\\n",
    "                  (precio_activo >= option_data.strike)&(option_data.strike >= P_i)]['daystoexpiration'])\n",
    "   \n",
    "#option_data [option_data.strike == K_put][\"instrument_name\"]\n",
    "#option_data [option_data.strike == K_call][\"instrument_name\"]"
   ]
  },
  {
   "cell_type": "markdown",
   "metadata": {},
   "source": [
    "Filtramos las opciones calls y puts con \n",
    "- expiracion entre los dias min y max que definimos antes\n",
    "- strike < P_s para el call\n",
    "- strike > P_i para el put"
   ]
  },
  {
   "cell_type": "code",
   "execution_count": 104,
   "metadata": {
    "executionInfo": {
     "elapsed": 400,
     "status": "ok",
     "timestamp": 1659921983280,
     "user": {
      "displayName": "Juan Sequeira",
      "userId": "17910834634520870800"
     },
     "user_tz": 180
    },
    "id": "P4vLrU5v6w-7"
   },
   "outputs": [],
   "source": [
    "call_options_available = option_data[(option_data.callput == 'C')&\\\n",
    "                  (option_data.daystoexpiration >= put_min_days_to_expiration)&\n",
    "                  (option_data.daystoexpiration <= put_max_days_to_expiration)&\\\n",
    "                  (precio_activo <= option_data.strike)&(option_data.strike <= P_s)]\n",
    "put_options_available = option_data[(option_data.callput == 'P')&\\\n",
    "                  (option_data.daystoexpiration >= put_min_days_to_expiration)&\n",
    "                  (option_data.daystoexpiration <= put_max_days_to_expiration)&\\\n",
    "                  (precio_activo >= option_data.strike)&(option_data.strike >= P_i)]"
   ]
  },
  {
   "cell_type": "code",
   "execution_count": 109,
   "metadata": {},
   "outputs": [
    {
     "data": {
      "text/plain": [
       "(                    daystoexpiration  strike  mark_price\n",
       " ETH-26MAY23-2000-C              29.0  2000.0      0.0495\n",
       " ETH-26MAY23-2100-C              29.0  2100.0      0.0337\n",
       " ETH-26MAY23-2200-C              29.0  2200.0      0.0463,\n",
       " 2264.7826937755103)"
      ]
     },
     "execution_count": 109,
     "metadata": {},
     "output_type": "execute_result"
    }
   ],
   "source": [
    "call_options_available[['daystoexpiration', 'strike', 'mark_price']], P_s"
   ]
  },
  {
   "cell_type": "code",
   "execution_count": 110,
   "metadata": {},
   "outputs": [
    {
     "data": {
      "text/plain": [
       "(                    daystoexpiration  strike  mark_price\n",
       " ETH-26MAY23-1600-P              29.0  1600.0      0.0042\n",
       " ETH-26MAY23-1700-P              29.0  1700.0      0.0106\n",
       " ETH-26MAY23-1800-P              29.0  1800.0      0.0350\n",
       " ETH-26MAY23-1900-P              29.0  1900.0      0.0574,\n",
       " 1557.34990622449)"
      ]
     },
     "execution_count": 110,
     "metadata": {},
     "output_type": "execute_result"
    }
   ],
   "source": [
    "put_options_available[['daystoexpiration', 'strike', 'mark_price']], P_i"
   ]
  },
  {
   "cell_type": "code",
   "execution_count": 111,
   "metadata": {
    "executionInfo": {
     "elapsed": 688,
     "status": "ok",
     "timestamp": 1659922043305,
     "user": {
      "displayName": "Juan Sequeira",
      "userId": "17910834634520870800"
     },
     "user_tz": 180
    },
    "id": "CgAU-qN97N9H"
   },
   "outputs": [],
   "source": [
    "call = call_options_available[(call_options_available.daystoexpiration == 29.0)&\n",
    "                  (call_options_available.strike == 2000)]\n",
    "put = put_options_available[(put_options_available.daystoexpiration == 29.0)&\n",
    "                  (put_options_available.strike == 1600)]"
   ]
  },
  {
   "cell_type": "code",
   "execution_count": 112,
   "metadata": {
    "colab": {
     "base_uri": "https://localhost:8080/"
    },
    "executionInfo": {
     "elapsed": 409,
     "status": "ok",
     "timestamp": 1659922047355,
     "user": {
      "displayName": "Juan Sequeira",
      "userId": "17910834634520870800"
     },
     "user_tz": 180
    },
    "id": "8ki1VOBbC1-e",
    "outputId": "c6456540-dfdc-4e5e-c811-d22c4a8eb09d"
   },
   "outputs": [
    {
     "name": "stdout",
     "output_type": "stream",
     "text": [
      "ETH-26MAY23-2000-C    2000.0\n",
      "Name: strike, dtype: float64\n",
      "ETH-26MAY23-1600-P    1600.0\n",
      "Name: strike, dtype: float64\n"
     ]
    }
   ],
   "source": [
    "print(call[\"strike\"])\n",
    "print(put[\"strike\"])"
   ]
  },
  {
   "cell_type": "code",
   "execution_count": 113,
   "metadata": {
    "executionInfo": {
     "elapsed": 413,
     "status": "ok",
     "timestamp": 1659922052290,
     "user": {
      "displayName": "Juan Sequeira",
      "userId": "17910834634520870800"
     },
     "user_tz": 180
    },
    "id": "69Bl4J2E6N6f"
   },
   "outputs": [],
   "source": [
    "Kcall = float(call['strike'])\n",
    "Kput = float(put['strike'])\n",
    "dcall = float(call['mark_price']*precio_activo)\n",
    "dput = float(put['mark_price']*precio_activo)\n",
    "qcall = 100\n",
    "qput = 100"
   ]
  },
  {
   "cell_type": "code",
   "execution_count": 115,
   "metadata": {
    "colab": {
     "base_uri": "https://localhost:8080/"
    },
    "executionInfo": {
     "elapsed": 402,
     "status": "ok",
     "timestamp": 1659922056450,
     "user": {
      "displayName": "Juan Sequeira",
      "userId": "17910834634520870800"
     },
     "user_tz": 180
    },
    "id": "Etzg3fT9-L_d",
    "outputId": "4a593e3f-d910-482b-adcb-13016808cf59"
   },
   "outputs": [
    {
     "data": {
      "text/plain": [
       "(2000.0, 1600.0, 94.59778185, 8.02647846, 100, 100, 10262.426031)"
      ]
     },
     "execution_count": 115,
     "metadata": {},
     "output_type": "execute_result"
    }
   ],
   "source": [
    "Kcall, Kput, dcall, dput, qcall, qput, dcall* qcall+ dput* qput"
   ]
  },
  {
   "cell_type": "markdown",
   "metadata": {
    "id": "Q1-SFH_NRFI2"
   },
   "source": [
    "Luego de ver esa lista elegimos la fecha de ejercicio que aparezca tanto en las calls como en las puts (designándola mediante la cantidad de días restantes para la expiración)."
   ]
  },
  {
   "cell_type": "markdown",
   "metadata": {
    "id": "Q-XKcMXaX4PI"
   },
   "source": [
    "### Gráfico"
   ]
  },
  {
   "cell_type": "code",
   "execution_count": 117,
   "metadata": {
    "executionInfo": {
     "elapsed": 385,
     "status": "ok",
     "timestamp": 1659922122476,
     "user": {
      "displayName": "Juan Sequeira",
      "userId": "17910834634520870800"
     },
     "user_tz": 180
    },
    "id": "4gZapYWE1LBc"
   },
   "outputs": [],
   "source": [
    "# Grilla a graficar\n",
    "leftmost = 1-2*margen_a_hedgear\n",
    "rightmost = 1+2*margen_a_hedgear\n",
    "step = 0.01"
   ]
  },
  {
   "cell_type": "code",
   "execution_count": 43,
   "metadata": {
    "executionInfo": {
     "elapsed": 453,
     "status": "ok",
     "timestamp": 1659922124766,
     "user": {
      "displayName": "Juan Sequeira",
      "userId": "17910834634520870800"
     },
     "user_tz": 180
    },
    "id": "OKs1NZx61D-W"
   },
   "outputs": [],
   "source": [
    "# Librerías a utilizar\n",
    "import numpy as np\n",
    "import pandas as pd\n",
    "import matplotlib.pyplot as plt"
   ]
  },
  {
   "cell_type": "code",
   "execution_count": 118,
   "metadata": {
    "colab": {
     "base_uri": "https://localhost:8080/",
     "height": 449
    },
    "executionInfo": {
     "elapsed": 854,
     "status": "ok",
     "timestamp": 1659922129123,
     "user": {
      "displayName": "Juan Sequeira",
      "userId": "17910834634520870800"
     },
     "user_tz": 180
    },
    "id": "pECm4zuO9y9v",
    "outputId": "791d59ba-0ea8-4636-9c07-9d38a5ac9f71"
   },
   "outputs": [
    {
     "data": {
      "image/png": "[encoded data removed]",
      "text/plain": [
       "<Figure size 1440x504 with 1 Axes>"
      ]
     },
     "metadata": {
      "needs_background": "light"
     },
     "output_type": "display_data"
    }
   ],
   "source": [
    "# Generación de gráfico\n",
    "grid = np.arange(leftmost,rightmost,step)\n",
    "\n",
    "font = {'family': 'serif',\n",
    "        'color':  'darkred',\n",
    "        'weight': 'normal',\n",
    "        'size': 16,\n",
    "        }\n",
    "\n",
    "fig = plt.figure(figsize = (20,7))\n",
    "axs = fig.subplots(1)\n",
    "\n",
    "P_entry = get_pool_initial_price(pool_balances)\n",
    "axs.plot(grid*P_entry, IL_Y_P(grid*P_entry, pool_balances), c='red', label='Impermanent Loss')\n",
    "\n",
    "#axs.set_title('Profit and Loss', fontdict=font)\n",
    "#plt.text(0,0, f'Fee = 0', fontdict=font)\n",
    "\n",
    "axs.set_xlabel(f'Precio final de {pool_symbols[0]} expresado en {pool_symbols[1]}', fontdict=font)\n",
    "axs.set_ylabel(f'PnL (valuado en {pool_symbols[1]})', fontdict=font)\n",
    "axs.plot(P_entry, 0, 'bo', label=f'Precio inicial de {pool_symbols[0]}')\n",
    "axs.legend()\n",
    "plt.show()\n",
    "\n",
    "#grid2 = np.arange(-1, 2, 0.2)\n",
    "#pd.DataFrame([[str(round(i*100,3))+'%',\n",
    "#               str(round((i+1)*100,3))+'%',\n",
    "#               str(round(abs(IL_Y_P(i+1, pool_balances)),1)*100)+'%'] for i in grid2],\n",
    "#             columns = ['Price change', 'R', 'IL ratio']).T\n"
   ]
  },
  {
   "cell_type": "markdown",
   "metadata": {
    "id": "2uO7-LxaBZkR"
   },
   "source": [
    "Veamos cómo queda el PnL final."
   ]
  },
  {
   "cell_type": "code",
   "execution_count": 119,
   "metadata": {
    "executionInfo": {
     "elapsed": 394,
     "status": "ok",
     "timestamp": 1659922135102,
     "user": {
      "displayName": "Juan Sequeira",
      "userId": "17910834634520870800"
     },
     "user_tz": 180
    },
    "id": "xCX5ej-yLchm"
   },
   "outputs": [],
   "source": [
    "def IL(p,bal_usdc, bal_eth, precio_activo):\n",
    "    v_0 = bal_usdc + bal_eth*precio_activo\n",
    "    return v_0/2 *((p/precio_activo)**(1/2) - 1/2 - p/(2*precio_activo))"
   ]
  },
  {
   "cell_type": "code",
   "execution_count": 120,
   "metadata": {
    "executionInfo": {
     "elapsed": 515,
     "status": "ok",
     "timestamp": 1659922139633,
     "user": {
      "displayName": "Juan Sequeira",
      "userId": "17910834634520870800"
     },
     "user_tz": 180
    },
    "id": "EYs7L0wPqjbt"
   },
   "outputs": [],
   "source": [
    "price_change= np.arange(-1,3,0.01)\n",
    "\n",
    "pool_balances = (100, precio_activo*100)\n",
    "balance_usdc = pool_balances[1]\n",
    "balance_eth = pool_balances[0]\n",
    "precio_activo = balance_usdc/balance_eth\n",
    "r_p = 0.15/12  # radio mensual por proveer liquidez\n",
    "P = precio_activo*(1+ price_change)\n",
    "V_h_0 = balance_usdc + balance_eth*precio_activo"
   ]
  },
  {
   "cell_type": "code",
   "execution_count": 121,
   "metadata": {
    "executionInfo": {
     "elapsed": 449,
     "status": "ok",
     "timestamp": 1659922145783,
     "user": {
      "displayName": "Juan Sequeira",
      "userId": "17910834634520870800"
     },
     "user_tz": 180
    },
    "id": "HaukdIO5a3Sd"
   },
   "outputs": [],
   "source": [
    "V_h_0=balance_usdc + balance_eth*precio_activo\n",
    "cte_call=V_h_0/2*(1/np.sqrt(P_i*precio_activo)-1/precio_activo)\n",
    "cte_put=-V_h_0/2*(1/np.sqrt(P_s*precio_activo)-1/precio_activo)"
   ]
  },
  {
   "cell_type": "code",
   "execution_count": 122,
   "metadata": {
    "colab": {
     "base_uri": "https://localhost:8080/"
    },
    "executionInfo": {
     "elapsed": 429,
     "status": "ok",
     "timestamp": 1659922165579,
     "user": {
      "displayName": "Juan Sequeira",
      "userId": "17910834634520870800"
     },
     "user_tz": 180
    },
    "id": "1ziVk2g7bDej",
    "outputId": "9f477d71-ab84-4db5-8d4d-85fefe53d347"
   },
   "outputs": [
    {
     "data": {
      "text/plain": [
       "(10.775769761444414, 8.140387679598271)"
      ]
     },
     "execution_count": 122,
     "metadata": {},
     "output_type": "execute_result"
    }
   ],
   "source": [
    "cte_call, cte_put"
   ]
  },
  {
   "cell_type": "code",
   "execution_count": 140,
   "metadata": {
    "colab": {
     "base_uri": "https://localhost:8080/",
     "height": 428
    },
    "executionInfo": {
     "elapsed": 1208,
     "status": "ok",
     "timestamp": 1659922947729,
     "user": {
      "displayName": "Juan Sequeira",
      "userId": "17910834634520870800"
     },
     "user_tz": 180
    },
    "id": "FG2ctyyc5dAt",
    "outputId": "638bb1d1-e34c-4749-84ec-06d0eaebf2d0"
   },
   "outputs": [
    {
     "data": {
      "image/png": "[encoded data removed]",
      "text/plain": [
       "<Figure size 1440x504 with 1 Axes>"
      ]
     },
     "metadata": {
      "needs_background": "light"
     },
     "output_type": "display_data"
    }
   ],
   "source": [
    "# Parameters\n",
    "price_change= np.arange(-2*margen_a_hedgear,2*margen_a_hedgear,0.01)\n",
    "price_change= np.arange(-1,1,0.01)\n",
    "\n",
    "pool_balances = (100, precio_activo*100)\n",
    "balance_usdc = pool_balances[1]\n",
    "balance_eth = pool_balances[0]\n",
    "precio_activo = balance_usdc/balance_eth\n",
    "\n",
    "r_p = 0.1 / 12 # retorno mensual por proveer liquidez\n",
    "P = precio_activo*(1+ price_change)\n",
    "V_h_0 = balance_usdc + balance_eth*precio_activo\n",
    "\n",
    "retorno_del_pool_a_tiempo_final=r_p* V_h_0 # ¿sobre las tenencias inicial?\n",
    "\n",
    "# Opt Parameters\n",
    "K_put =  Kput\n",
    "K_call =  Kcall\n",
    "d_call = dcall\n",
    "d_put = dput\n",
    "q_call =  np.max([cte_put,cte_call])#qcall*np.ones(100)[0]\n",
    "q_put = q_call  #qput*np.ones(100)[0]\n",
    "\n",
    "# Stgy calcs\n",
    "opt_stg = [payoff_CP_combination(p,K_call,K_put,d_call,d_put,q_call,q_put) for p in P] \n",
    "IL_sin_hedg_usd = [IL(p, balance_usdc, balance_eth, precio_activo) for p in P]\n",
    "IL_con_hedg_usd = retorno_del_pool_a_tiempo_final*np.ones(len(P)) + IL_sin_hedg_usd + opt_stg\n",
    "\n",
    "# WARNING\n",
    "costos = (q_call*dcall)+(q_put*dput)\n",
    "if costos > retorno_del_pool_a_tiempo_final:\n",
    "    print(f'WARNING: Fees del pool: {retorno_del_pool_a_tiempo_final} < costo opciones {costos}')\n",
    "\n",
    "    \n",
    "# Plot\n",
    "fig, axs = plt.subplots(1,1,figsize = (20,7))\n",
    "axs.plot(P, IL_sin_hedg_usd, c = 'blue', label = 'IL')\n",
    "axs.plot(P, opt_stg, c = 'green', label = 'Long Strangle' )\n",
    "axs.plot(P, IL_con_hedg_usd, c = 'red', label = 'Hedge')\n",
    "\n",
    "axs.axhline(y = 0, color = 'black', linestyle = '--')\n",
    "axs.plot(precio_activo, 0, 'bo')\n",
    "axs.plot(P_i, 0, 'ro', label='P_i')\n",
    "axs.plot(P_s, 0, 'ro', label='P_s')\n",
    "axs.plot(Kcall, 0, 'bo')\n",
    "axs.plot(Kput, 0, 'bo')\n",
    "# axs.set_xlim([1000,2000])\n",
    "axs.legend()\n",
    "plt.show()"
   ]
  },
  {
   "cell_type": "markdown",
   "metadata": {},
   "source": [
    "A continuacion printeamos si hay hedge o no, comparando si retornos + IL < costos \n",
    "\n",
    "(False = Hedge es rentable; True = Hedge no es rentable)"
   ]
  },
  {
   "cell_type": "code",
   "execution_count": 141,
   "metadata": {
    "colab": {
     "base_uri": "https://localhost:8080/"
    },
    "executionInfo": {
     "elapsed": 387,
     "status": "ok",
     "timestamp": 1659923213268,
     "user": {
      "displayName": "Juan Sequeira",
      "userId": "17910834634520870800"
     },
     "user_tz": 180
    },
    "id": "l-Ei9U9PH20t",
    "outputId": "1245e62d-0a45-40cf-a953-4d1784d61cda"
   },
   "outputs": [
    {
     "name": "stdout",
     "output_type": "stream",
     "text": [
      "False\n"
     ]
    }
   ],
   "source": [
    "print( q_call*dcall + q_put*dput- np.min([IL(K_call, balance_usdc, balance_eth, precio_activo), IL(K_put, balance_usdc, balance_eth, precio_activo)])-retorno_del_pool_a_tiempo_final>= 0)"
   ]
  },
  {
   "cell_type": "code",
   "execution_count": 142,
   "metadata": {
    "colab": {
     "base_uri": "https://localhost:8080/"
    },
    "executionInfo": {
     "elapsed": 402,
     "status": "ok",
     "timestamp": 1659922210196,
     "user": {
      "displayName": "Juan Sequeira",
      "userId": "17910834634520870800"
     },
     "user_tz": 180
    },
    "id": "XEOgUTkccSiT",
    "outputId": "1aae120f-9365-4522-d513-8c9dd49d6f9b"
   },
   "outputs": [
    {
     "name": "stdout",
     "output_type": "stream",
     "text": [
      "Capital inicial:  382213.26\n",
      "Costo total:  1105.855401039098\n",
      "pcg:  0.0028932941809478247\n"
     ]
    }
   ],
   "source": [
    "D = q_call*dcall + q_put*dput\n",
    "V_h_0\n",
    "print(\"Capital inicial: \", V_h_0)\n",
    "print(\"Costo total: \", D)\n",
    "print(\"pcg: \", D/V_h_0)"
   ]
  },
  {
   "cell_type": "markdown",
   "metadata": {
    "id": "I1Bj0Z-eCxQr"
   },
   "source": [
    "## Bibliografía"
   ]
  },
  {
   "cell_type": "markdown",
   "metadata": {
    "id": "k_OonmDU_uZk"
   },
   "source": [
    "<a name=\"referencia1\">[1]</a> Angeris, Guillermo & Kao, Hsien-Tang & Chiang, Rei & Noyes, Charlie & Chitra, Tarun. (2020). An Analysis of Uniswap markets. Cryptoeconomic Systems. 10.21428/58320208.c9738e64.\n",
    " "
   ]
  },
  {
   "cell_type": "markdown",
   "metadata": {
    "id": "DjkBeSNGTwJ6"
   },
   "source": [
    "## Apéndice I: Notación"
   ]
  },
  {
   "cell_type": "markdown",
   "metadata": {
    "id": "zyWUFLeXIvV9"
   },
   "source": [
    "La notación utilizada en la bibliografía de referencia \\[[1](#referencia1)\\] se vincula del siguiente modo con la que empleamos aquí:\n",
    "\n",
    "$$ coins:\\ (\\alpha,\\beta) \\rightarrow (X, Y)$$\n",
    "$$ time: t_1 , t_2,...,T \\rightarrow 0, T \\ ^{(*)}$$\n",
    "$$ reserves\\ for\\ coin\\ \\alpha\\ at\\ time\\ t_1: R_\\alpha^{t_1} \\rightarrow x_0 \\ ^{(*)}$$\n",
    "$$ reserves\\ for\\ coin\\ \\beta\\ at\\ time\\ t_1\\ ^{(**)}: R_\\beta^{t_1} = \\sqrt{k\\ m_P^{t_1}}\\rightarrow y_0 = \\sqrt{k\\ P_0}\\ ^{(*)}$$\n",
    "$$ reserves\\ for\\ coin\\ \\alpha\\ at\\ time\\ T: R_\\alpha^T \\rightarrow x \\ ^{(*)}$$\n",
    "$$ reserves\\ for\\ coin\\ \\beta\\ at\\ time\\ T\\ ^{(**)}: R_\\beta^T = \\sqrt{k\\ m_P^T} \\rightarrow y = \\sqrt{k\\ P} \\ ^{(*)}$$\n",
    "$$ market\\ price\\ of\\ coin\\ \\alpha\\ at\\ time\\ t_1\\ ^{(**)}: m_p^1 = R_\\beta^{t_1} / R_\\alpha^{t_1} \\rightarrow P_0 = y_0 / x_0$$\n",
    "$$ market\\ price\\ of\\ coin\\ \\alpha\\ at\\ time\\ T\\ ^{(**)}: m_p^T = R_\\beta^T / R_\\alpha^T \\rightarrow P = y / x $$\n",
    "$$ constant\\ product\\ for\\ all\\ times\\ t : k = R_\\alpha^t \\ R_\\beta^t \\rightarrow k = x\\ y = x_0\\ y_0$$\n",
    "$$ liquidity\\ provider's\\ relative\\ return\\ between\\ time\\ t_1\\ and\\ T\\ ^{(**)}: \\delta = \\sqrt{\\frac{m_p^t}{m_p^1}} \\rightarrow \\sqrt{\\frac{P}{P_0}}= \\sqrt{R}$$\n",
    "$$ total\\ portfolio\\ value\\ ^{(**)}: P_V = 2 \\sqrt{k m_P^T} \\rightarrow V_{Pool_t} = 2 \\sqrt{k P}$$\n",
    "\n",
    "\n",
    "$^{(*)}$ Ver [nota](#alcances) sobre alcances del presente trabajo.\n",
    "\n",
    "$^{(**)}$ Ecuaciones válidas solo para el caso sin fees.\n"
   ]
  },
  {
   "cell_type": "markdown",
   "metadata": {
    "id": "yVFuisor4_UG"
   },
   "source": [
    "## Apéndice II: Fórmulas para la Impermanent Loss con fees"
   ]
  },
  {
   "cell_type": "markdown",
   "metadata": {
    "id": "hmV-jtUH4_UH"
   },
   "source": [
    "Presentamos aquí fórmulas y funciones incorporando fees para el cálculo de la Impermanent Loss.\n",
    "\n",
    "Sean $fee=\\tau$, $\\phi = 1-\\tau$, $P:=p^{bid^1}$ y $P_0:=p^{bid^0}$. Sabiendo que $p^b = \\phi P_{Y|X} = \\phi \\frac{y}{x}$, $R=\\frac{P_{Y|X}}{P^0_{Y|X}}=\\frac{p^b}{p^b_0}$ y que $V_{Hold} = a+b*p^b$, tenemos\n",
    "\n",
    "\\begin{align*}\n",
    "  IL^{fee}_{\\%}(R) &= \\sqrt{R}\\frac{1+\\phi}{\\phi R+1} -1 \\Rightarrow \\frac{\\partial}{\\partial R}IL^{fee}_{\\%}(R) = \\frac{1+\\phi}{(1+\\phi R)^2}\\frac{1-\\phi R}{2\\sqrt{R}}\\\\\n",
    "  IL^{fee}_{\\%}(P) &= \\sqrt{PP_0}\\frac{1+\\phi}{P_0+\\phi P}-1 \\Rightarrow \\frac{\\partial}{\\partial P} IL^{fee}_{\\%}(P) = \\frac{1+\\phi}{2}\\sqrt{\\frac{P_0}{P}}\\frac{P_0-\\phi P}{(P_0+\\phi P)^2}\\\\ \n",
    "  IL^{fee}_{USD}(P) &= IL^{fee}_{\\%}(P)*V_{Hold} \\text{ una forma} \\\\\n",
    "  &= \\frac{V_H^0}{2}\\left(\\sqrt{\\frac{P}{P_0}}\\frac{1+\\phi}{\\phi}-\\frac{P_0+\\phi P}{P_0\\sqrt{\\phi}}\\right) \\text{ otra forma} \\Rightarrow \\frac{\\partial}{\\partial P} IL^{fee}_{USD}(P) = \\frac{V_H^0}{2P_0}\\left(\\frac{1}{2}\\sqrt{\\frac{P_0}{P}}\\frac{1+\\phi}{\\phi}-\\sqrt{\\phi}\\right)\n",
    "\\end{align*}"
   ]
  },
  {
   "cell_type": "code",
   "execution_count": null,
   "metadata": {
    "id": "CEkorpI24_UI"
   },
   "outputs": [],
   "source": [
    "# Impermanent Loss porcentual en función de R con fees\n",
    "def IL_R_fee(R,fee):\n",
    "  phi = 1-fee\n",
    "  return R**(1/2)*(1+phi)/(1+R*phi)-1\n",
    "# Impermanent Loss porcentual en función de P con fees\n",
    "def IL_P_fee(P,fee):\n",
    "  phi = 1-fee\n",
    "  return IL_R_fee(P/P_entry,fee)\n",
    "  # return (P*P_entry)**(1/2)*(1+phi)/(P_entry+phi*P)-1\n",
    "# Impermanent Loss en USD en función de P con fees\n",
    "def IL_P_in_usd_fee(P,fee):\n",
    "  phi = 1-fee\n",
    "  # P = R * P_entry\n",
    "  p_bid = P * phi\n",
    "  p_bid_entry = P_entry * phi\n",
    "  # p_bid_entry = P_entry * phi\n",
    "  V_hold = tenencias_inicial[0] + tenencias_inicial[1] * p_bid\n",
    "  V_hold_0 = tenencias_inicial[0] + tenencias_inicial[1] * p_bid_entry\n",
    "  return V_hold_0/2 * ( (p_bid/p_bid_entry)**(1/2) * (1+phi)/phi - (p_bid_entry + phi*p_bid) / (p_bid_entry*phi**(1/2)) )\n",
    "  # return IL_R_in_usd_fee(P/P_entry,fee)\n",
    "# Derivada de IL porcentual en función de R con fees\n",
    "def IL_derivada_R_fee(R, fee):\n",
    "  phi = 1-fee\n",
    "  return (1+phi)/(1+phi*R)**2 * (1-phi*R)/(2*R**(1/2))\n",
    "# Derivada de IL porcentual en función de P con fees\n",
    "def IL_derivada_P_fee(P,fee):\n",
    "  phi = 1-fee\n",
    "  p_bid_entry = P_entry * phi\n",
    "  p_bid = P *  phi\n",
    "  return IL_derivada_R_fee(P/P_entry, fee) / p_bid_entry\n",
    "  # return (1+phi)/2 * (p_bid_entry/p_bid)**(1/2) * (p_bid_entry-phi*p_bid)/(p_bid_entry+phi*p_bid)**2\n",
    "# Derivada de IL en USD en función de P con fees\n",
    "def IL_derivada_P_in_usd_fee(P,fee):\n",
    "  phi = 1-fee\n",
    "  p_bid = P * phi\n",
    "  p_bid_entry = P_entry * phi\n",
    "  V_hold = tenencias_inicial[0] + tenencias_inicial[1] * p_bid\n",
    "  V_hold_0 = tenencias_inicial[0] + tenencias_inicial[1] * p_bid_entry\n",
    "  return IL_derivada_P_fee(P,fee) * V_hold + IL_P_fee(P, fee) * tenencias_inicial[1] \n",
    "  # return V_hold_0/(2*p_bid_entry) * ( 1/2*(p_bid_entry/p_bid)**(1/2) * (1+phi)/phi - phi**(1/2) )"
   ]
  },
  {
   "cell_type": "markdown",
   "metadata": {
    "id": "_vruclR7SNm3"
   },
   "source": [
    "## Apéndice III: Replicador estático para mercados de producto constante (CPM)"
   ]
  },
  {
   "cell_type": "code",
   "execution_count": null,
   "metadata": {
    "id": "bstvBjT9SeXV"
   },
   "outputs": [],
   "source": [
    "import numpy as np\n",
    "import pandas as pd\n",
    "import math\n",
    "import matplotlib.pyplot as plt\n",
    "from scipy.stats import norm "
   ]
  },
  {
   "cell_type": "code",
   "execution_count": null,
   "metadata": {
    "id": "MHbpgAxLStYa"
   },
   "outputs": [],
   "source": [
    "\"\"\"\n",
    "opcion_europea_bs\n",
    "Def\n",
    "    Calculador del precio de una opcion Europea con el modelo de Black Scholes\n",
    "Inputs\n",
    "    - tipo : string - Tipo de contrato entre [\"CALL\",\"PUT\"]\n",
    "    - S : float - Spot price del activo\n",
    "    - K : float - Strike price del contrato\n",
    "    - T : float - Tiempo hasta la expiracion (en años)\n",
    "    - r : float - Tasa 'libre de riesgo' (anualizada)\n",
    "    - sigma : float - Volatilidad implicita (anualizada)\n",
    "    - div : float - Tasa de dividendos continuos (anualizada)\n",
    "Outputs\n",
    "    - precio_BS: float - Precio del contrato\n",
    "\"\"\"\n",
    "\n",
    "def opcion_europea_bs(tipo, S, K, T, r, sigma, div):\n",
    "    #Defino los ds\n",
    "    d1 = (np.log(S / K) + (r - div + 0.5 * sigma * sigma) * T) / sigma / np.sqrt(T)\n",
    "    d2 = (np.log(S / K) + (r - div - 0.5 * sigma * sigma) * T) / sigma / np.sqrt(T)\n",
    "\n",
    "    if (tipo == \"C\"):\n",
    "        precio_BS = np.exp(-div*T) *S * norm.cdf(d1) - K * np.exp(-r * T) * norm.cdf(d2)\n",
    "    elif (tipo == \"P\"):\n",
    "        precio_BS = K * np.exp(-r * T) * norm.cdf(-d2) - np.exp(-div*T) * S * norm.cdf(-d1)\n",
    "    return precio_BS"
   ]
  },
  {
   "cell_type": "markdown",
   "metadata": {
    "id": "TDteRoM6VdAP"
   },
   "source": [
    "### Ejemplo: Replicando un CPM con bonos, futuros y opciones"
   ]
  },
  {
   "cell_type": "markdown",
   "metadata": {
    "id": "o41VAqxUSz2V"
   },
   "source": [
    "Consideremos un mercado de producto constante con estado \n",
    "    $$ (t,R_a,R_b) = (1,10,200) $$\n",
    "\n",
    "El precio de $\\beta$ es unidades de $\\alpha$ es $m_p ^1 = \\frac{R_\\beta}{R_{\\alpha}}$.\n",
    "El valor inicial del pool (en unidades de $\\beta$) es \n",
    "$$P_V ^1 = (m_p ^1 R_{\\alpha}^{1}+R_{\\beta}^{1})=0.005*200 + 10 = 20 $$  \n",
    "\n",
    "El portfolio replicador es:\n",
    "\n",
    "\n",
    "Valor nominal del bono: $f(m^{0})= 2\\sqrt{km^{0}}= 2\\sqrt{2000*0.05}=20$\n",
    "\n",
    "Valor nocional de futuros $m^0$: $f'(m^0)=\\sqrt{\\frac{k}{m^{0}}}= \\sqrt{\\frac{2000}{0.05}}=200$\n",
    "\n",
    "Valor nocional de las opciones con strike $K$:  $f''(K)=-\\frac{1}{2}\\sqrt{\\frac{k}{K^3}} dK = -\\frac{0.0125}{2}\\sqrt{\\frac{2000}{K^3}} dK$\n",
    "\n",
    "\n",
    "Si por ejemplo tenemos un numero discreto de strikes $K=(0.125, 0.025, . . . , 0.1)$ el payoff al vencimiento nos queda \n",
    "\n",
    "$$\n",
    "    P_V^{T}=f(m^0)+f'(m^0)(m^T-m^0)+\n",
    "     \\sum_{K\\leq m_p ^{0}}f''(K)P(K)\\Delta K +\\sum_{K>m_p ^0} f''(K)C(K)\\Delta K.\n",
    "$$\n"
   ]
  },
  {
   "cell_type": "code",
   "execution_count": null,
   "metadata": {
    "id": "AvUbZonsS59J"
   },
   "outputs": [],
   "source": [
    "def face_value_bond (x, k):\n",
    "    return 2*np.sqrt(k*x)\n",
    "def notional_future (x, k): \n",
    "    return np.sqrt(k/x)  \n",
    "def notional_option (x, delta_x, k):\n",
    "    return -(1/2)*np.sqrt(k/(x**3))*(delta_x)\n",
    "\n",
    "\n",
    "def replicator_with_option_discr_bs(m_T, m_0, K, k):\n",
    "    # Parámetros para las opciones\n",
    "    T = 1\n",
    "    r = 0.1\n",
    "    div = 0\n",
    "    sigma = 0.2\n",
    "    bond = face_value_bond(m_0, k)\n",
    "    futures = notional_future(m_0,k)*(m_T-m_0)\n",
    "    sum_calls = 0\n",
    "    sum_puts = 0\n",
    "    for i in range(1, len(K)):\n",
    "        if K[i] > m_0: \n",
    "            sum_calls = sum_calls + notional_option(K[i],K[i]-K[i-1],k)*opcion_europea_bs(\"C\", m_T, K[i], T, r , sigma, div)\n",
    "        else:\n",
    "            sum_puts = sum_puts + notional_option(K[i],K[i]-K[i-1],k)*opcion_europea_bs(\"P\", m_T, K[i], T, r , sigma, div)\n",
    "    return bond + futures + sum_calls + sum_puts           "
   ]
  },
  {
   "cell_type": "code",
   "execution_count": null,
   "metadata": {
    "id": "_vBcmm5eS_yr"
   },
   "outputs": [],
   "source": [
    "S = np.linspace(0, 0.1, 6) # rango a graficar \n",
    "m_0 = 0.05\n",
    "k= 2000\n",
    "# strikes\n",
    "K = np.linspace(0.0125,0.1,8)\n",
    "\n",
    "replicator_discr_bs = replicator_with_option_discr_bs(S,m_0,K,k)\n",
    "#Grafico el Strangle\n",
    "\n",
    "fig, axs = plt.subplots(1,1,figsize = (20,7))\n",
    "axs.plot(S, replicator_discr_bs, c = 'blue', label = 'replicated payoff')\n",
    "axs.plot(S, 2*np.sqrt(k*S), c = 'red', label = 'P_V ^T')\n",
    "axs.axhline(y = 0, color = 'black', linestyle = '--')\n",
    "axs.legend()\n",
    "plt.plot()"
   ]
  },
  {
   "cell_type": "markdown",
   "metadata": {
    "id": "oeAERJfRWM9u"
   },
   "source": [
    "## Apéndice IV: Valuación de opciones europeas mediante BSM"
   ]
  },
  {
   "cell_type": "markdown",
   "metadata": {
    "id": "9eZwgvUZwf8I"
   },
   "source": [
    "Si bien teníamos la idea de utilizar el modelo de Black-Scholes-Merton junto con la volatilidad histórica para saber si los precios de opciones que obtuvimos tienen un precio razonable o no, finalmente optamos por no hacerlo para acotar la longitud del trabajo. También puede utilizarse para calcular la volatilidad teórica que correspondería a los precios observados."
   ]
  },
  {
   "cell_type": "markdown",
   "metadata": {
    "id": "pc8nzVm6UsvC"
   },
   "source": [
    "### Código"
   ]
  },
  {
   "cell_type": "code",
   "execution_count": null,
   "metadata": {
    "id": "-e4t_r57VRp0"
   },
   "outputs": [],
   "source": [
    "!pip install QuantLib"
   ]
  },
  {
   "cell_type": "code",
   "execution_count": null,
   "metadata": {
    "id": "vB9r8nHsUjny"
   },
   "outputs": [],
   "source": [
    "### Modelado de opciones europeas con BSM (QuantLib)\n",
    "\n",
    "import numpy as np\n",
    "import QuantLib as ql \n",
    "from QuantLib.QuantLib import nullInt\n",
    "from pandas.core.base import DataError\n",
    "from datetime import timedelta, datetime\n",
    "\n",
    "def payoff(tipo, precio, strike):\n",
    "  if tipo == 'CALL':\n",
    "    tipo_opcion = ql.Option.Call\n",
    "  elif tipo == 'PUT':\n",
    "    tipo_opcion = ql.Option.Put\n",
    "  return ql.PlainVanillaPayoff(tipo_opcion, strike)\n",
    "\n",
    "def tasa_constante(fecha_valuacion, tasa_interes):\n",
    "  return ql.YieldTermStructureHandle(ql.FlatForward(fecha_valuacion, \n",
    "                                                    tasa_interes, \n",
    "                                                    ql.Actual365Fixed()))\n",
    "\n",
    "def get_valor_tasa(objeto_tasa, fecha_expiracion):\n",
    "  return objeto_tasa.forwardRate(objeto_tasa.fecha_valuacion, \n",
    "                                 fecha_expiracion, \n",
    "                                 ql.Actual365Fixed(), \n",
    "                                 ql.Continuous).rate()\n",
    "\n",
    "def volatilidad(fecha_valuacion, calendario, valor_volatilidad):\n",
    "  return ql.BlackVolTermStructureHandle(\n",
    "                          ql.BlackConstantVol(fecha_valuacion, \n",
    "                                              calendario, \n",
    "                                              valor_volatilidad, \n",
    "                                              ql.Actual365Fixed()\n",
    "                                              )\n",
    "                          )\n",
    "\n",
    "def get_valor_volatilidad(objeto_volatilidad, fecha_expiracion, base):\n",
    "  return objeto_volatilidad.blackVol(fecha_expiracion, base)\n",
    "\n",
    "def proceso_BSM(precio_activo, fecha_valuacion, val_volatilidad, tasa_interes, \n",
    "                tasa_dividendos, calendario):\n",
    "  ql.Settings.instance().evaluationDate = fecha_valuacion\n",
    "  objeto_spot = ql.QuoteHandle(ql.SimpleQuote(precio_activo))\n",
    "  objeto_tasa_interes = tasa_constante(fecha_valuacion, tasa_interes)\n",
    "  objeto_tasa_dividendos = tasa_constante(fecha_valuacion, tasa_dividendos)\n",
    "  objeto_volatilidad = volatilidad(fecha_valuacion, calendario, val_volatilidad)\n",
    "  return ql.BlackScholesMertonProcess(objeto_spot, \n",
    "                                      objeto_tasa_dividendos, \n",
    "                                      objeto_tasa_interes, \n",
    "                                      objeto_volatilidad)\n",
    "\n",
    "def precio_opcion_europea_BSM(tipo, precio, base, vencimiento, proceso_BSM):\n",
    "  ejercicio_europeo = ql.EuropeanExercise(vencimiento)\n",
    "  opcion_europea = ql.VanillaOption(payoff(tipo, precio, base), \n",
    "                                    ejercicio_europeo)\n",
    "  opcion_europea.setPricingEngine(ql.AnalyticEuropeanEngine(proceso_BSM))\n",
    "  return max(opcion_europea.NPV(),0)\n"
   ]
  },
  {
   "cell_type": "markdown",
   "metadata": {
    "id": "0bauHt3DVuAL"
   },
   "source": [
    "### Parámetros"
   ]
  },
  {
   "cell_type": "code",
   "execution_count": null,
   "metadata": {
    "id": "Ydvtz7mu4_UZ"
   },
   "outputs": [],
   "source": [
    "\n",
    "valor_volatilidad = 0.3394  #Volatilidad Implicita anualizada (sigma)\n",
    "tasa_interes = 0.0325 #tasa libre de riesgo anualizada (r) - tomo US02Y\n",
    "tasa_dividendos =  0.0 #tasa de dividendos anualizada (q)\n",
    "\n",
    "##Valuacion el 18 de julio de 2022\n",
    "#fecha_valuacion = ql.Date(18, 7, 2022)\n",
    "##Valuacion con fecha de hoy\n",
    "fecha_valuacion = datetime.now()\n",
    "fecha_valuacion = ql.Date(int(fecha_valuacion.strftime('%d')),\n",
    "                            int(fecha_valuacion.strftime('%m')),\n",
    "                            int(fecha_valuacion.strftime('%Y')))\n",
    "#fecha_valuacion = ql.Date(28,7,2022)\n",
    "##Expiracion el 16 de agosto de 2022\n",
    "fecha_expiracion = ql.Date(28, 8, 2022)\n",
    "# Mercado de USA\n",
    "calendario = ql.UnitedStates()\n",
    "\n"
   ]
  },
  {
   "cell_type": "markdown",
   "metadata": {
    "id": "u-29gVLdVyAV"
   },
   "source": [
    "### Resultados"
   ]
  },
  {
   "cell_type": "code",
   "execution_count": null,
   "metadata": {
    "id": "dpqbITPX4_UZ"
   },
   "outputs": [],
   "source": [
    "precio_activo = option_data[\"underlying_price\"][1]\n",
    "print(\"Precios de opciones europeas de ETH evaluadas con fecha \" +\n",
    "      str(fecha_valuacion) +\n",
    "      \" sabiendo que: \\n\" +\n",
    "      \"\\tprecio actual \" + str(precio_activo) + \"\\n\" +\n",
    "      \"\\tvolatilidad \" + str(valor_volatilidad) + \"\\n\" +\n",
    "      \"\\ttasa libre de riesgo \"+ str(tasa_interes) + \"\\n\" +\n",
    "      \"\\ttasa dividendos \"+ str(tasa_dividendos))\n",
    "\n",
    "for (base, tipo) in (K_put, 'PUT'), (K_call, 'CALL'):\n",
    "    print(\"Precio de opción europea \" + str(tipo) + \" strike \" + \n",
    "            str(base) +\" vencimiento \"+ str(fecha_expiracion) +\" según BSM: \"+ \n",
    "            str(precio_opcion_europea_BSM(tipo, \n",
    "                                      precio_activo, \n",
    "                                      base, \n",
    "                                      fecha_expiracion,  \n",
    "                                      proceso_BSM(precio_activo, \n",
    "                                                   fecha_valuacion, \n",
    "                                                   valor_volatilidad, \n",
    "                                                   tasa_interes, \n",
    "                                                   tasa_dividendos, \n",
    "                                                   calendario)\n",
    "                                      )\n",
    "               )\n",
    "            )\n",
    "\n",
    "\n"
   ]
  }
 ],
 "metadata": {
  "colab": {
   "collapsed_sections": [
    "Bv1YgjXJ4_UB",
    "HY5mDuL9c6UO",
    "GSZ59zmZuN_n",
    "i1cpJ6w0xFew",
    "1Ke0q8c9xO_a",
    "yLKiat7bxZT5",
    "bznBny7h4_UV",
    "4jX3Rd-Xyxhw",
    "I1Bj0Z-eCxQr",
    "DjkBeSNGTwJ6",
    "_vruclR7SNm3",
    "TDteRoM6VdAP",
    "oeAERJfRWM9u"
   ],
   "name": "IL_hedging_definitivo.ipynb",
   "provenance": []
  },
  "kernelspec": {
   "display_name": "Python 3",
   "language": "python",
   "name": "python3"
  },
  "language_info": {
   "codemirror_mode": {
    "name": "ipython",
    "version": 3
   },
   "file_extension": ".py",
   "mimetype": "text/x-python",
   "name": "python",
   "nbconvert_exporter": "python",
   "pygments_lexer": "ipython3",
   "version": "3.8.10"
  },
  "vscode": {
   "interpreter": {
    "hash": "2b04cc55a68c9d13265eecf042f98c17371fc63d52f7a7250e8daf9e482aaa17"
   }
  }
 },
 "nbformat": 4,
 "nbformat_minor": 1
}
