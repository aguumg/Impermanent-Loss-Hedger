{
 "cells": [
  {
   "cell_type": "code",
   "execution_count": 77,
   "metadata": {},
   "outputs": [],
   "source": [
    "%matplotlib inline\n",
    "\n",
    "import numpy as np\n",
    "import sympy as sym  ## Sympy es una biblioteca de Python para realizar cálculos simbólicos, en lugar de numéricos.\n",
    "import pandas as pd\n",
    "import math\n",
    "import matplotlib.pyplot as plt"
   ]
  },
  {
   "cell_type": "code",
   "execution_count": 7,
   "metadata": {},
   "outputs": [
    {
     "name": "stdout",
     "output_type": "stream",
     "text": [
      "2*sqrt(3)\n"
     ]
    }
   ],
   "source": [
    "# Ejemplito \n",
    "\n",
    "x = sym.Symbol('x', real=True) \n",
    "#f = sym.exp(x)\n",
    "f = sym.sqrt(x)\n",
    "I_exacta = sym.integrate(f,(x,0,3))\n",
    "print(I_exacta)\n"
   ]
  },
  {
   "cell_type": "code",
   "execution_count": null,
   "metadata": {},
   "outputs": [],
   "source": [
    "# Consideremos un mercado de producto constante con estado (t,R_a,R_b)=(1,10,200)\n",
    "#  "
   ]
  },
  {
   "cell_type": "code",
   "execution_count": 68,
   "metadata": {},
   "outputs": [],
   "source": [
    "def payoff_futuro(S,K):\n",
    "    return S-K \n",
    "\n",
    "def payoff_call(S,K):\n",
    "    return np.max(S-K,0)\n",
    "\n",
    "def payoff_put(S,K):\n",
    "    return np.max(K-S,0)"
   ]
  },
  {
   "cell_type": "code",
   "execution_count": 80,
   "metadata": {},
   "outputs": [],
   "source": [
    "def value_bond (x, k):\n",
    "    return 2*np.sqrt(k*x)\n",
    "def notional_future (x, k): \n",
    "    return np.sqrt(k/x)  \n",
    "def notional_option (x, delta_x, k):\n",
    "    return -(1/2)*np.sqrt(k/(x**3))*(delta_x)\n"
   ]
  },
  {
   "cell_type": "code",
   "execution_count": 91,
   "metadata": {},
   "outputs": [],
   "source": [
    "def replicator_with_option_discr(m_T, m_0, K, k):\n",
    "    bond = value_bond(m_0, k)\n",
    "    futures = notional_future(m_0,k)*(payoff_futuro(m_T,m_0))\n",
    "    sum_calls = 0\n",
    "    sum_puts = 0\n",
    "    for i in range(1, len(K)):\n",
    "        if K[i] > m_0: \n",
    "            sum_calls = sum_calls + notional_option(K[i],K[i]-K[i-1],k)*payoff_call(m_T, K[i])\n",
    "        else:\n",
    "            sum_puts = sum_puts + notional_option(K[i],K[i]-K[i-1],k)*payoff_put(m_T, K[i])\n",
    "    return bond + futures + sum_calls + sum_puts           "
   ]
  },
  {
   "cell_type": "code",
   "execution_count": 92,
   "metadata": {},
   "outputs": [
    {
     "data": {
      "text/plain": [
       "29.320930681127212"
      ]
     },
     "execution_count": 92,
     "metadata": {},
     "output_type": "execute_result"
    }
   ],
   "source": [
    "K = np.linspace(0.0125,0.1,8)\n",
    "replicator_with_option_discr(0.07, 0.05 , K, 2000)"
   ]
  },
  {
   "cell_type": "code",
   "execution_count": 96,
   "metadata": {},
   "outputs": [
    {
     "data": {
      "image/png": "[encoded data removed]",
      "text/plain": [
       "<Figure size 432x288 with 1 Axes>"
      ]
     },
     "metadata": {
      "needs_background": "light"
     },
     "output_type": "display_data"
    }
   ],
   "source": [
    "S = np.linspace(0, 0.1, 6) # rango a graficar \n",
    "m_0 = 0.05\n",
    "K = np.linspace(0.0125,0.1,8)\n",
    "k = 2000\n",
    "replicator_discr = replicator_with_option_discr(S,m_0,K,k)\n",
    "\n",
    "#Grafico el Strangle\n",
    "plt.plot(S, replicator_discr)\n",
    "plt.plot(S, 2*np.sqrt(k*S))\n",
    "plt.show()"
   ]
  },
  {
   "cell_type": "code",
   "execution_count": 124,
   "metadata": {},
   "outputs": [],
   "source": [
    "def replicador_with_option_CPM (m_T, m_0, k, eps, cot_sup):\n",
    "    bond = value_bond(m_0, k)\n",
    "    futures = notional_future(m_0,k)*payoff_futuro(m_T,m_0)\n",
    "    x = sym.Symbol('x', real=True)\n",
    "    f_call = -(1/2)*sym.sqrt(k/(x**3))* payoff_call(m_T, x)\n",
    "    f_put = -(1/2)*sym.sqrt(k/(x**3))* payoff_put(m_T, x)\n",
    "    int_calls =sym.integrate(f_call,(x, m_0, cot_sup))  \n",
    "    int_puts = sym.integrate(f_put,(x, eps, m_0))\n",
    "    return bond + futures + int_calls + int_puts\n",
    "    "
   ]
  },
  {
   "cell_type": "code",
   "execution_count": 125,
   "metadata": {},
   "outputs": [
    {
     "data": {
      "image/png": "[encoded data removed]",
      "text/plain": [
       "<Figure size 432x288 with 1 Axes>"
      ]
     },
     "metadata": {
      "needs_background": "light"
     },
     "output_type": "display_data"
    }
   ],
   "source": [
    "S = np.linspace(0, 0.1, 20) # rango a graficar \n",
    "m_0 = 0.05\n",
    "k = 2000\n",
    "eps =0.0001\n",
    "cot_sup = 0.1\n",
    "replicador = replicador_with_option_CPM(S, m_0, k, eps, cot_sup)\n",
    "\n",
    "#Grafico el Strangle\n",
    "plt.plot(S, replicador)\n",
    "plt.plot(S, 2*np.sqrt(k*S))\n",
    "plt.show()"
   ]
  }
 ],
 "metadata": {
  "kernelspec": {
   "display_name": "Python 3.8.6 64-bit",
   "language": "python",
   "name": "python3"
  },
  "language_info": {
   "codemirror_mode": {
    "name": "ipython",
    "version": 3
   },
   "file_extension": ".py",
   "mimetype": "text/x-python",
   "name": "python",
   "nbconvert_exporter": "python",
   "pygments_lexer": "ipython3",
   "version": "3.8.6"
  },
  "orig_nbformat": 4,
  "vscode": {
   "interpreter": {
    "hash": "2b04cc55a68c9d13265eecf042f98c17371fc63d52f7a7250e8daf9e482aaa17"
   }
  }
 },
 "nbformat": 4,
 "nbformat_minor": 2
}
